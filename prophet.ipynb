{
 "cells": [
  {
   "cell_type": "code",
   "execution_count": 1,
   "id": "622422bd",
   "metadata": {},
   "outputs": [],
   "source": [
    "import pandas as pd\n",
    "import os\n",
    "\n",
    "#pathdata='data/'\n",
    "#filename = 'sell-in.txt'\n",
    "\n",
    "    # Unir ruta completa\n",
    "#filepath_sell = os.path.join(pathdata, filename)\n",
    "\n",
    "#cargar csv\n",
    "sell = pd.read_csv('data/sell-in.txt', sep='\\t')"
   ]
  },
  {
   "cell_type": "code",
   "execution_count": 2,
   "id": "e540b79f",
   "metadata": {},
   "outputs": [],
   "source": [
    "df_agg = sell.groupby(['periodo', 'product_id'])['tn'].sum().reset_index()"
   ]
  },
  {
   "cell_type": "code",
   "execution_count": 3,
   "id": "9b532ebe",
   "metadata": {},
   "outputs": [],
   "source": [
    "df_agg = df_agg[df_agg['periodo'] <= 201912]"
   ]
  },
  {
   "cell_type": "code",
   "execution_count": 4,
   "id": "fad87092",
   "metadata": {},
   "outputs": [],
   "source": [
    "# Convertir 'periodo' de int (YYYYMM) a datetime\n",
    "df_agg['ds'] = pd.to_datetime(df_agg['periodo'].astype(str), format='%Y%m')"
   ]
  },
  {
   "cell_type": "code",
   "execution_count": 5,
   "id": "c6ac4daf",
   "metadata": {},
   "outputs": [],
   "source": [
    "# Para aplicar Prophet por cada producto\n",
    "product_groups = df_agg.groupby('product_id')"
   ]
  },
  {
   "cell_type": "code",
   "execution_count": 6,
   "id": "5829226a",
   "metadata": {},
   "outputs": [
    {
     "data": {
      "text/html": [
       "<div>\n",
       "<style scoped>\n",
       "    .dataframe tbody tr th:only-of-type {\n",
       "        vertical-align: middle;\n",
       "    }\n",
       "\n",
       "    .dataframe tbody tr th {\n",
       "        vertical-align: top;\n",
       "    }\n",
       "\n",
       "    .dataframe thead th {\n",
       "        text-align: right;\n",
       "    }\n",
       "</style>\n",
       "<table border=\"1\" class=\"dataframe\">\n",
       "  <thead>\n",
       "    <tr style=\"text-align: right;\">\n",
       "      <th></th>\n",
       "      <th>periodo</th>\n",
       "      <th>product_id</th>\n",
       "      <th>tn</th>\n",
       "      <th>ds</th>\n",
       "    </tr>\n",
       "  </thead>\n",
       "  <tbody>\n",
       "    <tr>\n",
       "      <th>0</th>\n",
       "      <td>201701</td>\n",
       "      <td>20001</td>\n",
       "      <td>934.77222</td>\n",
       "      <td>2017-01-01</td>\n",
       "    </tr>\n",
       "    <tr>\n",
       "      <th>1</th>\n",
       "      <td>201701</td>\n",
       "      <td>20002</td>\n",
       "      <td>550.15707</td>\n",
       "      <td>2017-01-01</td>\n",
       "    </tr>\n",
       "    <tr>\n",
       "      <th>2</th>\n",
       "      <td>201701</td>\n",
       "      <td>20003</td>\n",
       "      <td>1063.45835</td>\n",
       "      <td>2017-01-01</td>\n",
       "    </tr>\n",
       "    <tr>\n",
       "      <th>3</th>\n",
       "      <td>201701</td>\n",
       "      <td>20004</td>\n",
       "      <td>555.91614</td>\n",
       "      <td>2017-01-01</td>\n",
       "    </tr>\n",
       "    <tr>\n",
       "      <th>4</th>\n",
       "      <td>201701</td>\n",
       "      <td>20005</td>\n",
       "      <td>494.27011</td>\n",
       "      <td>2017-01-01</td>\n",
       "    </tr>\n",
       "    <tr>\n",
       "      <th>...</th>\n",
       "      <td>...</td>\n",
       "      <td>...</td>\n",
       "      <td>...</td>\n",
       "      <td>...</td>\n",
       "    </tr>\n",
       "    <tr>\n",
       "      <th>31238</th>\n",
       "      <td>201912</td>\n",
       "      <td>21265</td>\n",
       "      <td>0.05007</td>\n",
       "      <td>2019-12-01</td>\n",
       "    </tr>\n",
       "    <tr>\n",
       "      <th>31239</th>\n",
       "      <td>201912</td>\n",
       "      <td>21266</td>\n",
       "      <td>0.05121</td>\n",
       "      <td>2019-12-01</td>\n",
       "    </tr>\n",
       "    <tr>\n",
       "      <th>31240</th>\n",
       "      <td>201912</td>\n",
       "      <td>21267</td>\n",
       "      <td>0.01569</td>\n",
       "      <td>2019-12-01</td>\n",
       "    </tr>\n",
       "    <tr>\n",
       "      <th>31241</th>\n",
       "      <td>201912</td>\n",
       "      <td>21271</td>\n",
       "      <td>0.00298</td>\n",
       "      <td>2019-12-01</td>\n",
       "    </tr>\n",
       "    <tr>\n",
       "      <th>31242</th>\n",
       "      <td>201912</td>\n",
       "      <td>21276</td>\n",
       "      <td>0.00892</td>\n",
       "      <td>2019-12-01</td>\n",
       "    </tr>\n",
       "  </tbody>\n",
       "</table>\n",
       "<p>31243 rows × 4 columns</p>\n",
       "</div>"
      ],
      "text/plain": [
       "       periodo  product_id          tn         ds\n",
       "0       201701       20001   934.77222 2017-01-01\n",
       "1       201701       20002   550.15707 2017-01-01\n",
       "2       201701       20003  1063.45835 2017-01-01\n",
       "3       201701       20004   555.91614 2017-01-01\n",
       "4       201701       20005   494.27011 2017-01-01\n",
       "...        ...         ...         ...        ...\n",
       "31238   201912       21265     0.05007 2019-12-01\n",
       "31239   201912       21266     0.05121 2019-12-01\n",
       "31240   201912       21267     0.01569 2019-12-01\n",
       "31241   201912       21271     0.00298 2019-12-01\n",
       "31242   201912       21276     0.00892 2019-12-01\n",
       "\n",
       "[31243 rows x 4 columns]"
      ]
     },
     "execution_count": 6,
     "metadata": {},
     "output_type": "execute_result"
    }
   ],
   "source": [
    "df_agg"
   ]
  },
  {
   "cell_type": "code",
   "execution_count": 7,
   "id": "7fd2dafb",
   "metadata": {},
   "outputs": [
    {
     "data": {
      "text/plain": [
       "<pandas.core.groupby.generic.DataFrameGroupBy object at 0x000001E4EF21D450>"
      ]
     },
     "execution_count": 7,
     "metadata": {},
     "output_type": "execute_result"
    }
   ],
   "source": [
    "product_groups"
   ]
  },
  {
   "cell_type": "code",
   "execution_count": 8,
   "id": "93cc292c",
   "metadata": {},
   "outputs": [
    {
     "name": "stderr",
     "output_type": "stream",
     "text": [
      "14:36:36 - cmdstanpy - INFO - Chain [1] start processing\n"
     ]
    },
    {
     "name": "stdout",
     "output_type": "stream",
     "text": [
      "Producto 20001: 36 períodos - Procesando\n"
     ]
    },
    {
     "name": "stderr",
     "output_type": "stream",
     "text": [
      "14:36:37 - cmdstanpy - INFO - Chain [1] done processing\n",
      "14:36:37 - cmdstanpy - INFO - Chain [1] start processing\n",
      "14:36:37 - cmdstanpy - INFO - Chain [1] done processing\n"
     ]
    },
    {
     "name": "stdout",
     "output_type": "stream",
     "text": [
      "Producto 20002: 36 períodos - Procesando\n",
      "Producto 20003: 36 períodos - Procesando\n"
     ]
    },
    {
     "name": "stderr",
     "output_type": "stream",
     "text": [
      "14:36:37 - cmdstanpy - INFO - Chain [1] start processing\n",
      "14:36:37 - cmdstanpy - INFO - Chain [1] done processing\n",
      "14:36:37 - cmdstanpy - INFO - Chain [1] start processing\n"
     ]
    },
    {
     "name": "stdout",
     "output_type": "stream",
     "text": [
      "Producto 20004: 36 períodos - Procesando\n"
     ]
    },
    {
     "name": "stderr",
     "output_type": "stream",
     "text": [
      "14:36:37 - cmdstanpy - INFO - Chain [1] done processing\n",
      "14:36:38 - cmdstanpy - INFO - Chain [1] start processing\n",
      "14:36:38 - cmdstanpy - INFO - Chain [1] done processing\n"
     ]
    },
    {
     "name": "stdout",
     "output_type": "stream",
     "text": [
      "Producto 20005: 36 períodos - Procesando\n"
     ]
    },
    {
     "name": "stderr",
     "output_type": "stream",
     "text": [
      "14:36:38 - cmdstanpy - INFO - Chain [1] start processing\n",
      "14:36:38 - cmdstanpy - INFO - Chain [1] done processing\n"
     ]
    },
    {
     "name": "stdout",
     "output_type": "stream",
     "text": [
      "Producto 20006: 36 períodos - Procesando\n",
      "Producto 20007: 36 períodos - Procesando\n"
     ]
    },
    {
     "name": "stderr",
     "output_type": "stream",
     "text": [
      "14:36:38 - cmdstanpy - INFO - Chain [1] start processing\n",
      "14:36:38 - cmdstanpy - INFO - Chain [1] done processing\n",
      "14:36:38 - cmdstanpy - INFO - Chain [1] start processing\n",
      "14:36:38 - cmdstanpy - INFO - Chain [1] done processing\n"
     ]
    },
    {
     "name": "stdout",
     "output_type": "stream",
     "text": [
      "Producto 20008: 36 períodos - Procesando\n",
      "Producto 20009: 36 períodos - Procesando\n"
     ]
    },
    {
     "name": "stderr",
     "output_type": "stream",
     "text": [
      "14:36:38 - cmdstanpy - INFO - Chain [1] start processing\n",
      "14:36:38 - cmdstanpy - INFO - Chain [1] done processing\n",
      "14:36:39 - cmdstanpy - INFO - Chain [1] start processing\n",
      "14:36:39 - cmdstanpy - INFO - Chain [1] done processing\n"
     ]
    },
    {
     "name": "stdout",
     "output_type": "stream",
     "text": [
      "Producto 20010: 36 períodos - Procesando\n",
      "Producto 20011: 36 períodos - Procesando\n"
     ]
    },
    {
     "name": "stderr",
     "output_type": "stream",
     "text": [
      "14:36:39 - cmdstanpy - INFO - Chain [1] start processing\n",
      "14:36:39 - cmdstanpy - INFO - Chain [1] done processing\n",
      "14:36:39 - cmdstanpy - INFO - Chain [1] start processing\n",
      "14:36:39 - cmdstanpy - INFO - Chain [1] done processing\n"
     ]
    },
    {
     "name": "stdout",
     "output_type": "stream",
     "text": [
      "Producto 20012: 36 períodos - Procesando\n",
      "Producto 20013: 36 períodos - Procesando\n"
     ]
    },
    {
     "name": "stderr",
     "output_type": "stream",
     "text": [
      "14:36:39 - cmdstanpy - INFO - Chain [1] start processing\n",
      "14:36:39 - cmdstanpy - INFO - Chain [1] done processing\n",
      "14:36:39 - cmdstanpy - INFO - Chain [1] start processing\n",
      "14:36:39 - cmdstanpy - INFO - Chain [1] done processing\n"
     ]
    },
    {
     "name": "stdout",
     "output_type": "stream",
     "text": [
      "Producto 20014: 36 períodos - Procesando\n",
      "Producto 20015: 36 períodos - Procesando\n"
     ]
    },
    {
     "name": "stderr",
     "output_type": "stream",
     "text": [
      "14:36:39 - cmdstanpy - INFO - Chain [1] start processing\n",
      "14:36:40 - cmdstanpy - INFO - Chain [1] done processing\n",
      "14:36:40 - cmdstanpy - INFO - Chain [1] start processing\n",
      "14:36:40 - cmdstanpy - INFO - Chain [1] done processing\n"
     ]
    },
    {
     "name": "stdout",
     "output_type": "stream",
     "text": [
      "Producto 20016: 36 períodos - Procesando\n",
      "Producto 20017: 36 períodos - Procesando\n"
     ]
    },
    {
     "name": "stderr",
     "output_type": "stream",
     "text": [
      "14:36:40 - cmdstanpy - INFO - Chain [1] start processing\n",
      "14:36:40 - cmdstanpy - INFO - Chain [1] done processing\n",
      "14:36:40 - cmdstanpy - INFO - Chain [1] start processing\n",
      "14:36:40 - cmdstanpy - INFO - Chain [1] done processing\n"
     ]
    },
    {
     "name": "stdout",
     "output_type": "stream",
     "text": [
      "Producto 20018: 36 períodos - Procesando\n",
      "Producto 20019: 36 períodos - Procesando\n"
     ]
    },
    {
     "name": "stderr",
     "output_type": "stream",
     "text": [
      "14:36:40 - cmdstanpy - INFO - Chain [1] start processing\n",
      "14:36:40 - cmdstanpy - INFO - Chain [1] done processing\n",
      "14:36:40 - cmdstanpy - INFO - Chain [1] start processing\n"
     ]
    },
    {
     "name": "stdout",
     "output_type": "stream",
     "text": [
      "Producto 20020: 36 períodos - Procesando\n"
     ]
    },
    {
     "name": "stderr",
     "output_type": "stream",
     "text": [
      "14:36:41 - cmdstanpy - INFO - Chain [1] done processing\n",
      "14:36:41 - cmdstanpy - INFO - Chain [1] start processing\n"
     ]
    },
    {
     "name": "stdout",
     "output_type": "stream",
     "text": [
      "Producto 20021: 36 períodos - Procesando\n"
     ]
    },
    {
     "name": "stderr",
     "output_type": "stream",
     "text": [
      "14:36:41 - cmdstanpy - INFO - Chain [1] done processing\n",
      "14:36:41 - cmdstanpy - INFO - Chain [1] start processing\n",
      "14:36:41 - cmdstanpy - INFO - Chain [1] done processing\n"
     ]
    },
    {
     "name": "stdout",
     "output_type": "stream",
     "text": [
      "Producto 20022: 36 períodos - Procesando\n",
      "Producto 20023: 36 períodos - Procesando\n"
     ]
    },
    {
     "name": "stderr",
     "output_type": "stream",
     "text": [
      "14:36:41 - cmdstanpy - INFO - Chain [1] start processing\n",
      "14:36:41 - cmdstanpy - INFO - Chain [1] done processing\n",
      "14:36:41 - cmdstanpy - INFO - Chain [1] start processing\n",
      "14:36:41 - cmdstanpy - INFO - Chain [1] done processing\n"
     ]
    },
    {
     "name": "stdout",
     "output_type": "stream",
     "text": [
      "Producto 20024: 36 períodos - Procesando\n",
      "Producto 20025: 36 períodos - Procesando\n"
     ]
    },
    {
     "name": "stderr",
     "output_type": "stream",
     "text": [
      "14:36:41 - cmdstanpy - INFO - Chain [1] start processing\n",
      "14:36:42 - cmdstanpy - INFO - Chain [1] done processing\n",
      "14:36:42 - cmdstanpy - INFO - Chain [1] start processing\n",
      "14:36:42 - cmdstanpy - INFO - Chain [1] done processing\n"
     ]
    },
    {
     "name": "stdout",
     "output_type": "stream",
     "text": [
      "Producto 20026: 36 períodos - Procesando\n",
      "Producto 20027: 36 períodos - Procesando\n"
     ]
    },
    {
     "name": "stderr",
     "output_type": "stream",
     "text": [
      "14:36:42 - cmdstanpy - INFO - Chain [1] start processing\n",
      "14:36:42 - cmdstanpy - INFO - Chain [1] done processing\n",
      "14:36:42 - cmdstanpy - INFO - Chain [1] start processing\n"
     ]
    },
    {
     "name": "stdout",
     "output_type": "stream",
     "text": [
      "Producto 20028: 36 períodos - Procesando\n"
     ]
    },
    {
     "name": "stderr",
     "output_type": "stream",
     "text": [
      "14:36:42 - cmdstanpy - INFO - Chain [1] done processing\n",
      "14:36:42 - cmdstanpy - INFO - Chain [1] start processing\n",
      "14:36:42 - cmdstanpy - INFO - Chain [1] done processing\n"
     ]
    },
    {
     "name": "stdout",
     "output_type": "stream",
     "text": [
      "Producto 20029: 36 períodos - Procesando\n",
      "Producto 20030: 36 períodos - Procesando\n"
     ]
    },
    {
     "name": "stderr",
     "output_type": "stream",
     "text": [
      "14:36:42 - cmdstanpy - INFO - Chain [1] start processing\n",
      "14:36:43 - cmdstanpy - INFO - Chain [1] done processing\n",
      "14:36:43 - cmdstanpy - INFO - Chain [1] start processing\n",
      "14:36:43 - cmdstanpy - INFO - Chain [1] done processing\n"
     ]
    },
    {
     "name": "stdout",
     "output_type": "stream",
     "text": [
      "Producto 20031: 36 períodos - Procesando\n"
     ]
    },
    {
     "name": "stderr",
     "output_type": "stream",
     "text": [
      "14:36:43 - cmdstanpy - INFO - Chain [1] start processing\n"
     ]
    },
    {
     "name": "stdout",
     "output_type": "stream",
     "text": [
      "Producto 20032: 11 períodos - Procesando\n"
     ]
    },
    {
     "name": "stderr",
     "output_type": "stream",
     "text": [
      "14:36:44 - cmdstanpy - INFO - Chain [1] done processing\n",
      "14:36:44 - cmdstanpy - INFO - Chain [1] start processing\n",
      "14:36:44 - cmdstanpy - INFO - Chain [1] done processing\n"
     ]
    },
    {
     "name": "stdout",
     "output_type": "stream",
     "text": [
      "Producto 20033: 36 períodos - Procesando\n"
     ]
    },
    {
     "name": "stderr",
     "output_type": "stream",
     "text": [
      "14:36:45 - cmdstanpy - INFO - Chain [1] start processing\n",
      "14:36:45 - cmdstanpy - INFO - Chain [1] done processing\n"
     ]
    },
    {
     "name": "stdout",
     "output_type": "stream",
     "text": [
      "Producto 20034: 30 períodos - Procesando\n"
     ]
    },
    {
     "name": "stderr",
     "output_type": "stream",
     "text": [
      "14:36:45 - cmdstanpy - INFO - Chain [1] start processing\n",
      "14:36:45 - cmdstanpy - INFO - Chain [1] done processing\n"
     ]
    },
    {
     "name": "stdout",
     "output_type": "stream",
     "text": [
      "Producto 20035: 36 períodos - Procesando\n",
      "Producto 20036: 32 períodos - Procesando\n"
     ]
    },
    {
     "name": "stderr",
     "output_type": "stream",
     "text": [
      "14:36:45 - cmdstanpy - INFO - Chain [1] start processing\n",
      "14:36:45 - cmdstanpy - INFO - Chain [1] done processing\n",
      "14:36:45 - cmdstanpy - INFO - Chain [1] start processing\n",
      "14:36:45 - cmdstanpy - INFO - Chain [1] done processing\n"
     ]
    },
    {
     "name": "stdout",
     "output_type": "stream",
     "text": [
      "Producto 20037: 36 períodos - Procesando\n",
      "Producto 20038: 36 períodos - Procesando\n"
     ]
    },
    {
     "name": "stderr",
     "output_type": "stream",
     "text": [
      "14:36:45 - cmdstanpy - INFO - Chain [1] start processing\n",
      "14:36:45 - cmdstanpy - INFO - Chain [1] done processing\n",
      "14:36:46 - cmdstanpy - INFO - Chain [1] start processing\n",
      "14:36:46 - cmdstanpy - INFO - Chain [1] done processing\n"
     ]
    },
    {
     "name": "stdout",
     "output_type": "stream",
     "text": [
      "Producto 20039: 36 períodos - Procesando\n",
      "Producto 20040: 33 períodos - Procesando\n"
     ]
    },
    {
     "name": "stderr",
     "output_type": "stream",
     "text": [
      "14:36:46 - cmdstanpy - INFO - Chain [1] start processing\n",
      "14:36:46 - cmdstanpy - INFO - Chain [1] done processing\n",
      "14:36:46 - cmdstanpy - INFO - Chain [1] start processing\n"
     ]
    },
    {
     "name": "stdout",
     "output_type": "stream",
     "text": [
      "Producto 20041: 36 períodos - Procesando\n"
     ]
    },
    {
     "name": "stderr",
     "output_type": "stream",
     "text": [
      "14:36:46 - cmdstanpy - INFO - Chain [1] done processing\n",
      "14:36:46 - cmdstanpy - INFO - Chain [1] start processing\n"
     ]
    },
    {
     "name": "stdout",
     "output_type": "stream",
     "text": [
      "Producto 20042: 36 períodos - Procesando\n"
     ]
    },
    {
     "name": "stderr",
     "output_type": "stream",
     "text": [
      "14:36:46 - cmdstanpy - INFO - Chain [1] done processing\n",
      "14:36:46 - cmdstanpy - INFO - Chain [1] start processing\n",
      "14:36:46 - cmdstanpy - INFO - Chain [1] done processing\n"
     ]
    },
    {
     "name": "stdout",
     "output_type": "stream",
     "text": [
      "Producto 20043: 36 períodos - Procesando\n",
      "Producto 20044: 36 períodos - Procesando\n"
     ]
    },
    {
     "name": "stderr",
     "output_type": "stream",
     "text": [
      "14:36:47 - cmdstanpy - INFO - Chain [1] start processing\n",
      "14:36:47 - cmdstanpy - INFO - Chain [1] done processing\n",
      "14:36:47 - cmdstanpy - INFO - Chain [1] start processing\n"
     ]
    },
    {
     "name": "stdout",
     "output_type": "stream",
     "text": [
      "Producto 20045: 36 períodos - Procesando\n"
     ]
    },
    {
     "name": "stderr",
     "output_type": "stream",
     "text": [
      "14:36:47 - cmdstanpy - INFO - Chain [1] done processing\n",
      "14:36:47 - cmdstanpy - INFO - Chain [1] start processing\n"
     ]
    },
    {
     "name": "stdout",
     "output_type": "stream",
     "text": [
      "Producto 20046: 36 períodos - Procesando\n"
     ]
    },
    {
     "name": "stderr",
     "output_type": "stream",
     "text": [
      "14:36:47 - cmdstanpy - INFO - Chain [1] done processing\n",
      "14:36:47 - cmdstanpy - INFO - Chain [1] start processing\n",
      "14:36:47 - cmdstanpy - INFO - Chain [1] done processing\n"
     ]
    },
    {
     "name": "stdout",
     "output_type": "stream",
     "text": [
      "Producto 20047: 36 períodos - Procesando\n",
      "Producto 20048: 36 períodos - Procesando\n"
     ]
    },
    {
     "name": "stderr",
     "output_type": "stream",
     "text": [
      "14:36:47 - cmdstanpy - INFO - Chain [1] start processing\n",
      "14:36:48 - cmdstanpy - INFO - Chain [1] done processing\n",
      "14:36:48 - cmdstanpy - INFO - Chain [1] start processing\n",
      "14:36:48 - cmdstanpy - INFO - Chain [1] done processing\n"
     ]
    },
    {
     "name": "stdout",
     "output_type": "stream",
     "text": [
      "Producto 20049: 29 períodos - Procesando\n",
      "Producto 20050: 36 períodos - Procesando\n"
     ]
    },
    {
     "name": "stderr",
     "output_type": "stream",
     "text": [
      "14:36:48 - cmdstanpy - INFO - Chain [1] start processing\n",
      "14:36:48 - cmdstanpy - INFO - Chain [1] done processing\n",
      "14:36:48 - cmdstanpy - INFO - Chain [1] start processing\n",
      "14:36:48 - cmdstanpy - INFO - Chain [1] done processing\n"
     ]
    },
    {
     "name": "stdout",
     "output_type": "stream",
     "text": [
      "Producto 20051: 36 períodos - Procesando\n",
      "Producto 20052: 36 períodos - Procesando\n"
     ]
    },
    {
     "name": "stderr",
     "output_type": "stream",
     "text": [
      "14:36:48 - cmdstanpy - INFO - Chain [1] start processing\n",
      "14:36:48 - cmdstanpy - INFO - Chain [1] done processing\n",
      "14:36:48 - cmdstanpy - INFO - Chain [1] start processing\n",
      "14:36:48 - cmdstanpy - INFO - Chain [1] done processing\n"
     ]
    },
    {
     "name": "stdout",
     "output_type": "stream",
     "text": [
      "Producto 20053: 36 períodos - Procesando\n",
      "Producto 20054: 36 períodos - Procesando\n"
     ]
    },
    {
     "name": "stderr",
     "output_type": "stream",
     "text": [
      "14:36:49 - cmdstanpy - INFO - Chain [1] start processing\n",
      "14:36:49 - cmdstanpy - INFO - Chain [1] done processing\n",
      "14:36:49 - cmdstanpy - INFO - Chain [1] start processing\n",
      "14:36:49 - cmdstanpy - INFO - Chain [1] done processing\n"
     ]
    },
    {
     "name": "stdout",
     "output_type": "stream",
     "text": [
      "Producto 20055: 36 períodos - Procesando\n",
      "Producto 20056: 36 períodos - Procesando\n"
     ]
    },
    {
     "name": "stderr",
     "output_type": "stream",
     "text": [
      "14:36:49 - cmdstanpy - INFO - Chain [1] start processing\n",
      "14:36:49 - cmdstanpy - INFO - Chain [1] done processing\n",
      "14:36:49 - cmdstanpy - INFO - Chain [1] start processing\n",
      "14:36:49 - cmdstanpy - INFO - Chain [1] done processing\n"
     ]
    },
    {
     "name": "stdout",
     "output_type": "stream",
     "text": [
      "Producto 20057: 36 períodos - Procesando\n",
      "Producto 20058: 36 períodos - Procesando\n"
     ]
    },
    {
     "name": "stderr",
     "output_type": "stream",
     "text": [
      "14:36:49 - cmdstanpy - INFO - Chain [1] start processing\n",
      "14:36:50 - cmdstanpy - INFO - Chain [1] done processing\n",
      "14:36:50 - cmdstanpy - INFO - Chain [1] start processing\n",
      "14:36:50 - cmdstanpy - INFO - Chain [1] done processing\n"
     ]
    },
    {
     "name": "stdout",
     "output_type": "stream",
     "text": [
      "Producto 20059: 36 períodos - Procesando\n",
      "Producto 20060: 29 períodos - Procesando\n"
     ]
    },
    {
     "name": "stderr",
     "output_type": "stream",
     "text": [
      "14:36:50 - cmdstanpy - INFO - Chain [1] start processing\n",
      "14:36:50 - cmdstanpy - INFO - Chain [1] done processing\n",
      "14:36:50 - cmdstanpy - INFO - Chain [1] start processing\n",
      "14:36:50 - cmdstanpy - INFO - Chain [1] done processing\n"
     ]
    },
    {
     "name": "stdout",
     "output_type": "stream",
     "text": [
      "Producto 20061: 36 períodos - Procesando\n",
      "Producto 20062: 36 períodos - Procesando\n"
     ]
    },
    {
     "name": "stderr",
     "output_type": "stream",
     "text": [
      "14:36:50 - cmdstanpy - INFO - Chain [1] start processing\n",
      "14:36:50 - cmdstanpy - INFO - Chain [1] done processing\n",
      "14:36:50 - cmdstanpy - INFO - Chain [1] start processing\n",
      "14:36:50 - cmdstanpy - INFO - Chain [1] done processing\n"
     ]
    },
    {
     "name": "stdout",
     "output_type": "stream",
     "text": [
      "Producto 20063: 36 períodos - Procesando\n",
      "Producto 20064: 34 períodos - Procesando\n"
     ]
    },
    {
     "name": "stderr",
     "output_type": "stream",
     "text": [
      "14:36:51 - cmdstanpy - INFO - Chain [1] start processing\n",
      "14:36:51 - cmdstanpy - INFO - Chain [1] done processing\n",
      "14:36:51 - cmdstanpy - INFO - Chain [1] start processing\n"
     ]
    },
    {
     "name": "stdout",
     "output_type": "stream",
     "text": [
      "Producto 20065: 36 períodos - Procesando\n"
     ]
    },
    {
     "name": "stderr",
     "output_type": "stream",
     "text": [
      "14:36:51 - cmdstanpy - INFO - Chain [1] done processing\n",
      "14:36:51 - cmdstanpy - INFO - Chain [1] start processing\n",
      "14:36:51 - cmdstanpy - INFO - Chain [1] done processing\n"
     ]
    },
    {
     "name": "stdout",
     "output_type": "stream",
     "text": [
      "Producto 20066: 36 períodos - Procesando\n",
      "Producto 20067: 36 períodos - Procesando\n"
     ]
    },
    {
     "name": "stderr",
     "output_type": "stream",
     "text": [
      "14:36:51 - cmdstanpy - INFO - Chain [1] start processing\n",
      "14:36:51 - cmdstanpy - INFO - Chain [1] done processing\n",
      "14:36:51 - cmdstanpy - INFO - Chain [1] start processing\n",
      "14:36:51 - cmdstanpy - INFO - Chain [1] done processing\n"
     ]
    },
    {
     "name": "stdout",
     "output_type": "stream",
     "text": [
      "Producto 20068: 36 períodos - Procesando\n",
      "Producto 20069: 36 períodos - Procesando\n"
     ]
    },
    {
     "name": "stderr",
     "output_type": "stream",
     "text": [
      "14:36:52 - cmdstanpy - INFO - Chain [1] start processing\n",
      "14:36:52 - cmdstanpy - INFO - Chain [1] done processing\n",
      "14:36:52 - cmdstanpy - INFO - Chain [1] start processing\n",
      "14:36:52 - cmdstanpy - INFO - Chain [1] done processing\n"
     ]
    },
    {
     "name": "stdout",
     "output_type": "stream",
     "text": [
      "Producto 20070: 36 períodos - Procesando\n",
      "Producto 20071: 36 períodos - Procesando\n"
     ]
    },
    {
     "name": "stderr",
     "output_type": "stream",
     "text": [
      "14:36:52 - cmdstanpy - INFO - Chain [1] start processing\n",
      "14:36:52 - cmdstanpy - INFO - Chain [1] done processing\n",
      "14:36:52 - cmdstanpy - INFO - Chain [1] start processing\n"
     ]
    },
    {
     "name": "stdout",
     "output_type": "stream",
     "text": [
      "Producto 20072: 36 períodos - Procesando\n"
     ]
    },
    {
     "name": "stderr",
     "output_type": "stream",
     "text": [
      "14:36:52 - cmdstanpy - INFO - Chain [1] done processing\n",
      "14:36:52 - cmdstanpy - INFO - Chain [1] start processing\n",
      "14:36:52 - cmdstanpy - INFO - Chain [1] done processing\n"
     ]
    },
    {
     "name": "stdout",
     "output_type": "stream",
     "text": [
      "Producto 20073: 36 períodos - Procesando\n",
      "Producto 20074: 36 períodos - Procesando\n"
     ]
    },
    {
     "name": "stderr",
     "output_type": "stream",
     "text": [
      "14:36:52 - cmdstanpy - INFO - Chain [1] start processing\n",
      "14:36:53 - cmdstanpy - INFO - Chain [1] done processing\n",
      "14:36:53 - cmdstanpy - INFO - Chain [1] start processing\n",
      "14:36:53 - cmdstanpy - INFO - Chain [1] done processing\n"
     ]
    },
    {
     "name": "stdout",
     "output_type": "stream",
     "text": [
      "Producto 20075: 36 períodos - Procesando\n",
      "Producto 20076: 36 períodos - Procesando\n"
     ]
    },
    {
     "name": "stderr",
     "output_type": "stream",
     "text": [
      "14:36:53 - cmdstanpy - INFO - Chain [1] start processing\n",
      "14:36:53 - cmdstanpy - INFO - Chain [1] done processing\n",
      "14:36:53 - cmdstanpy - INFO - Chain [1] start processing\n",
      "14:36:53 - cmdstanpy - INFO - Chain [1] done processing\n"
     ]
    },
    {
     "name": "stdout",
     "output_type": "stream",
     "text": [
      "Producto 20077: 36 períodos - Procesando\n",
      "Producto 20078: 36 períodos - Procesando\n"
     ]
    },
    {
     "name": "stderr",
     "output_type": "stream",
     "text": [
      "14:36:53 - cmdstanpy - INFO - Chain [1] start processing\n",
      "14:36:53 - cmdstanpy - INFO - Chain [1] done processing\n",
      "14:36:53 - cmdstanpy - INFO - Chain [1] start processing\n",
      "14:36:54 - cmdstanpy - INFO - Chain [1] done processing\n"
     ]
    },
    {
     "name": "stdout",
     "output_type": "stream",
     "text": [
      "Producto 20079: 36 períodos - Procesando\n",
      "Producto 20080: 36 períodos - Procesando\n"
     ]
    },
    {
     "name": "stderr",
     "output_type": "stream",
     "text": [
      "14:36:54 - cmdstanpy - INFO - Chain [1] start processing\n",
      "14:36:54 - cmdstanpy - INFO - Chain [1] done processing\n",
      "14:36:54 - cmdstanpy - INFO - Chain [1] start processing\n"
     ]
    },
    {
     "name": "stdout",
     "output_type": "stream",
     "text": [
      "Producto 20081: 36 períodos - Procesando\n"
     ]
    },
    {
     "name": "stderr",
     "output_type": "stream",
     "text": [
      "14:36:54 - cmdstanpy - INFO - Chain [1] done processing\n",
      "14:36:54 - cmdstanpy - INFO - Chain [1] start processing\n"
     ]
    },
    {
     "name": "stdout",
     "output_type": "stream",
     "text": [
      "Producto 20082: 36 períodos - Procesando\n"
     ]
    },
    {
     "name": "stderr",
     "output_type": "stream",
     "text": [
      "14:36:54 - cmdstanpy - INFO - Chain [1] done processing\n",
      "14:36:54 - cmdstanpy - INFO - Chain [1] start processing\n"
     ]
    },
    {
     "name": "stdout",
     "output_type": "stream",
     "text": [
      "Producto 20083: 24 períodos - Procesando\n"
     ]
    },
    {
     "name": "stderr",
     "output_type": "stream",
     "text": [
      "14:37:03 - cmdstanpy - INFO - Chain [1] done processing\n",
      "14:37:03 - cmdstanpy - INFO - Chain [1] start processing\n",
      "14:37:03 - cmdstanpy - INFO - Chain [1] done processing\n"
     ]
    },
    {
     "name": "stdout",
     "output_type": "stream",
     "text": [
      "Producto 20084: 36 períodos - Procesando\n",
      "Producto 20085: 15 períodos - Procesando\n"
     ]
    },
    {
     "name": "stderr",
     "output_type": "stream",
     "text": [
      "14:37:03 - cmdstanpy - INFO - Chain [1] start processing\n",
      "14:37:09 - cmdstanpy - INFO - Chain [1] done processing\n",
      "14:37:09 - cmdstanpy - INFO - Chain [1] start processing\n",
      "14:37:09 - cmdstanpy - INFO - Chain [1] done processing\n"
     ]
    },
    {
     "name": "stdout",
     "output_type": "stream",
     "text": [
      "Producto 20086: 36 períodos - Procesando\n",
      "Producto 20087: 36 períodos - Procesando\n"
     ]
    },
    {
     "name": "stderr",
     "output_type": "stream",
     "text": [
      "14:37:09 - cmdstanpy - INFO - Chain [1] start processing\n",
      "14:37:09 - cmdstanpy - INFO - Chain [1] done processing\n",
      "14:37:09 - cmdstanpy - INFO - Chain [1] start processing\n",
      "14:37:09 - cmdstanpy - INFO - Chain [1] done processing\n"
     ]
    },
    {
     "name": "stdout",
     "output_type": "stream",
     "text": [
      "Producto 20088: 36 períodos - Procesando\n"
     ]
    },
    {
     "name": "stderr",
     "output_type": "stream",
     "text": [
      "14:37:09 - cmdstanpy - INFO - Chain [1] start processing\n"
     ]
    },
    {
     "name": "stdout",
     "output_type": "stream",
     "text": [
      "Producto 20089: 17 períodos - Procesando\n"
     ]
    },
    {
     "name": "stderr",
     "output_type": "stream",
     "text": [
      "14:37:10 - cmdstanpy - INFO - Chain [1] done processing\n",
      "14:37:10 - cmdstanpy - INFO - Chain [1] start processing\n",
      "14:37:10 - cmdstanpy - INFO - Chain [1] done processing\n"
     ]
    },
    {
     "name": "stdout",
     "output_type": "stream",
     "text": [
      "Producto 20090: 36 períodos - Procesando\n",
      "Producto 20091: 36 períodos - Procesando\n"
     ]
    },
    {
     "name": "stderr",
     "output_type": "stream",
     "text": [
      "14:37:10 - cmdstanpy - INFO - Chain [1] start processing\n",
      "14:37:10 - cmdstanpy - INFO - Chain [1] done processing\n",
      "14:37:10 - cmdstanpy - INFO - Chain [1] start processing\n",
      "14:37:11 - cmdstanpy - INFO - Chain [1] done processing\n"
     ]
    },
    {
     "name": "stdout",
     "output_type": "stream",
     "text": [
      "Producto 20092: 36 períodos - Procesando\n",
      "Producto 20093: 36 períodos - Procesando\n"
     ]
    },
    {
     "name": "stderr",
     "output_type": "stream",
     "text": [
      "14:37:11 - cmdstanpy - INFO - Chain [1] start processing\n",
      "14:37:11 - cmdstanpy - INFO - Chain [1] done processing\n",
      "14:37:11 - cmdstanpy - INFO - Chain [1] start processing\n",
      "14:37:11 - cmdstanpy - INFO - Chain [1] done processing\n"
     ]
    },
    {
     "name": "stdout",
     "output_type": "stream",
     "text": [
      "Producto 20094: 36 períodos - Procesando\n",
      "Producto 20095: 36 períodos - Procesando\n"
     ]
    },
    {
     "name": "stderr",
     "output_type": "stream",
     "text": [
      "14:37:11 - cmdstanpy - INFO - Chain [1] start processing\n",
      "14:37:11 - cmdstanpy - INFO - Chain [1] done processing\n",
      "14:37:11 - cmdstanpy - INFO - Chain [1] start processing\n",
      "14:37:11 - cmdstanpy - INFO - Chain [1] done processing\n"
     ]
    },
    {
     "name": "stdout",
     "output_type": "stream",
     "text": [
      "Producto 20096: 36 períodos - Procesando\n",
      "Producto 20097: 36 períodos - Procesando\n"
     ]
    },
    {
     "name": "stderr",
     "output_type": "stream",
     "text": [
      "14:37:11 - cmdstanpy - INFO - Chain [1] start processing\n",
      "14:37:11 - cmdstanpy - INFO - Chain [1] done processing\n",
      "14:37:12 - cmdstanpy - INFO - Chain [1] start processing\n"
     ]
    },
    {
     "name": "stdout",
     "output_type": "stream",
     "text": [
      "Producto 20098: 16 períodos - Procesando\n"
     ]
    },
    {
     "name": "stderr",
     "output_type": "stream",
     "text": [
      "14:37:17 - cmdstanpy - INFO - Chain [1] done processing\n",
      "14:37:17 - cmdstanpy - INFO - Chain [1] start processing\n",
      "14:37:17 - cmdstanpy - INFO - Chain [1] done processing\n"
     ]
    },
    {
     "name": "stdout",
     "output_type": "stream",
     "text": [
      "Producto 20099: 36 períodos - Procesando\n",
      "Producto 20100: 36 períodos - Procesando\n"
     ]
    },
    {
     "name": "stderr",
     "output_type": "stream",
     "text": [
      "14:37:17 - cmdstanpy - INFO - Chain [1] start processing\n",
      "14:37:17 - cmdstanpy - INFO - Chain [1] done processing\n",
      "14:37:17 - cmdstanpy - INFO - Chain [1] start processing\n",
      "14:37:17 - cmdstanpy - INFO - Chain [1] done processing\n"
     ]
    },
    {
     "name": "stdout",
     "output_type": "stream",
     "text": [
      "Producto 20101: 36 períodos - Procesando\n",
      "Producto 20102: 36 períodos - Procesando\n"
     ]
    },
    {
     "name": "stderr",
     "output_type": "stream",
     "text": [
      "14:37:17 - cmdstanpy - INFO - Chain [1] start processing\n",
      "14:37:17 - cmdstanpy - INFO - Chain [1] done processing\n",
      "14:37:17 - cmdstanpy - INFO - Chain [1] start processing\n",
      "14:37:18 - cmdstanpy - INFO - Chain [1] done processing\n"
     ]
    },
    {
     "name": "stdout",
     "output_type": "stream",
     "text": [
      "Producto 20103: 36 períodos - Procesando\n",
      "Producto 20104: 19 períodos - Procesando\n"
     ]
    },
    {
     "name": "stderr",
     "output_type": "stream",
     "text": [
      "14:37:18 - cmdstanpy - INFO - Chain [1] start processing\n",
      "14:37:18 - cmdstanpy - INFO - Chain [1] done processing\n",
      "14:37:18 - cmdstanpy - INFO - Chain [1] start processing\n",
      "14:37:18 - cmdstanpy - INFO - Chain [1] done processing\n"
     ]
    },
    {
     "name": "stdout",
     "output_type": "stream",
     "text": [
      "Producto 20105: 36 períodos - Procesando\n",
      "Producto 20106: 36 períodos - Procesando\n"
     ]
    },
    {
     "name": "stderr",
     "output_type": "stream",
     "text": [
      "14:37:18 - cmdstanpy - INFO - Chain [1] start processing\n",
      "14:37:18 - cmdstanpy - INFO - Chain [1] done processing\n",
      "14:37:19 - cmdstanpy - INFO - Chain [1] start processing\n",
      "14:37:19 - cmdstanpy - INFO - Chain [1] done processing\n"
     ]
    },
    {
     "name": "stdout",
     "output_type": "stream",
     "text": [
      "Producto 20107: 36 períodos - Procesando\n"
     ]
    },
    {
     "name": "stderr",
     "output_type": "stream",
     "text": [
      "14:37:19 - cmdstanpy - INFO - Chain [1] start processing\n",
      "14:37:19 - cmdstanpy - INFO - Chain [1] done processing\n"
     ]
    },
    {
     "name": "stdout",
     "output_type": "stream",
     "text": [
      "Producto 20108: 36 períodos - Procesando\n",
      "Producto 20109: 36 períodos - Procesando\n"
     ]
    },
    {
     "name": "stderr",
     "output_type": "stream",
     "text": [
      "14:37:19 - cmdstanpy - INFO - Chain [1] start processing\n",
      "14:37:19 - cmdstanpy - INFO - Chain [1] done processing\n",
      "14:37:19 - cmdstanpy - INFO - Chain [1] start processing\n"
     ]
    },
    {
     "name": "stdout",
     "output_type": "stream",
     "text": [
      "Producto 20110: 16 períodos - Procesando\n"
     ]
    },
    {
     "name": "stderr",
     "output_type": "stream",
     "text": [
      "14:37:24 - cmdstanpy - INFO - Chain [1] done processing\n",
      "14:37:24 - cmdstanpy - INFO - Chain [1] start processing\n",
      "14:37:24 - cmdstanpy - INFO - Chain [1] done processing\n"
     ]
    },
    {
     "name": "stdout",
     "output_type": "stream",
     "text": [
      "Producto 20111: 36 períodos - Procesando\n",
      "Producto 20112: 26 períodos - Procesando\n"
     ]
    },
    {
     "name": "stderr",
     "output_type": "stream",
     "text": [
      "14:37:24 - cmdstanpy - INFO - Chain [1] start processing\n",
      "14:37:25 - cmdstanpy - INFO - Chain [1] done processing\n",
      "14:37:25 - cmdstanpy - INFO - Chain [1] start processing\n",
      "14:37:25 - cmdstanpy - INFO - Chain [1] done processing\n",
      "14:37:25 - cmdstanpy - INFO - Chain [1] start processing\n"
     ]
    },
    {
     "name": "stdout",
     "output_type": "stream",
     "text": [
      "Producto 20113: 36 períodos - Procesando\n",
      "Producto 20114: 36 períodos - Procesando\n"
     ]
    },
    {
     "name": "stderr",
     "output_type": "stream",
     "text": [
      "14:37:25 - cmdstanpy - INFO - Chain [1] done processing\n",
      "14:37:25 - cmdstanpy - INFO - Chain [1] start processing\n",
      "14:37:25 - cmdstanpy - INFO - Chain [1] done processing\n"
     ]
    },
    {
     "name": "stdout",
     "output_type": "stream",
     "text": [
      "Producto 20115: 36 períodos - Procesando\n",
      "Producto 20116: 36 períodos - Procesando\n"
     ]
    },
    {
     "name": "stderr",
     "output_type": "stream",
     "text": [
      "14:37:25 - cmdstanpy - INFO - Chain [1] start processing\n",
      "14:37:25 - cmdstanpy - INFO - Chain [1] done processing\n",
      "14:37:25 - cmdstanpy - INFO - Chain [1] start processing\n",
      "14:37:25 - cmdstanpy - INFO - Chain [1] done processing\n",
      "14:37:25 - cmdstanpy - INFO - Chain [1] start processing\n"
     ]
    },
    {
     "name": "stdout",
     "output_type": "stream",
     "text": [
      "Producto 20117: 36 períodos - Procesando\n",
      "Producto 20118: 36 períodos - Procesando\n"
     ]
    },
    {
     "name": "stderr",
     "output_type": "stream",
     "text": [
      "14:37:26 - cmdstanpy - INFO - Chain [1] done processing\n",
      "14:37:26 - cmdstanpy - INFO - Chain [1] start processing\n",
      "14:37:26 - cmdstanpy - INFO - Chain [1] done processing\n"
     ]
    },
    {
     "name": "stdout",
     "output_type": "stream",
     "text": [
      "Producto 20119: 36 períodos - Procesando\n",
      "Producto 20120: 36 períodos - Procesando\n"
     ]
    },
    {
     "name": "stderr",
     "output_type": "stream",
     "text": [
      "14:37:26 - cmdstanpy - INFO - Chain [1] start processing\n",
      "14:37:26 - cmdstanpy - INFO - Chain [1] done processing\n",
      "14:37:26 - cmdstanpy - INFO - Chain [1] start processing\n",
      "14:37:26 - cmdstanpy - INFO - Chain [1] done processing\n"
     ]
    },
    {
     "name": "stdout",
     "output_type": "stream",
     "text": [
      "Producto 20121: 36 períodos - Procesando\n",
      "Producto 20122: 36 períodos - Procesando\n"
     ]
    },
    {
     "name": "stderr",
     "output_type": "stream",
     "text": [
      "14:37:26 - cmdstanpy - INFO - Chain [1] start processing\n",
      "14:37:26 - cmdstanpy - INFO - Chain [1] done processing\n",
      "14:37:26 - cmdstanpy - INFO - Chain [1] start processing\n",
      "14:37:26 - cmdstanpy - INFO - Chain [1] done processing\n"
     ]
    },
    {
     "name": "stdout",
     "output_type": "stream",
     "text": [
      "Producto 20123: 36 períodos - Procesando\n",
      "Producto 20124: 36 períodos - Procesando\n"
     ]
    },
    {
     "name": "stderr",
     "output_type": "stream",
     "text": [
      "14:37:26 - cmdstanpy - INFO - Chain [1] start processing\n",
      "14:37:27 - cmdstanpy - INFO - Chain [1] done processing\n",
      "14:37:27 - cmdstanpy - INFO - Chain [1] start processing\n",
      "14:37:27 - cmdstanpy - INFO - Chain [1] done processing\n"
     ]
    },
    {
     "name": "stdout",
     "output_type": "stream",
     "text": [
      "Producto 20125: 36 períodos - Procesando\n",
      "Producto 20126: 21 períodos - Procesando\n"
     ]
    },
    {
     "name": "stderr",
     "output_type": "stream",
     "text": [
      "14:37:27 - cmdstanpy - INFO - Chain [1] start processing\n",
      "14:37:33 - cmdstanpy - INFO - Chain [1] done processing\n",
      "14:37:33 - cmdstanpy - INFO - Chain [1] start processing\n"
     ]
    },
    {
     "name": "stdout",
     "output_type": "stream",
     "text": [
      "Producto 20127: 4 períodos - Procesando\n"
     ]
    },
    {
     "name": "stderr",
     "output_type": "stream",
     "text": [
      "14:37:34 - cmdstanpy - INFO - Chain [1] done processing\n",
      "14:37:34 - cmdstanpy - INFO - Chain [1] start processing\n",
      "14:37:34 - cmdstanpy - INFO - Chain [1] done processing\n"
     ]
    },
    {
     "name": "stdout",
     "output_type": "stream",
     "text": [
      "Producto 20128: 27 períodos - Procesando\n",
      "Producto 20129: 36 períodos - Procesando\n"
     ]
    },
    {
     "name": "stderr",
     "output_type": "stream",
     "text": [
      "14:37:34 - cmdstanpy - INFO - Chain [1] start processing\n",
      "14:37:34 - cmdstanpy - INFO - Chain [1] done processing\n",
      "14:37:34 - cmdstanpy - INFO - Chain [1] start processing\n"
     ]
    },
    {
     "name": "stdout",
     "output_type": "stream",
     "text": [
      "Producto 20130: 20 períodos - Procesando\n"
     ]
    },
    {
     "name": "stderr",
     "output_type": "stream",
     "text": [
      "14:37:40 - cmdstanpy - INFO - Chain [1] done processing\n",
      "14:37:41 - cmdstanpy - INFO - Chain [1] start processing\n",
      "14:37:41 - cmdstanpy - INFO - Chain [1] done processing\n"
     ]
    },
    {
     "name": "stdout",
     "output_type": "stream",
     "text": [
      "Producto 20131: 29 períodos - Procesando\n",
      "Producto 20132: 36 períodos - Procesando\n"
     ]
    },
    {
     "name": "stderr",
     "output_type": "stream",
     "text": [
      "14:37:41 - cmdstanpy - INFO - Chain [1] start processing\n",
      "14:37:41 - cmdstanpy - INFO - Chain [1] done processing\n",
      "14:37:41 - cmdstanpy - INFO - Chain [1] start processing\n",
      "14:37:41 - cmdstanpy - INFO - Chain [1] done processing\n"
     ]
    },
    {
     "name": "stdout",
     "output_type": "stream",
     "text": [
      "Producto 20133: 36 períodos - Procesando\n"
     ]
    },
    {
     "name": "stderr",
     "output_type": "stream",
     "text": [
      "14:37:41 - cmdstanpy - INFO - Chain [1] start processing\n",
      "14:37:41 - cmdstanpy - INFO - Chain [1] done processing\n"
     ]
    },
    {
     "name": "stdout",
     "output_type": "stream",
     "text": [
      "Producto 20134: 36 períodos - Procesando\n",
      "Producto 20135: 21 períodos - Procesando\n"
     ]
    },
    {
     "name": "stderr",
     "output_type": "stream",
     "text": [
      "14:37:41 - cmdstanpy - INFO - Chain [1] start processing\n",
      "14:37:48 - cmdstanpy - INFO - Chain [1] done processing\n",
      "14:37:48 - cmdstanpy - INFO - Chain [1] start processing\n",
      "14:37:48 - cmdstanpy - INFO - Chain [1] done processing\n"
     ]
    },
    {
     "name": "stdout",
     "output_type": "stream",
     "text": [
      "Producto 20136: 36 períodos - Procesando\n",
      "Producto 20137: 36 períodos - Procesando\n"
     ]
    },
    {
     "name": "stderr",
     "output_type": "stream",
     "text": [
      "14:37:48 - cmdstanpy - INFO - Chain [1] start processing\n",
      "14:37:48 - cmdstanpy - INFO - Chain [1] done processing\n",
      "14:37:48 - cmdstanpy - INFO - Chain [1] start processing\n",
      "14:37:49 - cmdstanpy - INFO - Chain [1] done processing\n"
     ]
    },
    {
     "name": "stdout",
     "output_type": "stream",
     "text": [
      "Producto 20138: 36 períodos - Procesando\n",
      "Producto 20139: 36 períodos - Procesando\n"
     ]
    },
    {
     "name": "stderr",
     "output_type": "stream",
     "text": [
      "14:37:49 - cmdstanpy - INFO - Chain [1] start processing\n",
      "14:37:49 - cmdstanpy - INFO - Chain [1] done processing\n",
      "14:37:49 - cmdstanpy - INFO - Chain [1] start processing\n",
      "14:37:49 - cmdstanpy - INFO - Chain [1] done processing\n"
     ]
    },
    {
     "name": "stdout",
     "output_type": "stream",
     "text": [
      "Producto 20140: 36 períodos - Procesando\n",
      "Producto 20141: 26 períodos - Procesando\n"
     ]
    },
    {
     "name": "stderr",
     "output_type": "stream",
     "text": [
      "14:37:49 - cmdstanpy - INFO - Chain [1] start processing\n",
      "14:37:49 - cmdstanpy - INFO - Chain [1] done processing\n",
      "14:37:49 - cmdstanpy - INFO - Chain [1] start processing\n"
     ]
    },
    {
     "name": "stdout",
     "output_type": "stream",
     "text": [
      "Producto 20142: 36 períodos - Procesando\n"
     ]
    },
    {
     "name": "stderr",
     "output_type": "stream",
     "text": [
      "14:37:49 - cmdstanpy - INFO - Chain [1] done processing\n",
      "14:37:49 - cmdstanpy - INFO - Chain [1] start processing\n"
     ]
    },
    {
     "name": "stdout",
     "output_type": "stream",
     "text": [
      "Producto 20143: 20 períodos - Procesando\n"
     ]
    },
    {
     "name": "stderr",
     "output_type": "stream",
     "text": [
      "14:37:56 - cmdstanpy - INFO - Chain [1] done processing\n",
      "14:37:56 - cmdstanpy - INFO - Chain [1] start processing\n",
      "14:37:56 - cmdstanpy - INFO - Chain [1] done processing\n"
     ]
    },
    {
     "name": "stdout",
     "output_type": "stream",
     "text": [
      "Producto 20144: 36 períodos - Procesando\n",
      "Producto 20145: 36 períodos - Procesando\n"
     ]
    },
    {
     "name": "stderr",
     "output_type": "stream",
     "text": [
      "14:37:57 - cmdstanpy - INFO - Chain [1] start processing\n",
      "14:37:57 - cmdstanpy - INFO - Chain [1] done processing\n",
      "14:37:57 - cmdstanpy - INFO - Chain [1] start processing\n",
      "14:37:57 - cmdstanpy - INFO - Chain [1] done processing\n"
     ]
    },
    {
     "name": "stdout",
     "output_type": "stream",
     "text": [
      "Producto 20146: 36 períodos - Procesando\n",
      "Producto 20147: 30 períodos - Procesando\n"
     ]
    },
    {
     "name": "stderr",
     "output_type": "stream",
     "text": [
      "14:37:57 - cmdstanpy - INFO - Chain [1] start processing\n",
      "14:37:57 - cmdstanpy - INFO - Chain [1] done processing\n",
      "14:37:57 - cmdstanpy - INFO - Chain [1] start processing\n"
     ]
    },
    {
     "name": "stdout",
     "output_type": "stream",
     "text": [
      "Producto 20148: 36 períodos - Procesando\n"
     ]
    },
    {
     "name": "stderr",
     "output_type": "stream",
     "text": [
      "14:37:57 - cmdstanpy - INFO - Chain [1] done processing\n",
      "14:37:57 - cmdstanpy - INFO - Chain [1] start processing\n",
      "14:37:57 - cmdstanpy - INFO - Chain [1] done processing\n",
      "14:37:57 - cmdstanpy - INFO - Chain [1] start processing\n"
     ]
    },
    {
     "name": "stdout",
     "output_type": "stream",
     "text": [
      "Producto 20149: 27 períodos - Procesando\n",
      "Producto 20150: 21 períodos - Procesando\n"
     ]
    },
    {
     "name": "stderr",
     "output_type": "stream",
     "text": [
      "14:38:04 - cmdstanpy - INFO - Chain [1] done processing\n",
      "14:38:04 - cmdstanpy - INFO - Chain [1] start processing\n",
      "14:38:04 - cmdstanpy - INFO - Chain [1] done processing\n"
     ]
    },
    {
     "name": "stdout",
     "output_type": "stream",
     "text": [
      "Producto 20151: 36 períodos - Procesando\n",
      "Producto 20152: 36 períodos - Procesando\n"
     ]
    },
    {
     "name": "stderr",
     "output_type": "stream",
     "text": [
      "14:38:04 - cmdstanpy - INFO - Chain [1] start processing\n",
      "14:38:05 - cmdstanpy - INFO - Chain [1] done processing\n",
      "14:38:05 - cmdstanpy - INFO - Chain [1] start processing\n",
      "14:38:05 - cmdstanpy - INFO - Chain [1] done processing\n"
     ]
    },
    {
     "name": "stdout",
     "output_type": "stream",
     "text": [
      "Producto 20153: 36 períodos - Procesando\n"
     ]
    },
    {
     "name": "stderr",
     "output_type": "stream",
     "text": [
      "14:38:05 - cmdstanpy - INFO - Chain [1] start processing\n",
      "14:38:05 - cmdstanpy - INFO - Chain [1] done processing\n",
      "14:38:05 - cmdstanpy - INFO - Chain [1] start processing\n"
     ]
    },
    {
     "name": "stdout",
     "output_type": "stream",
     "text": [
      "Producto 20154: 29 períodos - Procesando\n",
      "Producto 20155: 36 períodos - Procesando\n"
     ]
    },
    {
     "name": "stderr",
     "output_type": "stream",
     "text": [
      "14:38:05 - cmdstanpy - INFO - Chain [1] done processing\n",
      "14:38:05 - cmdstanpy - INFO - Chain [1] start processing\n",
      "14:38:05 - cmdstanpy - INFO - Chain [1] done processing\n"
     ]
    },
    {
     "name": "stdout",
     "output_type": "stream",
     "text": [
      "Producto 20156: 26 períodos - Procesando\n",
      "Producto 20157: 36 períodos - Procesando\n"
     ]
    },
    {
     "name": "stderr",
     "output_type": "stream",
     "text": [
      "14:38:05 - cmdstanpy - INFO - Chain [1] start processing\n",
      "14:38:06 - cmdstanpy - INFO - Chain [1] done processing\n",
      "14:38:06 - cmdstanpy - INFO - Chain [1] start processing\n"
     ]
    },
    {
     "name": "stdout",
     "output_type": "stream",
     "text": [
      "Producto 20158: 36 períodos - Procesando\n"
     ]
    },
    {
     "name": "stderr",
     "output_type": "stream",
     "text": [
      "14:38:06 - cmdstanpy - INFO - Chain [1] done processing\n",
      "14:38:06 - cmdstanpy - INFO - Chain [1] start processing\n"
     ]
    },
    {
     "name": "stdout",
     "output_type": "stream",
     "text": [
      "Producto 20159: 20 períodos - Procesando\n"
     ]
    },
    {
     "name": "stderr",
     "output_type": "stream",
     "text": [
      "14:38:08 - cmdstanpy - INFO - Chain [1] done processing\n",
      "14:38:08 - cmdstanpy - INFO - Chain [1] start processing\n",
      "14:38:08 - cmdstanpy - INFO - Chain [1] done processing\n"
     ]
    },
    {
     "name": "stdout",
     "output_type": "stream",
     "text": [
      "Producto 20160: 36 períodos - Procesando\n",
      "Producto 20161: 36 períodos - Procesando\n"
     ]
    },
    {
     "name": "stderr",
     "output_type": "stream",
     "text": [
      "14:38:08 - cmdstanpy - INFO - Chain [1] start processing\n",
      "14:38:08 - cmdstanpy - INFO - Chain [1] done processing\n",
      "14:38:08 - cmdstanpy - INFO - Chain [1] start processing\n",
      "14:38:08 - cmdstanpy - INFO - Chain [1] done processing\n"
     ]
    },
    {
     "name": "stdout",
     "output_type": "stream",
     "text": [
      "Producto 20162: 36 períodos - Procesando\n",
      "Producto 20163: 36 períodos - Procesando\n"
     ]
    },
    {
     "name": "stderr",
     "output_type": "stream",
     "text": [
      "14:38:09 - cmdstanpy - INFO - Chain [1] start processing\n",
      "14:38:09 - cmdstanpy - INFO - Chain [1] done processing\n",
      "14:38:09 - cmdstanpy - INFO - Chain [1] start processing\n",
      "14:38:09 - cmdstanpy - INFO - Chain [1] done processing\n"
     ]
    },
    {
     "name": "stdout",
     "output_type": "stream",
     "text": [
      "Producto 20164: 24 períodos - Procesando\n",
      "Producto 20165: 36 períodos - Procesando\n"
     ]
    },
    {
     "name": "stderr",
     "output_type": "stream",
     "text": [
      "14:38:09 - cmdstanpy - INFO - Chain [1] start processing\n",
      "14:38:09 - cmdstanpy - INFO - Chain [1] done processing\n",
      "14:38:09 - cmdstanpy - INFO - Chain [1] start processing\n",
      "14:38:09 - cmdstanpy - INFO - Chain [1] done processing\n"
     ]
    },
    {
     "name": "stdout",
     "output_type": "stream",
     "text": [
      "Producto 20166: 36 períodos - Procesando\n",
      "Producto 20167: 36 períodos - Procesando\n"
     ]
    },
    {
     "name": "stderr",
     "output_type": "stream",
     "text": [
      "14:38:09 - cmdstanpy - INFO - Chain [1] start processing\n",
      "14:38:09 - cmdstanpy - INFO - Chain [1] done processing\n",
      "14:38:10 - cmdstanpy - INFO - Chain [1] start processing\n",
      "14:38:10 - cmdstanpy - INFO - Chain [1] done processing\n"
     ]
    },
    {
     "name": "stdout",
     "output_type": "stream",
     "text": [
      "Producto 20168: 36 períodos - Procesando\n",
      "Producto 20169: 36 períodos - Procesando\n"
     ]
    },
    {
     "name": "stderr",
     "output_type": "stream",
     "text": [
      "14:38:10 - cmdstanpy - INFO - Chain [1] start processing\n",
      "14:38:10 - cmdstanpy - INFO - Chain [1] done processing\n",
      "14:38:10 - cmdstanpy - INFO - Chain [1] start processing\n"
     ]
    },
    {
     "name": "stdout",
     "output_type": "stream",
     "text": [
      "Producto 20170: 20 períodos - Procesando\n"
     ]
    },
    {
     "name": "stderr",
     "output_type": "stream",
     "text": [
      "14:38:16 - cmdstanpy - INFO - Chain [1] done processing\n",
      "14:38:17 - cmdstanpy - INFO - Chain [1] start processing\n",
      "14:38:17 - cmdstanpy - INFO - Chain [1] done processing\n"
     ]
    },
    {
     "name": "stdout",
     "output_type": "stream",
     "text": [
      "Producto 20171: 36 períodos - Procesando\n",
      "Producto 20172: 20 períodos - Procesando\n"
     ]
    },
    {
     "name": "stderr",
     "output_type": "stream",
     "text": [
      "14:38:17 - cmdstanpy - INFO - Chain [1] start processing\n",
      "14:38:23 - cmdstanpy - INFO - Chain [1] done processing\n",
      "14:38:23 - cmdstanpy - INFO - Chain [1] start processing\n",
      "14:38:23 - cmdstanpy - INFO - Chain [1] done processing\n"
     ]
    },
    {
     "name": "stdout",
     "output_type": "stream",
     "text": [
      "Producto 20173: 36 períodos - Procesando\n",
      "Producto 20174: 7 períodos - Procesando\n"
     ]
    },
    {
     "name": "stderr",
     "output_type": "stream",
     "text": [
      "14:38:23 - cmdstanpy - INFO - Chain [1] start processing\n",
      "14:38:27 - cmdstanpy - INFO - Chain [1] done processing\n",
      "14:38:27 - cmdstanpy - INFO - Chain [1] start processing\n",
      "14:38:27 - cmdstanpy - INFO - Chain [1] done processing\n"
     ]
    },
    {
     "name": "stdout",
     "output_type": "stream",
     "text": [
      "Producto 20175: 36 períodos - Procesando\n",
      "Producto 20176: 36 períodos - Procesando\n"
     ]
    },
    {
     "name": "stderr",
     "output_type": "stream",
     "text": [
      "14:38:27 - cmdstanpy - INFO - Chain [1] start processing\n",
      "14:38:27 - cmdstanpy - INFO - Chain [1] done processing\n",
      "14:38:27 - cmdstanpy - INFO - Chain [1] start processing\n",
      "14:38:28 - cmdstanpy - INFO - Chain [1] done processing\n"
     ]
    },
    {
     "name": "stdout",
     "output_type": "stream",
     "text": [
      "Producto 20177: 36 períodos - Procesando\n"
     ]
    },
    {
     "name": "stderr",
     "output_type": "stream",
     "text": [
      "14:38:28 - cmdstanpy - INFO - Chain [1] start processing\n"
     ]
    },
    {
     "name": "stdout",
     "output_type": "stream",
     "text": [
      "Producto 20178: 36 períodos - Procesando\n"
     ]
    },
    {
     "name": "stderr",
     "output_type": "stream",
     "text": [
      "14:38:28 - cmdstanpy - INFO - Chain [1] done processing\n",
      "14:38:28 - cmdstanpy - INFO - Chain [1] start processing\n",
      "14:38:28 - cmdstanpy - INFO - Chain [1] done processing\n",
      "14:38:28 - cmdstanpy - INFO - Chain [1] start processing\n"
     ]
    },
    {
     "name": "stdout",
     "output_type": "stream",
     "text": [
      "Producto 20179: 36 períodos - Procesando\n",
      "Producto 20180: 36 períodos - Procesando\n"
     ]
    },
    {
     "name": "stderr",
     "output_type": "stream",
     "text": [
      "14:38:28 - cmdstanpy - INFO - Chain [1] done processing\n",
      "14:38:28 - cmdstanpy - INFO - Chain [1] start processing\n",
      "14:38:28 - cmdstanpy - INFO - Chain [1] done processing\n"
     ]
    },
    {
     "name": "stdout",
     "output_type": "stream",
     "text": [
      "Producto 20181: 36 períodos - Procesando\n",
      "Producto 20182: 36 períodos - Procesando\n"
     ]
    },
    {
     "name": "stderr",
     "output_type": "stream",
     "text": [
      "14:38:28 - cmdstanpy - INFO - Chain [1] start processing\n",
      "14:38:29 - cmdstanpy - INFO - Chain [1] done processing\n",
      "14:38:29 - cmdstanpy - INFO - Chain [1] start processing\n",
      "14:38:29 - cmdstanpy - INFO - Chain [1] done processing\n"
     ]
    },
    {
     "name": "stdout",
     "output_type": "stream",
     "text": [
      "Producto 20183: 36 períodos - Procesando\n",
      "Producto 20184: 36 períodos - Procesando\n"
     ]
    },
    {
     "name": "stderr",
     "output_type": "stream",
     "text": [
      "14:38:29 - cmdstanpy - INFO - Chain [1] start processing\n",
      "14:38:29 - cmdstanpy - INFO - Chain [1] done processing\n",
      "14:38:29 - cmdstanpy - INFO - Chain [1] start processing\n",
      "14:38:29 - cmdstanpy - INFO - Chain [1] done processing\n"
     ]
    },
    {
     "name": "stdout",
     "output_type": "stream",
     "text": [
      "Producto 20185: 36 períodos - Procesando\n"
     ]
    },
    {
     "name": "stderr",
     "output_type": "stream",
     "text": [
      "14:38:29 - cmdstanpy - INFO - Chain [1] start processing\n"
     ]
    },
    {
     "name": "stdout",
     "output_type": "stream",
     "text": [
      "Producto 20186: 22 períodos - Procesando\n"
     ]
    },
    {
     "name": "stderr",
     "output_type": "stream",
     "text": [
      "14:38:36 - cmdstanpy - INFO - Chain [1] done processing\n",
      "14:38:36 - cmdstanpy - INFO - Chain [1] start processing\n",
      "14:38:36 - cmdstanpy - INFO - Chain [1] done processing\n"
     ]
    },
    {
     "name": "stdout",
     "output_type": "stream",
     "text": [
      "Producto 20187: 36 períodos - Procesando\n",
      "Producto 20188: 36 períodos - Procesando\n"
     ]
    },
    {
     "name": "stderr",
     "output_type": "stream",
     "text": [
      "14:38:36 - cmdstanpy - INFO - Chain [1] start processing\n",
      "14:38:36 - cmdstanpy - INFO - Chain [1] done processing\n",
      "14:38:36 - cmdstanpy - INFO - Chain [1] start processing\n",
      "14:38:36 - cmdstanpy - INFO - Chain [1] done processing\n"
     ]
    },
    {
     "name": "stdout",
     "output_type": "stream",
     "text": [
      "Producto 20189: 36 períodos - Procesando\n",
      "Producto 20190: 36 períodos - Procesando\n"
     ]
    },
    {
     "name": "stderr",
     "output_type": "stream",
     "text": [
      "14:38:36 - cmdstanpy - INFO - Chain [1] start processing\n",
      "14:38:37 - cmdstanpy - INFO - Chain [1] done processing\n",
      "14:38:37 - cmdstanpy - INFO - Chain [1] start processing\n"
     ]
    },
    {
     "name": "stdout",
     "output_type": "stream",
     "text": [
      "Producto 20191: 24 períodos - Procesando\n"
     ]
    },
    {
     "name": "stderr",
     "output_type": "stream",
     "text": [
      "14:38:45 - cmdstanpy - INFO - Chain [1] done processing\n",
      "14:38:45 - cmdstanpy - INFO - Chain [1] start processing\n",
      "14:38:45 - cmdstanpy - INFO - Chain [1] done processing\n"
     ]
    },
    {
     "name": "stdout",
     "output_type": "stream",
     "text": [
      "Producto 20192: 35 períodos - Procesando\n",
      "Producto 20193: 36 períodos - Procesando\n"
     ]
    },
    {
     "name": "stderr",
     "output_type": "stream",
     "text": [
      "14:38:45 - cmdstanpy - INFO - Chain [1] start processing\n",
      "14:38:45 - cmdstanpy - INFO - Chain [1] done processing\n",
      "14:38:45 - cmdstanpy - INFO - Chain [1] start processing\n",
      "14:38:46 - cmdstanpy - INFO - Chain [1] done processing\n"
     ]
    },
    {
     "name": "stdout",
     "output_type": "stream",
     "text": [
      "Producto 20194: 36 períodos - Procesando\n",
      "Producto 20195: 30 períodos - Procesando\n"
     ]
    },
    {
     "name": "stderr",
     "output_type": "stream",
     "text": [
      "14:38:46 - cmdstanpy - INFO - Chain [1] start processing\n",
      "14:38:46 - cmdstanpy - INFO - Chain [1] done processing\n",
      "14:38:46 - cmdstanpy - INFO - Chain [1] start processing\n",
      "14:38:46 - cmdstanpy - INFO - Chain [1] done processing\n"
     ]
    },
    {
     "name": "stdout",
     "output_type": "stream",
     "text": [
      "Producto 20196: 36 períodos - Procesando\n",
      "Producto 20197: 36 períodos - Procesando\n"
     ]
    },
    {
     "name": "stderr",
     "output_type": "stream",
     "text": [
      "14:38:46 - cmdstanpy - INFO - Chain [1] start processing\n",
      "14:38:46 - cmdstanpy - INFO - Chain [1] done processing\n",
      "14:38:46 - cmdstanpy - INFO - Chain [1] start processing\n",
      "14:38:46 - cmdstanpy - INFO - Chain [1] done processing\n"
     ]
    },
    {
     "name": "stdout",
     "output_type": "stream",
     "text": [
      "Producto 20198: 36 períodos - Procesando\n",
      "Producto 20199: 18 períodos - Procesando\n"
     ]
    },
    {
     "name": "stderr",
     "output_type": "stream",
     "text": [
      "14:38:46 - cmdstanpy - INFO - Chain [1] start processing\n",
      "14:38:51 - cmdstanpy - INFO - Chain [1] done processing\n",
      "14:38:51 - cmdstanpy - INFO - Chain [1] start processing\n",
      "14:38:52 - cmdstanpy - INFO - Chain [1] done processing\n"
     ]
    },
    {
     "name": "stdout",
     "output_type": "stream",
     "text": [
      "Producto 20200: 36 períodos - Procesando\n",
      "Producto 20201: 36 períodos - Procesando\n"
     ]
    },
    {
     "name": "stderr",
     "output_type": "stream",
     "text": [
      "14:38:52 - cmdstanpy - INFO - Chain [1] start processing\n",
      "14:38:52 - cmdstanpy - INFO - Chain [1] done processing\n",
      "14:38:52 - cmdstanpy - INFO - Chain [1] start processing\n",
      "14:38:52 - cmdstanpy - INFO - Chain [1] done processing\n"
     ]
    },
    {
     "name": "stdout",
     "output_type": "stream",
     "text": [
      "Producto 20202: 27 períodos - Procesando\n",
      "Producto 20203: 24 períodos - Procesando\n"
     ]
    },
    {
     "name": "stderr",
     "output_type": "stream",
     "text": [
      "14:38:52 - cmdstanpy - INFO - Chain [1] start processing\n",
      "14:38:52 - cmdstanpy - INFO - Chain [1] done processing\n",
      "14:38:52 - cmdstanpy - INFO - Chain [1] start processing\n",
      "14:38:52 - cmdstanpy - INFO - Chain [1] done processing\n"
     ]
    },
    {
     "name": "stdout",
     "output_type": "stream",
     "text": [
      "Producto 20205: 36 períodos - Procesando\n",
      "Producto 20206: 36 períodos - Procesando\n"
     ]
    },
    {
     "name": "stderr",
     "output_type": "stream",
     "text": [
      "14:38:52 - cmdstanpy - INFO - Chain [1] start processing\n",
      "14:38:52 - cmdstanpy - INFO - Chain [1] done processing\n",
      "14:38:53 - cmdstanpy - INFO - Chain [1] start processing\n",
      "14:38:53 - cmdstanpy - INFO - Chain [1] done processing\n"
     ]
    },
    {
     "name": "stdout",
     "output_type": "stream",
     "text": [
      "Producto 20207: 36 períodos - Procesando\n",
      "Producto 20208: 36 períodos - Procesando\n"
     ]
    },
    {
     "name": "stderr",
     "output_type": "stream",
     "text": [
      "14:38:53 - cmdstanpy - INFO - Chain [1] start processing\n",
      "14:38:53 - cmdstanpy - INFO - Chain [1] done processing\n",
      "14:38:53 - cmdstanpy - INFO - Chain [1] start processing\n",
      "14:38:53 - cmdstanpy - INFO - Chain [1] done processing\n"
     ]
    },
    {
     "name": "stdout",
     "output_type": "stream",
     "text": [
      "Producto 20209: 36 períodos - Procesando\n",
      "Producto 20210: 4 períodos - Procesando\n"
     ]
    },
    {
     "name": "stderr",
     "output_type": "stream",
     "text": [
      "14:38:53 - cmdstanpy - INFO - Chain [1] start processing\n",
      "14:38:53 - cmdstanpy - INFO - Chain [1] done processing\n",
      "14:38:53 - cmdstanpy - INFO - Chain [1] start processing\n",
      "14:38:53 - cmdstanpy - INFO - Chain [1] done processing\n"
     ]
    },
    {
     "name": "stdout",
     "output_type": "stream",
     "text": [
      "Producto 20211: 36 períodos - Procesando\n"
     ]
    },
    {
     "name": "stderr",
     "output_type": "stream",
     "text": [
      "14:38:54 - cmdstanpy - INFO - Chain [1] start processing\n",
      "14:38:54 - cmdstanpy - INFO - Chain [1] done processing\n"
     ]
    },
    {
     "name": "stdout",
     "output_type": "stream",
     "text": [
      "Producto 20212: 36 períodos - Procesando\n",
      "Producto 20213: 5 períodos - Procesando\n"
     ]
    },
    {
     "name": "stderr",
     "output_type": "stream",
     "text": [
      "14:38:54 - cmdstanpy - INFO - Chain [1] start processing\n",
      "14:38:54 - cmdstanpy - INFO - Chain [1] done processing\n",
      "14:38:54 - cmdstanpy - INFO - Chain [1] start processing\n",
      "14:38:54 - cmdstanpy - INFO - Chain [1] done processing\n"
     ]
    },
    {
     "name": "stdout",
     "output_type": "stream",
     "text": [
      "Producto 20214: 29 períodos - Procesando\n",
      "Producto 20215: 36 períodos - Procesando\n"
     ]
    },
    {
     "name": "stderr",
     "output_type": "stream",
     "text": [
      "14:38:54 - cmdstanpy - INFO - Chain [1] start processing\n",
      "14:38:55 - cmdstanpy - INFO - Chain [1] done processing\n",
      "14:38:55 - cmdstanpy - INFO - Chain [1] start processing\n",
      "14:38:55 - cmdstanpy - INFO - Chain [1] done processing\n"
     ]
    },
    {
     "name": "stdout",
     "output_type": "stream",
     "text": [
      "Producto 20216: 36 períodos - Procesando\n",
      "Producto 20217: 34 períodos - Procesando\n"
     ]
    },
    {
     "name": "stderr",
     "output_type": "stream",
     "text": [
      "14:38:55 - cmdstanpy - INFO - Chain [1] start processing\n",
      "14:38:55 - cmdstanpy - INFO - Chain [1] done processing\n",
      "14:38:55 - cmdstanpy - INFO - Chain [1] start processing\n"
     ]
    },
    {
     "name": "stdout",
     "output_type": "stream",
     "text": [
      "Producto 20218: 24 períodos - Procesando\n"
     ]
    },
    {
     "name": "stderr",
     "output_type": "stream",
     "text": [
      "14:39:03 - cmdstanpy - INFO - Chain [1] done processing\n",
      "14:39:03 - cmdstanpy - INFO - Chain [1] start processing\n",
      "14:39:04 - cmdstanpy - INFO - Chain [1] done processing\n"
     ]
    },
    {
     "name": "stdout",
     "output_type": "stream",
     "text": [
      "Producto 20219: 36 períodos - Procesando\n",
      "Producto 20220: 36 períodos - Procesando\n"
     ]
    },
    {
     "name": "stderr",
     "output_type": "stream",
     "text": [
      "14:39:04 - cmdstanpy - INFO - Chain [1] start processing\n",
      "14:39:04 - cmdstanpy - INFO - Chain [1] done processing\n",
      "14:39:04 - cmdstanpy - INFO - Chain [1] start processing\n",
      "14:39:04 - cmdstanpy - INFO - Chain [1] done processing\n"
     ]
    },
    {
     "name": "stdout",
     "output_type": "stream",
     "text": [
      "Producto 20221: 29 períodos - Procesando\n",
      "Producto 20222: 36 períodos - Procesando\n"
     ]
    },
    {
     "name": "stderr",
     "output_type": "stream",
     "text": [
      "14:39:04 - cmdstanpy - INFO - Chain [1] start processing\n",
      "14:39:04 - cmdstanpy - INFO - Chain [1] done processing\n",
      "14:39:04 - cmdstanpy - INFO - Chain [1] start processing\n"
     ]
    },
    {
     "name": "stdout",
     "output_type": "stream",
     "text": [
      "Producto 20223: 17 períodos - Procesando\n"
     ]
    },
    {
     "name": "stderr",
     "output_type": "stream",
     "text": [
      "14:39:05 - cmdstanpy - INFO - Chain [1] done processing\n",
      "14:39:05 - cmdstanpy - INFO - Chain [1] start processing\n",
      "14:39:05 - cmdstanpy - INFO - Chain [1] done processing\n"
     ]
    },
    {
     "name": "stdout",
     "output_type": "stream",
     "text": [
      "Producto 20224: 36 períodos - Procesando\n",
      "Producto 20225: 36 períodos - Procesando\n"
     ]
    },
    {
     "name": "stderr",
     "output_type": "stream",
     "text": [
      "14:39:05 - cmdstanpy - INFO - Chain [1] start processing\n",
      "14:39:06 - cmdstanpy - INFO - Chain [1] done processing\n",
      "14:39:06 - cmdstanpy - INFO - Chain [1] start processing\n",
      "14:39:06 - cmdstanpy - INFO - Chain [1] done processing\n"
     ]
    },
    {
     "name": "stdout",
     "output_type": "stream",
     "text": [
      "Producto 20226: 36 períodos - Procesando\n",
      "Producto 20227: 36 períodos - Procesando\n"
     ]
    },
    {
     "name": "stderr",
     "output_type": "stream",
     "text": [
      "14:39:06 - cmdstanpy - INFO - Chain [1] start processing\n",
      "14:39:06 - cmdstanpy - INFO - Chain [1] done processing\n",
      "14:39:06 - cmdstanpy - INFO - Chain [1] start processing\n",
      "14:39:06 - cmdstanpy - INFO - Chain [1] done processing\n"
     ]
    },
    {
     "name": "stdout",
     "output_type": "stream",
     "text": [
      "Producto 20228: 36 períodos - Procesando\n",
      "Producto 20229: 22 períodos - Procesando\n"
     ]
    },
    {
     "name": "stderr",
     "output_type": "stream",
     "text": [
      "14:39:06 - cmdstanpy - INFO - Chain [1] start processing\n",
      "14:39:07 - cmdstanpy - INFO - Chain [1] done processing\n",
      "14:39:07 - cmdstanpy - INFO - Chain [1] start processing\n",
      "14:39:07 - cmdstanpy - INFO - Chain [1] done processing\n"
     ]
    },
    {
     "name": "stdout",
     "output_type": "stream",
     "text": [
      "Producto 20230: 36 períodos - Procesando\n",
      "Producto 20231: 36 períodos - Procesando\n"
     ]
    },
    {
     "name": "stderr",
     "output_type": "stream",
     "text": [
      "14:39:07 - cmdstanpy - INFO - Chain [1] start processing\n",
      "14:39:07 - cmdstanpy - INFO - Chain [1] done processing\n",
      "14:39:08 - cmdstanpy - INFO - Chain [1] start processing\n"
     ]
    },
    {
     "name": "stdout",
     "output_type": "stream",
     "text": [
      "Producto 20232: 36 períodos - Procesando\n"
     ]
    },
    {
     "name": "stderr",
     "output_type": "stream",
     "text": [
      "14:39:08 - cmdstanpy - INFO - Chain [1] done processing\n",
      "14:39:08 - cmdstanpy - INFO - Chain [1] start processing\n",
      "14:39:08 - cmdstanpy - INFO - Chain [1] done processing\n"
     ]
    },
    {
     "name": "stdout",
     "output_type": "stream",
     "text": [
      "Producto 20233: 36 períodos - Procesando\n",
      "Producto 20234: 36 períodos - Procesando\n"
     ]
    },
    {
     "name": "stderr",
     "output_type": "stream",
     "text": [
      "14:39:08 - cmdstanpy - INFO - Chain [1] start processing\n",
      "14:39:08 - cmdstanpy - INFO - Chain [1] done processing\n",
      "14:39:08 - cmdstanpy - INFO - Chain [1] start processing\n",
      "14:39:08 - cmdstanpy - INFO - Chain [1] done processing\n"
     ]
    },
    {
     "name": "stdout",
     "output_type": "stream",
     "text": [
      "Producto 20235: 36 períodos - Procesando\n",
      "Producto 20236: 6 períodos - Procesando\n"
     ]
    },
    {
     "name": "stderr",
     "output_type": "stream",
     "text": [
      "14:39:08 - cmdstanpy - INFO - Chain [1] start processing\n",
      "14:39:10 - cmdstanpy - INFO - Chain [1] done processing\n",
      "14:39:10 - cmdstanpy - INFO - Chain [1] start processing\n"
     ]
    },
    {
     "name": "stdout",
     "output_type": "stream",
     "text": [
      "Producto 20237: 22 períodos - Procesando\n"
     ]
    },
    {
     "name": "stderr",
     "output_type": "stream",
     "text": [
      "14:39:11 - cmdstanpy - INFO - Chain [1] done processing\n",
      "14:39:11 - cmdstanpy - INFO - Chain [1] start processing\n",
      "14:39:11 - cmdstanpy - INFO - Chain [1] done processing\n"
     ]
    },
    {
     "name": "stdout",
     "output_type": "stream",
     "text": [
      "Producto 20238: 36 períodos - Procesando\n",
      "Producto 20239: 36 períodos - Procesando\n"
     ]
    },
    {
     "name": "stderr",
     "output_type": "stream",
     "text": [
      "14:39:11 - cmdstanpy - INFO - Chain [1] start processing\n",
      "14:39:12 - cmdstanpy - INFO - Chain [1] done processing\n",
      "14:39:12 - cmdstanpy - INFO - Chain [1] start processing\n",
      "14:39:12 - cmdstanpy - INFO - Chain [1] done processing\n"
     ]
    },
    {
     "name": "stdout",
     "output_type": "stream",
     "text": [
      "Producto 20240: 36 períodos - Procesando\n",
      "Producto 20241: 36 períodos - Procesando\n"
     ]
    },
    {
     "name": "stderr",
     "output_type": "stream",
     "text": [
      "14:39:12 - cmdstanpy - INFO - Chain [1] start processing\n",
      "14:39:12 - cmdstanpy - INFO - Chain [1] done processing\n",
      "14:39:12 - cmdstanpy - INFO - Chain [1] start processing\n",
      "14:39:12 - cmdstanpy - INFO - Chain [1] done processing\n"
     ]
    },
    {
     "name": "stdout",
     "output_type": "stream",
     "text": [
      "Producto 20242: 36 períodos - Procesando\n",
      "Producto 20243: 27 períodos - Procesando\n"
     ]
    },
    {
     "name": "stderr",
     "output_type": "stream",
     "text": [
      "14:39:12 - cmdstanpy - INFO - Chain [1] start processing\n",
      "14:39:12 - cmdstanpy - INFO - Chain [1] done processing\n",
      "14:39:12 - cmdstanpy - INFO - Chain [1] start processing\n",
      "14:39:12 - cmdstanpy - INFO - Chain [1] done processing\n"
     ]
    },
    {
     "name": "stdout",
     "output_type": "stream",
     "text": [
      "Producto 20244: 36 períodos - Procesando\n"
     ]
    },
    {
     "name": "stderr",
     "output_type": "stream",
     "text": [
      "14:39:12 - cmdstanpy - INFO - Chain [1] start processing\n",
      "14:39:13 - cmdstanpy - INFO - Chain [1] done processing\n"
     ]
    },
    {
     "name": "stdout",
     "output_type": "stream",
     "text": [
      "Producto 20245: 23 períodos - Procesando\n",
      "Producto 20246: 36 períodos - Procesando\n"
     ]
    },
    {
     "name": "stderr",
     "output_type": "stream",
     "text": [
      "14:39:13 - cmdstanpy - INFO - Chain [1] start processing\n",
      "14:39:13 - cmdstanpy - INFO - Chain [1] done processing\n",
      "14:39:13 - cmdstanpy - INFO - Chain [1] start processing\n"
     ]
    },
    {
     "name": "stdout",
     "output_type": "stream",
     "text": [
      "Producto 20247: 16 períodos - Procesando\n"
     ]
    },
    {
     "name": "stderr",
     "output_type": "stream",
     "text": [
      "14:39:16 - cmdstanpy - INFO - Chain [1] done processing\n",
      "14:39:16 - cmdstanpy - INFO - Chain [1] start processing\n",
      "14:39:16 - cmdstanpy - INFO - Chain [1] done processing\n"
     ]
    },
    {
     "name": "stdout",
     "output_type": "stream",
     "text": [
      "Producto 20248: 30 períodos - Procesando\n",
      "Producto 20249: 36 períodos - Procesando\n"
     ]
    },
    {
     "name": "stderr",
     "output_type": "stream",
     "text": [
      "14:39:16 - cmdstanpy - INFO - Chain [1] start processing\n",
      "14:39:16 - cmdstanpy - INFO - Chain [1] done processing\n",
      "14:39:16 - cmdstanpy - INFO - Chain [1] start processing\n",
      "14:39:16 - cmdstanpy - INFO - Chain [1] done processing\n"
     ]
    },
    {
     "name": "stdout",
     "output_type": "stream",
     "text": [
      "Producto 20250: 36 períodos - Procesando\n",
      "Producto 20251: 36 períodos - Procesando\n"
     ]
    },
    {
     "name": "stderr",
     "output_type": "stream",
     "text": [
      "14:39:16 - cmdstanpy - INFO - Chain [1] start processing\n",
      "14:39:16 - cmdstanpy - INFO - Chain [1] done processing\n",
      "14:39:16 - cmdstanpy - INFO - Chain [1] start processing\n",
      "14:39:16 - cmdstanpy - INFO - Chain [1] done processing\n"
     ]
    },
    {
     "name": "stdout",
     "output_type": "stream",
     "text": [
      "Producto 20252: 36 períodos - Procesando\n",
      "Producto 20253: 36 períodos - Procesando\n"
     ]
    },
    {
     "name": "stderr",
     "output_type": "stream",
     "text": [
      "14:39:17 - cmdstanpy - INFO - Chain [1] start processing\n",
      "14:39:17 - cmdstanpy - INFO - Chain [1] done processing\n",
      "14:39:17 - cmdstanpy - INFO - Chain [1] start processing\n",
      "14:39:17 - cmdstanpy - INFO - Chain [1] done processing\n"
     ]
    },
    {
     "name": "stdout",
     "output_type": "stream",
     "text": [
      "Producto 20254: 36 períodos - Procesando\n",
      "Producto 20255: 36 períodos - Procesando\n"
     ]
    },
    {
     "name": "stderr",
     "output_type": "stream",
     "text": [
      "14:39:17 - cmdstanpy - INFO - Chain [1] start processing\n",
      "14:39:17 - cmdstanpy - INFO - Chain [1] done processing\n",
      "14:39:17 - cmdstanpy - INFO - Chain [1] start processing\n"
     ]
    },
    {
     "name": "stdout",
     "output_type": "stream",
     "text": [
      "Producto 20256: 36 períodos - Procesando\n"
     ]
    },
    {
     "name": "stderr",
     "output_type": "stream",
     "text": [
      "14:39:17 - cmdstanpy - INFO - Chain [1] done processing\n",
      "14:39:17 - cmdstanpy - INFO - Chain [1] start processing\n",
      "14:39:17 - cmdstanpy - INFO - Chain [1] done processing\n"
     ]
    },
    {
     "name": "stdout",
     "output_type": "stream",
     "text": [
      "Producto 20257: 5 períodos - Procesando\n"
     ]
    },
    {
     "name": "stderr",
     "output_type": "stream",
     "text": [
      "14:39:18 - cmdstanpy - INFO - Chain [1] start processing\n",
      "14:39:18 - cmdstanpy - INFO - Chain [1] done processing\n"
     ]
    },
    {
     "name": "stdout",
     "output_type": "stream",
     "text": [
      "Producto 20258: 23 períodos - Procesando\n",
      "Producto 20259: 36 períodos - Procesando\n"
     ]
    },
    {
     "name": "stderr",
     "output_type": "stream",
     "text": [
      "14:39:18 - cmdstanpy - INFO - Chain [1] start processing\n",
      "14:39:18 - cmdstanpy - INFO - Chain [1] done processing\n",
      "14:39:18 - cmdstanpy - INFO - Chain [1] start processing\n"
     ]
    },
    {
     "name": "stdout",
     "output_type": "stream",
     "text": [
      "Producto 20260: 15 períodos - Procesando\n"
     ]
    },
    {
     "name": "stderr",
     "output_type": "stream",
     "text": [
      "14:39:23 - cmdstanpy - INFO - Chain [1] done processing\n",
      "14:39:23 - cmdstanpy - INFO - Chain [1] start processing\n",
      "14:39:23 - cmdstanpy - INFO - Chain [1] done processing\n"
     ]
    },
    {
     "name": "stdout",
     "output_type": "stream",
     "text": [
      "Producto 20261: 6 períodos - Procesando\n",
      "Producto 20262: 21 períodos - Procesando\n"
     ]
    },
    {
     "name": "stderr",
     "output_type": "stream",
     "text": [
      "14:39:23 - cmdstanpy - INFO - Chain [1] start processing\n",
      "14:39:30 - cmdstanpy - INFO - Chain [1] done processing\n",
      "14:39:30 - cmdstanpy - INFO - Chain [1] start processing\n",
      "14:39:30 - cmdstanpy - INFO - Chain [1] done processing\n"
     ]
    },
    {
     "name": "stdout",
     "output_type": "stream",
     "text": [
      "Producto 20263: 36 períodos - Procesando\n",
      "Producto 20264: 36 períodos - Procesando\n"
     ]
    },
    {
     "name": "stderr",
     "output_type": "stream",
     "text": [
      "14:39:30 - cmdstanpy - INFO - Chain [1] start processing\n",
      "14:39:30 - cmdstanpy - INFO - Chain [1] done processing\n",
      "14:39:30 - cmdstanpy - INFO - Chain [1] start processing\n",
      "14:39:30 - cmdstanpy - INFO - Chain [1] done processing\n"
     ]
    },
    {
     "name": "stdout",
     "output_type": "stream",
     "text": [
      "Producto 20265: 36 períodos - Procesando\n",
      "Producto 20266: 20 períodos - Procesando\n"
     ]
    },
    {
     "name": "stderr",
     "output_type": "stream",
     "text": [
      "14:39:30 - cmdstanpy - INFO - Chain [1] start processing\n",
      "14:39:37 - cmdstanpy - INFO - Chain [1] done processing\n",
      "14:39:37 - cmdstanpy - INFO - Chain [1] start processing\n",
      "14:39:37 - cmdstanpy - INFO - Chain [1] done processing\n"
     ]
    },
    {
     "name": "stdout",
     "output_type": "stream",
     "text": [
      "Producto 20267: 36 períodos - Procesando\n"
     ]
    },
    {
     "name": "stderr",
     "output_type": "stream",
     "text": [
      "14:39:37 - cmdstanpy - INFO - Chain [1] start processing\n",
      "14:39:37 - cmdstanpy - INFO - Chain [1] done processing\n"
     ]
    },
    {
     "name": "stdout",
     "output_type": "stream",
     "text": [
      "Producto 20268: 36 períodos - Procesando\n",
      "Producto 20269: 36 períodos - Procesando\n"
     ]
    },
    {
     "name": "stderr",
     "output_type": "stream",
     "text": [
      "14:39:37 - cmdstanpy - INFO - Chain [1] start processing\n",
      "14:39:37 - cmdstanpy - INFO - Chain [1] done processing\n",
      "14:39:38 - cmdstanpy - INFO - Chain [1] start processing\n",
      "14:39:38 - cmdstanpy - INFO - Chain [1] done processing\n"
     ]
    },
    {
     "name": "stdout",
     "output_type": "stream",
     "text": [
      "Producto 20270: 36 períodos - Procesando\n",
      "Producto 20271: 36 períodos - Procesando\n"
     ]
    },
    {
     "name": "stderr",
     "output_type": "stream",
     "text": [
      "14:39:38 - cmdstanpy - INFO - Chain [1] start processing\n",
      "14:39:38 - cmdstanpy - INFO - Chain [1] done processing\n",
      "14:39:38 - cmdstanpy - INFO - Chain [1] start processing\n",
      "14:39:38 - cmdstanpy - INFO - Chain [1] done processing\n"
     ]
    },
    {
     "name": "stdout",
     "output_type": "stream",
     "text": [
      "Producto 20272: 36 períodos - Procesando\n",
      "Producto 20273: 36 períodos - Procesando\n"
     ]
    },
    {
     "name": "stderr",
     "output_type": "stream",
     "text": [
      "14:39:38 - cmdstanpy - INFO - Chain [1] start processing\n",
      "14:39:38 - cmdstanpy - INFO - Chain [1] done processing\n",
      "14:39:38 - cmdstanpy - INFO - Chain [1] start processing\n",
      "14:39:38 - cmdstanpy - INFO - Chain [1] done processing\n"
     ]
    },
    {
     "name": "stdout",
     "output_type": "stream",
     "text": [
      "Producto 20274: 25 períodos - Procesando\n",
      "Producto 20275: 36 períodos - Procesando\n"
     ]
    },
    {
     "name": "stderr",
     "output_type": "stream",
     "text": [
      "14:39:38 - cmdstanpy - INFO - Chain [1] start processing\n",
      "14:39:38 - cmdstanpy - INFO - Chain [1] done processing\n",
      "14:39:39 - cmdstanpy - INFO - Chain [1] start processing\n"
     ]
    },
    {
     "name": "stdout",
     "output_type": "stream",
     "text": [
      "Producto 20276: 36 períodos - Procesando\n"
     ]
    },
    {
     "name": "stderr",
     "output_type": "stream",
     "text": [
      "14:39:39 - cmdstanpy - INFO - Chain [1] done processing\n",
      "14:39:39 - cmdstanpy - INFO - Chain [1] start processing\n",
      "14:39:39 - cmdstanpy - INFO - Chain [1] done processing\n"
     ]
    },
    {
     "name": "stdout",
     "output_type": "stream",
     "text": [
      "Producto 20277: 36 períodos - Procesando\n",
      "Producto 20278: 36 períodos - Procesando\n"
     ]
    },
    {
     "name": "stderr",
     "output_type": "stream",
     "text": [
      "14:39:39 - cmdstanpy - INFO - Chain [1] start processing\n",
      "14:39:39 - cmdstanpy - INFO - Chain [1] done processing\n",
      "14:39:39 - cmdstanpy - INFO - Chain [1] start processing\n",
      "14:39:39 - cmdstanpy - INFO - Chain [1] done processing\n"
     ]
    },
    {
     "name": "stdout",
     "output_type": "stream",
     "text": [
      "Producto 20280: 36 períodos - Procesando\n",
      "Producto 20281: 36 períodos - Procesando\n"
     ]
    },
    {
     "name": "stderr",
     "output_type": "stream",
     "text": [
      "14:39:39 - cmdstanpy - INFO - Chain [1] start processing\n",
      "14:39:39 - cmdstanpy - INFO - Chain [1] done processing\n",
      "14:39:40 - cmdstanpy - INFO - Chain [1] start processing\n"
     ]
    },
    {
     "name": "stdout",
     "output_type": "stream",
     "text": [
      "Producto 20282: 36 períodos - Procesando\n"
     ]
    },
    {
     "name": "stderr",
     "output_type": "stream",
     "text": [
      "14:39:40 - cmdstanpy - INFO - Chain [1] done processing\n",
      "14:39:40 - cmdstanpy - INFO - Chain [1] start processing\n",
      "14:39:40 - cmdstanpy - INFO - Chain [1] done processing\n"
     ]
    },
    {
     "name": "stdout",
     "output_type": "stream",
     "text": [
      "Producto 20283: 36 períodos - Procesando\n",
      "Producto 20284: 36 períodos - Procesando\n"
     ]
    },
    {
     "name": "stderr",
     "output_type": "stream",
     "text": [
      "14:39:40 - cmdstanpy - INFO - Chain [1] start processing\n",
      "14:39:40 - cmdstanpy - INFO - Chain [1] done processing\n",
      "14:39:40 - cmdstanpy - INFO - Chain [1] start processing\n",
      "14:39:40 - cmdstanpy - INFO - Chain [1] done processing\n"
     ]
    },
    {
     "name": "stdout",
     "output_type": "stream",
     "text": [
      "Producto 20285: 36 períodos - Procesando\n"
     ]
    },
    {
     "name": "stderr",
     "output_type": "stream",
     "text": [
      "14:39:40 - cmdstanpy - INFO - Chain [1] start processing\n",
      "14:39:40 - cmdstanpy - INFO - Chain [1] done processing\n"
     ]
    },
    {
     "name": "stdout",
     "output_type": "stream",
     "text": [
      "Producto 20286: 10 períodos - Procesando\n",
      "Producto 20287: 29 períodos - Procesando\n"
     ]
    },
    {
     "name": "stderr",
     "output_type": "stream",
     "text": [
      "14:39:41 - cmdstanpy - INFO - Chain [1] start processing\n",
      "14:39:41 - cmdstanpy - INFO - Chain [1] done processing\n",
      "14:39:41 - cmdstanpy - INFO - Chain [1] start processing\n",
      "14:39:41 - cmdstanpy - INFO - Chain [1] done processing\n"
     ]
    },
    {
     "name": "stdout",
     "output_type": "stream",
     "text": [
      "Producto 20288: 36 períodos - Procesando\n"
     ]
    },
    {
     "name": "stderr",
     "output_type": "stream",
     "text": [
      "14:39:41 - cmdstanpy - INFO - Chain [1] start processing\n",
      "14:39:41 - cmdstanpy - INFO - Chain [1] done processing\n"
     ]
    },
    {
     "name": "stdout",
     "output_type": "stream",
     "text": [
      "Producto 20289: 36 períodos - Procesando\n",
      "Producto 20290: 36 períodos - Procesando\n"
     ]
    },
    {
     "name": "stderr",
     "output_type": "stream",
     "text": [
      "14:39:41 - cmdstanpy - INFO - Chain [1] start processing\n",
      "14:39:41 - cmdstanpy - INFO - Chain [1] done processing\n",
      "14:39:41 - cmdstanpy - INFO - Chain [1] start processing\n"
     ]
    },
    {
     "name": "stdout",
     "output_type": "stream",
     "text": [
      "Producto 20291: 36 períodos - Procesando\n"
     ]
    },
    {
     "name": "stderr",
     "output_type": "stream",
     "text": [
      "14:39:41 - cmdstanpy - INFO - Chain [1] done processing\n",
      "14:39:42 - cmdstanpy - INFO - Chain [1] start processing\n",
      "14:39:42 - cmdstanpy - INFO - Chain [1] done processing\n"
     ]
    },
    {
     "name": "stdout",
     "output_type": "stream",
     "text": [
      "Producto 20292: 36 períodos - Procesando\n"
     ]
    },
    {
     "name": "stderr",
     "output_type": "stream",
     "text": [
      "14:39:42 - cmdstanpy - INFO - Chain [1] start processing\n",
      "14:39:42 - cmdstanpy - INFO - Chain [1] done processing\n"
     ]
    },
    {
     "name": "stdout",
     "output_type": "stream",
     "text": [
      "Producto 20293: 29 períodos - Procesando\n",
      "Producto 20294: 23 períodos - Procesando\n"
     ]
    },
    {
     "name": "stderr",
     "output_type": "stream",
     "text": [
      "14:39:42 - cmdstanpy - INFO - Chain [1] start processing\n",
      "14:39:42 - cmdstanpy - INFO - Chain [1] done processing\n",
      "14:39:42 - cmdstanpy - INFO - Chain [1] start processing\n",
      "14:39:42 - cmdstanpy - INFO - Chain [1] done processing\n"
     ]
    },
    {
     "name": "stdout",
     "output_type": "stream",
     "text": [
      "Producto 20295: 36 períodos - Procesando\n",
      "Producto 20296: 36 períodos - Procesando\n"
     ]
    },
    {
     "name": "stderr",
     "output_type": "stream",
     "text": [
      "14:39:42 - cmdstanpy - INFO - Chain [1] start processing\n",
      "14:39:42 - cmdstanpy - INFO - Chain [1] done processing\n",
      "14:39:42 - cmdstanpy - INFO - Chain [1] start processing\n",
      "14:39:42 - cmdstanpy - INFO - Chain [1] done processing\n",
      "14:39:43 - cmdstanpy - INFO - Chain [1] start processing\n"
     ]
    },
    {
     "name": "stdout",
     "output_type": "stream",
     "text": [
      "Producto 20297: 26 períodos - Procesando\n",
      "Producto 20298: 30 períodos - Procesando\n"
     ]
    },
    {
     "name": "stderr",
     "output_type": "stream",
     "text": [
      "14:39:43 - cmdstanpy - INFO - Chain [1] done processing\n",
      "14:39:43 - cmdstanpy - INFO - Chain [1] start processing\n",
      "14:39:43 - cmdstanpy - INFO - Chain [1] done processing\n",
      "14:39:43 - cmdstanpy - INFO - Chain [1] start processing\n"
     ]
    },
    {
     "name": "stdout",
     "output_type": "stream",
     "text": [
      "Producto 20299: 36 períodos - Procesando\n",
      "Producto 20300: 36 períodos - Procesando\n"
     ]
    },
    {
     "name": "stderr",
     "output_type": "stream",
     "text": [
      "14:39:43 - cmdstanpy - INFO - Chain [1] done processing\n",
      "14:39:43 - cmdstanpy - INFO - Chain [1] start processing\n",
      "14:39:43 - cmdstanpy - INFO - Chain [1] done processing\n"
     ]
    },
    {
     "name": "stdout",
     "output_type": "stream",
     "text": [
      "Producto 20301: 36 períodos - Procesando\n",
      "Producto 20302: 36 períodos - Procesando\n"
     ]
    },
    {
     "name": "stderr",
     "output_type": "stream",
     "text": [
      "14:39:43 - cmdstanpy - INFO - Chain [1] start processing\n",
      "14:39:43 - cmdstanpy - INFO - Chain [1] done processing\n",
      "14:39:43 - cmdstanpy - INFO - Chain [1] start processing\n",
      "14:39:43 - cmdstanpy - INFO - Chain [1] done processing\n",
      "14:39:44 - cmdstanpy - INFO - Chain [1] start processing\n"
     ]
    },
    {
     "name": "stdout",
     "output_type": "stream",
     "text": [
      "Producto 20303: 36 períodos - Procesando\n",
      "Producto 20304: 36 períodos - Procesando\n"
     ]
    },
    {
     "name": "stderr",
     "output_type": "stream",
     "text": [
      "14:39:44 - cmdstanpy - INFO - Chain [1] done processing\n",
      "14:39:44 - cmdstanpy - INFO - Chain [1] start processing\n",
      "14:39:44 - cmdstanpy - INFO - Chain [1] done processing\n"
     ]
    },
    {
     "name": "stdout",
     "output_type": "stream",
     "text": [
      "Producto 20305: 36 períodos - Procesando\n",
      "Producto 20306: 26 períodos - Procesando\n"
     ]
    },
    {
     "name": "stderr",
     "output_type": "stream",
     "text": [
      "14:39:44 - cmdstanpy - INFO - Chain [1] start processing\n",
      "14:39:44 - cmdstanpy - INFO - Chain [1] done processing\n",
      "14:39:44 - cmdstanpy - INFO - Chain [1] start processing\n",
      "14:39:44 - cmdstanpy - INFO - Chain [1] done processing\n"
     ]
    },
    {
     "name": "stdout",
     "output_type": "stream",
     "text": [
      "Producto 20307: 36 períodos - Procesando\n"
     ]
    },
    {
     "name": "stderr",
     "output_type": "stream",
     "text": [
      "14:39:44 - cmdstanpy - INFO - Chain [1] start processing\n",
      "14:39:44 - cmdstanpy - INFO - Chain [1] done processing\n"
     ]
    },
    {
     "name": "stdout",
     "output_type": "stream",
     "text": [
      "Producto 20308: 36 períodos - Procesando\n",
      "Producto 20309: 36 períodos - Procesando\n"
     ]
    },
    {
     "name": "stderr",
     "output_type": "stream",
     "text": [
      "14:39:44 - cmdstanpy - INFO - Chain [1] start processing\n",
      "14:39:45 - cmdstanpy - INFO - Chain [1] done processing\n",
      "14:39:45 - cmdstanpy - INFO - Chain [1] start processing\n",
      "14:39:45 - cmdstanpy - INFO - Chain [1] done processing\n"
     ]
    },
    {
     "name": "stdout",
     "output_type": "stream",
     "text": [
      "Producto 20310: 36 períodos - Procesando\n"
     ]
    },
    {
     "name": "stderr",
     "output_type": "stream",
     "text": [
      "14:39:45 - cmdstanpy - INFO - Chain [1] start processing\n",
      "14:39:45 - cmdstanpy - INFO - Chain [1] done processing\n"
     ]
    },
    {
     "name": "stdout",
     "output_type": "stream",
     "text": [
      "Producto 20311: 36 períodos - Procesando\n",
      "Producto 20312: 36 períodos - Procesando\n"
     ]
    },
    {
     "name": "stderr",
     "output_type": "stream",
     "text": [
      "14:39:45 - cmdstanpy - INFO - Chain [1] start processing\n",
      "14:39:45 - cmdstanpy - INFO - Chain [1] done processing\n",
      "14:39:45 - cmdstanpy - INFO - Chain [1] start processing\n",
      "14:39:45 - cmdstanpy - INFO - Chain [1] done processing\n"
     ]
    },
    {
     "name": "stdout",
     "output_type": "stream",
     "text": [
      "Producto 20313: 33 períodos - Procesando\n",
      "Producto 20314: 36 períodos - Procesando\n"
     ]
    },
    {
     "name": "stderr",
     "output_type": "stream",
     "text": [
      "14:39:45 - cmdstanpy - INFO - Chain [1] start processing\n",
      "14:39:46 - cmdstanpy - INFO - Chain [1] done processing\n",
      "14:39:46 - cmdstanpy - INFO - Chain [1] start processing\n",
      "14:39:46 - cmdstanpy - INFO - Chain [1] done processing\n"
     ]
    },
    {
     "name": "stdout",
     "output_type": "stream",
     "text": [
      "Producto 20315: 36 períodos - Procesando\n",
      "Producto 20316: 36 períodos - Procesando\n"
     ]
    },
    {
     "name": "stderr",
     "output_type": "stream",
     "text": [
      "14:39:46 - cmdstanpy - INFO - Chain [1] start processing\n",
      "14:39:46 - cmdstanpy - INFO - Chain [1] done processing\n",
      "14:39:46 - cmdstanpy - INFO - Chain [1] start processing\n",
      "14:39:46 - cmdstanpy - INFO - Chain [1] done processing\n"
     ]
    },
    {
     "name": "stdout",
     "output_type": "stream",
     "text": [
      "Producto 20317: 36 períodos - Procesando\n",
      "Producto 20318: 24 períodos - Procesando\n"
     ]
    },
    {
     "name": "stderr",
     "output_type": "stream",
     "text": [
      "14:39:46 - cmdstanpy - INFO - Chain [1] start processing\n",
      "14:39:46 - cmdstanpy - INFO - Chain [1] done processing\n",
      "14:39:46 - cmdstanpy - INFO - Chain [1] start processing\n",
      "14:39:46 - cmdstanpy - INFO - Chain [1] done processing\n"
     ]
    },
    {
     "name": "stdout",
     "output_type": "stream",
     "text": [
      "Producto 20319: 31 períodos - Procesando\n",
      "Producto 20320: 36 períodos - Procesando\n"
     ]
    },
    {
     "name": "stderr",
     "output_type": "stream",
     "text": [
      "14:39:47 - cmdstanpy - INFO - Chain [1] start processing\n",
      "14:39:47 - cmdstanpy - INFO - Chain [1] done processing\n",
      "14:39:47 - cmdstanpy - INFO - Chain [1] start processing\n",
      "14:39:47 - cmdstanpy - INFO - Chain [1] done processing\n"
     ]
    },
    {
     "name": "stdout",
     "output_type": "stream",
     "text": [
      "Producto 20321: 36 períodos - Procesando\n",
      "Producto 20322: 36 períodos - Procesando\n"
     ]
    },
    {
     "name": "stderr",
     "output_type": "stream",
     "text": [
      "14:39:47 - cmdstanpy - INFO - Chain [1] start processing\n",
      "14:39:47 - cmdstanpy - INFO - Chain [1] done processing\n",
      "14:39:47 - cmdstanpy - INFO - Chain [1] start processing\n",
      "14:39:47 - cmdstanpy - INFO - Chain [1] done processing\n"
     ]
    },
    {
     "name": "stdout",
     "output_type": "stream",
     "text": [
      "Producto 20323: 26 períodos - Procesando\n",
      "Producto 20324: 36 períodos - Procesando\n"
     ]
    },
    {
     "name": "stderr",
     "output_type": "stream",
     "text": [
      "14:39:47 - cmdstanpy - INFO - Chain [1] start processing\n",
      "14:39:48 - cmdstanpy - INFO - Chain [1] done processing\n",
      "14:39:48 - cmdstanpy - INFO - Chain [1] start processing\n"
     ]
    },
    {
     "name": "stdout",
     "output_type": "stream",
     "text": [
      "Producto 20325: 36 períodos - Procesando\n"
     ]
    },
    {
     "name": "stderr",
     "output_type": "stream",
     "text": [
      "14:39:48 - cmdstanpy - INFO - Chain [1] done processing\n",
      "14:39:48 - cmdstanpy - INFO - Chain [1] start processing\n"
     ]
    },
    {
     "name": "stdout",
     "output_type": "stream",
     "text": [
      "Producto 20326: 36 períodos - Procesando\n"
     ]
    },
    {
     "name": "stderr",
     "output_type": "stream",
     "text": [
      "14:39:48 - cmdstanpy - INFO - Chain [1] done processing\n",
      "14:39:48 - cmdstanpy - INFO - Chain [1] start processing\n",
      "14:39:48 - cmdstanpy - INFO - Chain [1] done processing\n"
     ]
    },
    {
     "name": "stdout",
     "output_type": "stream",
     "text": [
      "Producto 20327: 36 períodos - Procesando\n",
      "Producto 20328: 36 períodos - Procesando\n"
     ]
    },
    {
     "name": "stderr",
     "output_type": "stream",
     "text": [
      "14:39:48 - cmdstanpy - INFO - Chain [1] start processing\n",
      "14:39:48 - cmdstanpy - INFO - Chain [1] done processing\n",
      "14:39:48 - cmdstanpy - INFO - Chain [1] start processing\n",
      "14:39:48 - cmdstanpy - INFO - Chain [1] done processing\n"
     ]
    },
    {
     "name": "stdout",
     "output_type": "stream",
     "text": [
      "Producto 20329: 36 períodos - Procesando\n",
      "Producto 20330: 36 períodos - Procesando\n"
     ]
    },
    {
     "name": "stderr",
     "output_type": "stream",
     "text": [
      "14:39:49 - cmdstanpy - INFO - Chain [1] start processing\n",
      "14:39:49 - cmdstanpy - INFO - Chain [1] done processing\n",
      "14:39:49 - cmdstanpy - INFO - Chain [1] start processing\n"
     ]
    },
    {
     "name": "stdout",
     "output_type": "stream",
     "text": [
      "Producto 20331: 22 períodos - Procesando\n"
     ]
    },
    {
     "name": "stderr",
     "output_type": "stream",
     "text": [
      "14:39:50 - cmdstanpy - INFO - Chain [1] done processing\n",
      "14:39:50 - cmdstanpy - INFO - Chain [1] start processing\n",
      "14:39:50 - cmdstanpy - INFO - Chain [1] done processing\n"
     ]
    },
    {
     "name": "stdout",
     "output_type": "stream",
     "text": [
      "Producto 20332: 36 períodos - Procesando\n",
      "Producto 20333: 16 períodos - Procesando\n"
     ]
    },
    {
     "name": "stderr",
     "output_type": "stream",
     "text": [
      "14:39:50 - cmdstanpy - INFO - Chain [1] start processing\n",
      "14:39:55 - cmdstanpy - INFO - Chain [1] done processing\n",
      "14:39:55 - cmdstanpy - INFO - Chain [1] start processing\n",
      "14:39:55 - cmdstanpy - INFO - Chain [1] done processing\n",
      "14:39:55 - cmdstanpy - INFO - Chain [1] start processing\n"
     ]
    },
    {
     "name": "stdout",
     "output_type": "stream",
     "text": [
      "Producto 20334: 27 períodos - Procesando\n",
      "Producto 20335: 36 períodos - Procesando\n"
     ]
    },
    {
     "name": "stderr",
     "output_type": "stream",
     "text": [
      "14:39:56 - cmdstanpy - INFO - Chain [1] done processing\n",
      "14:39:56 - cmdstanpy - INFO - Chain [1] start processing\n",
      "14:39:56 - cmdstanpy - INFO - Chain [1] done processing\n"
     ]
    },
    {
     "name": "stdout",
     "output_type": "stream",
     "text": [
      "Producto 20336: 36 períodos - Procesando\n",
      "Producto 20337: 27 períodos - Procesando\n"
     ]
    },
    {
     "name": "stderr",
     "output_type": "stream",
     "text": [
      "14:39:56 - cmdstanpy - INFO - Chain [1] start processing\n",
      "14:39:56 - cmdstanpy - INFO - Chain [1] done processing\n",
      "14:39:56 - cmdstanpy - INFO - Chain [1] start processing\n",
      "14:39:56 - cmdstanpy - INFO - Chain [1] done processing\n"
     ]
    },
    {
     "name": "stdout",
     "output_type": "stream",
     "text": [
      "Producto 20338: 36 períodos - Procesando\n",
      "Producto 20339: 22 períodos - Procesando\n"
     ]
    },
    {
     "name": "stderr",
     "output_type": "stream",
     "text": [
      "14:39:56 - cmdstanpy - INFO - Chain [1] start processing\n",
      "14:39:57 - cmdstanpy - INFO - Chain [1] done processing\n",
      "14:39:57 - cmdstanpy - INFO - Chain [1] start processing\n",
      "14:39:58 - cmdstanpy - INFO - Chain [1] done processing\n"
     ]
    },
    {
     "name": "stdout",
     "output_type": "stream",
     "text": [
      "Producto 20340: 27 períodos - Procesando\n",
      "Producto 20341: 36 períodos - Procesando\n"
     ]
    },
    {
     "name": "stderr",
     "output_type": "stream",
     "text": [
      "14:39:58 - cmdstanpy - INFO - Chain [1] start processing\n",
      "14:39:58 - cmdstanpy - INFO - Chain [1] done processing\n",
      "14:39:58 - cmdstanpy - INFO - Chain [1] start processing\n",
      "14:39:58 - cmdstanpy - INFO - Chain [1] done processing\n"
     ]
    },
    {
     "name": "stdout",
     "output_type": "stream",
     "text": [
      "Producto 20342: 36 períodos - Procesando\n",
      "Producto 20343: 30 períodos - Procesando\n"
     ]
    },
    {
     "name": "stderr",
     "output_type": "stream",
     "text": [
      "14:39:58 - cmdstanpy - INFO - Chain [1] start processing\n",
      "14:39:58 - cmdstanpy - INFO - Chain [1] done processing\n",
      "14:39:58 - cmdstanpy - INFO - Chain [1] start processing\n",
      "14:39:58 - cmdstanpy - INFO - Chain [1] done processing\n"
     ]
    },
    {
     "name": "stdout",
     "output_type": "stream",
     "text": [
      "Producto 20344: 26 períodos - Procesando\n",
      "Producto 20345: 36 períodos - Procesando\n"
     ]
    },
    {
     "name": "stderr",
     "output_type": "stream",
     "text": [
      "14:39:58 - cmdstanpy - INFO - Chain [1] start processing\n",
      "14:39:58 - cmdstanpy - INFO - Chain [1] done processing\n",
      "14:39:59 - cmdstanpy - INFO - Chain [1] start processing\n",
      "14:39:59 - cmdstanpy - INFO - Chain [1] done processing\n"
     ]
    },
    {
     "name": "stdout",
     "output_type": "stream",
     "text": [
      "Producto 20346: 36 períodos - Procesando\n",
      "Producto 20347: 22 períodos - Procesando\n"
     ]
    },
    {
     "name": "stderr",
     "output_type": "stream",
     "text": [
      "14:39:59 - cmdstanpy - INFO - Chain [1] start processing\n",
      "14:39:59 - cmdstanpy - INFO - Chain [1] done processing\n",
      "14:40:00 - cmdstanpy - INFO - Chain [1] start processing\n",
      "14:40:00 - cmdstanpy - INFO - Chain [1] done processing\n"
     ]
    },
    {
     "name": "stdout",
     "output_type": "stream",
     "text": [
      "Producto 20348: 26 períodos - Procesando\n",
      "Producto 20349: 36 períodos - Procesando\n"
     ]
    },
    {
     "name": "stderr",
     "output_type": "stream",
     "text": [
      "14:40:00 - cmdstanpy - INFO - Chain [1] start processing\n",
      "14:40:00 - cmdstanpy - INFO - Chain [1] done processing\n",
      "14:40:00 - cmdstanpy - INFO - Chain [1] start processing\n",
      "14:40:00 - cmdstanpy - INFO - Chain [1] done processing\n"
     ]
    },
    {
     "name": "stdout",
     "output_type": "stream",
     "text": [
      "Producto 20350: 36 períodos - Procesando\n",
      "Producto 20351: 21 períodos - Procesando\n"
     ]
    },
    {
     "name": "stderr",
     "output_type": "stream",
     "text": [
      "14:40:00 - cmdstanpy - INFO - Chain [1] start processing\n",
      "14:40:04 - cmdstanpy - INFO - Chain [1] done processing\n",
      "14:40:04 - cmdstanpy - INFO - Chain [1] start processing\n",
      "14:40:04 - cmdstanpy - INFO - Chain [1] done processing\n"
     ]
    },
    {
     "name": "stdout",
     "output_type": "stream",
     "text": [
      "Producto 20352: 36 períodos - Procesando\n",
      "Producto 20353: 36 períodos - Procesando\n"
     ]
    },
    {
     "name": "stderr",
     "output_type": "stream",
     "text": [
      "14:40:04 - cmdstanpy - INFO - Chain [1] start processing\n",
      "14:40:04 - cmdstanpy - INFO - Chain [1] done processing\n",
      "14:40:04 - cmdstanpy - INFO - Chain [1] start processing\n",
      "14:40:04 - cmdstanpy - INFO - Chain [1] done processing\n"
     ]
    },
    {
     "name": "stdout",
     "output_type": "stream",
     "text": [
      "Producto 20354: 36 períodos - Procesando\n",
      "Producto 20355: 9 períodos - Procesando\n"
     ]
    },
    {
     "name": "stderr",
     "output_type": "stream",
     "text": [
      "14:40:05 - cmdstanpy - INFO - Chain [1] start processing\n",
      "14:40:05 - cmdstanpy - INFO - Chain [1] done processing\n",
      "14:40:05 - cmdstanpy - INFO - Chain [1] start processing\n",
      "14:40:05 - cmdstanpy - INFO - Chain [1] done processing\n"
     ]
    },
    {
     "name": "stdout",
     "output_type": "stream",
     "text": [
      "Producto 20356: 36 períodos - Procesando\n",
      "Producto 20357: 36 períodos - Procesando\n"
     ]
    },
    {
     "name": "stderr",
     "output_type": "stream",
     "text": [
      "14:40:05 - cmdstanpy - INFO - Chain [1] start processing\n",
      "14:40:05 - cmdstanpy - INFO - Chain [1] done processing\n",
      "14:40:05 - cmdstanpy - INFO - Chain [1] start processing\n",
      "14:40:05 - cmdstanpy - INFO - Chain [1] done processing\n"
     ]
    },
    {
     "name": "stdout",
     "output_type": "stream",
     "text": [
      "Producto 20358: 36 períodos - Procesando\n",
      "Producto 20359: 36 períodos - Procesando\n"
     ]
    },
    {
     "name": "stderr",
     "output_type": "stream",
     "text": [
      "14:40:05 - cmdstanpy - INFO - Chain [1] start processing\n",
      "14:40:05 - cmdstanpy - INFO - Chain [1] done processing\n",
      "14:40:05 - cmdstanpy - INFO - Chain [1] start processing\n",
      "14:40:06 - cmdstanpy - INFO - Chain [1] done processing\n"
     ]
    },
    {
     "name": "stdout",
     "output_type": "stream",
     "text": [
      "Producto 20360: 36 períodos - Procesando\n",
      "Producto 20361: 36 períodos - Procesando\n"
     ]
    },
    {
     "name": "stderr",
     "output_type": "stream",
     "text": [
      "14:40:06 - cmdstanpy - INFO - Chain [1] start processing\n",
      "14:40:06 - cmdstanpy - INFO - Chain [1] done processing\n",
      "14:40:06 - cmdstanpy - INFO - Chain [1] start processing\n",
      "14:40:06 - cmdstanpy - INFO - Chain [1] done processing\n"
     ]
    },
    {
     "name": "stdout",
     "output_type": "stream",
     "text": [
      "Producto 20362: 36 períodos - Procesando\n",
      "Producto 20363: 28 períodos - Procesando\n"
     ]
    },
    {
     "name": "stderr",
     "output_type": "stream",
     "text": [
      "14:40:06 - cmdstanpy - INFO - Chain [1] start processing\n",
      "14:40:06 - cmdstanpy - INFO - Chain [1] done processing\n",
      "14:40:06 - cmdstanpy - INFO - Chain [1] start processing\n"
     ]
    },
    {
     "name": "stdout",
     "output_type": "stream",
     "text": [
      "Producto 20364: 20 períodos - Procesando\n"
     ]
    },
    {
     "name": "stderr",
     "output_type": "stream",
     "text": [
      "14:40:13 - cmdstanpy - INFO - Chain [1] done processing\n",
      "14:40:13 - cmdstanpy - INFO - Chain [1] start processing\n",
      "14:40:13 - cmdstanpy - INFO - Chain [1] done processing\n",
      "14:40:13 - cmdstanpy - INFO - Chain [1] start processing\n"
     ]
    },
    {
     "name": "stdout",
     "output_type": "stream",
     "text": [
      "Producto 20365: 36 períodos - Procesando\n",
      "Producto 20366: 36 períodos - Procesando\n"
     ]
    },
    {
     "name": "stderr",
     "output_type": "stream",
     "text": [
      "14:40:13 - cmdstanpy - INFO - Chain [1] done processing\n",
      "14:40:13 - cmdstanpy - INFO - Chain [1] start processing\n"
     ]
    },
    {
     "name": "stdout",
     "output_type": "stream",
     "text": [
      "Producto 20367: 36 períodos - Procesando\n"
     ]
    },
    {
     "name": "stderr",
     "output_type": "stream",
     "text": [
      "14:40:13 - cmdstanpy - INFO - Chain [1] done processing\n",
      "14:40:13 - cmdstanpy - INFO - Chain [1] start processing\n"
     ]
    },
    {
     "name": "stdout",
     "output_type": "stream",
     "text": [
      "Producto 20368: 21 períodos - Procesando\n"
     ]
    },
    {
     "name": "stderr",
     "output_type": "stream",
     "text": [
      "14:40:20 - cmdstanpy - INFO - Chain [1] done processing\n",
      "14:40:20 - cmdstanpy - INFO - Chain [1] start processing\n",
      "14:40:20 - cmdstanpy - INFO - Chain [1] done processing\n"
     ]
    },
    {
     "name": "stdout",
     "output_type": "stream",
     "text": [
      "Producto 20369: 24 períodos - Procesando\n",
      "Producto 20370: 24 períodos - Procesando\n"
     ]
    },
    {
     "name": "stderr",
     "output_type": "stream",
     "text": [
      "14:40:20 - cmdstanpy - INFO - Chain [1] start processing\n",
      "14:40:20 - cmdstanpy - INFO - Chain [1] done processing\n",
      "14:40:20 - cmdstanpy - INFO - Chain [1] start processing\n",
      "14:40:20 - cmdstanpy - INFO - Chain [1] done processing\n"
     ]
    },
    {
     "name": "stdout",
     "output_type": "stream",
     "text": [
      "Producto 20371: 27 períodos - Procesando\n"
     ]
    },
    {
     "name": "stderr",
     "output_type": "stream",
     "text": [
      "14:40:21 - cmdstanpy - INFO - Chain [1] start processing\n",
      "14:40:21 - cmdstanpy - INFO - Chain [1] done processing\n"
     ]
    },
    {
     "name": "stdout",
     "output_type": "stream",
     "text": [
      "Producto 20372: 36 períodos - Procesando\n",
      "Producto 20373: 26 períodos - Procesando\n"
     ]
    },
    {
     "name": "stderr",
     "output_type": "stream",
     "text": [
      "14:40:21 - cmdstanpy - INFO - Chain [1] start processing\n",
      "14:40:21 - cmdstanpy - INFO - Chain [1] done processing\n",
      "14:40:21 - cmdstanpy - INFO - Chain [1] start processing\n",
      "14:40:21 - cmdstanpy - INFO - Chain [1] done processing\n"
     ]
    },
    {
     "name": "stdout",
     "output_type": "stream",
     "text": [
      "Producto 20374: 36 períodos - Procesando\n",
      "Producto 20375: 36 períodos - Procesando\n"
     ]
    },
    {
     "name": "stderr",
     "output_type": "stream",
     "text": [
      "14:40:21 - cmdstanpy - INFO - Chain [1] start processing\n",
      "14:40:21 - cmdstanpy - INFO - Chain [1] done processing\n",
      "14:40:21 - cmdstanpy - INFO - Chain [1] start processing\n",
      "14:40:21 - cmdstanpy - INFO - Chain [1] done processing\n"
     ]
    },
    {
     "name": "stdout",
     "output_type": "stream",
     "text": [
      "Producto 20376: 36 períodos - Procesando\n",
      "Producto 20377: 30 períodos - Procesando\n"
     ]
    },
    {
     "name": "stderr",
     "output_type": "stream",
     "text": [
      "14:40:21 - cmdstanpy - INFO - Chain [1] start processing\n",
      "14:40:21 - cmdstanpy - INFO - Chain [1] done processing\n",
      "14:40:22 - cmdstanpy - INFO - Chain [1] start processing\n"
     ]
    },
    {
     "name": "stdout",
     "output_type": "stream",
     "text": [
      "Producto 20378: 21 períodos - Procesando\n"
     ]
    },
    {
     "name": "stderr",
     "output_type": "stream",
     "text": [
      "14:40:22 - cmdstanpy - INFO - Chain [1] done processing\n",
      "14:40:22 - cmdstanpy - INFO - Chain [1] start processing\n",
      "14:40:22 - cmdstanpy - INFO - Chain [1] done processing\n",
      "14:40:22 - cmdstanpy - INFO - Chain [1] start processing\n"
     ]
    },
    {
     "name": "stdout",
     "output_type": "stream",
     "text": [
      "Producto 20379: 36 períodos - Procesando\n",
      "Producto 20380: 36 períodos - Procesando\n"
     ]
    },
    {
     "name": "stderr",
     "output_type": "stream",
     "text": [
      "14:40:22 - cmdstanpy - INFO - Chain [1] done processing\n",
      "14:40:22 - cmdstanpy - INFO - Chain [1] start processing\n"
     ]
    },
    {
     "name": "stdout",
     "output_type": "stream",
     "text": [
      "Producto 20381: 36 períodos - Procesando\n"
     ]
    },
    {
     "name": "stderr",
     "output_type": "stream",
     "text": [
      "14:40:23 - cmdstanpy - INFO - Chain [1] done processing\n",
      "14:40:23 - cmdstanpy - INFO - Chain [1] start processing\n",
      "14:40:23 - cmdstanpy - INFO - Chain [1] done processing\n"
     ]
    },
    {
     "name": "stdout",
     "output_type": "stream",
     "text": [
      "Producto 20382: 36 períodos - Procesando\n",
      "Producto 20383: 36 períodos - Procesando\n"
     ]
    },
    {
     "name": "stderr",
     "output_type": "stream",
     "text": [
      "14:40:23 - cmdstanpy - INFO - Chain [1] start processing\n",
      "14:40:23 - cmdstanpy - INFO - Chain [1] done processing\n",
      "14:40:23 - cmdstanpy - INFO - Chain [1] start processing\n",
      "14:40:23 - cmdstanpy - INFO - Chain [1] done processing\n"
     ]
    },
    {
     "name": "stdout",
     "output_type": "stream",
     "text": [
      "Producto 20384: 36 períodos - Procesando\n",
      "Producto 20385: 36 períodos - Procesando\n"
     ]
    },
    {
     "name": "stderr",
     "output_type": "stream",
     "text": [
      "14:40:23 - cmdstanpy - INFO - Chain [1] start processing\n",
      "14:40:23 - cmdstanpy - INFO - Chain [1] done processing\n",
      "14:40:23 - cmdstanpy - INFO - Chain [1] start processing\n",
      "14:40:24 - cmdstanpy - INFO - Chain [1] done processing\n"
     ]
    },
    {
     "name": "stdout",
     "output_type": "stream",
     "text": [
      "Producto 20386: 36 períodos - Procesando\n"
     ]
    },
    {
     "name": "stderr",
     "output_type": "stream",
     "text": [
      "14:40:24 - cmdstanpy - INFO - Chain [1] start processing\n",
      "14:40:24 - cmdstanpy - INFO - Chain [1] done processing\n"
     ]
    },
    {
     "name": "stdout",
     "output_type": "stream",
     "text": [
      "Producto 20387: 26 períodos - Procesando\n",
      "Producto 20388: 36 períodos - Procesando\n"
     ]
    },
    {
     "name": "stderr",
     "output_type": "stream",
     "text": [
      "14:40:24 - cmdstanpy - INFO - Chain [1] start processing\n",
      "14:40:24 - cmdstanpy - INFO - Chain [1] done processing\n",
      "14:40:24 - cmdstanpy - INFO - Chain [1] start processing\n"
     ]
    },
    {
     "name": "stdout",
     "output_type": "stream",
     "text": [
      "Producto 20389: 20 períodos - Procesando\n"
     ]
    },
    {
     "name": "stderr",
     "output_type": "stream",
     "text": [
      "14:40:30 - cmdstanpy - INFO - Chain [1] done processing\n",
      "14:40:30 - cmdstanpy - INFO - Chain [1] start processing\n",
      "14:40:30 - cmdstanpy - INFO - Chain [1] done processing\n"
     ]
    },
    {
     "name": "stdout",
     "output_type": "stream",
     "text": [
      "Producto 20390: 31 períodos - Procesando\n",
      "Producto 20391: 24 períodos - Procesando\n"
     ]
    },
    {
     "name": "stderr",
     "output_type": "stream",
     "text": [
      "14:40:30 - cmdstanpy - INFO - Chain [1] start processing\n",
      "14:40:31 - cmdstanpy - INFO - Chain [1] done processing\n",
      "14:40:31 - cmdstanpy - INFO - Chain [1] start processing\n"
     ]
    },
    {
     "name": "stdout",
     "output_type": "stream",
     "text": [
      "Producto 20392: 22 períodos - Procesando\n"
     ]
    },
    {
     "name": "stderr",
     "output_type": "stream",
     "text": [
      "14:40:33 - cmdstanpy - INFO - Chain [1] done processing\n",
      "14:40:33 - cmdstanpy - INFO - Chain [1] start processing\n",
      "14:40:33 - cmdstanpy - INFO - Chain [1] done processing\n"
     ]
    },
    {
     "name": "stdout",
     "output_type": "stream",
     "text": [
      "Producto 20393: 25 períodos - Procesando\n",
      "Producto 20394: 36 períodos - Procesando\n"
     ]
    },
    {
     "name": "stderr",
     "output_type": "stream",
     "text": [
      "14:40:33 - cmdstanpy - INFO - Chain [1] start processing\n",
      "14:40:33 - cmdstanpy - INFO - Chain [1] done processing\n",
      "14:40:33 - cmdstanpy - INFO - Chain [1] start processing\n"
     ]
    },
    {
     "name": "stdout",
     "output_type": "stream",
     "text": [
      "Producto 20395: 22 períodos - Procesando\n"
     ]
    },
    {
     "name": "stderr",
     "output_type": "stream",
     "text": [
      "14:40:40 - cmdstanpy - INFO - Chain [1] done processing\n",
      "14:40:40 - cmdstanpy - INFO - Chain [1] start processing\n",
      "14:40:40 - cmdstanpy - INFO - Chain [1] done processing\n"
     ]
    },
    {
     "name": "stdout",
     "output_type": "stream",
     "text": [
      "Producto 20396: 36 períodos - Procesando\n",
      "Producto 20397: 31 períodos - Procesando\n"
     ]
    },
    {
     "name": "stderr",
     "output_type": "stream",
     "text": [
      "14:40:40 - cmdstanpy - INFO - Chain [1] start processing\n",
      "14:40:40 - cmdstanpy - INFO - Chain [1] done processing\n",
      "14:40:40 - cmdstanpy - INFO - Chain [1] start processing\n",
      "14:40:41 - cmdstanpy - INFO - Chain [1] done processing\n"
     ]
    },
    {
     "name": "stdout",
     "output_type": "stream",
     "text": [
      "Producto 20398: 36 períodos - Procesando\n",
      "Producto 20399: 36 períodos - Procesando\n"
     ]
    },
    {
     "name": "stderr",
     "output_type": "stream",
     "text": [
      "14:40:41 - cmdstanpy - INFO - Chain [1] start processing\n",
      "14:40:41 - cmdstanpy - INFO - Chain [1] done processing\n",
      "14:40:41 - cmdstanpy - INFO - Chain [1] start processing\n",
      "14:40:41 - cmdstanpy - INFO - Chain [1] done processing\n"
     ]
    },
    {
     "name": "stdout",
     "output_type": "stream",
     "text": [
      "Producto 20400: 36 períodos - Procesando\n",
      "Producto 20401: 36 períodos - Procesando\n"
     ]
    },
    {
     "name": "stderr",
     "output_type": "stream",
     "text": [
      "14:40:41 - cmdstanpy - INFO - Chain [1] start processing\n",
      "14:40:41 - cmdstanpy - INFO - Chain [1] done processing\n",
      "14:40:41 - cmdstanpy - INFO - Chain [1] start processing\n",
      "14:40:41 - cmdstanpy - INFO - Chain [1] done processing\n"
     ]
    },
    {
     "name": "stdout",
     "output_type": "stream",
     "text": [
      "Producto 20402: 28 períodos - Procesando\n",
      "Producto 20403: 26 períodos - Procesando\n"
     ]
    },
    {
     "name": "stderr",
     "output_type": "stream",
     "text": [
      "14:40:41 - cmdstanpy - INFO - Chain [1] start processing\n",
      "14:40:42 - cmdstanpy - INFO - Chain [1] done processing\n",
      "14:40:42 - cmdstanpy - INFO - Chain [1] start processing\n",
      "14:40:42 - cmdstanpy - INFO - Chain [1] done processing\n"
     ]
    },
    {
     "name": "stdout",
     "output_type": "stream",
     "text": [
      "Producto 20404: 36 períodos - Procesando\n",
      "Producto 20405: 28 períodos - Procesando\n"
     ]
    },
    {
     "name": "stderr",
     "output_type": "stream",
     "text": [
      "14:40:42 - cmdstanpy - INFO - Chain [1] start processing\n",
      "14:40:42 - cmdstanpy - INFO - Chain [1] done processing\n",
      "14:40:42 - cmdstanpy - INFO - Chain [1] start processing\n",
      "14:40:42 - cmdstanpy - INFO - Chain [1] done processing\n"
     ]
    },
    {
     "name": "stdout",
     "output_type": "stream",
     "text": [
      "Producto 20406: 36 períodos - Procesando\n",
      "Producto 20407: 36 períodos - Procesando\n"
     ]
    },
    {
     "name": "stderr",
     "output_type": "stream",
     "text": [
      "14:40:42 - cmdstanpy - INFO - Chain [1] start processing\n",
      "14:40:42 - cmdstanpy - INFO - Chain [1] done processing\n",
      "14:40:42 - cmdstanpy - INFO - Chain [1] start processing\n"
     ]
    },
    {
     "name": "stdout",
     "output_type": "stream",
     "text": [
      "Producto 20408: 15 períodos - Procesando\n"
     ]
    },
    {
     "name": "stderr",
     "output_type": "stream",
     "text": [
      "14:40:47 - cmdstanpy - INFO - Chain [1] done processing\n",
      "14:40:47 - cmdstanpy - INFO - Chain [1] start processing\n",
      "14:40:48 - cmdstanpy - INFO - Chain [1] done processing\n"
     ]
    },
    {
     "name": "stdout",
     "output_type": "stream",
     "text": [
      "Producto 20409: 36 períodos - Procesando\n"
     ]
    },
    {
     "name": "stderr",
     "output_type": "stream",
     "text": [
      "14:40:48 - cmdstanpy - INFO - Chain [1] start processing\n",
      "14:40:48 - cmdstanpy - INFO - Chain [1] done processing\n"
     ]
    },
    {
     "name": "stdout",
     "output_type": "stream",
     "text": [
      "Producto 20410: 36 períodos - Procesando\n"
     ]
    },
    {
     "name": "stderr",
     "output_type": "stream",
     "text": [
      "14:40:48 - cmdstanpy - INFO - Chain [1] start processing\n",
      "14:40:48 - cmdstanpy - INFO - Chain [1] done processing\n"
     ]
    },
    {
     "name": "stdout",
     "output_type": "stream",
     "text": [
      "Producto 20411: 36 períodos - Procesando\n",
      "Producto 20412: 36 períodos - Procesando\n"
     ]
    },
    {
     "name": "stderr",
     "output_type": "stream",
     "text": [
      "14:40:48 - cmdstanpy - INFO - Chain [1] start processing\n",
      "14:40:48 - cmdstanpy - INFO - Chain [1] done processing\n",
      "14:40:48 - cmdstanpy - INFO - Chain [1] start processing\n",
      "14:40:48 - cmdstanpy - INFO - Chain [1] done processing\n",
      "14:40:48 - cmdstanpy - INFO - Chain [1] start processing\n"
     ]
    },
    {
     "name": "stdout",
     "output_type": "stream",
     "text": [
      "Producto 20413: 36 períodos - Procesando\n",
      "Producto 20414: 9 períodos - Procesando\n"
     ]
    },
    {
     "name": "stderr",
     "output_type": "stream",
     "text": [
      "14:40:49 - cmdstanpy - INFO - Chain [1] done processing\n",
      "14:40:49 - cmdstanpy - INFO - Chain [1] start processing\n",
      "14:40:49 - cmdstanpy - INFO - Chain [1] done processing\n"
     ]
    },
    {
     "name": "stdout",
     "output_type": "stream",
     "text": [
      "Producto 20415: 31 períodos - Procesando\n",
      "Producto 20416: 36 períodos - Procesando\n"
     ]
    },
    {
     "name": "stderr",
     "output_type": "stream",
     "text": [
      "14:40:49 - cmdstanpy - INFO - Chain [1] start processing\n",
      "14:40:49 - cmdstanpy - INFO - Chain [1] done processing\n",
      "14:40:49 - cmdstanpy - INFO - Chain [1] start processing\n",
      "14:40:49 - cmdstanpy - INFO - Chain [1] done processing\n"
     ]
    },
    {
     "name": "stdout",
     "output_type": "stream",
     "text": [
      "Producto 20417: 30 períodos - Procesando\n",
      "Producto 20418: 36 períodos - Procesando\n"
     ]
    },
    {
     "name": "stderr",
     "output_type": "stream",
     "text": [
      "14:40:49 - cmdstanpy - INFO - Chain [1] start processing\n",
      "14:40:49 - cmdstanpy - INFO - Chain [1] done processing\n",
      "14:40:49 - cmdstanpy - INFO - Chain [1] start processing\n",
      "14:40:50 - cmdstanpy - INFO - Chain [1] done processing\n"
     ]
    },
    {
     "name": "stdout",
     "output_type": "stream",
     "text": [
      "Producto 20419: 36 períodos - Procesando\n",
      "Producto 20420: 29 períodos - Procesando\n"
     ]
    },
    {
     "name": "stderr",
     "output_type": "stream",
     "text": [
      "14:40:50 - cmdstanpy - INFO - Chain [1] start processing\n",
      "14:40:50 - cmdstanpy - INFO - Chain [1] done processing\n",
      "14:40:50 - cmdstanpy - INFO - Chain [1] start processing\n",
      "14:40:50 - cmdstanpy - INFO - Chain [1] done processing\n"
     ]
    },
    {
     "name": "stdout",
     "output_type": "stream",
     "text": [
      "Producto 20421: 36 períodos - Procesando\n",
      "Producto 20422: 36 períodos - Procesando\n"
     ]
    },
    {
     "name": "stderr",
     "output_type": "stream",
     "text": [
      "14:40:50 - cmdstanpy - INFO - Chain [1] start processing\n",
      "14:40:50 - cmdstanpy - INFO - Chain [1] done processing\n",
      "14:40:50 - cmdstanpy - INFO - Chain [1] start processing\n",
      "14:40:50 - cmdstanpy - INFO - Chain [1] done processing\n"
     ]
    },
    {
     "name": "stdout",
     "output_type": "stream",
     "text": [
      "Producto 20423: 30 períodos - Procesando\n",
      "Producto 20424: 36 períodos - Procesando\n"
     ]
    },
    {
     "name": "stderr",
     "output_type": "stream",
     "text": [
      "14:40:50 - cmdstanpy - INFO - Chain [1] start processing\n",
      "14:40:51 - cmdstanpy - INFO - Chain [1] done processing\n",
      "14:40:51 - cmdstanpy - INFO - Chain [1] start processing\n",
      "14:40:51 - cmdstanpy - INFO - Chain [1] done processing\n",
      "14:40:51 - cmdstanpy - INFO - Chain [1] start processing\n"
     ]
    },
    {
     "name": "stdout",
     "output_type": "stream",
     "text": [
      "Producto 20425: 28 períodos - Procesando\n",
      "Producto 20426: 35 períodos - Procesando\n"
     ]
    },
    {
     "name": "stderr",
     "output_type": "stream",
     "text": [
      "14:40:51 - cmdstanpy - INFO - Chain [1] done processing\n",
      "14:40:51 - cmdstanpy - INFO - Chain [1] start processing\n"
     ]
    },
    {
     "name": "stdout",
     "output_type": "stream",
     "text": [
      "Producto 20427: 25 períodos - Procesando\n"
     ]
    },
    {
     "name": "stderr",
     "output_type": "stream",
     "text": [
      "14:41:00 - cmdstanpy - INFO - Chain [1] done processing\n",
      "14:41:00 - cmdstanpy - INFO - Chain [1] start processing\n",
      "14:41:00 - cmdstanpy - INFO - Chain [1] done processing\n"
     ]
    },
    {
     "name": "stdout",
     "output_type": "stream",
     "text": [
      "Producto 20428: 36 períodos - Procesando\n",
      "Producto 20429: 36 períodos - Procesando\n"
     ]
    },
    {
     "name": "stderr",
     "output_type": "stream",
     "text": [
      "14:41:00 - cmdstanpy - INFO - Chain [1] start processing\n",
      "14:41:00 - cmdstanpy - INFO - Chain [1] done processing\n",
      "14:41:00 - cmdstanpy - INFO - Chain [1] start processing\n",
      "14:41:00 - cmdstanpy - INFO - Chain [1] done processing\n"
     ]
    },
    {
     "name": "stdout",
     "output_type": "stream",
     "text": [
      "Producto 20430: 28 períodos - Procesando\n",
      "Producto 20431: 28 períodos - Procesando\n"
     ]
    },
    {
     "name": "stderr",
     "output_type": "stream",
     "text": [
      "14:41:00 - cmdstanpy - INFO - Chain [1] start processing\n",
      "14:41:00 - cmdstanpy - INFO - Chain [1] done processing\n",
      "14:41:00 - cmdstanpy - INFO - Chain [1] start processing\n",
      "14:41:00 - cmdstanpy - INFO - Chain [1] done processing\n"
     ]
    },
    {
     "name": "stdout",
     "output_type": "stream",
     "text": [
      "Producto 20432: 36 períodos - Procesando\n",
      "Producto 20433: 36 períodos - Procesando\n"
     ]
    },
    {
     "name": "stderr",
     "output_type": "stream",
     "text": [
      "14:41:01 - cmdstanpy - INFO - Chain [1] start processing\n",
      "14:41:01 - cmdstanpy - INFO - Chain [1] done processing\n",
      "14:41:01 - cmdstanpy - INFO - Chain [1] start processing\n",
      "14:41:01 - cmdstanpy - INFO - Chain [1] done processing\n"
     ]
    },
    {
     "name": "stdout",
     "output_type": "stream",
     "text": [
      "Producto 20434: 36 períodos - Procesando\n"
     ]
    },
    {
     "name": "stderr",
     "output_type": "stream",
     "text": [
      "14:41:01 - cmdstanpy - INFO - Chain [1] start processing\n",
      "14:41:01 - cmdstanpy - INFO - Chain [1] done processing\n",
      "14:41:01 - cmdstanpy - INFO - Chain [1] start processing\n"
     ]
    },
    {
     "name": "stdout",
     "output_type": "stream",
     "text": [
      "Producto 20435: 36 períodos - Procesando\n",
      "Producto 20436: 3 períodos - Procesando\n"
     ]
    },
    {
     "name": "stderr",
     "output_type": "stream",
     "text": [
      "14:41:03 - cmdstanpy - INFO - Chain [1] done processing\n",
      "14:41:03 - cmdstanpy - INFO - Chain [1] start processing\n",
      "14:41:04 - cmdstanpy - INFO - Chain [1] done processing\n"
     ]
    },
    {
     "name": "stdout",
     "output_type": "stream",
     "text": [
      "Producto 20437: 3 períodos - Procesando\n",
      "Producto 20438: 36 períodos - Procesando\n"
     ]
    },
    {
     "name": "stderr",
     "output_type": "stream",
     "text": [
      "14:41:04 - cmdstanpy - INFO - Chain [1] start processing\n",
      "14:41:04 - cmdstanpy - INFO - Chain [1] done processing\n",
      "14:41:04 - cmdstanpy - INFO - Chain [1] start processing\n",
      "14:41:04 - cmdstanpy - INFO - Chain [1] done processing\n"
     ]
    },
    {
     "name": "stdout",
     "output_type": "stream",
     "text": [
      "Producto 20439: 31 períodos - Procesando\n",
      "Producto 20440: 6 períodos - Procesando\n"
     ]
    },
    {
     "name": "stderr",
     "output_type": "stream",
     "text": [
      "14:41:04 - cmdstanpy - INFO - Chain [1] start processing\n",
      "14:41:04 - cmdstanpy - INFO - Chain [1] done processing\n",
      "14:41:04 - cmdstanpy - INFO - Chain [1] start processing\n",
      "14:41:04 - cmdstanpy - INFO - Chain [1] done processing\n"
     ]
    },
    {
     "name": "stdout",
     "output_type": "stream",
     "text": [
      "Producto 20441: 32 períodos - Procesando\n",
      "Producto 20442: 10 períodos - Procesando\n"
     ]
    },
    {
     "name": "stderr",
     "output_type": "stream",
     "text": [
      "14:41:04 - cmdstanpy - INFO - Chain [1] start processing\n",
      "14:41:06 - cmdstanpy - INFO - Chain [1] done processing\n",
      "14:41:06 - cmdstanpy - INFO - Chain [1] start processing\n",
      "14:41:06 - cmdstanpy - INFO - Chain [1] done processing\n"
     ]
    },
    {
     "name": "stdout",
     "output_type": "stream",
     "text": [
      "Producto 20443: 36 períodos - Procesando\n",
      "Producto 20444: 31 períodos - Procesando\n"
     ]
    },
    {
     "name": "stderr",
     "output_type": "stream",
     "text": [
      "14:41:06 - cmdstanpy - INFO - Chain [1] start processing\n",
      "14:41:06 - cmdstanpy - INFO - Chain [1] done processing\n",
      "14:41:06 - cmdstanpy - INFO - Chain [1] start processing\n",
      "14:41:06 - cmdstanpy - INFO - Chain [1] done processing\n"
     ]
    },
    {
     "name": "stdout",
     "output_type": "stream",
     "text": [
      "Producto 20445: 28 períodos - Procesando\n",
      "Producto 20446: 28 períodos - Procesando\n"
     ]
    },
    {
     "name": "stderr",
     "output_type": "stream",
     "text": [
      "14:41:06 - cmdstanpy - INFO - Chain [1] start processing\n",
      "14:41:06 - cmdstanpy - INFO - Chain [1] done processing\n",
      "14:41:06 - cmdstanpy - INFO - Chain [1] start processing\n"
     ]
    },
    {
     "name": "stdout",
     "output_type": "stream",
     "text": [
      "Producto 20447: 31 períodos - Procesando\n"
     ]
    },
    {
     "name": "stderr",
     "output_type": "stream",
     "text": [
      "14:41:07 - cmdstanpy - INFO - Chain [1] done processing\n",
      "14:41:07 - cmdstanpy - INFO - Chain [1] start processing\n",
      "14:41:07 - cmdstanpy - INFO - Chain [1] done processing\n"
     ]
    },
    {
     "name": "stdout",
     "output_type": "stream",
     "text": [
      "Producto 20448: 28 períodos - Procesando\n",
      "Producto 20449: 36 períodos - Procesando\n"
     ]
    },
    {
     "name": "stderr",
     "output_type": "stream",
     "text": [
      "14:41:07 - cmdstanpy - INFO - Chain [1] start processing\n",
      "14:41:07 - cmdstanpy - INFO - Chain [1] done processing\n",
      "14:41:07 - cmdstanpy - INFO - Chain [1] start processing\n",
      "14:41:07 - cmdstanpy - INFO - Chain [1] done processing\n"
     ]
    },
    {
     "name": "stdout",
     "output_type": "stream",
     "text": [
      "Producto 20450: 36 períodos - Procesando\n",
      "Producto 20451: 21 períodos - Procesando\n"
     ]
    },
    {
     "name": "stderr",
     "output_type": "stream",
     "text": [
      "14:41:07 - cmdstanpy - INFO - Chain [1] start processing\n",
      "14:41:13 - cmdstanpy - INFO - Chain [1] done processing\n",
      "14:41:14 - cmdstanpy - INFO - Chain [1] start processing\n",
      "14:41:14 - cmdstanpy - INFO - Chain [1] done processing\n"
     ]
    },
    {
     "name": "stdout",
     "output_type": "stream",
     "text": [
      "Producto 20452: 34 períodos - Procesando\n",
      "Producto 20453: 29 períodos - Procesando\n"
     ]
    },
    {
     "name": "stderr",
     "output_type": "stream",
     "text": [
      "14:41:14 - cmdstanpy - INFO - Chain [1] start processing\n",
      "14:41:14 - cmdstanpy - INFO - Chain [1] done processing\n",
      "14:41:14 - cmdstanpy - INFO - Chain [1] start processing\n",
      "14:41:14 - cmdstanpy - INFO - Chain [1] done processing\n"
     ]
    },
    {
     "name": "stdout",
     "output_type": "stream",
     "text": [
      "Producto 20454: 36 períodos - Procesando\n"
     ]
    },
    {
     "name": "stderr",
     "output_type": "stream",
     "text": [
      "14:41:14 - cmdstanpy - INFO - Chain [1] start processing\n"
     ]
    },
    {
     "name": "stdout",
     "output_type": "stream",
     "text": [
      "Producto 20455: 9 períodos - Procesando\n"
     ]
    },
    {
     "name": "stderr",
     "output_type": "stream",
     "text": [
      "14:41:15 - cmdstanpy - INFO - Chain [1] done processing\n",
      "14:41:15 - cmdstanpy - INFO - Chain [1] start processing\n",
      "14:41:15 - cmdstanpy - INFO - Chain [1] done processing\n",
      "14:41:15 - cmdstanpy - INFO - Chain [1] start processing\n"
     ]
    },
    {
     "name": "stdout",
     "output_type": "stream",
     "text": [
      "Producto 20456: 35 períodos - Procesando\n",
      "Producto 20457: 28 períodos - Procesando\n"
     ]
    },
    {
     "name": "stderr",
     "output_type": "stream",
     "text": [
      "14:41:16 - cmdstanpy - INFO - Chain [1] done processing\n",
      "14:41:16 - cmdstanpy - INFO - Chain [1] start processing\n",
      "14:41:16 - cmdstanpy - INFO - Chain [1] done processing\n"
     ]
    },
    {
     "name": "stdout",
     "output_type": "stream",
     "text": [
      "Producto 20458: 9 períodos - Procesando\n",
      "Producto 20459: 18 períodos - Procesando\n"
     ]
    },
    {
     "name": "stderr",
     "output_type": "stream",
     "text": [
      "14:41:16 - cmdstanpy - INFO - Chain [1] start processing\n",
      "14:41:18 - cmdstanpy - INFO - Chain [1] done processing\n",
      "14:41:19 - cmdstanpy - INFO - Chain [1] start processing\n"
     ]
    },
    {
     "name": "stdout",
     "output_type": "stream",
     "text": [
      "Producto 20460: 14 períodos - Procesando\n"
     ]
    },
    {
     "name": "stderr",
     "output_type": "stream",
     "text": [
      "14:41:24 - cmdstanpy - INFO - Chain [1] done processing\n",
      "14:41:24 - cmdstanpy - INFO - Chain [1] start processing\n",
      "14:41:24 - cmdstanpy - INFO - Chain [1] done processing\n",
      "14:41:24 - cmdstanpy - INFO - Chain [1] start processing\n"
     ]
    },
    {
     "name": "stdout",
     "output_type": "stream",
     "text": [
      "Producto 20461: 27 períodos - Procesando\n",
      "Producto 20462: 27 períodos - Procesando\n"
     ]
    },
    {
     "name": "stderr",
     "output_type": "stream",
     "text": [
      "14:41:24 - cmdstanpy - INFO - Chain [1] done processing\n",
      "14:41:24 - cmdstanpy - INFO - Chain [1] start processing\n",
      "14:41:24 - cmdstanpy - INFO - Chain [1] done processing\n"
     ]
    },
    {
     "name": "stdout",
     "output_type": "stream",
     "text": [
      "Producto 20463: 36 períodos - Procesando\n",
      "Producto 20464: 36 períodos - Procesando\n"
     ]
    },
    {
     "name": "stderr",
     "output_type": "stream",
     "text": [
      "14:41:24 - cmdstanpy - INFO - Chain [1] start processing\n",
      "14:41:24 - cmdstanpy - INFO - Chain [1] done processing\n",
      "14:41:25 - cmdstanpy - INFO - Chain [1] start processing\n",
      "14:41:25 - cmdstanpy - INFO - Chain [1] done processing\n"
     ]
    },
    {
     "name": "stdout",
     "output_type": "stream",
     "text": [
      "Producto 20465: 36 períodos - Procesando\n",
      "Producto 20466: 36 períodos - Procesando\n"
     ]
    },
    {
     "name": "stderr",
     "output_type": "stream",
     "text": [
      "14:41:25 - cmdstanpy - INFO - Chain [1] start processing\n",
      "14:41:25 - cmdstanpy - INFO - Chain [1] done processing\n",
      "14:41:25 - cmdstanpy - INFO - Chain [1] start processing\n",
      "14:41:25 - cmdstanpy - INFO - Chain [1] done processing\n"
     ]
    },
    {
     "name": "stdout",
     "output_type": "stream",
     "text": [
      "Producto 20467: 28 períodos - Procesando\n",
      "Producto 20468: 7 períodos - Procesando\n"
     ]
    },
    {
     "name": "stderr",
     "output_type": "stream",
     "text": [
      "14:41:25 - cmdstanpy - INFO - Chain [1] start processing\n",
      "14:41:25 - cmdstanpy - INFO - Chain [1] done processing\n",
      "14:41:25 - cmdstanpy - INFO - Chain [1] start processing\n",
      "14:41:25 - cmdstanpy - INFO - Chain [1] done processing\n"
     ]
    },
    {
     "name": "stdout",
     "output_type": "stream",
     "text": [
      "Producto 20469: 35 períodos - Procesando\n",
      "Producto 20470: 36 períodos - Procesando\n"
     ]
    },
    {
     "name": "stderr",
     "output_type": "stream",
     "text": [
      "14:41:26 - cmdstanpy - INFO - Chain [1] start processing\n",
      "14:41:26 - cmdstanpy - INFO - Chain [1] done processing\n",
      "14:41:26 - cmdstanpy - INFO - Chain [1] start processing\n",
      "14:41:26 - cmdstanpy - INFO - Chain [1] done processing\n"
     ]
    },
    {
     "name": "stdout",
     "output_type": "stream",
     "text": [
      "Producto 20471: 36 períodos - Procesando\n",
      "Producto 20472: 28 períodos - Procesando\n"
     ]
    },
    {
     "name": "stderr",
     "output_type": "stream",
     "text": [
      "14:41:26 - cmdstanpy - INFO - Chain [1] start processing\n",
      "14:41:26 - cmdstanpy - INFO - Chain [1] done processing\n",
      "14:41:26 - cmdstanpy - INFO - Chain [1] start processing\n",
      "14:41:26 - cmdstanpy - INFO - Chain [1] done processing\n"
     ]
    },
    {
     "name": "stdout",
     "output_type": "stream",
     "text": [
      "Producto 20473: 36 períodos - Procesando\n",
      "Producto 20474: 36 períodos - Procesando\n"
     ]
    },
    {
     "name": "stderr",
     "output_type": "stream",
     "text": [
      "14:41:26 - cmdstanpy - INFO - Chain [1] start processing\n",
      "14:41:26 - cmdstanpy - INFO - Chain [1] done processing\n",
      "14:41:27 - cmdstanpy - INFO - Chain [1] start processing\n",
      "14:41:27 - cmdstanpy - INFO - Chain [1] done processing\n"
     ]
    },
    {
     "name": "stdout",
     "output_type": "stream",
     "text": [
      "Producto 20475: 30 períodos - Procesando\n",
      "Producto 20476: 9 períodos - Procesando\n"
     ]
    },
    {
     "name": "stderr",
     "output_type": "stream",
     "text": [
      "14:41:27 - cmdstanpy - INFO - Chain [1] start processing\n",
      "14:41:27 - cmdstanpy - INFO - Chain [1] done processing\n",
      "14:41:27 - cmdstanpy - INFO - Chain [1] start processing\n"
     ]
    },
    {
     "name": "stdout",
     "output_type": "stream",
     "text": [
      "Producto 20477: 15 períodos - Procesando\n"
     ]
    },
    {
     "name": "stderr",
     "output_type": "stream",
     "text": [
      "14:41:32 - cmdstanpy - INFO - Chain [1] done processing\n",
      "14:41:32 - cmdstanpy - INFO - Chain [1] start processing\n",
      "14:41:32 - cmdstanpy - INFO - Chain [1] done processing\n"
     ]
    },
    {
     "name": "stdout",
     "output_type": "stream",
     "text": [
      "Producto 20478: 31 períodos - Procesando\n",
      "Producto 20479: 24 períodos - Procesando\n"
     ]
    },
    {
     "name": "stderr",
     "output_type": "stream",
     "text": [
      "14:41:32 - cmdstanpy - INFO - Chain [1] start processing\n",
      "14:41:41 - cmdstanpy - INFO - Chain [1] done processing\n",
      "14:41:41 - cmdstanpy - INFO - Chain [1] start processing\n",
      "14:41:41 - cmdstanpy - INFO - Chain [1] done processing\n"
     ]
    },
    {
     "name": "stdout",
     "output_type": "stream",
     "text": [
      "Producto 20480: 36 períodos - Procesando\n",
      "Producto 20481: 21 períodos - Procesando\n"
     ]
    },
    {
     "name": "stderr",
     "output_type": "stream",
     "text": [
      "14:41:41 - cmdstanpy - INFO - Chain [1] start processing\n",
      "14:41:48 - cmdstanpy - INFO - Chain [1] done processing\n",
      "14:41:48 - cmdstanpy - INFO - Chain [1] start processing\n",
      "14:41:48 - cmdstanpy - INFO - Chain [1] done processing\n"
     ]
    },
    {
     "name": "stdout",
     "output_type": "stream",
     "text": [
      "Producto 20482: 36 períodos - Procesando\n",
      "Producto 20483: 36 períodos - Procesando\n"
     ]
    },
    {
     "name": "stderr",
     "output_type": "stream",
     "text": [
      "14:41:48 - cmdstanpy - INFO - Chain [1] start processing\n",
      "14:41:48 - cmdstanpy - INFO - Chain [1] done processing\n",
      "14:41:49 - cmdstanpy - INFO - Chain [1] start processing\n"
     ]
    },
    {
     "name": "stdout",
     "output_type": "stream",
     "text": [
      "Producto 20484: 36 períodos - Procesando\n"
     ]
    },
    {
     "name": "stderr",
     "output_type": "stream",
     "text": [
      "14:41:49 - cmdstanpy - INFO - Chain [1] done processing\n",
      "14:41:49 - cmdstanpy - INFO - Chain [1] start processing\n",
      "14:41:49 - cmdstanpy - INFO - Chain [1] done processing\n"
     ]
    },
    {
     "name": "stdout",
     "output_type": "stream",
     "text": [
      "Producto 20485: 36 períodos - Procesando\n",
      "Producto 20486: 26 períodos - Procesando\n"
     ]
    },
    {
     "name": "stderr",
     "output_type": "stream",
     "text": [
      "14:41:49 - cmdstanpy - INFO - Chain [1] start processing\n",
      "14:41:49 - cmdstanpy - INFO - Chain [1] done processing\n",
      "14:41:49 - cmdstanpy - INFO - Chain [1] start processing\n",
      "14:41:49 - cmdstanpy - INFO - Chain [1] done processing\n"
     ]
    },
    {
     "name": "stdout",
     "output_type": "stream",
     "text": [
      "Producto 20487: 3 períodos - Procesando\n",
      "Producto 20488: 21 períodos - Procesando\n"
     ]
    },
    {
     "name": "stderr",
     "output_type": "stream",
     "text": [
      "14:41:49 - cmdstanpy - INFO - Chain [1] start processing\n",
      "14:41:51 - cmdstanpy - INFO - Chain [1] done processing\n",
      "14:41:51 - cmdstanpy - INFO - Chain [1] start processing\n",
      "14:41:51 - cmdstanpy - INFO - Chain [1] done processing\n",
      "14:41:51 - cmdstanpy - INFO - Chain [1] start processing\n"
     ]
    },
    {
     "name": "stdout",
     "output_type": "stream",
     "text": [
      "Producto 20489: 27 períodos - Procesando\n",
      "Producto 20490: 36 períodos - Procesando\n"
     ]
    },
    {
     "name": "stderr",
     "output_type": "stream",
     "text": [
      "14:41:51 - cmdstanpy - INFO - Chain [1] done processing\n",
      "14:41:51 - cmdstanpy - INFO - Chain [1] start processing\n",
      "14:41:51 - cmdstanpy - INFO - Chain [1] done processing\n"
     ]
    },
    {
     "name": "stdout",
     "output_type": "stream",
     "text": [
      "Producto 20491: 10 períodos - Procesando\n",
      "Producto 20492: 28 períodos - Procesando\n"
     ]
    },
    {
     "name": "stderr",
     "output_type": "stream",
     "text": [
      "14:41:51 - cmdstanpy - INFO - Chain [1] start processing\n",
      "14:41:51 - cmdstanpy - INFO - Chain [1] done processing\n",
      "14:41:51 - cmdstanpy - INFO - Chain [1] start processing\n",
      "14:41:52 - cmdstanpy - INFO - Chain [1] done processing\n"
     ]
    },
    {
     "name": "stdout",
     "output_type": "stream",
     "text": [
      "Producto 20493: 36 períodos - Procesando\n",
      "Producto 20494: 24 períodos - Procesando\n"
     ]
    },
    {
     "name": "stderr",
     "output_type": "stream",
     "text": [
      "14:41:52 - cmdstanpy - INFO - Chain [1] start processing\n",
      "14:41:52 - cmdstanpy - INFO - Chain [1] done processing\n",
      "14:41:52 - cmdstanpy - INFO - Chain [1] start processing\n"
     ]
    },
    {
     "name": "stdout",
     "output_type": "stream",
     "text": [
      "Producto 20495: 16 períodos - Procesando\n"
     ]
    },
    {
     "name": "stderr",
     "output_type": "stream",
     "text": [
      "14:41:53 - cmdstanpy - INFO - Chain [1] done processing\n",
      "14:41:53 - cmdstanpy - INFO - Chain [1] start processing\n",
      "14:41:53 - cmdstanpy - INFO - Chain [1] done processing\n"
     ]
    },
    {
     "name": "stdout",
     "output_type": "stream",
     "text": [
      "Producto 20496: 28 períodos - Procesando\n",
      "Producto 20497: 36 períodos - Procesando\n"
     ]
    },
    {
     "name": "stderr",
     "output_type": "stream",
     "text": [
      "14:41:53 - cmdstanpy - INFO - Chain [1] start processing\n",
      "14:41:53 - cmdstanpy - INFO - Chain [1] done processing\n",
      "14:41:53 - cmdstanpy - INFO - Chain [1] start processing\n"
     ]
    },
    {
     "name": "stdout",
     "output_type": "stream",
     "text": [
      "Producto 20498: 10 períodos - Procesando\n"
     ]
    },
    {
     "name": "stderr",
     "output_type": "stream",
     "text": [
      "14:41:54 - cmdstanpy - INFO - Chain [1] done processing\n",
      "14:41:54 - cmdstanpy - INFO - Chain [1] start processing\n",
      "14:41:54 - cmdstanpy - INFO - Chain [1] done processing\n"
     ]
    },
    {
     "name": "stdout",
     "output_type": "stream",
     "text": [
      "Producto 20499: 30 períodos - Procesando\n",
      "Producto 20500: 36 períodos - Procesando\n"
     ]
    },
    {
     "name": "stderr",
     "output_type": "stream",
     "text": [
      "14:41:54 - cmdstanpy - INFO - Chain [1] start processing\n",
      "14:41:54 - cmdstanpy - INFO - Chain [1] done processing\n",
      "14:41:54 - cmdstanpy - INFO - Chain [1] start processing\n",
      "14:41:54 - cmdstanpy - INFO - Chain [1] done processing\n"
     ]
    },
    {
     "name": "stdout",
     "output_type": "stream",
     "text": [
      "Producto 20501: 36 períodos - Procesando\n",
      "Producto 20502: 36 períodos - Procesando\n"
     ]
    },
    {
     "name": "stderr",
     "output_type": "stream",
     "text": [
      "14:41:54 - cmdstanpy - INFO - Chain [1] start processing\n",
      "14:41:54 - cmdstanpy - INFO - Chain [1] done processing\n",
      "14:41:55 - cmdstanpy - INFO - Chain [1] start processing\n"
     ]
    },
    {
     "name": "stdout",
     "output_type": "stream",
     "text": [
      "Producto 20503: 17 períodos - Procesando\n"
     ]
    },
    {
     "name": "stderr",
     "output_type": "stream",
     "text": [
      "14:41:56 - cmdstanpy - INFO - Chain [1] done processing\n",
      "14:41:56 - cmdstanpy - INFO - Chain [1] start processing\n",
      "14:41:56 - cmdstanpy - INFO - Chain [1] done processing\n"
     ]
    },
    {
     "name": "stdout",
     "output_type": "stream",
     "text": [
      "Producto 20504: 27 períodos - Procesando\n",
      "Producto 20505: 36 períodos - Procesando\n"
     ]
    },
    {
     "name": "stderr",
     "output_type": "stream",
     "text": [
      "14:41:56 - cmdstanpy - INFO - Chain [1] start processing\n",
      "14:41:57 - cmdstanpy - INFO - Chain [1] done processing\n",
      "14:41:57 - cmdstanpy - INFO - Chain [1] start processing\n",
      "14:41:57 - cmdstanpy - INFO - Chain [1] done processing\n"
     ]
    },
    {
     "name": "stdout",
     "output_type": "stream",
     "text": [
      "Producto 20506: 27 períodos - Procesando\n",
      "Producto 20507: 36 períodos - Procesando\n"
     ]
    },
    {
     "name": "stderr",
     "output_type": "stream",
     "text": [
      "14:41:57 - cmdstanpy - INFO - Chain [1] start processing\n",
      "14:41:57 - cmdstanpy - INFO - Chain [1] done processing\n",
      "14:41:57 - cmdstanpy - INFO - Chain [1] start processing\n",
      "14:41:57 - cmdstanpy - INFO - Chain [1] done processing\n"
     ]
    },
    {
     "name": "stdout",
     "output_type": "stream",
     "text": [
      "Producto 20508: 31 períodos - Procesando\n"
     ]
    },
    {
     "name": "stderr",
     "output_type": "stream",
     "text": [
      "14:41:57 - cmdstanpy - INFO - Chain [1] start processing\n",
      "14:41:57 - cmdstanpy - INFO - Chain [1] done processing\n"
     ]
    },
    {
     "name": "stdout",
     "output_type": "stream",
     "text": [
      "Producto 20509: 36 períodos - Procesando\n",
      "Producto 20510: 9 períodos - Procesando\n"
     ]
    },
    {
     "name": "stderr",
     "output_type": "stream",
     "text": [
      "14:41:58 - cmdstanpy - INFO - Chain [1] start processing\n",
      "14:42:02 - cmdstanpy - INFO - Chain [1] done processing\n",
      "14:42:02 - cmdstanpy - INFO - Chain [1] start processing\n",
      "14:42:02 - cmdstanpy - INFO - Chain [1] done processing\n"
     ]
    },
    {
     "name": "stdout",
     "output_type": "stream",
     "text": [
      "Producto 20511: 27 períodos - Procesando\n",
      "Producto 20512: 36 períodos - Procesando\n"
     ]
    },
    {
     "name": "stderr",
     "output_type": "stream",
     "text": [
      "14:42:02 - cmdstanpy - INFO - Chain [1] start processing\n",
      "14:42:02 - cmdstanpy - INFO - Chain [1] done processing\n",
      "14:42:02 - cmdstanpy - INFO - Chain [1] start processing\n"
     ]
    },
    {
     "name": "stdout",
     "output_type": "stream",
     "text": [
      "Producto 20513: 22 períodos - Procesando\n"
     ]
    },
    {
     "name": "stderr",
     "output_type": "stream",
     "text": [
      "14:42:03 - cmdstanpy - INFO - Chain [1] done processing\n",
      "14:42:03 - cmdstanpy - INFO - Chain [1] start processing\n",
      "14:42:03 - cmdstanpy - INFO - Chain [1] done processing\n"
     ]
    },
    {
     "name": "stdout",
     "output_type": "stream",
     "text": [
      "Producto 20514: 35 períodos - Procesando\n"
     ]
    },
    {
     "name": "stderr",
     "output_type": "stream",
     "text": [
      "14:42:03 - cmdstanpy - INFO - Chain [1] start processing\n"
     ]
    },
    {
     "name": "stdout",
     "output_type": "stream",
     "text": [
      "Producto 20515: 3 períodos - Procesando\n"
     ]
    },
    {
     "name": "stderr",
     "output_type": "stream",
     "text": [
      "14:42:04 - cmdstanpy - INFO - Chain [1] done processing\n",
      "14:42:04 - cmdstanpy - INFO - Chain [1] start processing\n",
      "14:42:04 - cmdstanpy - INFO - Chain [1] done processing\n"
     ]
    },
    {
     "name": "stdout",
     "output_type": "stream",
     "text": [
      "Producto 20516: 30 períodos - Procesando\n",
      "Producto 20517: 36 períodos - Procesando\n"
     ]
    },
    {
     "name": "stderr",
     "output_type": "stream",
     "text": [
      "14:42:04 - cmdstanpy - INFO - Chain [1] start processing\n",
      "14:42:04 - cmdstanpy - INFO - Chain [1] done processing\n",
      "14:42:04 - cmdstanpy - INFO - Chain [1] start processing\n"
     ]
    },
    {
     "name": "stdout",
     "output_type": "stream",
     "text": [
      "Producto 20520: 36 períodos - Procesando\n"
     ]
    },
    {
     "name": "stderr",
     "output_type": "stream",
     "text": [
      "14:42:04 - cmdstanpy - INFO - Chain [1] done processing\n",
      "14:42:04 - cmdstanpy - INFO - Chain [1] start processing\n"
     ]
    },
    {
     "name": "stdout",
     "output_type": "stream",
     "text": [
      "Producto 20521: 9 períodos - Procesando\n"
     ]
    },
    {
     "name": "stderr",
     "output_type": "stream",
     "text": [
      "14:42:05 - cmdstanpy - INFO - Chain [1] done processing\n",
      "14:42:05 - cmdstanpy - INFO - Chain [1] start processing\n"
     ]
    },
    {
     "name": "stdout",
     "output_type": "stream",
     "text": [
      "Producto 20522: 18 períodos - Procesando\n"
     ]
    },
    {
     "name": "stderr",
     "output_type": "stream",
     "text": [
      "14:42:11 - cmdstanpy - INFO - Chain [1] done processing\n",
      "14:42:11 - cmdstanpy - INFO - Chain [1] start processing\n"
     ]
    },
    {
     "name": "stdout",
     "output_type": "stream",
     "text": [
      "Producto 20523: 16 períodos - Procesando\n"
     ]
    },
    {
     "name": "stderr",
     "output_type": "stream",
     "text": [
      "14:42:12 - cmdstanpy - INFO - Chain [1] done processing\n",
      "14:42:12 - cmdstanpy - INFO - Chain [1] start processing\n",
      "14:42:12 - cmdstanpy - INFO - Chain [1] done processing\n"
     ]
    },
    {
     "name": "stdout",
     "output_type": "stream",
     "text": [
      "Producto 20524: 36 períodos - Procesando\n",
      "Producto 20525: 9 períodos - Procesando\n"
     ]
    },
    {
     "name": "stderr",
     "output_type": "stream",
     "text": [
      "14:42:12 - cmdstanpy - INFO - Chain [1] start processing\n",
      "14:42:16 - cmdstanpy - INFO - Chain [1] done processing\n",
      "14:42:16 - cmdstanpy - INFO - Chain [1] start processing\n"
     ]
    },
    {
     "name": "stdout",
     "output_type": "stream",
     "text": [
      "Producto 20526: 9 períodos - Procesando\n"
     ]
    },
    {
     "name": "stderr",
     "output_type": "stream",
     "text": [
      "14:42:21 - cmdstanpy - INFO - Chain [1] done processing\n",
      "14:42:21 - cmdstanpy - INFO - Chain [1] start processing\n"
     ]
    },
    {
     "name": "stdout",
     "output_type": "stream",
     "text": [
      "Producto 20527: 16 períodos - Procesando\n"
     ]
    },
    {
     "name": "stderr",
     "output_type": "stream",
     "text": [
      "14:42:26 - cmdstanpy - INFO - Chain [1] done processing\n",
      "14:42:26 - cmdstanpy - INFO - Chain [1] start processing\n",
      "14:42:26 - cmdstanpy - INFO - Chain [1] done processing\n"
     ]
    },
    {
     "name": "stdout",
     "output_type": "stream",
     "text": [
      "Producto 20528: 31 períodos - Procesando\n",
      "Producto 20529: 30 períodos - Procesando\n"
     ]
    },
    {
     "name": "stderr",
     "output_type": "stream",
     "text": [
      "14:42:26 - cmdstanpy - INFO - Chain [1] start processing\n",
      "14:42:26 - cmdstanpy - INFO - Chain [1] done processing\n",
      "14:42:26 - cmdstanpy - INFO - Chain [1] start processing\n",
      "14:42:26 - cmdstanpy - INFO - Chain [1] done processing\n"
     ]
    },
    {
     "name": "stdout",
     "output_type": "stream",
     "text": [
      "Producto 20530: 36 períodos - Procesando\n",
      "Producto 20531: 9 períodos - Procesando\n"
     ]
    },
    {
     "name": "stderr",
     "output_type": "stream",
     "text": [
      "14:42:27 - cmdstanpy - INFO - Chain [1] start processing\n",
      "14:42:27 - cmdstanpy - INFO - Chain [1] done processing\n",
      "14:42:27 - cmdstanpy - INFO - Chain [1] start processing\n",
      "14:42:27 - cmdstanpy - INFO - Chain [1] done processing\n"
     ]
    },
    {
     "name": "stdout",
     "output_type": "stream",
     "text": [
      "Producto 20532: 36 períodos - Procesando\n",
      "Producto 20533: 35 períodos - Procesando\n"
     ]
    },
    {
     "name": "stderr",
     "output_type": "stream",
     "text": [
      "14:42:27 - cmdstanpy - INFO - Chain [1] start processing\n",
      "14:42:27 - cmdstanpy - INFO - Chain [1] done processing\n",
      "14:42:27 - cmdstanpy - INFO - Chain [1] start processing\n",
      "14:42:27 - cmdstanpy - INFO - Chain [1] done processing\n"
     ]
    },
    {
     "name": "stdout",
     "output_type": "stream",
     "text": [
      "Producto 20534: 30 períodos - Procesando\n",
      "Producto 20535: 32 períodos - Procesando\n"
     ]
    },
    {
     "name": "stderr",
     "output_type": "stream",
     "text": [
      "14:42:27 - cmdstanpy - INFO - Chain [1] start processing\n",
      "14:42:27 - cmdstanpy - INFO - Chain [1] done processing\n",
      "14:42:27 - cmdstanpy - INFO - Chain [1] start processing\n"
     ]
    },
    {
     "name": "stdout",
     "output_type": "stream",
     "text": [
      "Producto 20536: 36 períodos - Procesando\n"
     ]
    },
    {
     "name": "stderr",
     "output_type": "stream",
     "text": [
      "14:42:28 - cmdstanpy - INFO - Chain [1] done processing\n",
      "14:42:28 - cmdstanpy - INFO - Chain [1] start processing\n"
     ]
    },
    {
     "name": "stdout",
     "output_type": "stream",
     "text": [
      "Producto 20537: 9 períodos - Procesando\n"
     ]
    },
    {
     "name": "stderr",
     "output_type": "stream",
     "text": [
      "14:42:28 - cmdstanpy - INFO - Chain [1] done processing\n",
      "14:42:28 - cmdstanpy - INFO - Chain [1] start processing\n",
      "14:42:28 - cmdstanpy - INFO - Chain [1] done processing\n"
     ]
    },
    {
     "name": "stdout",
     "output_type": "stream",
     "text": [
      "Producto 20538: 36 períodos - Procesando\n"
     ]
    },
    {
     "name": "stderr",
     "output_type": "stream",
     "text": [
      "14:42:28 - cmdstanpy - INFO - Chain [1] start processing\n",
      "14:42:28 - cmdstanpy - INFO - Chain [1] done processing\n"
     ]
    },
    {
     "name": "stdout",
     "output_type": "stream",
     "text": [
      "Producto 20539: 36 períodos - Procesando\n",
      "Producto 20540: 16 períodos - Procesando\n"
     ]
    },
    {
     "name": "stderr",
     "output_type": "stream",
     "text": [
      "14:42:29 - cmdstanpy - INFO - Chain [1] start processing\n",
      "14:42:30 - cmdstanpy - INFO - Chain [1] done processing\n",
      "14:42:30 - cmdstanpy - INFO - Chain [1] start processing\n"
     ]
    },
    {
     "name": "stdout",
     "output_type": "stream",
     "text": [
      "Producto 20541: 21 períodos - Procesando\n"
     ]
    },
    {
     "name": "stderr",
     "output_type": "stream",
     "text": [
      "14:42:36 - cmdstanpy - INFO - Chain [1] done processing\n",
      "14:42:36 - cmdstanpy - INFO - Chain [1] start processing\n",
      "14:42:36 - cmdstanpy - INFO - Chain [1] done processing\n",
      "14:42:37 - cmdstanpy - INFO - Chain [1] start processing\n"
     ]
    },
    {
     "name": "stdout",
     "output_type": "stream",
     "text": [
      "Producto 20542: 28 períodos - Procesando\n",
      "Producto 20543: 33 períodos - Procesando\n"
     ]
    },
    {
     "name": "stderr",
     "output_type": "stream",
     "text": [
      "14:42:37 - cmdstanpy - INFO - Chain [1] done processing\n",
      "14:42:37 - cmdstanpy - INFO - Chain [1] start processing\n",
      "14:42:37 - cmdstanpy - INFO - Chain [1] done processing\n"
     ]
    },
    {
     "name": "stdout",
     "output_type": "stream",
     "text": [
      "Producto 20544: 27 períodos - Procesando\n",
      "Producto 20545: 13 períodos - Procesando\n"
     ]
    },
    {
     "name": "stderr",
     "output_type": "stream",
     "text": [
      "14:42:37 - cmdstanpy - INFO - Chain [1] start processing\n",
      "14:42:37 - cmdstanpy - INFO - Chain [1] done processing\n",
      "14:42:37 - cmdstanpy - INFO - Chain [1] start processing\n",
      "14:42:37 - cmdstanpy - INFO - Chain [1] done processing\n"
     ]
    },
    {
     "name": "stdout",
     "output_type": "stream",
     "text": [
      "Producto 20546: 31 períodos - Procesando\n",
      "Producto 20547: 14 períodos - Procesando\n"
     ]
    },
    {
     "name": "stderr",
     "output_type": "stream",
     "text": [
      "14:42:37 - cmdstanpy - INFO - Chain [1] start processing\n",
      "14:42:42 - cmdstanpy - INFO - Chain [1] done processing\n",
      "14:42:42 - cmdstanpy - INFO - Chain [1] start processing\n"
     ]
    },
    {
     "name": "stdout",
     "output_type": "stream",
     "text": [
      "Producto 20548: 10 períodos - Procesando\n"
     ]
    },
    {
     "name": "stderr",
     "output_type": "stream",
     "text": [
      "14:42:42 - cmdstanpy - INFO - Chain [1] done processing\n",
      "14:42:43 - cmdstanpy - INFO - Chain [1] start processing\n",
      "14:42:43 - cmdstanpy - INFO - Chain [1] done processing\n"
     ]
    },
    {
     "name": "stdout",
     "output_type": "stream",
     "text": [
      "Producto 20549: 36 períodos - Procesando\n",
      "Producto 20550: 13 períodos - Procesando\n"
     ]
    },
    {
     "name": "stderr",
     "output_type": "stream",
     "text": [
      "14:42:43 - cmdstanpy - INFO - Chain [1] start processing\n",
      "14:42:43 - cmdstanpy - INFO - Chain [1] done processing\n",
      "14:42:43 - cmdstanpy - INFO - Chain [1] start processing\n",
      "14:42:43 - cmdstanpy - INFO - Chain [1] done processing\n"
     ]
    },
    {
     "name": "stdout",
     "output_type": "stream",
     "text": [
      "Producto 20551: 36 períodos - Procesando\n",
      "Producto 20552: 27 períodos - Procesando\n"
     ]
    },
    {
     "name": "stderr",
     "output_type": "stream",
     "text": [
      "14:42:43 - cmdstanpy - INFO - Chain [1] start processing\n",
      "14:42:43 - cmdstanpy - INFO - Chain [1] done processing\n",
      "14:42:43 - cmdstanpy - INFO - Chain [1] start processing\n"
     ]
    },
    {
     "name": "stdout",
     "output_type": "stream",
     "text": [
      "Producto 20553: 16 períodos - Procesando\n"
     ]
    },
    {
     "name": "stderr",
     "output_type": "stream",
     "text": [
      "14:42:48 - cmdstanpy - INFO - Chain [1] done processing\n",
      "14:42:48 - cmdstanpy - INFO - Chain [1] start processing\n",
      "14:42:48 - cmdstanpy - INFO - Chain [1] done processing\n"
     ]
    },
    {
     "name": "stdout",
     "output_type": "stream",
     "text": [
      "Producto 20554: 26 períodos - Procesando\n",
      "Producto 20555: 36 períodos - Procesando\n"
     ]
    },
    {
     "name": "stderr",
     "output_type": "stream",
     "text": [
      "14:42:48 - cmdstanpy - INFO - Chain [1] start processing\n",
      "14:42:49 - cmdstanpy - INFO - Chain [1] done processing\n",
      "14:42:49 - cmdstanpy - INFO - Chain [1] start processing\n",
      "14:42:49 - cmdstanpy - INFO - Chain [1] done processing\n"
     ]
    },
    {
     "name": "stdout",
     "output_type": "stream",
     "text": [
      "Producto 20556: 36 períodos - Procesando\n",
      "Producto 20557: 7 períodos - Procesando\n"
     ]
    },
    {
     "name": "stderr",
     "output_type": "stream",
     "text": [
      "14:42:49 - cmdstanpy - INFO - Chain [1] start processing\n",
      "14:42:50 - cmdstanpy - INFO - Chain [1] done processing\n",
      "14:42:50 - cmdstanpy - INFO - Chain [1] start processing\n"
     ]
    },
    {
     "name": "stdout",
     "output_type": "stream",
     "text": [
      "Producto 20558: 14 períodos - Procesando\n"
     ]
    },
    {
     "name": "stderr",
     "output_type": "stream",
     "text": [
      "14:42:55 - cmdstanpy - INFO - Chain [1] done processing\n",
      "14:42:55 - cmdstanpy - INFO - Chain [1] start processing\n",
      "14:42:55 - cmdstanpy - INFO - Chain [1] done processing\n"
     ]
    },
    {
     "name": "stdout",
     "output_type": "stream",
     "text": [
      "Producto 20559: 16 períodos - Procesando\n",
      "Producto 20560: 36 períodos - Procesando\n"
     ]
    },
    {
     "name": "stderr",
     "output_type": "stream",
     "text": [
      "14:42:55 - cmdstanpy - INFO - Chain [1] start processing\n",
      "14:42:55 - cmdstanpy - INFO - Chain [1] done processing\n",
      "14:42:55 - cmdstanpy - INFO - Chain [1] start processing\n",
      "14:42:55 - cmdstanpy - INFO - Chain [1] done processing\n"
     ]
    },
    {
     "name": "stdout",
     "output_type": "stream",
     "text": [
      "Producto 20561: 36 períodos - Procesando\n",
      "Producto 20562: 7 períodos - Procesando\n"
     ]
    },
    {
     "name": "stderr",
     "output_type": "stream",
     "text": [
      "14:42:55 - cmdstanpy - INFO - Chain [1] start processing\n",
      "14:42:56 - cmdstanpy - INFO - Chain [1] done processing\n",
      "14:42:56 - cmdstanpy - INFO - Chain [1] start processing\n",
      "14:42:56 - cmdstanpy - INFO - Chain [1] done processing\n"
     ]
    },
    {
     "name": "stdout",
     "output_type": "stream",
     "text": [
      "Producto 20563: 36 períodos - Procesando\n"
     ]
    },
    {
     "name": "stderr",
     "output_type": "stream",
     "text": [
      "14:42:56 - cmdstanpy - INFO - Chain [1] start processing\n",
      "14:42:56 - cmdstanpy - INFO - Chain [1] done processing\n"
     ]
    },
    {
     "name": "stdout",
     "output_type": "stream",
     "text": [
      "Producto 20564: 26 períodos - Procesando\n",
      "Producto 20565: 36 períodos - Procesando\n"
     ]
    },
    {
     "name": "stderr",
     "output_type": "stream",
     "text": [
      "14:42:56 - cmdstanpy - INFO - Chain [1] start processing\n",
      "14:42:56 - cmdstanpy - INFO - Chain [1] done processing\n",
      "14:42:56 - cmdstanpy - INFO - Chain [1] start processing\n",
      "14:42:56 - cmdstanpy - INFO - Chain [1] done processing\n"
     ]
    },
    {
     "name": "stdout",
     "output_type": "stream",
     "text": [
      "Producto 20566: 28 períodos - Procesando\n",
      "Producto 20567: 26 períodos - Procesando\n"
     ]
    },
    {
     "name": "stderr",
     "output_type": "stream",
     "text": [
      "14:42:56 - cmdstanpy - INFO - Chain [1] start processing\n",
      "14:42:57 - cmdstanpy - INFO - Chain [1] done processing\n",
      "14:42:57 - cmdstanpy - INFO - Chain [1] start processing\n",
      "14:42:57 - cmdstanpy - INFO - Chain [1] done processing\n"
     ]
    },
    {
     "name": "stdout",
     "output_type": "stream",
     "text": [
      "Producto 20568: 36 períodos - Procesando\n"
     ]
    },
    {
     "name": "stderr",
     "output_type": "stream",
     "text": [
      "14:42:57 - cmdstanpy - INFO - Chain [1] start processing\n"
     ]
    },
    {
     "name": "stdout",
     "output_type": "stream",
     "text": [
      "Producto 20569: 16 períodos - Procesando\n"
     ]
    },
    {
     "name": "stderr",
     "output_type": "stream",
     "text": [
      "14:43:02 - cmdstanpy - INFO - Chain [1] done processing\n",
      "14:43:02 - cmdstanpy - INFO - Chain [1] start processing\n",
      "14:43:03 - cmdstanpy - INFO - Chain [1] done processing\n"
     ]
    },
    {
     "name": "stdout",
     "output_type": "stream",
     "text": [
      "Producto 20570: 36 períodos - Procesando\n"
     ]
    },
    {
     "name": "stderr",
     "output_type": "stream",
     "text": [
      "14:43:03 - cmdstanpy - INFO - Chain [1] start processing\n"
     ]
    },
    {
     "name": "stdout",
     "output_type": "stream",
     "text": [
      "Producto 20571: 21 períodos - Procesando\n"
     ]
    },
    {
     "name": "stderr",
     "output_type": "stream",
     "text": [
      "14:43:03 - cmdstanpy - INFO - Chain [1] done processing\n",
      "14:43:03 - cmdstanpy - INFO - Chain [1] start processing\n",
      "14:43:04 - cmdstanpy - INFO - Chain [1] done processing\n"
     ]
    },
    {
     "name": "stdout",
     "output_type": "stream",
     "text": [
      "Producto 20572: 36 períodos - Procesando\n"
     ]
    },
    {
     "name": "stderr",
     "output_type": "stream",
     "text": [
      "14:43:04 - cmdstanpy - INFO - Chain [1] start processing\n",
      "14:43:04 - cmdstanpy - INFO - Chain [1] done processing\n"
     ]
    },
    {
     "name": "stdout",
     "output_type": "stream",
     "text": [
      "Producto 20573: 29 períodos - Procesando\n"
     ]
    },
    {
     "name": "stderr",
     "output_type": "stream",
     "text": [
      "14:43:04 - cmdstanpy - INFO - Chain [1] start processing\n",
      "14:43:04 - cmdstanpy - INFO - Chain [1] done processing\n"
     ]
    },
    {
     "name": "stdout",
     "output_type": "stream",
     "text": [
      "Producto 20574: 27 períodos - Procesando\n"
     ]
    },
    {
     "name": "stderr",
     "output_type": "stream",
     "text": [
      "14:43:04 - cmdstanpy - INFO - Chain [1] start processing\n",
      "14:43:04 - cmdstanpy - INFO - Chain [1] done processing\n"
     ]
    },
    {
     "name": "stdout",
     "output_type": "stream",
     "text": [
      "Producto 20575: 9 períodos - Procesando\n"
     ]
    },
    {
     "name": "stderr",
     "output_type": "stream",
     "text": [
      "14:43:04 - cmdstanpy - INFO - Chain [1] start processing\n"
     ]
    },
    {
     "name": "stdout",
     "output_type": "stream",
     "text": [
      "Producto 20576: 22 períodos - Procesando\n"
     ]
    },
    {
     "name": "stderr",
     "output_type": "stream",
     "text": [
      "14:43:05 - cmdstanpy - INFO - Chain [1] done processing\n",
      "14:43:06 - cmdstanpy - INFO - Chain [1] start processing\n"
     ]
    },
    {
     "name": "stdout",
     "output_type": "stream",
     "text": [
      "Producto 20577: 9 períodos - Procesando\n"
     ]
    },
    {
     "name": "stderr",
     "output_type": "stream",
     "text": [
      "14:43:10 - cmdstanpy - INFO - Chain [1] done processing\n",
      "14:43:10 - cmdstanpy - INFO - Chain [1] start processing\n"
     ]
    },
    {
     "name": "stdout",
     "output_type": "stream",
     "text": [
      "Producto 20578: 35 períodos - Procesando\n"
     ]
    },
    {
     "name": "stderr",
     "output_type": "stream",
     "text": [
      "14:43:10 - cmdstanpy - INFO - Chain [1] done processing\n",
      "14:43:10 - cmdstanpy - INFO - Chain [1] start processing\n",
      "14:43:10 - cmdstanpy - INFO - Chain [1] done processing\n"
     ]
    },
    {
     "name": "stdout",
     "output_type": "stream",
     "text": [
      "Producto 20579: 36 períodos - Procesando\n",
      "Producto 20580: 14 períodos - Procesando\n"
     ]
    },
    {
     "name": "stderr",
     "output_type": "stream",
     "text": [
      "14:43:10 - cmdstanpy - INFO - Chain [1] start processing\n",
      "14:43:13 - cmdstanpy - INFO - Chain [1] done processing\n",
      "14:43:13 - cmdstanpy - INFO - Chain [1] start processing\n"
     ]
    },
    {
     "name": "stdout",
     "output_type": "stream",
     "text": [
      "Producto 20581: 11 períodos - Procesando\n"
     ]
    },
    {
     "name": "stderr",
     "output_type": "stream",
     "text": [
      "14:43:18 - cmdstanpy - INFO - Chain [1] done processing\n",
      "14:43:18 - cmdstanpy - INFO - Chain [1] start processing\n",
      "14:43:18 - cmdstanpy - INFO - Chain [1] done processing\n"
     ]
    },
    {
     "name": "stdout",
     "output_type": "stream",
     "text": [
      "Producto 20582: 34 períodos - Procesando\n",
      "Producto 20583: 36 períodos - Procesando\n"
     ]
    },
    {
     "name": "stderr",
     "output_type": "stream",
     "text": [
      "14:43:18 - cmdstanpy - INFO - Chain [1] start processing\n",
      "14:43:18 - cmdstanpy - INFO - Chain [1] done processing\n",
      "14:43:18 - cmdstanpy - INFO - Chain [1] start processing\n"
     ]
    },
    {
     "name": "stdout",
     "output_type": "stream",
     "text": [
      "Producto 20584: 22 períodos - Procesando\n"
     ]
    },
    {
     "name": "stderr",
     "output_type": "stream",
     "text": [
      "14:43:19 - cmdstanpy - INFO - Chain [1] done processing\n",
      "14:43:19 - cmdstanpy - INFO - Chain [1] start processing\n",
      "14:43:19 - cmdstanpy - INFO - Chain [1] done processing\n"
     ]
    },
    {
     "name": "stdout",
     "output_type": "stream",
     "text": [
      "Producto 20585: 36 períodos - Procesando\n"
     ]
    },
    {
     "name": "stderr",
     "output_type": "stream",
     "text": [
      "14:43:20 - cmdstanpy - INFO - Chain [1] start processing\n",
      "14:43:20 - cmdstanpy - INFO - Chain [1] done processing\n"
     ]
    },
    {
     "name": "stdout",
     "output_type": "stream",
     "text": [
      "Producto 20586: 36 períodos - Procesando\n"
     ]
    },
    {
     "name": "stderr",
     "output_type": "stream",
     "text": [
      "14:43:20 - cmdstanpy - INFO - Chain [1] start processing\n",
      "14:43:20 - cmdstanpy - INFO - Chain [1] done processing\n"
     ]
    },
    {
     "name": "stdout",
     "output_type": "stream",
     "text": [
      "Producto 20587: 26 períodos - Procesando\n",
      "Producto 20588: 34 períodos - Procesando\n"
     ]
    },
    {
     "name": "stderr",
     "output_type": "stream",
     "text": [
      "14:43:20 - cmdstanpy - INFO - Chain [1] start processing\n",
      "14:43:20 - cmdstanpy - INFO - Chain [1] done processing\n",
      "14:43:20 - cmdstanpy - INFO - Chain [1] start processing\n",
      "14:43:20 - cmdstanpy - INFO - Chain [1] done processing\n"
     ]
    },
    {
     "name": "stdout",
     "output_type": "stream",
     "text": [
      "Producto 20589: 27 períodos - Procesando\n",
      "Producto 20590: 27 períodos - Procesando\n"
     ]
    },
    {
     "name": "stderr",
     "output_type": "stream",
     "text": [
      "14:43:20 - cmdstanpy - INFO - Chain [1] start processing\n",
      "14:43:20 - cmdstanpy - INFO - Chain [1] done processing\n",
      "14:43:21 - cmdstanpy - INFO - Chain [1] start processing\n"
     ]
    },
    {
     "name": "stdout",
     "output_type": "stream",
     "text": [
      "Producto 20591: 8 períodos - Procesando\n"
     ]
    },
    {
     "name": "stderr",
     "output_type": "stream",
     "text": [
      "14:43:21 - cmdstanpy - INFO - Chain [1] done processing\n",
      "14:43:21 - cmdstanpy - INFO - Chain [1] start processing\n",
      "14:43:21 - cmdstanpy - INFO - Chain [1] done processing\n"
     ]
    },
    {
     "name": "stdout",
     "output_type": "stream",
     "text": [
      "Producto 20592: 7 períodos - Procesando\n",
      "Producto 20593: 9 períodos - Procesando\n"
     ]
    },
    {
     "name": "stderr",
     "output_type": "stream",
     "text": [
      "14:43:21 - cmdstanpy - INFO - Chain [1] start processing\n",
      "14:43:21 - cmdstanpy - INFO - Chain [1] done processing\n",
      "14:43:22 - cmdstanpy - INFO - Chain [1] start processing\n",
      "14:43:22 - cmdstanpy - INFO - Chain [1] done processing\n"
     ]
    },
    {
     "name": "stdout",
     "output_type": "stream",
     "text": [
      "Producto 20594: 36 períodos - Procesando\n",
      "Producto 20595: 27 períodos - Procesando\n"
     ]
    },
    {
     "name": "stderr",
     "output_type": "stream",
     "text": [
      "14:43:22 - cmdstanpy - INFO - Chain [1] start processing\n",
      "14:43:22 - cmdstanpy - INFO - Chain [1] done processing\n",
      "14:43:22 - cmdstanpy - INFO - Chain [1] start processing\n",
      "14:43:22 - cmdstanpy - INFO - Chain [1] done processing\n"
     ]
    },
    {
     "name": "stdout",
     "output_type": "stream",
     "text": [
      "Producto 20596: 35 períodos - Procesando\n"
     ]
    },
    {
     "name": "stderr",
     "output_type": "stream",
     "text": [
      "14:43:22 - cmdstanpy - INFO - Chain [1] start processing\n"
     ]
    },
    {
     "name": "stdout",
     "output_type": "stream",
     "text": [
      "Producto 20597: 36 períodos - Procesando\n"
     ]
    },
    {
     "name": "stderr",
     "output_type": "stream",
     "text": [
      "14:43:22 - cmdstanpy - INFO - Chain [1] done processing\n",
      "14:43:22 - cmdstanpy - INFO - Chain [1] start processing\n",
      "14:43:23 - cmdstanpy - INFO - Chain [1] done processing\n"
     ]
    },
    {
     "name": "stdout",
     "output_type": "stream",
     "text": [
      "Producto 20598: 25 períodos - Procesando\n",
      "Producto 20599: 36 períodos - Procesando\n"
     ]
    },
    {
     "name": "stderr",
     "output_type": "stream",
     "text": [
      "14:43:23 - cmdstanpy - INFO - Chain [1] start processing\n",
      "14:43:23 - cmdstanpy - INFO - Chain [1] done processing\n",
      "14:43:23 - cmdstanpy - INFO - Chain [1] start processing\n",
      "14:43:23 - cmdstanpy - INFO - Chain [1] done processing\n"
     ]
    },
    {
     "name": "stdout",
     "output_type": "stream",
     "text": [
      "Producto 20600: 36 períodos - Procesando\n"
     ]
    },
    {
     "name": "stderr",
     "output_type": "stream",
     "text": [
      "14:43:23 - cmdstanpy - INFO - Chain [1] start processing\n",
      "14:43:23 - cmdstanpy - INFO - Chain [1] done processing\n"
     ]
    },
    {
     "name": "stdout",
     "output_type": "stream",
     "text": [
      "Producto 20601: 36 períodos - Procesando\n"
     ]
    },
    {
     "name": "stderr",
     "output_type": "stream",
     "text": [
      "14:43:23 - cmdstanpy - INFO - Chain [1] start processing\n",
      "14:43:23 - cmdstanpy - INFO - Chain [1] done processing\n"
     ]
    },
    {
     "name": "stdout",
     "output_type": "stream",
     "text": [
      "Producto 20602: 36 períodos - Procesando\n",
      "Producto 20603: 9 períodos - Procesando\n"
     ]
    },
    {
     "name": "stderr",
     "output_type": "stream",
     "text": [
      "14:43:23 - cmdstanpy - INFO - Chain [1] start processing\n",
      "14:43:24 - cmdstanpy - INFO - Chain [1] done processing\n",
      "14:43:24 - cmdstanpy - INFO - Chain [1] start processing\n"
     ]
    },
    {
     "name": "stdout",
     "output_type": "stream",
     "text": [
      "Producto 20604: 22 períodos - Procesando\n"
     ]
    },
    {
     "name": "stderr",
     "output_type": "stream",
     "text": [
      "14:43:29 - cmdstanpy - INFO - Chain [1] done processing\n",
      "14:43:29 - cmdstanpy - INFO - Chain [1] start processing\n",
      "14:43:29 - cmdstanpy - INFO - Chain [1] done processing\n"
     ]
    },
    {
     "name": "stdout",
     "output_type": "stream",
     "text": [
      "Producto 20605: 36 períodos - Procesando\n",
      "Producto 20606: 36 períodos - Procesando\n"
     ]
    },
    {
     "name": "stderr",
     "output_type": "stream",
     "text": [
      "14:43:29 - cmdstanpy - INFO - Chain [1] start processing\n",
      "14:43:30 - cmdstanpy - INFO - Chain [1] done processing\n",
      "14:43:30 - cmdstanpy - INFO - Chain [1] start processing\n",
      "14:43:30 - cmdstanpy - INFO - Chain [1] done processing\n"
     ]
    },
    {
     "name": "stdout",
     "output_type": "stream",
     "text": [
      "Producto 20607: 25 períodos - Procesando\n"
     ]
    },
    {
     "name": "stderr",
     "output_type": "stream",
     "text": [
      "14:43:30 - cmdstanpy - INFO - Chain [1] start processing\n",
      "14:43:30 - cmdstanpy - INFO - Chain [1] done processing\n"
     ]
    },
    {
     "name": "stdout",
     "output_type": "stream",
     "text": [
      "Producto 20608: 32 períodos - Procesando\n"
     ]
    },
    {
     "name": "stderr",
     "output_type": "stream",
     "text": [
      "14:43:30 - cmdstanpy - INFO - Chain [1] start processing\n",
      "14:43:30 - cmdstanpy - INFO - Chain [1] done processing\n"
     ]
    },
    {
     "name": "stdout",
     "output_type": "stream",
     "text": [
      "Producto 20609: 36 períodos - Procesando\n",
      "Producto 20610: 21 períodos - Procesando\n"
     ]
    },
    {
     "name": "stderr",
     "output_type": "stream",
     "text": [
      "14:43:30 - cmdstanpy - INFO - Chain [1] start processing\n",
      "14:43:31 - cmdstanpy - INFO - Chain [1] done processing\n",
      "14:43:31 - cmdstanpy - INFO - Chain [1] start processing\n"
     ]
    },
    {
     "name": "stdout",
     "output_type": "stream",
     "text": [
      "Producto 20611: 16 períodos - Procesando\n"
     ]
    },
    {
     "name": "stderr",
     "output_type": "stream",
     "text": [
      "14:43:37 - cmdstanpy - INFO - Chain [1] done processing\n",
      "14:43:37 - cmdstanpy - INFO - Chain [1] start processing\n"
     ]
    },
    {
     "name": "stdout",
     "output_type": "stream",
     "text": [
      "Producto 20612: 36 períodos - Procesando\n"
     ]
    },
    {
     "name": "stderr",
     "output_type": "stream",
     "text": [
      "14:43:37 - cmdstanpy - INFO - Chain [1] done processing\n",
      "14:43:37 - cmdstanpy - INFO - Chain [1] start processing\n"
     ]
    },
    {
     "name": "stdout",
     "output_type": "stream",
     "text": [
      "Producto 20613: 9 períodos - Procesando\n"
     ]
    },
    {
     "name": "stderr",
     "output_type": "stream",
     "text": [
      "14:43:37 - cmdstanpy - INFO - Chain [1] done processing\n",
      "14:43:37 - cmdstanpy - INFO - Chain [1] start processing\n",
      "14:43:38 - cmdstanpy - INFO - Chain [1] done processing\n"
     ]
    },
    {
     "name": "stdout",
     "output_type": "stream",
     "text": [
      "Producto 20614: 36 períodos - Procesando\n"
     ]
    },
    {
     "name": "stderr",
     "output_type": "stream",
     "text": [
      "14:43:38 - cmdstanpy - INFO - Chain [1] start processing\n",
      "14:43:38 - cmdstanpy - INFO - Chain [1] done processing\n"
     ]
    },
    {
     "name": "stdout",
     "output_type": "stream",
     "text": [
      "Producto 20615: 6 períodos - Procesando\n"
     ]
    },
    {
     "name": "stderr",
     "output_type": "stream",
     "text": [
      "14:43:38 - cmdstanpy - INFO - Chain [1] start processing\n"
     ]
    },
    {
     "name": "stdout",
     "output_type": "stream",
     "text": [
      "Producto 20616: 11 períodos - Procesando\n"
     ]
    },
    {
     "name": "stderr",
     "output_type": "stream",
     "text": [
      "14:43:38 - cmdstanpy - INFO - Chain [1] done processing\n",
      "14:43:38 - cmdstanpy - INFO - Chain [1] start processing\n"
     ]
    },
    {
     "name": "stdout",
     "output_type": "stream",
     "text": [
      "Producto 20617: 36 períodos - Procesando\n"
     ]
    },
    {
     "name": "stderr",
     "output_type": "stream",
     "text": [
      "14:43:38 - cmdstanpy - INFO - Chain [1] done processing\n",
      "14:43:38 - cmdstanpy - INFO - Chain [1] start processing\n",
      "14:43:38 - cmdstanpy - INFO - Chain [1] done processing\n"
     ]
    },
    {
     "name": "stdout",
     "output_type": "stream",
     "text": [
      "Producto 20618: 35 períodos - Procesando\n",
      "Producto 20619: 13 períodos - Procesando\n"
     ]
    },
    {
     "name": "stderr",
     "output_type": "stream",
     "text": [
      "14:43:38 - cmdstanpy - INFO - Chain [1] start processing\n",
      "14:43:39 - cmdstanpy - INFO - Chain [1] done processing\n",
      "14:43:39 - cmdstanpy - INFO - Chain [1] start processing\n",
      "14:43:39 - cmdstanpy - INFO - Chain [1] done processing\n"
     ]
    },
    {
     "name": "stdout",
     "output_type": "stream",
     "text": [
      "Producto 20620: 10 períodos - Procesando\n",
      "Producto 20621: 6 períodos - Procesando\n"
     ]
    },
    {
     "name": "stderr",
     "output_type": "stream",
     "text": [
      "14:43:39 - cmdstanpy - INFO - Chain [1] start processing\n",
      "14:43:39 - cmdstanpy - INFO - Chain [1] done processing\n",
      "14:43:39 - cmdstanpy - INFO - Chain [1] start processing\n",
      "14:43:39 - cmdstanpy - INFO - Chain [1] done processing\n"
     ]
    },
    {
     "name": "stdout",
     "output_type": "stream",
     "text": [
      "Producto 20622: 36 períodos - Procesando\n"
     ]
    },
    {
     "name": "stderr",
     "output_type": "stream",
     "text": [
      "14:43:39 - cmdstanpy - INFO - Chain [1] start processing\n",
      "14:43:39 - cmdstanpy - INFO - Chain [1] done processing\n"
     ]
    },
    {
     "name": "stdout",
     "output_type": "stream",
     "text": [
      "Producto 20623: 10 períodos - Procesando\n"
     ]
    },
    {
     "name": "stderr",
     "output_type": "stream",
     "text": [
      "14:43:40 - cmdstanpy - INFO - Chain [1] start processing\n"
     ]
    },
    {
     "name": "stdout",
     "output_type": "stream",
     "text": [
      "Producto 20624: 28 períodos - Procesando\n"
     ]
    },
    {
     "name": "stderr",
     "output_type": "stream",
     "text": [
      "14:43:40 - cmdstanpy - INFO - Chain [1] done processing\n",
      "14:43:40 - cmdstanpy - INFO - Chain [1] start processing\n",
      "14:43:40 - cmdstanpy - INFO - Chain [1] done processing\n"
     ]
    },
    {
     "name": "stdout",
     "output_type": "stream",
     "text": [
      "Producto 20625: 31 períodos - Procesando\n",
      "Producto 20626: 6 períodos - Procesando\n"
     ]
    },
    {
     "name": "stderr",
     "output_type": "stream",
     "text": [
      "14:43:40 - cmdstanpy - INFO - Chain [1] start processing\n",
      "14:43:41 - cmdstanpy - INFO - Chain [1] done processing\n",
      "14:43:41 - cmdstanpy - INFO - Chain [1] start processing\n"
     ]
    },
    {
     "name": "stdout",
     "output_type": "stream",
     "text": [
      "Producto 20627: 14 períodos - Procesando\n"
     ]
    },
    {
     "name": "stderr",
     "output_type": "stream",
     "text": [
      "14:43:45 - cmdstanpy - INFO - Chain [1] done processing\n",
      "14:43:45 - cmdstanpy - INFO - Chain [1] start processing\n"
     ]
    },
    {
     "name": "stdout",
     "output_type": "stream",
     "text": [
      "Producto 20628: 36 períodos - Procesando\n"
     ]
    },
    {
     "name": "stderr",
     "output_type": "stream",
     "text": [
      "14:43:45 - cmdstanpy - INFO - Chain [1] done processing\n",
      "14:43:45 - cmdstanpy - INFO - Chain [1] start processing\n",
      "14:43:45 - cmdstanpy - INFO - Chain [1] done processing\n"
     ]
    },
    {
     "name": "stdout",
     "output_type": "stream",
     "text": [
      "Producto 20629: 36 períodos - Procesando\n"
     ]
    },
    {
     "name": "stderr",
     "output_type": "stream",
     "text": [
      "14:43:45 - cmdstanpy - INFO - Chain [1] start processing\n",
      "14:43:46 - cmdstanpy - INFO - Chain [1] done processing\n"
     ]
    },
    {
     "name": "stdout",
     "output_type": "stream",
     "text": [
      "Producto 20630: 25 períodos - Procesando\n",
      "Producto 20631: 3 períodos - Procesando\n"
     ]
    },
    {
     "name": "stderr",
     "output_type": "stream",
     "text": [
      "14:43:46 - cmdstanpy - INFO - Chain [1] start processing\n",
      "14:43:46 - cmdstanpy - INFO - Chain [1] done processing\n",
      "14:43:46 - cmdstanpy - INFO - Chain [1] start processing\n",
      "14:43:46 - cmdstanpy - INFO - Chain [1] done processing\n"
     ]
    },
    {
     "name": "stdout",
     "output_type": "stream",
     "text": [
      "Producto 20632: 36 períodos - Procesando\n"
     ]
    },
    {
     "name": "stderr",
     "output_type": "stream",
     "text": [
      "14:43:46 - cmdstanpy - INFO - Chain [1] start processing\n",
      "14:43:46 - cmdstanpy - INFO - Chain [1] done processing\n"
     ]
    },
    {
     "name": "stdout",
     "output_type": "stream",
     "text": [
      "Producto 20633: 9 períodos - Procesando\n",
      "Producto 20634: 10 períodos - Procesando\n"
     ]
    },
    {
     "name": "stderr",
     "output_type": "stream",
     "text": [
      "14:43:46 - cmdstanpy - INFO - Chain [1] start processing\n",
      "14:43:46 - cmdstanpy - INFO - Chain [1] done processing\n",
      "14:43:47 - cmdstanpy - INFO - Chain [1] start processing\n",
      "14:43:47 - cmdstanpy - INFO - Chain [1] done processing\n"
     ]
    },
    {
     "name": "stdout",
     "output_type": "stream",
     "text": [
      "Producto 20635: 27 períodos - Procesando\n",
      "Producto 20636: 36 períodos - Procesando\n"
     ]
    },
    {
     "name": "stderr",
     "output_type": "stream",
     "text": [
      "14:43:47 - cmdstanpy - INFO - Chain [1] start processing\n",
      "14:43:47 - cmdstanpy - INFO - Chain [1] done processing\n",
      "14:43:47 - cmdstanpy - INFO - Chain [1] start processing\n",
      "14:43:47 - cmdstanpy - INFO - Chain [1] done processing\n"
     ]
    },
    {
     "name": "stdout",
     "output_type": "stream",
     "text": [
      "Producto 20637: 36 períodos - Procesando\n"
     ]
    },
    {
     "name": "stderr",
     "output_type": "stream",
     "text": [
      "14:43:47 - cmdstanpy - INFO - Chain [1] start processing\n"
     ]
    },
    {
     "name": "stdout",
     "output_type": "stream",
     "text": [
      "Producto 20638: 18 períodos - Procesando\n"
     ]
    },
    {
     "name": "stderr",
     "output_type": "stream",
     "text": [
      "14:43:53 - cmdstanpy - INFO - Chain [1] done processing\n",
      "14:43:53 - cmdstanpy - INFO - Chain [1] start processing\n",
      "14:43:53 - cmdstanpy - INFO - Chain [1] done processing\n"
     ]
    },
    {
     "name": "stdout",
     "output_type": "stream",
     "text": [
      "Producto 20639: 36 períodos - Procesando\n"
     ]
    },
    {
     "name": "stderr",
     "output_type": "stream",
     "text": [
      "14:43:54 - cmdstanpy - INFO - Chain [1] start processing\n",
      "14:43:54 - cmdstanpy - INFO - Chain [1] done processing\n"
     ]
    },
    {
     "name": "stdout",
     "output_type": "stream",
     "text": [
      "Producto 20640: 36 períodos - Procesando\n"
     ]
    },
    {
     "name": "stderr",
     "output_type": "stream",
     "text": [
      "14:43:54 - cmdstanpy - INFO - Chain [1] start processing\n"
     ]
    },
    {
     "name": "stdout",
     "output_type": "stream",
     "text": [
      "Producto 20641: 35 períodos - Procesando\n"
     ]
    },
    {
     "name": "stderr",
     "output_type": "stream",
     "text": [
      "14:43:54 - cmdstanpy - INFO - Chain [1] done processing\n",
      "14:43:54 - cmdstanpy - INFO - Chain [1] start processing\n",
      "14:43:54 - cmdstanpy - INFO - Chain [1] done processing\n"
     ]
    },
    {
     "name": "stdout",
     "output_type": "stream",
     "text": [
      "Producto 20642: 36 períodos - Procesando\n"
     ]
    },
    {
     "name": "stderr",
     "output_type": "stream",
     "text": [
      "14:43:54 - cmdstanpy - INFO - Chain [1] start processing\n"
     ]
    },
    {
     "name": "stdout",
     "output_type": "stream",
     "text": [
      "Producto 20643: 10 períodos - Procesando\n"
     ]
    },
    {
     "name": "stderr",
     "output_type": "stream",
     "text": [
      "14:43:55 - cmdstanpy - INFO - Chain [1] done processing\n",
      "14:43:55 - cmdstanpy - INFO - Chain [1] start processing\n"
     ]
    },
    {
     "name": "stdout",
     "output_type": "stream",
     "text": [
      "Producto 20644: 36 períodos - Procesando\n"
     ]
    },
    {
     "name": "stderr",
     "output_type": "stream",
     "text": [
      "14:43:55 - cmdstanpy - INFO - Chain [1] done processing\n",
      "14:43:55 - cmdstanpy - INFO - Chain [1] start processing\n",
      "14:43:55 - cmdstanpy - INFO - Chain [1] done processing\n"
     ]
    },
    {
     "name": "stdout",
     "output_type": "stream",
     "text": [
      "Producto 20645: 36 períodos - Procesando\n"
     ]
    },
    {
     "name": "stderr",
     "output_type": "stream",
     "text": [
      "14:43:55 - cmdstanpy - INFO - Chain [1] start processing\n",
      "14:43:56 - cmdstanpy - INFO - Chain [1] done processing\n"
     ]
    },
    {
     "name": "stdout",
     "output_type": "stream",
     "text": [
      "Producto 20646: 27 períodos - Procesando\n"
     ]
    },
    {
     "name": "stderr",
     "output_type": "stream",
     "text": [
      "14:43:56 - cmdstanpy - INFO - Chain [1] start processing\n",
      "14:43:56 - cmdstanpy - INFO - Chain [1] done processing\n"
     ]
    },
    {
     "name": "stdout",
     "output_type": "stream",
     "text": [
      "Producto 20647: 36 períodos - Procesando\n",
      "Producto 20648: 24 períodos - Procesando\n"
     ]
    },
    {
     "name": "stderr",
     "output_type": "stream",
     "text": [
      "14:43:56 - cmdstanpy - INFO - Chain [1] start processing\n",
      "14:43:56 - cmdstanpy - INFO - Chain [1] done processing\n",
      "14:43:56 - cmdstanpy - INFO - Chain [1] start processing\n"
     ]
    },
    {
     "name": "stdout",
     "output_type": "stream",
     "text": [
      "Producto 20649: 7 períodos - Procesando\n"
     ]
    },
    {
     "name": "stderr",
     "output_type": "stream",
     "text": [
      "14:43:56 - cmdstanpy - INFO - Chain [1] done processing\n",
      "14:43:57 - cmdstanpy - INFO - Chain [1] start processing\n",
      "14:43:57 - cmdstanpy - INFO - Chain [1] done processing\n"
     ]
    },
    {
     "name": "stdout",
     "output_type": "stream",
     "text": [
      "Producto 20650: 27 períodos - Procesando\n",
      "Producto 20651: 36 períodos - Procesando\n"
     ]
    },
    {
     "name": "stderr",
     "output_type": "stream",
     "text": [
      "14:43:57 - cmdstanpy - INFO - Chain [1] start processing\n",
      "14:43:57 - cmdstanpy - INFO - Chain [1] done processing\n",
      "14:43:57 - cmdstanpy - INFO - Chain [1] start processing\n",
      "14:43:57 - cmdstanpy - INFO - Chain [1] done processing\n"
     ]
    },
    {
     "name": "stdout",
     "output_type": "stream",
     "text": [
      "Producto 20652: 36 períodos - Procesando\n",
      "Producto 20653: 36 períodos - Procesando\n"
     ]
    },
    {
     "name": "stderr",
     "output_type": "stream",
     "text": [
      "14:43:57 - cmdstanpy - INFO - Chain [1] start processing\n",
      "14:43:57 - cmdstanpy - INFO - Chain [1] done processing\n",
      "14:43:57 - cmdstanpy - INFO - Chain [1] start processing\n",
      "14:43:57 - cmdstanpy - INFO - Chain [1] done processing\n"
     ]
    },
    {
     "name": "stdout",
     "output_type": "stream",
     "text": [
      "Producto 20654: 36 períodos - Procesando\n",
      "Producto 20655: 36 períodos - Procesando\n"
     ]
    },
    {
     "name": "stderr",
     "output_type": "stream",
     "text": [
      "14:43:57 - cmdstanpy - INFO - Chain [1] start processing\n",
      "14:43:58 - cmdstanpy - INFO - Chain [1] done processing\n",
      "14:43:58 - cmdstanpy - INFO - Chain [1] start processing\n"
     ]
    },
    {
     "name": "stdout",
     "output_type": "stream",
     "text": [
      "Producto 20656: 36 períodos - Procesando\n"
     ]
    },
    {
     "name": "stderr",
     "output_type": "stream",
     "text": [
      "14:43:58 - cmdstanpy - INFO - Chain [1] done processing\n",
      "14:43:58 - cmdstanpy - INFO - Chain [1] start processing\n",
      "14:43:58 - cmdstanpy - INFO - Chain [1] done processing\n"
     ]
    },
    {
     "name": "stdout",
     "output_type": "stream",
     "text": [
      "Producto 20657: 29 períodos - Procesando\n"
     ]
    },
    {
     "name": "stderr",
     "output_type": "stream",
     "text": [
      "14:43:58 - cmdstanpy - INFO - Chain [1] start processing\n",
      "14:43:58 - cmdstanpy - INFO - Chain [1] done processing\n"
     ]
    },
    {
     "name": "stdout",
     "output_type": "stream",
     "text": [
      "Producto 20658: 36 períodos - Procesando\n",
      "Producto 20659: 10 períodos - Procesando\n"
     ]
    },
    {
     "name": "stderr",
     "output_type": "stream",
     "text": [
      "14:43:58 - cmdstanpy - INFO - Chain [1] start processing\n",
      "14:43:59 - cmdstanpy - INFO - Chain [1] done processing\n",
      "14:43:59 - cmdstanpy - INFO - Chain [1] start processing\n",
      "14:43:59 - cmdstanpy - INFO - Chain [1] done processing\n"
     ]
    },
    {
     "name": "stdout",
     "output_type": "stream",
     "text": [
      "Producto 20660: 36 períodos - Procesando\n",
      "Producto 20661: 36 períodos - Procesando\n"
     ]
    },
    {
     "name": "stderr",
     "output_type": "stream",
     "text": [
      "14:43:59 - cmdstanpy - INFO - Chain [1] start processing\n",
      "14:43:59 - cmdstanpy - INFO - Chain [1] done processing\n",
      "14:43:59 - cmdstanpy - INFO - Chain [1] start processing\n",
      "14:43:59 - cmdstanpy - INFO - Chain [1] done processing\n",
      "14:43:59 - cmdstanpy - INFO - Chain [1] start processing\n"
     ]
    },
    {
     "name": "stdout",
     "output_type": "stream",
     "text": [
      "Producto 20662: 6 períodos - Procesando\n",
      "Producto 20663: 36 períodos - Procesando\n"
     ]
    },
    {
     "name": "stderr",
     "output_type": "stream",
     "text": [
      "14:44:00 - cmdstanpy - INFO - Chain [1] done processing\n",
      "14:44:00 - cmdstanpy - INFO - Chain [1] start processing\n",
      "14:44:00 - cmdstanpy - INFO - Chain [1] done processing\n"
     ]
    },
    {
     "name": "stdout",
     "output_type": "stream",
     "text": [
      "Producto 20664: 36 períodos - Procesando\n",
      "Producto 20665: 35 períodos - Procesando\n"
     ]
    },
    {
     "name": "stderr",
     "output_type": "stream",
     "text": [
      "14:44:00 - cmdstanpy - INFO - Chain [1] start processing\n",
      "14:44:00 - cmdstanpy - INFO - Chain [1] done processing\n",
      "14:44:00 - cmdstanpy - INFO - Chain [1] start processing\n",
      "14:44:00 - cmdstanpy - INFO - Chain [1] done processing\n"
     ]
    },
    {
     "name": "stdout",
     "output_type": "stream",
     "text": [
      "Producto 20666: 34 períodos - Procesando\n"
     ]
    },
    {
     "name": "stderr",
     "output_type": "stream",
     "text": [
      "14:44:00 - cmdstanpy - INFO - Chain [1] start processing\n",
      "14:44:00 - cmdstanpy - INFO - Chain [1] done processing\n"
     ]
    },
    {
     "name": "stdout",
     "output_type": "stream",
     "text": [
      "Producto 20667: 31 períodos - Procesando\n"
     ]
    },
    {
     "name": "stderr",
     "output_type": "stream",
     "text": [
      "14:44:00 - cmdstanpy - INFO - Chain [1] start processing\n"
     ]
    },
    {
     "name": "stdout",
     "output_type": "stream",
     "text": [
      "Producto 20668: 9 períodos - Procesando\n"
     ]
    },
    {
     "name": "stderr",
     "output_type": "stream",
     "text": [
      "14:44:03 - cmdstanpy - INFO - Chain [1] done processing\n",
      "14:44:03 - cmdstanpy - INFO - Chain [1] start processing\n",
      "14:44:03 - cmdstanpy - INFO - Chain [1] done processing\n"
     ]
    },
    {
     "name": "stdout",
     "output_type": "stream",
     "text": [
      "Producto 20669: 36 períodos - Procesando\n",
      "Producto 20670: 36 períodos - Procesando\n"
     ]
    },
    {
     "name": "stderr",
     "output_type": "stream",
     "text": [
      "14:44:03 - cmdstanpy - INFO - Chain [1] start processing\n",
      "14:44:03 - cmdstanpy - INFO - Chain [1] done processing\n",
      "14:44:03 - cmdstanpy - INFO - Chain [1] start processing\n"
     ]
    },
    {
     "name": "stdout",
     "output_type": "stream",
     "text": [
      "Producto 20671: 3 períodos - Procesando\n"
     ]
    },
    {
     "name": "stderr",
     "output_type": "stream",
     "text": [
      "14:44:03 - cmdstanpy - INFO - Chain [1] done processing\n",
      "14:44:04 - cmdstanpy - INFO - Chain [1] start processing\n",
      "14:44:04 - cmdstanpy - INFO - Chain [1] done processing\n"
     ]
    },
    {
     "name": "stdout",
     "output_type": "stream",
     "text": [
      "Producto 20672: 36 períodos - Procesando\n",
      "Producto 20673: 6 períodos - Procesando\n"
     ]
    },
    {
     "name": "stderr",
     "output_type": "stream",
     "text": [
      "14:44:04 - cmdstanpy - INFO - Chain [1] start processing\n",
      "14:44:04 - cmdstanpy - INFO - Chain [1] done processing\n",
      "14:44:04 - cmdstanpy - INFO - Chain [1] start processing\n"
     ]
    },
    {
     "name": "stdout",
     "output_type": "stream",
     "text": [
      "Producto 20674: 7 períodos - Procesando\n"
     ]
    },
    {
     "name": "stderr",
     "output_type": "stream",
     "text": [
      "14:44:04 - cmdstanpy - INFO - Chain [1] done processing\n",
      "14:44:05 - cmdstanpy - INFO - Chain [1] start processing\n"
     ]
    },
    {
     "name": "stdout",
     "output_type": "stream",
     "text": [
      "Producto 20675: 15 períodos - Procesando\n"
     ]
    },
    {
     "name": "stderr",
     "output_type": "stream",
     "text": [
      "14:44:05 - cmdstanpy - INFO - Chain [1] done processing\n",
      "14:44:05 - cmdstanpy - INFO - Chain [1] start processing\n",
      "14:44:05 - cmdstanpy - INFO - Chain [1] done processing\n"
     ]
    },
    {
     "name": "stdout",
     "output_type": "stream",
     "text": [
      "Producto 20676: 36 períodos - Procesando\n",
      "Producto 20677: 36 períodos - Procesando\n"
     ]
    },
    {
     "name": "stderr",
     "output_type": "stream",
     "text": [
      "14:44:05 - cmdstanpy - INFO - Chain [1] start processing\n",
      "14:44:05 - cmdstanpy - INFO - Chain [1] done processing\n",
      "14:44:05 - cmdstanpy - INFO - Chain [1] start processing\n",
      "14:44:05 - cmdstanpy - INFO - Chain [1] done processing\n"
     ]
    },
    {
     "name": "stdout",
     "output_type": "stream",
     "text": [
      "Producto 20678: 36 períodos - Procesando\n",
      "Producto 20679: 17 períodos - Procesando\n"
     ]
    },
    {
     "name": "stderr",
     "output_type": "stream",
     "text": [
      "14:44:06 - cmdstanpy - INFO - Chain [1] start processing\n",
      "14:44:06 - cmdstanpy - INFO - Chain [1] done processing\n",
      "14:44:06 - cmdstanpy - INFO - Chain [1] start processing\n",
      "14:44:06 - cmdstanpy - INFO - Chain [1] done processing\n"
     ]
    },
    {
     "name": "stdout",
     "output_type": "stream",
     "text": [
      "Producto 20680: 36 períodos - Procesando\n",
      "Producto 20681: 9 períodos - Procesando\n"
     ]
    },
    {
     "name": "stderr",
     "output_type": "stream",
     "text": [
      "14:44:06 - cmdstanpy - INFO - Chain [1] start processing\n",
      "14:44:07 - cmdstanpy - INFO - Chain [1] done processing\n",
      "14:44:07 - cmdstanpy - INFO - Chain [1] start processing\n"
     ]
    },
    {
     "name": "stdout",
     "output_type": "stream",
     "text": [
      "Producto 20682: 16 períodos - Procesando\n"
     ]
    },
    {
     "name": "stderr",
     "output_type": "stream",
     "text": [
      "14:44:12 - cmdstanpy - INFO - Chain [1] done processing\n",
      "14:44:12 - cmdstanpy - INFO - Chain [1] start processing\n",
      "14:44:12 - cmdstanpy - INFO - Chain [1] done processing\n"
     ]
    },
    {
     "name": "stdout",
     "output_type": "stream",
     "text": [
      "Producto 20683: 36 períodos - Procesando\n"
     ]
    },
    {
     "name": "stderr",
     "output_type": "stream",
     "text": [
      "14:44:12 - cmdstanpy - INFO - Chain [1] start processing\n"
     ]
    },
    {
     "name": "stdout",
     "output_type": "stream",
     "text": [
      "Producto 20684: 36 períodos - Procesando\n"
     ]
    },
    {
     "name": "stderr",
     "output_type": "stream",
     "text": [
      "14:44:12 - cmdstanpy - INFO - Chain [1] done processing\n",
      "14:44:13 - cmdstanpy - INFO - Chain [1] start processing\n"
     ]
    },
    {
     "name": "stdout",
     "output_type": "stream",
     "text": [
      "Producto 20685: 36 períodos - Procesando\n"
     ]
    },
    {
     "name": "stderr",
     "output_type": "stream",
     "text": [
      "14:44:13 - cmdstanpy - INFO - Chain [1] done processing\n",
      "14:44:13 - cmdstanpy - INFO - Chain [1] start processing\n",
      "14:44:13 - cmdstanpy - INFO - Chain [1] done processing\n"
     ]
    },
    {
     "name": "stdout",
     "output_type": "stream",
     "text": [
      "Producto 20686: 4 períodos - Procesando\n",
      "Producto 20687: 17 períodos - Procesando\n"
     ]
    },
    {
     "name": "stderr",
     "output_type": "stream",
     "text": [
      "14:44:13 - cmdstanpy - INFO - Chain [1] start processing\n",
      "14:44:18 - cmdstanpy - INFO - Chain [1] done processing\n",
      "14:44:18 - cmdstanpy - INFO - Chain [1] start processing\n"
     ]
    },
    {
     "name": "stdout",
     "output_type": "stream",
     "text": [
      "Producto 20689: 14 períodos - Procesando\n"
     ]
    },
    {
     "name": "stderr",
     "output_type": "stream",
     "text": [
      "14:44:23 - cmdstanpy - INFO - Chain [1] done processing\n",
      "14:44:23 - cmdstanpy - INFO - Chain [1] start processing\n"
     ]
    },
    {
     "name": "stdout",
     "output_type": "stream",
     "text": [
      "Producto 20690: 19 períodos - Procesando\n"
     ]
    },
    {
     "name": "stderr",
     "output_type": "stream",
     "text": [
      "14:44:27 - cmdstanpy - INFO - Chain [1] done processing\n",
      "14:44:27 - cmdstanpy - INFO - Chain [1] start processing\n",
      "14:44:27 - cmdstanpy - INFO - Chain [1] done processing\n"
     ]
    },
    {
     "name": "stdout",
     "output_type": "stream",
     "text": [
      "Producto 20691: 7 períodos - Procesando\n",
      "Producto 20692: 15 períodos - Procesando\n"
     ]
    },
    {
     "name": "stderr",
     "output_type": "stream",
     "text": [
      "14:44:28 - cmdstanpy - INFO - Chain [1] start processing\n",
      "14:44:33 - cmdstanpy - INFO - Chain [1] done processing\n",
      "14:44:33 - cmdstanpy - INFO - Chain [1] start processing\n",
      "14:44:33 - cmdstanpy - INFO - Chain [1] done processing\n"
     ]
    },
    {
     "name": "stdout",
     "output_type": "stream",
     "text": [
      "Producto 20693: 36 períodos - Procesando\n",
      "Producto 20694: 5 períodos - Procesando\n"
     ]
    },
    {
     "name": "stderr",
     "output_type": "stream",
     "text": [
      "14:44:33 - cmdstanpy - INFO - Chain [1] start processing\n",
      "14:44:33 - cmdstanpy - INFO - Chain [1] done processing\n",
      "14:44:33 - cmdstanpy - INFO - Chain [1] start processing\n",
      "14:44:33 - cmdstanpy - INFO - Chain [1] done processing\n"
     ]
    },
    {
     "name": "stdout",
     "output_type": "stream",
     "text": [
      "Producto 20696: 36 períodos - Procesando\n",
      "Producto 20697: 36 períodos - Procesando\n"
     ]
    },
    {
     "name": "stderr",
     "output_type": "stream",
     "text": [
      "14:44:33 - cmdstanpy - INFO - Chain [1] start processing\n",
      "14:44:34 - cmdstanpy - INFO - Chain [1] done processing\n",
      "14:44:34 - cmdstanpy - INFO - Chain [1] start processing\n",
      "14:44:34 - cmdstanpy - INFO - Chain [1] done processing\n"
     ]
    },
    {
     "name": "stdout",
     "output_type": "stream",
     "text": [
      "Producto 20698: 31 períodos - Procesando\n",
      "Producto 20699: 36 períodos - Procesando\n"
     ]
    },
    {
     "name": "stderr",
     "output_type": "stream",
     "text": [
      "14:44:34 - cmdstanpy - INFO - Chain [1] start processing\n",
      "14:44:34 - cmdstanpy - INFO - Chain [1] done processing\n",
      "14:44:34 - cmdstanpy - INFO - Chain [1] start processing\n"
     ]
    },
    {
     "name": "stdout",
     "output_type": "stream",
     "text": [
      "Producto 20700: 15 períodos - Procesando\n"
     ]
    },
    {
     "name": "stderr",
     "output_type": "stream",
     "text": [
      "14:44:35 - cmdstanpy - INFO - Chain [1] done processing\n",
      "14:44:35 - cmdstanpy - INFO - Chain [1] start processing\n",
      "14:44:35 - cmdstanpy - INFO - Chain [1] done processing\n"
     ]
    },
    {
     "name": "stdout",
     "output_type": "stream",
     "text": [
      "Producto 20701: 36 períodos - Procesando\n",
      "Producto 20702: 36 períodos - Procesando\n"
     ]
    },
    {
     "name": "stderr",
     "output_type": "stream",
     "text": [
      "14:44:35 - cmdstanpy - INFO - Chain [1] start processing\n",
      "14:44:35 - cmdstanpy - INFO - Chain [1] done processing\n",
      "14:44:35 - cmdstanpy - INFO - Chain [1] start processing\n",
      "14:44:35 - cmdstanpy - INFO - Chain [1] done processing\n",
      "14:44:35 - cmdstanpy - INFO - Chain [1] start processing\n"
     ]
    },
    {
     "name": "stdout",
     "output_type": "stream",
     "text": [
      "Producto 20703: 4 períodos - Procesando\n",
      "Producto 20704: 15 períodos - Procesando\n"
     ]
    },
    {
     "name": "stderr",
     "output_type": "stream",
     "text": [
      "14:44:40 - cmdstanpy - INFO - Chain [1] done processing\n",
      "14:44:41 - cmdstanpy - INFO - Chain [1] start processing\n",
      "14:44:41 - cmdstanpy - INFO - Chain [1] done processing\n"
     ]
    },
    {
     "name": "stdout",
     "output_type": "stream",
     "text": [
      "Producto 20705: 36 períodos - Procesando\n"
     ]
    },
    {
     "name": "stderr",
     "output_type": "stream",
     "text": [
      "14:44:41 - cmdstanpy - INFO - Chain [1] start processing\n"
     ]
    },
    {
     "name": "stdout",
     "output_type": "stream",
     "text": [
      "Producto 20706: 36 períodos - Procesando\n"
     ]
    },
    {
     "name": "stderr",
     "output_type": "stream",
     "text": [
      "14:44:41 - cmdstanpy - INFO - Chain [1] done processing\n",
      "14:44:41 - cmdstanpy - INFO - Chain [1] start processing\n",
      "14:44:41 - cmdstanpy - INFO - Chain [1] done processing\n"
     ]
    },
    {
     "name": "stdout",
     "output_type": "stream",
     "text": [
      "Producto 20707: 10 períodos - Procesando\n",
      "Producto 20708: 36 períodos - Procesando\n"
     ]
    },
    {
     "name": "stderr",
     "output_type": "stream",
     "text": [
      "14:44:41 - cmdstanpy - INFO - Chain [1] start processing\n",
      "14:44:41 - cmdstanpy - INFO - Chain [1] done processing\n",
      "14:44:41 - cmdstanpy - INFO - Chain [1] start processing\n"
     ]
    },
    {
     "name": "stdout",
     "output_type": "stream",
     "text": [
      "Producto 20709: 15 períodos - Procesando\n"
     ]
    },
    {
     "name": "stderr",
     "output_type": "stream",
     "text": [
      "14:44:46 - cmdstanpy - INFO - Chain [1] done processing\n",
      "14:44:46 - cmdstanpy - INFO - Chain [1] start processing\n",
      "14:44:46 - cmdstanpy - INFO - Chain [1] done processing\n"
     ]
    },
    {
     "name": "stdout",
     "output_type": "stream",
     "text": [
      "Producto 20710: 36 períodos - Procesando\n"
     ]
    },
    {
     "name": "stderr",
     "output_type": "stream",
     "text": [
      "14:44:46 - cmdstanpy - INFO - Chain [1] start processing\n"
     ]
    },
    {
     "name": "stdout",
     "output_type": "stream",
     "text": [
      "Producto 20711: 6 períodos - Procesando\n"
     ]
    },
    {
     "name": "stderr",
     "output_type": "stream",
     "text": [
      "14:44:50 - cmdstanpy - INFO - Chain [1] done processing\n",
      "14:44:50 - cmdstanpy - INFO - Chain [1] start processing\n"
     ]
    },
    {
     "name": "stdout",
     "output_type": "stream",
     "text": [
      "Producto 20712: 15 períodos - Procesando\n"
     ]
    },
    {
     "name": "stderr",
     "output_type": "stream",
     "text": [
      "14:44:51 - cmdstanpy - INFO - Chain [1] done processing\n",
      "14:44:51 - cmdstanpy - INFO - Chain [1] start processing\n",
      "14:44:51 - cmdstanpy - INFO - Chain [1] done processing\n"
     ]
    },
    {
     "name": "stdout",
     "output_type": "stream",
     "text": [
      "Producto 20713: 36 períodos - Procesando\n"
     ]
    },
    {
     "name": "stderr",
     "output_type": "stream",
     "text": [
      "14:44:51 - cmdstanpy - INFO - Chain [1] start processing\n",
      "14:44:51 - cmdstanpy - INFO - Chain [1] done processing\n"
     ]
    },
    {
     "name": "stdout",
     "output_type": "stream",
     "text": [
      "Producto 20714: 36 períodos - Procesando\n"
     ]
    },
    {
     "name": "stderr",
     "output_type": "stream",
     "text": [
      "14:44:51 - cmdstanpy - INFO - Chain [1] start processing\n",
      "14:44:51 - cmdstanpy - INFO - Chain [1] done processing\n"
     ]
    },
    {
     "name": "stdout",
     "output_type": "stream",
     "text": [
      "Producto 20715: 36 períodos - Procesando\n"
     ]
    },
    {
     "name": "stderr",
     "output_type": "stream",
     "text": [
      "14:44:51 - cmdstanpy - INFO - Chain [1] start processing\n",
      "14:44:52 - cmdstanpy - INFO - Chain [1] done processing\n"
     ]
    },
    {
     "name": "stdout",
     "output_type": "stream",
     "text": [
      "Producto 20716: 26 períodos - Procesando\n"
     ]
    },
    {
     "name": "stderr",
     "output_type": "stream",
     "text": [
      "14:44:52 - cmdstanpy - INFO - Chain [1] start processing\n"
     ]
    },
    {
     "name": "stdout",
     "output_type": "stream",
     "text": [
      "Producto 20717: 7 períodos - Procesando\n"
     ]
    },
    {
     "name": "stderr",
     "output_type": "stream",
     "text": [
      "14:44:54 - cmdstanpy - INFO - Chain [1] done processing\n",
      "14:44:55 - cmdstanpy - INFO - Chain [1] start processing\n",
      "14:44:55 - cmdstanpy - INFO - Chain [1] done processing\n"
     ]
    },
    {
     "name": "stdout",
     "output_type": "stream",
     "text": [
      "Producto 20718: 32 períodos - Procesando\n"
     ]
    },
    {
     "name": "stderr",
     "output_type": "stream",
     "text": [
      "14:44:55 - cmdstanpy - INFO - Chain [1] start processing\n",
      "14:44:55 - cmdstanpy - INFO - Chain [1] done processing\n"
     ]
    },
    {
     "name": "stdout",
     "output_type": "stream",
     "text": [
      "Producto 20719: 9 períodos - Procesando\n",
      "Producto 20720: 6 períodos - Procesando\n"
     ]
    },
    {
     "name": "stderr",
     "output_type": "stream",
     "text": [
      "14:44:55 - cmdstanpy - INFO - Chain [1] start processing\n",
      "14:44:55 - cmdstanpy - INFO - Chain [1] done processing\n",
      "14:44:55 - cmdstanpy - INFO - Chain [1] start processing\n",
      "14:44:55 - cmdstanpy - INFO - Chain [1] done processing\n"
     ]
    },
    {
     "name": "stdout",
     "output_type": "stream",
     "text": [
      "Producto 20721: 36 períodos - Procesando\n",
      "Producto 20722: 29 períodos - Procesando\n"
     ]
    },
    {
     "name": "stderr",
     "output_type": "stream",
     "text": [
      "14:44:55 - cmdstanpy - INFO - Chain [1] start processing\n",
      "14:44:55 - cmdstanpy - INFO - Chain [1] done processing\n",
      "14:44:56 - cmdstanpy - INFO - Chain [1] start processing\n",
      "14:44:56 - cmdstanpy - INFO - Chain [1] done processing\n"
     ]
    },
    {
     "name": "stdout",
     "output_type": "stream",
     "text": [
      "Producto 20723: 6 períodos - Procesando\n",
      "Producto 20724: 34 períodos - Procesando\n"
     ]
    },
    {
     "name": "stderr",
     "output_type": "stream",
     "text": [
      "14:44:56 - cmdstanpy - INFO - Chain [1] start processing\n",
      "14:44:56 - cmdstanpy - INFO - Chain [1] done processing\n",
      "14:44:56 - cmdstanpy - INFO - Chain [1] start processing\n",
      "14:44:56 - cmdstanpy - INFO - Chain [1] done processing\n"
     ]
    },
    {
     "name": "stdout",
     "output_type": "stream",
     "text": [
      "Producto 20725: 36 períodos - Procesando\n",
      "Producto 20726: 22 períodos - Procesando\n"
     ]
    },
    {
     "name": "stderr",
     "output_type": "stream",
     "text": [
      "14:44:56 - cmdstanpy - INFO - Chain [1] start processing\n",
      "14:44:57 - cmdstanpy - INFO - Chain [1] done processing\n",
      "14:44:58 - cmdstanpy - INFO - Chain [1] start processing\n"
     ]
    },
    {
     "name": "stdout",
     "output_type": "stream",
     "text": [
      "Producto 20727: 8 períodos - Procesando\n"
     ]
    },
    {
     "name": "stderr",
     "output_type": "stream",
     "text": [
      "14:44:58 - cmdstanpy - INFO - Chain [1] done processing\n",
      "14:44:58 - cmdstanpy - INFO - Chain [1] start processing\n",
      "14:44:59 - cmdstanpy - INFO - Chain [1] done processing\n"
     ]
    },
    {
     "name": "stdout",
     "output_type": "stream",
     "text": [
      "Producto 20728: 2 períodos - Procesando\n"
     ]
    },
    {
     "name": "stderr",
     "output_type": "stream",
     "text": [
      "14:44:59 - cmdstanpy - INFO - Chain [1] start processing\n",
      "14:44:59 - cmdstanpy - INFO - Chain [1] done processing\n"
     ]
    },
    {
     "name": "stdout",
     "output_type": "stream",
     "text": [
      "Producto 20729: 36 períodos - Procesando\n"
     ]
    },
    {
     "name": "stderr",
     "output_type": "stream",
     "text": [
      "14:44:59 - cmdstanpy - INFO - Chain [1] start processing\n",
      "14:44:59 - cmdstanpy - INFO - Chain [1] done processing\n"
     ]
    },
    {
     "name": "stdout",
     "output_type": "stream",
     "text": [
      "Producto 20730: 36 períodos - Procesando\n"
     ]
    },
    {
     "name": "stderr",
     "output_type": "stream",
     "text": [
      "14:44:59 - cmdstanpy - INFO - Chain [1] start processing\n"
     ]
    },
    {
     "name": "stdout",
     "output_type": "stream",
     "text": [
      "Producto 20731: 21 períodos - Procesando\n"
     ]
    },
    {
     "name": "stderr",
     "output_type": "stream",
     "text": [
      "14:45:06 - cmdstanpy - INFO - Chain [1] done processing\n",
      "14:45:06 - cmdstanpy - INFO - Chain [1] start processing\n"
     ]
    },
    {
     "name": "stdout",
     "output_type": "stream",
     "text": [
      "Producto 20732: 7 períodos - Procesando\n"
     ]
    },
    {
     "name": "stderr",
     "output_type": "stream",
     "text": [
      "14:45:06 - cmdstanpy - INFO - Chain [1] done processing\n",
      "14:45:06 - cmdstanpy - INFO - Chain [1] start processing\n",
      "14:45:07 - cmdstanpy - INFO - Chain [1] done processing\n"
     ]
    },
    {
     "name": "stdout",
     "output_type": "stream",
     "text": [
      "Producto 20733: 36 períodos - Procesando\n",
      "Producto 20735: 36 períodos - Procesando\n"
     ]
    },
    {
     "name": "stderr",
     "output_type": "stream",
     "text": [
      "14:45:07 - cmdstanpy - INFO - Chain [1] start processing\n",
      "14:45:07 - cmdstanpy - INFO - Chain [1] done processing\n",
      "14:45:07 - cmdstanpy - INFO - Chain [1] start processing\n"
     ]
    },
    {
     "name": "stdout",
     "output_type": "stream",
     "text": [
      "Producto 20736: 17 períodos - Procesando\n"
     ]
    },
    {
     "name": "stderr",
     "output_type": "stream",
     "text": [
      "14:45:11 - cmdstanpy - INFO - Chain [1] done processing\n",
      "14:45:11 - cmdstanpy - INFO - Chain [1] start processing\n",
      "14:45:11 - cmdstanpy - INFO - Chain [1] done processing\n"
     ]
    },
    {
     "name": "stdout",
     "output_type": "stream",
     "text": [
      "Producto 20737: 36 períodos - Procesando\n",
      "Producto 20738: 15 períodos - Procesando\n"
     ]
    },
    {
     "name": "stderr",
     "output_type": "stream",
     "text": [
      "14:45:11 - cmdstanpy - INFO - Chain [1] start processing\n",
      "14:45:11 - cmdstanpy - INFO - Chain [1] done processing\n",
      "14:45:11 - cmdstanpy - INFO - Chain [1] start processing\n",
      "14:45:12 - cmdstanpy - INFO - Chain [1] done processing\n"
     ]
    },
    {
     "name": "stdout",
     "output_type": "stream",
     "text": [
      "Producto 20739: 36 períodos - Procesando\n"
     ]
    },
    {
     "name": "stderr",
     "output_type": "stream",
     "text": [
      "14:45:12 - cmdstanpy - INFO - Chain [1] start processing\n",
      "14:45:12 - cmdstanpy - INFO - Chain [1] done processing\n"
     ]
    },
    {
     "name": "stdout",
     "output_type": "stream",
     "text": [
      "Producto 20741: 29 períodos - Procesando\n",
      "Producto 20742: 36 períodos - Procesando\n"
     ]
    },
    {
     "name": "stderr",
     "output_type": "stream",
     "text": [
      "14:45:12 - cmdstanpy - INFO - Chain [1] start processing\n",
      "14:45:12 - cmdstanpy - INFO - Chain [1] done processing\n",
      "14:45:12 - cmdstanpy - INFO - Chain [1] start processing\n",
      "14:45:12 - cmdstanpy - INFO - Chain [1] done processing\n"
     ]
    },
    {
     "name": "stdout",
     "output_type": "stream",
     "text": [
      "Producto 20743: 32 períodos - Procesando\n",
      "Producto 20744: 36 períodos - Procesando\n"
     ]
    },
    {
     "name": "stderr",
     "output_type": "stream",
     "text": [
      "14:45:12 - cmdstanpy - INFO - Chain [1] start processing\n",
      "14:45:12 - cmdstanpy - INFO - Chain [1] done processing\n",
      "14:45:13 - cmdstanpy - INFO - Chain [1] start processing\n",
      "14:45:13 - cmdstanpy - INFO - Chain [1] done processing\n"
     ]
    },
    {
     "name": "stdout",
     "output_type": "stream",
     "text": [
      "Producto 20745: 36 períodos - Procesando\n"
     ]
    },
    {
     "name": "stderr",
     "output_type": "stream",
     "text": [
      "14:45:13 - cmdstanpy - INFO - Chain [1] start processing\n"
     ]
    },
    {
     "name": "stdout",
     "output_type": "stream",
     "text": [
      "Producto 20746: 9 períodos - Procesando\n"
     ]
    },
    {
     "name": "stderr",
     "output_type": "stream",
     "text": [
      "14:45:14 - cmdstanpy - INFO - Chain [1] done processing\n",
      "14:45:14 - cmdstanpy - INFO - Chain [1] start processing\n",
      "14:45:14 - cmdstanpy - INFO - Chain [1] done processing\n"
     ]
    },
    {
     "name": "stdout",
     "output_type": "stream",
     "text": [
      "Producto 20747: 7 períodos - Procesando\n",
      "Producto 20748: 9 períodos - Procesando\n"
     ]
    },
    {
     "name": "stderr",
     "output_type": "stream",
     "text": [
      "14:45:14 - cmdstanpy - INFO - Chain [1] start processing\n",
      "14:45:19 - cmdstanpy - INFO - Chain [1] done processing\n",
      "14:45:19 - cmdstanpy - INFO - Chain [1] start processing\n",
      "14:45:19 - cmdstanpy - INFO - Chain [1] done processing\n"
     ]
    },
    {
     "name": "stdout",
     "output_type": "stream",
     "text": [
      "Producto 20749: 36 períodos - Procesando\n",
      "Producto 20750: 30 períodos - Procesando\n"
     ]
    },
    {
     "name": "stderr",
     "output_type": "stream",
     "text": [
      "14:45:19 - cmdstanpy - INFO - Chain [1] start processing\n",
      "14:45:19 - cmdstanpy - INFO - Chain [1] done processing\n",
      "14:45:19 - cmdstanpy - INFO - Chain [1] start processing\n",
      "14:45:19 - cmdstanpy - INFO - Chain [1] done processing\n"
     ]
    },
    {
     "name": "stdout",
     "output_type": "stream",
     "text": [
      "Producto 20751: 36 períodos - Procesando\n",
      "Producto 20752: 27 períodos - Procesando\n"
     ]
    },
    {
     "name": "stderr",
     "output_type": "stream",
     "text": [
      "14:45:19 - cmdstanpy - INFO - Chain [1] start processing\n",
      "14:45:19 - cmdstanpy - INFO - Chain [1] done processing\n",
      "14:45:19 - cmdstanpy - INFO - Chain [1] start processing\n"
     ]
    },
    {
     "name": "stdout",
     "output_type": "stream",
     "text": [
      "Producto 20754: 8 períodos - Procesando\n"
     ]
    },
    {
     "name": "stderr",
     "output_type": "stream",
     "text": [
      "14:45:21 - cmdstanpy - INFO - Chain [1] done processing\n",
      "14:45:21 - cmdstanpy - INFO - Chain [1] start processing\n",
      "14:45:21 - cmdstanpy - INFO - Chain [1] done processing\n"
     ]
    },
    {
     "name": "stdout",
     "output_type": "stream",
     "text": [
      "Producto 20755: 32 períodos - Procesando\n"
     ]
    },
    {
     "name": "stderr",
     "output_type": "stream",
     "text": [
      "14:45:21 - cmdstanpy - INFO - Chain [1] start processing\n",
      "14:45:21 - cmdstanpy - INFO - Chain [1] done processing\n"
     ]
    },
    {
     "name": "stdout",
     "output_type": "stream",
     "text": [
      "Producto 20756: 36 períodos - Procesando\n"
     ]
    },
    {
     "name": "stderr",
     "output_type": "stream",
     "text": [
      "14:45:21 - cmdstanpy - INFO - Chain [1] start processing\n"
     ]
    },
    {
     "name": "stdout",
     "output_type": "stream",
     "text": [
      "Producto 20757: 10 períodos - Procesando\n"
     ]
    },
    {
     "name": "stderr",
     "output_type": "stream",
     "text": [
      "14:45:26 - cmdstanpy - INFO - Chain [1] done processing\n",
      "14:45:26 - cmdstanpy - INFO - Chain [1] start processing\n",
      "14:45:26 - cmdstanpy - INFO - Chain [1] done processing\n",
      "14:45:26 - cmdstanpy - INFO - Chain [1] start processing\n"
     ]
    },
    {
     "name": "stdout",
     "output_type": "stream",
     "text": [
      "Producto 20758: 27 períodos - Procesando\n",
      "Producto 20759: 36 períodos - Procesando\n"
     ]
    },
    {
     "name": "stderr",
     "output_type": "stream",
     "text": [
      "14:45:26 - cmdstanpy - INFO - Chain [1] done processing\n",
      "14:45:26 - cmdstanpy - INFO - Chain [1] start processing\n"
     ]
    },
    {
     "name": "stdout",
     "output_type": "stream",
     "text": [
      "Producto 20760: 6 períodos - Procesando\n"
     ]
    },
    {
     "name": "stderr",
     "output_type": "stream",
     "text": [
      "14:45:27 - cmdstanpy - INFO - Chain [1] done processing\n",
      "14:45:27 - cmdstanpy - INFO - Chain [1] start processing\n",
      "14:45:27 - cmdstanpy - INFO - Chain [1] done processing\n"
     ]
    },
    {
     "name": "stdout",
     "output_type": "stream",
     "text": [
      "Producto 20761: 36 períodos - Procesando\n",
      "Producto 20762: 5 períodos - Procesando\n"
     ]
    },
    {
     "name": "stderr",
     "output_type": "stream",
     "text": [
      "14:45:27 - cmdstanpy - INFO - Chain [1] start processing\n",
      "14:45:28 - cmdstanpy - INFO - Chain [1] done processing\n",
      "14:45:28 - cmdstanpy - INFO - Chain [1] start processing\n"
     ]
    },
    {
     "name": "stdout",
     "output_type": "stream",
     "text": [
      "Producto 20763: 15 períodos - Procesando\n"
     ]
    },
    {
     "name": "stderr",
     "output_type": "stream",
     "text": [
      "14:45:32 - cmdstanpy - INFO - Chain [1] done processing\n",
      "14:45:33 - cmdstanpy - INFO - Chain [1] start processing\n",
      "14:45:33 - cmdstanpy - INFO - Chain [1] done processing\n"
     ]
    },
    {
     "name": "stdout",
     "output_type": "stream",
     "text": [
      "Producto 20764: 3 períodos - Procesando\n",
      "Producto 20765: 36 períodos - Procesando\n"
     ]
    },
    {
     "name": "stderr",
     "output_type": "stream",
     "text": [
      "14:45:33 - cmdstanpy - INFO - Chain [1] start processing\n",
      "14:45:33 - cmdstanpy - INFO - Chain [1] done processing\n",
      "14:45:33 - cmdstanpy - INFO - Chain [1] start processing\n"
     ]
    },
    {
     "name": "stdout",
     "output_type": "stream",
     "text": [
      "Producto 20766: 19 períodos - Procesando\n"
     ]
    },
    {
     "name": "stderr",
     "output_type": "stream",
     "text": [
      "14:45:35 - cmdstanpy - INFO - Chain [1] done processing\n",
      "14:45:35 - cmdstanpy - INFO - Chain [1] start processing\n"
     ]
    },
    {
     "name": "stdout",
     "output_type": "stream",
     "text": [
      "Producto 20767: 17 períodos - Procesando\n"
     ]
    },
    {
     "name": "stderr",
     "output_type": "stream",
     "text": [
      "14:45:40 - cmdstanpy - INFO - Chain [1] done processing\n",
      "14:45:41 - cmdstanpy - INFO - Chain [1] start processing\n",
      "14:45:41 - cmdstanpy - INFO - Chain [1] done processing\n"
     ]
    },
    {
     "name": "stdout",
     "output_type": "stream",
     "text": [
      "Producto 20768: 36 períodos - Procesando\n"
     ]
    },
    {
     "name": "stderr",
     "output_type": "stream",
     "text": [
      "14:45:41 - cmdstanpy - INFO - Chain [1] start processing\n"
     ]
    },
    {
     "name": "stdout",
     "output_type": "stream",
     "text": [
      "Producto 20769: 13 períodos - Procesando\n"
     ]
    },
    {
     "name": "stderr",
     "output_type": "stream",
     "text": [
      "14:45:41 - cmdstanpy - INFO - Chain [1] done processing\n",
      "14:45:41 - cmdstanpy - INFO - Chain [1] start processing\n",
      "14:45:41 - cmdstanpy - INFO - Chain [1] done processing\n"
     ]
    },
    {
     "name": "stdout",
     "output_type": "stream",
     "text": [
      "Producto 20770: Solo 1 período(s) - SALTANDO\n",
      "Producto 20771: 32 períodos - Procesando\n",
      "Producto 20772: 7 períodos - Procesando\n"
     ]
    },
    {
     "name": "stderr",
     "output_type": "stream",
     "text": [
      "14:45:41 - cmdstanpy - INFO - Chain [1] start processing\n",
      "14:45:41 - cmdstanpy - INFO - Chain [1] done processing\n",
      "14:45:42 - cmdstanpy - INFO - Chain [1] start processing\n",
      "14:45:42 - cmdstanpy - INFO - Chain [1] done processing\n"
     ]
    },
    {
     "name": "stdout",
     "output_type": "stream",
     "text": [
      "Producto 20773: 36 períodos - Procesando\n",
      "Producto 20774: 7 períodos - Procesando\n"
     ]
    },
    {
     "name": "stderr",
     "output_type": "stream",
     "text": [
      "14:45:42 - cmdstanpy - INFO - Chain [1] start processing\n",
      "14:45:42 - cmdstanpy - INFO - Chain [1] done processing\n",
      "14:45:42 - cmdstanpy - INFO - Chain [1] start processing\n",
      "14:45:42 - cmdstanpy - INFO - Chain [1] done processing\n"
     ]
    },
    {
     "name": "stdout",
     "output_type": "stream",
     "text": [
      "Producto 20775: 28 períodos - Procesando\n"
     ]
    },
    {
     "name": "stderr",
     "output_type": "stream",
     "text": [
      "14:45:42 - cmdstanpy - INFO - Chain [1] start processing\n",
      "14:45:42 - cmdstanpy - INFO - Chain [1] done processing\n"
     ]
    },
    {
     "name": "stdout",
     "output_type": "stream",
     "text": [
      "Producto 20776: 31 períodos - Procesando\n",
      "Producto 20777: 29 períodos - Procesando\n"
     ]
    },
    {
     "name": "stderr",
     "output_type": "stream",
     "text": [
      "14:45:42 - cmdstanpy - INFO - Chain [1] start processing\n",
      "14:45:42 - cmdstanpy - INFO - Chain [1] done processing\n",
      "14:45:43 - cmdstanpy - INFO - Chain [1] start processing\n",
      "14:45:43 - cmdstanpy - INFO - Chain [1] done processing\n"
     ]
    },
    {
     "name": "stdout",
     "output_type": "stream",
     "text": [
      "Producto 20778: 35 períodos - Procesando\n",
      "Producto 20779: 3 períodos - Procesando\n"
     ]
    },
    {
     "name": "stderr",
     "output_type": "stream",
     "text": [
      "14:45:43 - cmdstanpy - INFO - Chain [1] start processing\n",
      "14:45:43 - cmdstanpy - INFO - Chain [1] done processing\n",
      "14:45:43 - cmdstanpy - INFO - Chain [1] start processing\n",
      "14:45:43 - cmdstanpy - INFO - Chain [1] done processing\n"
     ]
    },
    {
     "name": "stdout",
     "output_type": "stream",
     "text": [
      "Producto 20780: 36 períodos - Procesando\n",
      "Producto 20781: 36 períodos - Procesando\n"
     ]
    },
    {
     "name": "stderr",
     "output_type": "stream",
     "text": [
      "14:45:43 - cmdstanpy - INFO - Chain [1] start processing\n",
      "14:45:43 - cmdstanpy - INFO - Chain [1] done processing\n",
      "14:45:43 - cmdstanpy - INFO - Chain [1] start processing\n",
      "14:45:43 - cmdstanpy - INFO - Chain [1] done processing\n"
     ]
    },
    {
     "name": "stdout",
     "output_type": "stream",
     "text": [
      "Producto 20782: 26 períodos - Procesando\n"
     ]
    },
    {
     "name": "stderr",
     "output_type": "stream",
     "text": [
      "14:45:44 - cmdstanpy - INFO - Chain [1] start processing\n"
     ]
    },
    {
     "name": "stdout",
     "output_type": "stream",
     "text": [
      "Producto 20783: 17 períodos - Procesando\n"
     ]
    },
    {
     "name": "stderr",
     "output_type": "stream",
     "text": [
      "14:45:44 - cmdstanpy - INFO - Chain [1] done processing\n",
      "14:45:44 - cmdstanpy - INFO - Chain [1] start processing\n"
     ]
    },
    {
     "name": "stdout",
     "output_type": "stream",
     "text": [
      "Producto 20784: 36 períodos - Procesando\n"
     ]
    },
    {
     "name": "stderr",
     "output_type": "stream",
     "text": [
      "14:45:44 - cmdstanpy - INFO - Chain [1] done processing\n",
      "14:45:45 - cmdstanpy - INFO - Chain [1] start processing\n"
     ]
    },
    {
     "name": "stdout",
     "output_type": "stream",
     "text": [
      "Producto 20785: 9 períodos - Procesando\n"
     ]
    },
    {
     "name": "stderr",
     "output_type": "stream",
     "text": [
      "14:45:45 - cmdstanpy - INFO - Chain [1] done processing\n",
      "14:45:45 - cmdstanpy - INFO - Chain [1] start processing\n",
      "14:45:45 - cmdstanpy - INFO - Chain [1] done processing\n"
     ]
    },
    {
     "name": "stdout",
     "output_type": "stream",
     "text": [
      "Producto 20786: 35 períodos - Procesando\n",
      "Producto 20787: 34 períodos - Procesando\n"
     ]
    },
    {
     "name": "stderr",
     "output_type": "stream",
     "text": [
      "14:45:45 - cmdstanpy - INFO - Chain [1] start processing\n",
      "14:45:45 - cmdstanpy - INFO - Chain [1] done processing\n",
      "14:45:45 - cmdstanpy - INFO - Chain [1] start processing\n"
     ]
    },
    {
     "name": "stdout",
     "output_type": "stream",
     "text": [
      "Producto 20788: 36 períodos - Procesando\n"
     ]
    },
    {
     "name": "stderr",
     "output_type": "stream",
     "text": [
      "14:45:45 - cmdstanpy - INFO - Chain [1] done processing\n",
      "14:45:46 - cmdstanpy - INFO - Chain [1] start processing\n",
      "14:45:46 - cmdstanpy - INFO - Chain [1] done processing\n"
     ]
    },
    {
     "name": "stdout",
     "output_type": "stream",
     "text": [
      "Producto 20789: 36 períodos - Procesando\n"
     ]
    },
    {
     "name": "stderr",
     "output_type": "stream",
     "text": [
      "14:45:46 - cmdstanpy - INFO - Chain [1] start processing\n",
      "14:45:46 - cmdstanpy - INFO - Chain [1] done processing\n"
     ]
    },
    {
     "name": "stdout",
     "output_type": "stream",
     "text": [
      "Producto 20790: 27 períodos - Procesando\n"
     ]
    },
    {
     "name": "stderr",
     "output_type": "stream",
     "text": [
      "14:45:46 - cmdstanpy - INFO - Chain [1] start processing\n",
      "14:45:46 - cmdstanpy - INFO - Chain [1] done processing\n"
     ]
    },
    {
     "name": "stdout",
     "output_type": "stream",
     "text": [
      "Producto 20791: 6 períodos - Procesando\n",
      "Producto 20792: Solo 1 período(s) - SALTANDO\n",
      "Producto 20793: 35 períodos - Procesando\n"
     ]
    },
    {
     "name": "stderr",
     "output_type": "stream",
     "text": [
      "14:45:46 - cmdstanpy - INFO - Chain [1] start processing\n",
      "14:45:46 - cmdstanpy - INFO - Chain [1] done processing\n",
      "14:45:46 - cmdstanpy - INFO - Chain [1] start processing\n",
      "14:45:46 - cmdstanpy - INFO - Chain [1] done processing\n"
     ]
    },
    {
     "name": "stdout",
     "output_type": "stream",
     "text": [
      "Producto 20794: 27 períodos - Procesando\n",
      "Producto 20795: 9 períodos - Procesando\n"
     ]
    },
    {
     "name": "stderr",
     "output_type": "stream",
     "text": [
      "14:45:47 - cmdstanpy - INFO - Chain [1] start processing\n",
      "14:45:48 - cmdstanpy - INFO - Chain [1] done processing\n",
      "14:45:48 - cmdstanpy - INFO - Chain [1] start processing\n",
      "14:45:48 - cmdstanpy - INFO - Chain [1] done processing\n"
     ]
    },
    {
     "name": "stdout",
     "output_type": "stream",
     "text": [
      "Producto 20796: 36 períodos - Procesando\n"
     ]
    },
    {
     "name": "stderr",
     "output_type": "stream",
     "text": [
      "14:45:48 - cmdstanpy - INFO - Chain [1] start processing\n",
      "14:45:48 - cmdstanpy - INFO - Chain [1] done processing\n"
     ]
    },
    {
     "name": "stdout",
     "output_type": "stream",
     "text": [
      "Producto 20797: 34 períodos - Procesando\n",
      "Producto 20798: 14 períodos - Procesando\n"
     ]
    },
    {
     "name": "stderr",
     "output_type": "stream",
     "text": [
      "14:45:48 - cmdstanpy - INFO - Chain [1] start processing\n",
      "14:45:49 - cmdstanpy - INFO - Chain [1] done processing\n",
      "14:45:49 - cmdstanpy - INFO - Chain [1] start processing\n",
      "14:45:49 - cmdstanpy - INFO - Chain [1] done processing\n"
     ]
    },
    {
     "name": "stdout",
     "output_type": "stream",
     "text": [
      "Producto 20799: 3 períodos - Procesando\n"
     ]
    },
    {
     "name": "stderr",
     "output_type": "stream",
     "text": [
      "14:45:49 - cmdstanpy - INFO - Chain [1] start processing\n",
      "14:45:49 - cmdstanpy - INFO - Chain [1] done processing\n"
     ]
    },
    {
     "name": "stdout",
     "output_type": "stream",
     "text": [
      "Producto 20800: 36 períodos - Procesando\n",
      "Producto 20801: 36 períodos - Procesando\n"
     ]
    },
    {
     "name": "stderr",
     "output_type": "stream",
     "text": [
      "14:45:49 - cmdstanpy - INFO - Chain [1] start processing\n",
      "14:45:49 - cmdstanpy - INFO - Chain [1] done processing\n",
      "14:45:49 - cmdstanpy - INFO - Chain [1] start processing\n"
     ]
    },
    {
     "name": "stdout",
     "output_type": "stream",
     "text": [
      "Producto 20802: 36 períodos - Procesando\n"
     ]
    },
    {
     "name": "stderr",
     "output_type": "stream",
     "text": [
      "14:45:50 - cmdstanpy - INFO - Chain [1] done processing\n",
      "14:45:50 - cmdstanpy - INFO - Chain [1] start processing\n",
      "14:45:50 - cmdstanpy - INFO - Chain [1] done processing\n"
     ]
    },
    {
     "name": "stdout",
     "output_type": "stream",
     "text": [
      "Producto 20803: 36 períodos - Procesando\n"
     ]
    },
    {
     "name": "stderr",
     "output_type": "stream",
     "text": [
      "14:45:50 - cmdstanpy - INFO - Chain [1] start processing\n",
      "14:45:50 - cmdstanpy - INFO - Chain [1] done processing\n"
     ]
    },
    {
     "name": "stdout",
     "output_type": "stream",
     "text": [
      "Producto 20804: 27 períodos - Procesando\n"
     ]
    },
    {
     "name": "stderr",
     "output_type": "stream",
     "text": [
      "14:45:50 - cmdstanpy - INFO - Chain [1] start processing\n",
      "14:45:50 - cmdstanpy - INFO - Chain [1] done processing\n"
     ]
    },
    {
     "name": "stdout",
     "output_type": "stream",
     "text": [
      "Producto 20805: 26 períodos - Procesando\n"
     ]
    },
    {
     "name": "stderr",
     "output_type": "stream",
     "text": [
      "14:45:50 - cmdstanpy - INFO - Chain [1] start processing\n",
      "14:45:50 - cmdstanpy - INFO - Chain [1] done processing\n"
     ]
    },
    {
     "name": "stdout",
     "output_type": "stream",
     "text": [
      "Producto 20806: 32 períodos - Procesando\n",
      "Producto 20807: 36 períodos - Procesando\n"
     ]
    },
    {
     "name": "stderr",
     "output_type": "stream",
     "text": [
      "14:45:50 - cmdstanpy - INFO - Chain [1] start processing\n",
      "14:45:51 - cmdstanpy - INFO - Chain [1] done processing\n",
      "14:45:51 - cmdstanpy - INFO - Chain [1] start processing\n",
      "14:45:51 - cmdstanpy - INFO - Chain [1] done processing\n"
     ]
    },
    {
     "name": "stdout",
     "output_type": "stream",
     "text": [
      "Producto 20808: 27 períodos - Procesando\n",
      "Producto 20809: 27 períodos - Procesando\n"
     ]
    },
    {
     "name": "stderr",
     "output_type": "stream",
     "text": [
      "14:45:51 - cmdstanpy - INFO - Chain [1] start processing\n",
      "14:45:51 - cmdstanpy - INFO - Chain [1] done processing\n",
      "14:45:51 - cmdstanpy - INFO - Chain [1] start processing\n",
      "14:45:51 - cmdstanpy - INFO - Chain [1] done processing\n"
     ]
    },
    {
     "name": "stdout",
     "output_type": "stream",
     "text": [
      "Producto 20810: 36 períodos - Procesando\n",
      "Producto 20811: 21 períodos - Procesando\n"
     ]
    },
    {
     "name": "stderr",
     "output_type": "stream",
     "text": [
      "14:45:51 - cmdstanpy - INFO - Chain [1] start processing\n",
      "14:45:58 - cmdstanpy - INFO - Chain [1] done processing\n",
      "14:45:58 - cmdstanpy - INFO - Chain [1] start processing\n",
      "14:45:58 - cmdstanpy - INFO - Chain [1] done processing\n"
     ]
    },
    {
     "name": "stdout",
     "output_type": "stream",
     "text": [
      "Producto 20812: 36 períodos - Procesando\n",
      "Producto 20813: 13 períodos - Procesando\n"
     ]
    },
    {
     "name": "stderr",
     "output_type": "stream",
     "text": [
      "14:45:58 - cmdstanpy - INFO - Chain [1] start processing\n",
      "14:45:58 - cmdstanpy - INFO - Chain [1] done processing\n",
      "14:45:58 - cmdstanpy - INFO - Chain [1] start processing\n",
      "14:45:59 - cmdstanpy - INFO - Chain [1] done processing\n"
     ]
    },
    {
     "name": "stdout",
     "output_type": "stream",
     "text": [
      "Producto 20814: 32 períodos - Procesando\n",
      "Producto 20815: 5 períodos - Procesando\n"
     ]
    },
    {
     "name": "stderr",
     "output_type": "stream",
     "text": [
      "14:45:59 - cmdstanpy - INFO - Chain [1] start processing\n",
      "14:45:59 - cmdstanpy - INFO - Chain [1] done processing\n",
      "14:45:59 - cmdstanpy - INFO - Chain [1] start processing\n"
     ]
    },
    {
     "name": "stdout",
     "output_type": "stream",
     "text": [
      "Producto 20816: 13 períodos - Procesando\n"
     ]
    },
    {
     "name": "stderr",
     "output_type": "stream",
     "text": [
      "14:46:04 - cmdstanpy - INFO - Chain [1] done processing\n",
      "14:46:04 - cmdstanpy - INFO - Chain [1] start processing\n"
     ]
    },
    {
     "name": "stdout",
     "output_type": "stream",
     "text": [
      "Producto 20817: 14 períodos - Procesando\n"
     ]
    },
    {
     "name": "stderr",
     "output_type": "stream",
     "text": [
      "14:46:04 - cmdstanpy - INFO - Chain [1] done processing\n",
      "14:46:04 - cmdstanpy - INFO - Chain [1] start processing\n",
      "14:46:04 - cmdstanpy - INFO - Chain [1] done processing\n"
     ]
    },
    {
     "name": "stdout",
     "output_type": "stream",
     "text": [
      "Producto 20818: 28 períodos - Procesando\n",
      "Producto 20819: 15 períodos - Procesando\n"
     ]
    },
    {
     "name": "stderr",
     "output_type": "stream",
     "text": [
      "14:46:05 - cmdstanpy - INFO - Chain [1] start processing\n",
      "14:46:10 - cmdstanpy - INFO - Chain [1] done processing\n",
      "14:46:10 - cmdstanpy - INFO - Chain [1] start processing\n",
      "14:46:10 - cmdstanpy - INFO - Chain [1] done processing\n"
     ]
    },
    {
     "name": "stdout",
     "output_type": "stream",
     "text": [
      "Producto 20820: 36 períodos - Procesando\n",
      "Producto 20821: 36 períodos - Procesando\n"
     ]
    },
    {
     "name": "stderr",
     "output_type": "stream",
     "text": [
      "14:46:10 - cmdstanpy - INFO - Chain [1] start processing\n",
      "14:46:10 - cmdstanpy - INFO - Chain [1] done processing\n",
      "14:46:10 - cmdstanpy - INFO - Chain [1] start processing\n"
     ]
    },
    {
     "name": "stdout",
     "output_type": "stream",
     "text": [
      "Producto 20822: 9 períodos - Procesando\n"
     ]
    },
    {
     "name": "stderr",
     "output_type": "stream",
     "text": [
      "14:46:12 - cmdstanpy - INFO - Chain [1] done processing\n",
      "14:46:12 - cmdstanpy - INFO - Chain [1] start processing\n",
      "14:46:12 - cmdstanpy - INFO - Chain [1] done processing\n"
     ]
    },
    {
     "name": "stdout",
     "output_type": "stream",
     "text": [
      "Producto 20823: 36 períodos - Procesando\n"
     ]
    },
    {
     "name": "stderr",
     "output_type": "stream",
     "text": [
      "14:46:12 - cmdstanpy - INFO - Chain [1] start processing\n",
      "14:46:12 - cmdstanpy - INFO - Chain [1] done processing\n"
     ]
    },
    {
     "name": "stdout",
     "output_type": "stream",
     "text": [
      "Producto 20824: 33 períodos - Procesando\n"
     ]
    },
    {
     "name": "stderr",
     "output_type": "stream",
     "text": [
      "14:46:12 - cmdstanpy - INFO - Chain [1] start processing\n",
      "14:46:12 - cmdstanpy - INFO - Chain [1] done processing\n"
     ]
    },
    {
     "name": "stdout",
     "output_type": "stream",
     "text": [
      "Producto 20825: 34 períodos - Procesando\n"
     ]
    },
    {
     "name": "stderr",
     "output_type": "stream",
     "text": [
      "14:46:12 - cmdstanpy - INFO - Chain [1] start processing\n",
      "14:46:13 - cmdstanpy - INFO - Chain [1] done processing\n"
     ]
    },
    {
     "name": "stdout",
     "output_type": "stream",
     "text": [
      "Producto 20826: 36 períodos - Procesando\n"
     ]
    },
    {
     "name": "stderr",
     "output_type": "stream",
     "text": [
      "14:46:13 - cmdstanpy - INFO - Chain [1] start processing\n",
      "14:46:13 - cmdstanpy - INFO - Chain [1] done processing\n"
     ]
    },
    {
     "name": "stdout",
     "output_type": "stream",
     "text": [
      "Producto 20827: 7 períodos - Procesando\n",
      "Producto 20828: 36 períodos - Procesando\n"
     ]
    },
    {
     "name": "stderr",
     "output_type": "stream",
     "text": [
      "14:46:13 - cmdstanpy - INFO - Chain [1] start processing\n",
      "14:46:13 - cmdstanpy - INFO - Chain [1] done processing\n",
      "14:46:13 - cmdstanpy - INFO - Chain [1] start processing\n",
      "14:46:13 - cmdstanpy - INFO - Chain [1] done processing\n"
     ]
    },
    {
     "name": "stdout",
     "output_type": "stream",
     "text": [
      "Producto 20829: 6 períodos - Procesando\n",
      "Producto 20830: 36 períodos - Procesando\n"
     ]
    },
    {
     "name": "stderr",
     "output_type": "stream",
     "text": [
      "14:46:13 - cmdstanpy - INFO - Chain [1] start processing\n",
      "14:46:13 - cmdstanpy - INFO - Chain [1] done processing\n",
      "14:46:13 - cmdstanpy - INFO - Chain [1] start processing\n",
      "14:46:14 - cmdstanpy - INFO - Chain [1] done processing\n"
     ]
    },
    {
     "name": "stdout",
     "output_type": "stream",
     "text": [
      "Producto 20831: 36 períodos - Procesando\n"
     ]
    },
    {
     "name": "stderr",
     "output_type": "stream",
     "text": [
      "14:46:14 - cmdstanpy - INFO - Chain [1] start processing\n",
      "14:46:14 - cmdstanpy - INFO - Chain [1] done processing\n"
     ]
    },
    {
     "name": "stdout",
     "output_type": "stream",
     "text": [
      "Producto 20832: 30 períodos - Procesando\n"
     ]
    },
    {
     "name": "stderr",
     "output_type": "stream",
     "text": [
      "14:46:14 - cmdstanpy - INFO - Chain [1] start processing\n"
     ]
    },
    {
     "name": "stdout",
     "output_type": "stream",
     "text": [
      "Producto 20833: 5 períodos - Procesando\n"
     ]
    },
    {
     "name": "stderr",
     "output_type": "stream",
     "text": [
      "14:46:14 - cmdstanpy - INFO - Chain [1] done processing\n",
      "14:46:14 - cmdstanpy - INFO - Chain [1] start processing\n"
     ]
    },
    {
     "name": "stdout",
     "output_type": "stream",
     "text": [
      "Producto 20835: 14 períodos - Procesando\n"
     ]
    },
    {
     "name": "stderr",
     "output_type": "stream",
     "text": [
      "14:46:19 - cmdstanpy - INFO - Chain [1] done processing\n",
      "14:46:19 - cmdstanpy - INFO - Chain [1] start processing\n"
     ]
    },
    {
     "name": "stdout",
     "output_type": "stream",
     "text": [
      "Producto 20836: 15 períodos - Procesando\n"
     ]
    },
    {
     "name": "stderr",
     "output_type": "stream",
     "text": [
      "14:46:25 - cmdstanpy - INFO - Chain [1] done processing\n",
      "14:46:25 - cmdstanpy - INFO - Chain [1] start processing\n",
      "14:46:25 - cmdstanpy - INFO - Chain [1] done processing\n"
     ]
    },
    {
     "name": "stdout",
     "output_type": "stream",
     "text": [
      "Producto 20837: 35 períodos - Procesando\n"
     ]
    },
    {
     "name": "stderr",
     "output_type": "stream",
     "text": [
      "14:46:25 - cmdstanpy - INFO - Chain [1] start processing\n",
      "14:46:25 - cmdstanpy - INFO - Chain [1] done processing\n"
     ]
    },
    {
     "name": "stdout",
     "output_type": "stream",
     "text": [
      "Producto 20838: 36 períodos - Procesando\n",
      "Producto 20839: 35 períodos - Procesando\n"
     ]
    },
    {
     "name": "stderr",
     "output_type": "stream",
     "text": [
      "14:46:25 - cmdstanpy - INFO - Chain [1] start processing\n",
      "14:46:25 - cmdstanpy - INFO - Chain [1] done processing\n",
      "14:46:25 - cmdstanpy - INFO - Chain [1] start processing\n",
      "14:46:25 - cmdstanpy - INFO - Chain [1] done processing\n"
     ]
    },
    {
     "name": "stdout",
     "output_type": "stream",
     "text": [
      "Producto 20840: 36 períodos - Procesando\n",
      "Producto 20841: 25 períodos - Procesando\n"
     ]
    },
    {
     "name": "stderr",
     "output_type": "stream",
     "text": [
      "14:46:25 - cmdstanpy - INFO - Chain [1] start processing\n",
      "14:46:26 - cmdstanpy - INFO - Chain [1] done processing\n",
      "14:46:26 - cmdstanpy - INFO - Chain [1] start processing\n",
      "14:46:26 - cmdstanpy - INFO - Chain [1] done processing\n"
     ]
    },
    {
     "name": "stdout",
     "output_type": "stream",
     "text": [
      "Producto 20843: 36 períodos - Procesando\n",
      "Producto 20844: 20 períodos - Procesando\n"
     ]
    },
    {
     "name": "stderr",
     "output_type": "stream",
     "text": [
      "14:46:26 - cmdstanpy - INFO - Chain [1] start processing\n",
      "14:46:26 - cmdstanpy - INFO - Chain [1] done processing\n",
      "14:46:26 - cmdstanpy - INFO - Chain [1] start processing\n"
     ]
    },
    {
     "name": "stdout",
     "output_type": "stream",
     "text": [
      "Producto 20845: 6 períodos - Procesando\n"
     ]
    },
    {
     "name": "stderr",
     "output_type": "stream",
     "text": [
      "14:46:27 - cmdstanpy - INFO - Chain [1] done processing\n",
      "14:46:27 - cmdstanpy - INFO - Chain [1] start processing\n",
      "14:46:27 - cmdstanpy - INFO - Chain [1] done processing\n"
     ]
    },
    {
     "name": "stdout",
     "output_type": "stream",
     "text": [
      "Producto 20846: 36 períodos - Procesando\n",
      "Producto 20847: 36 períodos - Procesando\n"
     ]
    },
    {
     "name": "stderr",
     "output_type": "stream",
     "text": [
      "14:46:27 - cmdstanpy - INFO - Chain [1] start processing\n",
      "14:46:27 - cmdstanpy - INFO - Chain [1] done processing\n",
      "14:46:27 - cmdstanpy - INFO - Chain [1] start processing\n",
      "14:46:27 - cmdstanpy - INFO - Chain [1] done processing\n"
     ]
    },
    {
     "name": "stdout",
     "output_type": "stream",
     "text": [
      "Producto 20848: 27 períodos - Procesando\n"
     ]
    },
    {
     "name": "stderr",
     "output_type": "stream",
     "text": [
      "14:46:28 - cmdstanpy - INFO - Chain [1] start processing\n",
      "14:46:28 - cmdstanpy - INFO - Chain [1] done processing\n"
     ]
    },
    {
     "name": "stdout",
     "output_type": "stream",
     "text": [
      "Producto 20849: 36 períodos - Procesando\n",
      "Producto 20850: 36 períodos - Procesando\n"
     ]
    },
    {
     "name": "stderr",
     "output_type": "stream",
     "text": [
      "14:46:28 - cmdstanpy - INFO - Chain [1] start processing\n",
      "14:46:28 - cmdstanpy - INFO - Chain [1] done processing\n",
      "14:46:28 - cmdstanpy - INFO - Chain [1] start processing\n"
     ]
    },
    {
     "name": "stdout",
     "output_type": "stream",
     "text": [
      "Producto 20851: 16 períodos - Procesando\n"
     ]
    },
    {
     "name": "stderr",
     "output_type": "stream",
     "text": [
      "14:46:28 - cmdstanpy - INFO - Chain [1] done processing\n",
      "14:46:28 - cmdstanpy - INFO - Chain [1] start processing\n",
      "14:46:28 - cmdstanpy - INFO - Chain [1] done processing\n"
     ]
    },
    {
     "name": "stdout",
     "output_type": "stream",
     "text": [
      "Producto 20852: 36 períodos - Procesando\n",
      "Producto 20853: 17 períodos - Procesando\n"
     ]
    },
    {
     "name": "stderr",
     "output_type": "stream",
     "text": [
      "14:46:28 - cmdstanpy - INFO - Chain [1] start processing\n",
      "14:46:30 - cmdstanpy - INFO - Chain [1] done processing\n",
      "14:46:30 - cmdstanpy - INFO - Chain [1] start processing\n",
      "14:46:30 - cmdstanpy - INFO - Chain [1] done processing\n",
      "14:46:30 - cmdstanpy - INFO - Chain [1] start processing\n"
     ]
    },
    {
     "name": "stdout",
     "output_type": "stream",
     "text": [
      "Producto 20854: Solo 1 período(s) - SALTANDO\n",
      "Producto 20855: 30 períodos - Procesando\n",
      "Producto 20856: 16 períodos - Procesando\n"
     ]
    },
    {
     "name": "stderr",
     "output_type": "stream",
     "text": [
      "14:46:30 - cmdstanpy - INFO - Chain [1] done processing\n",
      "14:46:30 - cmdstanpy - INFO - Chain [1] start processing\n",
      "14:46:30 - cmdstanpy - INFO - Chain [1] done processing\n"
     ]
    },
    {
     "name": "stdout",
     "output_type": "stream",
     "text": [
      "Producto 20857: 26 períodos - Procesando\n",
      "Producto 20858: 11 períodos - Procesando\n"
     ]
    },
    {
     "name": "stderr",
     "output_type": "stream",
     "text": [
      "14:46:31 - cmdstanpy - INFO - Chain [1] start processing\n",
      "14:46:32 - cmdstanpy - INFO - Chain [1] done processing\n",
      "14:46:32 - cmdstanpy - INFO - Chain [1] start processing\n"
     ]
    },
    {
     "name": "stdout",
     "output_type": "stream",
     "text": [
      "Producto 20859: 9 períodos - Procesando\n"
     ]
    },
    {
     "name": "stderr",
     "output_type": "stream",
     "text": [
      "14:46:32 - cmdstanpy - INFO - Chain [1] done processing\n",
      "14:46:32 - cmdstanpy - INFO - Chain [1] start processing\n",
      "14:46:32 - cmdstanpy - INFO - Chain [1] done processing\n"
     ]
    },
    {
     "name": "stdout",
     "output_type": "stream",
     "text": [
      "Producto 20860: 29 períodos - Procesando\n",
      "Producto 20861: 10 períodos - Procesando\n"
     ]
    },
    {
     "name": "stderr",
     "output_type": "stream",
     "text": [
      "14:46:32 - cmdstanpy - INFO - Chain [1] start processing\n",
      "14:46:32 - cmdstanpy - INFO - Chain [1] done processing\n",
      "14:46:33 - cmdstanpy - INFO - Chain [1] start processing\n",
      "14:46:33 - cmdstanpy - INFO - Chain [1] done processing\n"
     ]
    },
    {
     "name": "stdout",
     "output_type": "stream",
     "text": [
      "Producto 20862: 36 períodos - Procesando\n",
      "Producto 20863: 36 períodos - Procesando\n"
     ]
    },
    {
     "name": "stderr",
     "output_type": "stream",
     "text": [
      "14:46:33 - cmdstanpy - INFO - Chain [1] start processing\n",
      "14:46:33 - cmdstanpy - INFO - Chain [1] done processing\n",
      "14:46:33 - cmdstanpy - INFO - Chain [1] start processing\n",
      "14:46:33 - cmdstanpy - INFO - Chain [1] done processing\n"
     ]
    },
    {
     "name": "stdout",
     "output_type": "stream",
     "text": [
      "Producto 20864: 36 períodos - Procesando\n",
      "Producto 20865: 36 períodos - Procesando\n"
     ]
    },
    {
     "name": "stderr",
     "output_type": "stream",
     "text": [
      "14:46:33 - cmdstanpy - INFO - Chain [1] start processing\n",
      "14:46:33 - cmdstanpy - INFO - Chain [1] done processing\n",
      "14:46:33 - cmdstanpy - INFO - Chain [1] start processing\n"
     ]
    },
    {
     "name": "stdout",
     "output_type": "stream",
     "text": [
      "Producto 20866: 18 períodos - Procesando\n"
     ]
    },
    {
     "name": "stderr",
     "output_type": "stream",
     "text": [
      "14:46:35 - cmdstanpy - INFO - Chain [1] done processing\n",
      "14:46:35 - cmdstanpy - INFO - Chain [1] start processing\n"
     ]
    },
    {
     "name": "stdout",
     "output_type": "stream",
     "text": [
      "Producto 20868: 21 períodos - Procesando\n"
     ]
    },
    {
     "name": "stderr",
     "output_type": "stream",
     "text": [
      "14:46:42 - cmdstanpy - INFO - Chain [1] done processing\n",
      "14:46:42 - cmdstanpy - INFO - Chain [1] start processing\n"
     ]
    },
    {
     "name": "stdout",
     "output_type": "stream",
     "text": [
      "Producto 20869: 10 períodos - Procesando\n"
     ]
    },
    {
     "name": "stderr",
     "output_type": "stream",
     "text": [
      "14:46:43 - cmdstanpy - INFO - Chain [1] done processing\n",
      "14:46:43 - cmdstanpy - INFO - Chain [1] start processing\n",
      "14:46:43 - cmdstanpy - INFO - Chain [1] done processing\n"
     ]
    },
    {
     "name": "stdout",
     "output_type": "stream",
     "text": [
      "Producto 20870: 36 períodos - Procesando\n",
      "Producto 20872: 15 períodos - Procesando\n"
     ]
    },
    {
     "name": "stderr",
     "output_type": "stream",
     "text": [
      "14:46:43 - cmdstanpy - INFO - Chain [1] start processing\n",
      "14:46:49 - cmdstanpy - INFO - Chain [1] done processing\n",
      "14:46:49 - cmdstanpy - INFO - Chain [1] start processing\n",
      "14:46:49 - cmdstanpy - INFO - Chain [1] done processing\n"
     ]
    },
    {
     "name": "stdout",
     "output_type": "stream",
     "text": [
      "Producto 20873: 32 períodos - Procesando\n"
     ]
    },
    {
     "name": "stderr",
     "output_type": "stream",
     "text": [
      "14:46:49 - cmdstanpy - INFO - Chain [1] start processing\n",
      "14:46:49 - cmdstanpy - INFO - Chain [1] done processing\n"
     ]
    },
    {
     "name": "stdout",
     "output_type": "stream",
     "text": [
      "Producto 20874: 30 períodos - Procesando\n",
      "Producto 20876: 11 períodos - Procesando\n"
     ]
    },
    {
     "name": "stderr",
     "output_type": "stream",
     "text": [
      "14:46:49 - cmdstanpy - INFO - Chain [1] start processing\n",
      "14:46:49 - cmdstanpy - INFO - Chain [1] done processing\n",
      "14:46:49 - cmdstanpy - INFO - Chain [1] start processing\n"
     ]
    },
    {
     "name": "stdout",
     "output_type": "stream",
     "text": [
      "Producto 20877: 30 períodos - Procesando\n"
     ]
    },
    {
     "name": "stderr",
     "output_type": "stream",
     "text": [
      "14:46:50 - cmdstanpy - INFO - Chain [1] done processing\n",
      "14:46:50 - cmdstanpy - INFO - Chain [1] start processing\n",
      "14:46:50 - cmdstanpy - INFO - Chain [1] done processing\n"
     ]
    },
    {
     "name": "stdout",
     "output_type": "stream",
     "text": [
      "Producto 20878: 35 períodos - Procesando\n",
      "Producto 20879: 35 períodos - Procesando\n"
     ]
    },
    {
     "name": "stderr",
     "output_type": "stream",
     "text": [
      "14:46:50 - cmdstanpy - INFO - Chain [1] start processing\n",
      "14:46:50 - cmdstanpy - INFO - Chain [1] done processing\n",
      "14:46:50 - cmdstanpy - INFO - Chain [1] start processing\n"
     ]
    },
    {
     "name": "stdout",
     "output_type": "stream",
     "text": [
      "Producto 20880: 15 períodos - Procesando\n"
     ]
    },
    {
     "name": "stderr",
     "output_type": "stream",
     "text": [
      "14:46:55 - cmdstanpy - INFO - Chain [1] done processing\n",
      "14:46:55 - cmdstanpy - INFO - Chain [1] start processing\n",
      "14:46:56 - cmdstanpy - INFO - Chain [1] done processing\n"
     ]
    },
    {
     "name": "stdout",
     "output_type": "stream",
     "text": [
      "Producto 20881: 26 períodos - Procesando\n",
      "Producto 20882: 36 períodos - Procesando\n"
     ]
    },
    {
     "name": "stderr",
     "output_type": "stream",
     "text": [
      "14:46:56 - cmdstanpy - INFO - Chain [1] start processing\n",
      "14:46:56 - cmdstanpy - INFO - Chain [1] done processing\n",
      "14:46:56 - cmdstanpy - INFO - Chain [1] start processing\n",
      "14:46:56 - cmdstanpy - INFO - Chain [1] done processing\n"
     ]
    },
    {
     "name": "stdout",
     "output_type": "stream",
     "text": [
      "Producto 20883: 36 períodos - Procesando\n",
      "Producto 20884: 9 períodos - Procesando\n"
     ]
    },
    {
     "name": "stderr",
     "output_type": "stream",
     "text": [
      "14:46:56 - cmdstanpy - INFO - Chain [1] start processing\n",
      "14:46:56 - cmdstanpy - INFO - Chain [1] done processing\n",
      "14:46:56 - cmdstanpy - INFO - Chain [1] start processing\n",
      "14:46:56 - cmdstanpy - INFO - Chain [1] done processing\n"
     ]
    },
    {
     "name": "stdout",
     "output_type": "stream",
     "text": [
      "Producto 20885: 35 períodos - Procesando\n"
     ]
    },
    {
     "name": "stderr",
     "output_type": "stream",
     "text": [
      "14:46:56 - cmdstanpy - INFO - Chain [1] start processing\n",
      "14:46:57 - cmdstanpy - INFO - Chain [1] done processing\n"
     ]
    },
    {
     "name": "stdout",
     "output_type": "stream",
     "text": [
      "Producto 20886: 6 períodos - Procesando\n",
      "Producto 20887: 29 períodos - Procesando\n"
     ]
    },
    {
     "name": "stderr",
     "output_type": "stream",
     "text": [
      "14:46:57 - cmdstanpy - INFO - Chain [1] start processing\n",
      "14:46:57 - cmdstanpy - INFO - Chain [1] done processing\n",
      "14:46:57 - cmdstanpy - INFO - Chain [1] start processing\n",
      "14:46:57 - cmdstanpy - INFO - Chain [1] done processing\n"
     ]
    },
    {
     "name": "stdout",
     "output_type": "stream",
     "text": [
      "Producto 20888: 3 períodos - Procesando\n",
      "Producto 20890: 13 períodos - Procesando\n"
     ]
    },
    {
     "name": "stderr",
     "output_type": "stream",
     "text": [
      "14:46:57 - cmdstanpy - INFO - Chain [1] start processing\n",
      "14:47:02 - cmdstanpy - INFO - Chain [1] done processing\n",
      "14:47:02 - cmdstanpy - INFO - Chain [1] start processing\n"
     ]
    },
    {
     "name": "stdout",
     "output_type": "stream",
     "text": [
      "Producto 20891: 24 períodos - Procesando\n"
     ]
    },
    {
     "name": "stderr",
     "output_type": "stream",
     "text": [
      "14:47:09 - cmdstanpy - INFO - Chain [1] done processing\n",
      "14:47:09 - cmdstanpy - INFO - Chain [1] start processing\n",
      "14:47:09 - cmdstanpy - INFO - Chain [1] done processing\n"
     ]
    },
    {
     "name": "stdout",
     "output_type": "stream",
     "text": [
      "Producto 20892: 36 períodos - Procesando\n"
     ]
    },
    {
     "name": "stderr",
     "output_type": "stream",
     "text": [
      "14:47:09 - cmdstanpy - INFO - Chain [1] start processing\n",
      "14:47:09 - cmdstanpy - INFO - Chain [1] done processing\n"
     ]
    },
    {
     "name": "stdout",
     "output_type": "stream",
     "text": [
      "Producto 20893: 26 períodos - Procesando\n",
      "Producto 20894: 36 períodos - Procesando\n"
     ]
    },
    {
     "name": "stderr",
     "output_type": "stream",
     "text": [
      "14:47:09 - cmdstanpy - INFO - Chain [1] start processing\n",
      "14:47:09 - cmdstanpy - INFO - Chain [1] done processing\n",
      "14:47:10 - cmdstanpy - INFO - Chain [1] start processing\n",
      "14:47:10 - cmdstanpy - INFO - Chain [1] done processing\n"
     ]
    },
    {
     "name": "stdout",
     "output_type": "stream",
     "text": [
      "Producto 20895: 3 períodos - Procesando\n",
      "Producto 20897: 13 períodos - Procesando\n"
     ]
    },
    {
     "name": "stderr",
     "output_type": "stream",
     "text": [
      "14:47:10 - cmdstanpy - INFO - Chain [1] start processing\n",
      "14:47:10 - cmdstanpy - INFO - Chain [1] done processing\n",
      "14:47:10 - cmdstanpy - INFO - Chain [1] start processing\n"
     ]
    },
    {
     "name": "stdout",
     "output_type": "stream",
     "text": [
      "Producto 20898: 25 períodos - Procesando\n"
     ]
    },
    {
     "name": "stderr",
     "output_type": "stream",
     "text": [
      "14:47:20 - cmdstanpy - INFO - Chain [1] done processing\n",
      "14:47:20 - cmdstanpy - INFO - Chain [1] start processing\n",
      "14:47:20 - cmdstanpy - INFO - Chain [1] done processing\n"
     ]
    },
    {
     "name": "stdout",
     "output_type": "stream",
     "text": [
      "Producto 20899: 5 períodos - Procesando\n",
      "Producto 20901: 36 períodos - Procesando\n"
     ]
    },
    {
     "name": "stderr",
     "output_type": "stream",
     "text": [
      "14:47:20 - cmdstanpy - INFO - Chain [1] start processing\n",
      "14:47:20 - cmdstanpy - INFO - Chain [1] done processing\n",
      "14:47:20 - cmdstanpy - INFO - Chain [1] start processing\n"
     ]
    },
    {
     "name": "stdout",
     "output_type": "stream",
     "text": [
      "Producto 20902: 16 períodos - Procesando\n"
     ]
    },
    {
     "name": "stderr",
     "output_type": "stream",
     "text": [
      "14:47:21 - cmdstanpy - INFO - Chain [1] done processing\n",
      "14:47:21 - cmdstanpy - INFO - Chain [1] start processing\n",
      "14:47:21 - cmdstanpy - INFO - Chain [1] done processing\n",
      "14:47:21 - cmdstanpy - INFO - Chain [1] start processing\n"
     ]
    },
    {
     "name": "stdout",
     "output_type": "stream",
     "text": [
      "Producto 20903: 30 períodos - Procesando\n",
      "Producto 20904: 6 períodos - Procesando\n"
     ]
    },
    {
     "name": "stderr",
     "output_type": "stream",
     "text": [
      "14:47:21 - cmdstanpy - INFO - Chain [1] done processing\n",
      "14:47:21 - cmdstanpy - INFO - Chain [1] start processing\n",
      "14:47:22 - cmdstanpy - INFO - Chain [1] done processing\n"
     ]
    },
    {
     "name": "stdout",
     "output_type": "stream",
     "text": [
      "Producto 20905: 28 períodos - Procesando\n"
     ]
    },
    {
     "name": "stderr",
     "output_type": "stream",
     "text": [
      "14:47:22 - cmdstanpy - INFO - Chain [1] start processing\n",
      "14:47:22 - cmdstanpy - INFO - Chain [1] done processing\n"
     ]
    },
    {
     "name": "stdout",
     "output_type": "stream",
     "text": [
      "Producto 20906: 36 períodos - Procesando\n"
     ]
    },
    {
     "name": "stderr",
     "output_type": "stream",
     "text": [
      "14:47:22 - cmdstanpy - INFO - Chain [1] start processing\n",
      "14:47:22 - cmdstanpy - INFO - Chain [1] done processing\n"
     ]
    },
    {
     "name": "stdout",
     "output_type": "stream",
     "text": [
      "Producto 20907: 9 períodos - Procesando\n",
      "Producto 20908: 16 períodos - Procesando\n"
     ]
    },
    {
     "name": "stderr",
     "output_type": "stream",
     "text": [
      "14:47:22 - cmdstanpy - INFO - Chain [1] start processing\n",
      "14:47:28 - cmdstanpy - INFO - Chain [1] done processing\n",
      "14:47:28 - cmdstanpy - INFO - Chain [1] start processing\n",
      "14:47:28 - cmdstanpy - INFO - Chain [1] done processing\n"
     ]
    },
    {
     "name": "stdout",
     "output_type": "stream",
     "text": [
      "Producto 20909: 5 períodos - Procesando\n",
      "Producto 20910: 6 períodos - Procesando\n"
     ]
    },
    {
     "name": "stderr",
     "output_type": "stream",
     "text": [
      "14:47:28 - cmdstanpy - INFO - Chain [1] start processing\n",
      "14:47:32 - cmdstanpy - INFO - Chain [1] done processing\n",
      "14:47:32 - cmdstanpy - INFO - Chain [1] start processing\n",
      "14:47:32 - cmdstanpy - INFO - Chain [1] done processing\n"
     ]
    },
    {
     "name": "stdout",
     "output_type": "stream",
     "text": [
      "Producto 20912: 6 períodos - Procesando\n"
     ]
    },
    {
     "name": "stderr",
     "output_type": "stream",
     "text": [
      "14:47:32 - cmdstanpy - INFO - Chain [1] start processing\n",
      "14:47:32 - cmdstanpy - INFO - Chain [1] done processing\n"
     ]
    },
    {
     "name": "stdout",
     "output_type": "stream",
     "text": [
      "Producto 20913: 36 períodos - Procesando\n"
     ]
    },
    {
     "name": "stderr",
     "output_type": "stream",
     "text": [
      "14:47:32 - cmdstanpy - INFO - Chain [1] start processing\n",
      "14:47:32 - cmdstanpy - INFO - Chain [1] done processing\n"
     ]
    },
    {
     "name": "stdout",
     "output_type": "stream",
     "text": [
      "Producto 20914: 30 períodos - Procesando\n"
     ]
    },
    {
     "name": "stderr",
     "output_type": "stream",
     "text": [
      "14:47:33 - cmdstanpy - INFO - Chain [1] start processing\n",
      "14:47:33 - cmdstanpy - INFO - Chain [1] done processing\n"
     ]
    },
    {
     "name": "stdout",
     "output_type": "stream",
     "text": [
      "Producto 20915: 3 períodos - Procesando\n",
      "Producto 20917: 15 períodos - Procesando\n"
     ]
    },
    {
     "name": "stderr",
     "output_type": "stream",
     "text": [
      "14:47:33 - cmdstanpy - INFO - Chain [1] start processing\n",
      "14:47:33 - cmdstanpy - INFO - Chain [1] done processing\n",
      "14:47:33 - cmdstanpy - INFO - Chain [1] start processing\n",
      "14:47:33 - cmdstanpy - INFO - Chain [1] done processing\n"
     ]
    },
    {
     "name": "stdout",
     "output_type": "stream",
     "text": [
      "Producto 20918: 5 períodos - Procesando\n",
      "Producto 20919: 36 períodos - Procesando\n"
     ]
    },
    {
     "name": "stderr",
     "output_type": "stream",
     "text": [
      "14:47:33 - cmdstanpy - INFO - Chain [1] start processing\n",
      "14:47:33 - cmdstanpy - INFO - Chain [1] done processing\n",
      "14:47:34 - cmdstanpy - INFO - Chain [1] start processing\n"
     ]
    },
    {
     "name": "stdout",
     "output_type": "stream",
     "text": [
      "Producto 20920: 9 períodos - Procesando\n"
     ]
    },
    {
     "name": "stderr",
     "output_type": "stream",
     "text": [
      "14:47:35 - cmdstanpy - INFO - Chain [1] done processing\n",
      "14:47:35 - cmdstanpy - INFO - Chain [1] start processing\n",
      "14:47:35 - cmdstanpy - INFO - Chain [1] done processing\n"
     ]
    },
    {
     "name": "stdout",
     "output_type": "stream",
     "text": [
      "Producto 20922: 36 períodos - Procesando\n",
      "Producto 20923: 3 períodos - Procesando\n"
     ]
    },
    {
     "name": "stderr",
     "output_type": "stream",
     "text": [
      "14:47:35 - cmdstanpy - INFO - Chain [1] start processing\n",
      "14:47:35 - cmdstanpy - INFO - Chain [1] done processing\n",
      "14:47:35 - cmdstanpy - INFO - Chain [1] start processing\n"
     ]
    },
    {
     "name": "stdout",
     "output_type": "stream",
     "text": [
      "Producto 20924: 8 períodos - Procesando\n"
     ]
    },
    {
     "name": "stderr",
     "output_type": "stream",
     "text": [
      "14:47:39 - cmdstanpy - INFO - Chain [1] done processing\n",
      "14:47:39 - cmdstanpy - INFO - Chain [1] start processing\n",
      "14:47:39 - cmdstanpy - INFO - Chain [1] done processing\n"
     ]
    },
    {
     "name": "stdout",
     "output_type": "stream",
     "text": [
      "Producto 20925: 36 períodos - Procesando\n",
      "Producto 20926: 3 períodos - Procesando\n"
     ]
    },
    {
     "name": "stderr",
     "output_type": "stream",
     "text": [
      "14:47:39 - cmdstanpy - INFO - Chain [1] start processing\n",
      "14:47:39 - cmdstanpy - INFO - Chain [1] done processing\n",
      "14:47:39 - cmdstanpy - INFO - Chain [1] start processing\n",
      "14:47:40 - cmdstanpy - INFO - Chain [1] done processing\n"
     ]
    },
    {
     "name": "stdout",
     "output_type": "stream",
     "text": [
      "Producto 20927: 7 períodos - Procesando\n"
     ]
    },
    {
     "name": "stderr",
     "output_type": "stream",
     "text": [
      "14:47:40 - cmdstanpy - INFO - Chain [1] start processing\n"
     ]
    },
    {
     "name": "stdout",
     "output_type": "stream",
     "text": [
      "Producto 20928: 8 períodos - Procesando\n"
     ]
    },
    {
     "name": "stderr",
     "output_type": "stream",
     "text": [
      "14:47:43 - cmdstanpy - INFO - Chain [1] done processing\n",
      "14:47:44 - cmdstanpy - INFO - Chain [1] start processing\n",
      "14:47:44 - cmdstanpy - INFO - Chain [1] done processing\n"
     ]
    },
    {
     "name": "stdout",
     "output_type": "stream",
     "text": [
      "Producto 20929: 3 períodos - Procesando\n",
      "Producto 20930: 31 períodos - Procesando\n"
     ]
    },
    {
     "name": "stderr",
     "output_type": "stream",
     "text": [
      "14:47:44 - cmdstanpy - INFO - Chain [1] start processing\n",
      "14:47:44 - cmdstanpy - INFO - Chain [1] done processing\n",
      "14:47:44 - cmdstanpy - INFO - Chain [1] start processing\n",
      "14:47:44 - cmdstanpy - INFO - Chain [1] done processing\n"
     ]
    },
    {
     "name": "stdout",
     "output_type": "stream",
     "text": [
      "Producto 20931: 36 períodos - Procesando\n",
      "Producto 20932: 8 períodos - Procesando\n"
     ]
    },
    {
     "name": "stderr",
     "output_type": "stream",
     "text": [
      "14:47:44 - cmdstanpy - INFO - Chain [1] start processing\n",
      "14:47:46 - cmdstanpy - INFO - Chain [1] done processing\n",
      "14:47:46 - cmdstanpy - INFO - Chain [1] start processing\n",
      "14:47:46 - cmdstanpy - INFO - Chain [1] done processing\n"
     ]
    },
    {
     "name": "stdout",
     "output_type": "stream",
     "text": [
      "Producto 20933: 6 períodos - Procesando\n"
     ]
    },
    {
     "name": "stderr",
     "output_type": "stream",
     "text": [
      "14:47:46 - cmdstanpy - INFO - Chain [1] start processing\n",
      "14:47:47 - cmdstanpy - INFO - Chain [1] done processing\n"
     ]
    },
    {
     "name": "stdout",
     "output_type": "stream",
     "text": [
      "Producto 20935: 36 períodos - Procesando\n"
     ]
    },
    {
     "name": "stderr",
     "output_type": "stream",
     "text": [
      "14:47:47 - cmdstanpy - INFO - Chain [1] start processing\n",
      "14:47:47 - cmdstanpy - INFO - Chain [1] done processing\n"
     ]
    },
    {
     "name": "stdout",
     "output_type": "stream",
     "text": [
      "Producto 20936: 34 períodos - Procesando\n"
     ]
    },
    {
     "name": "stderr",
     "output_type": "stream",
     "text": [
      "14:47:47 - cmdstanpy - INFO - Chain [1] start processing\n",
      "14:47:47 - cmdstanpy - INFO - Chain [1] done processing\n"
     ]
    },
    {
     "name": "stdout",
     "output_type": "stream",
     "text": [
      "Producto 20937: 36 períodos - Procesando\n"
     ]
    },
    {
     "name": "stderr",
     "output_type": "stream",
     "text": [
      "14:47:47 - cmdstanpy - INFO - Chain [1] start processing\n"
     ]
    },
    {
     "name": "stdout",
     "output_type": "stream",
     "text": [
      "Producto 20938: 6 períodos - Procesando\n"
     ]
    },
    {
     "name": "stderr",
     "output_type": "stream",
     "text": [
      "14:47:48 - cmdstanpy - INFO - Chain [1] done processing\n",
      "14:47:48 - cmdstanpy - INFO - Chain [1] start processing\n",
      "14:47:48 - cmdstanpy - INFO - Chain [1] done processing\n"
     ]
    },
    {
     "name": "stdout",
     "output_type": "stream",
     "text": [
      "Producto 20939: 33 períodos - Procesando\n",
      "Producto 20940: 3 períodos - Procesando\n"
     ]
    },
    {
     "name": "stderr",
     "output_type": "stream",
     "text": [
      "14:47:48 - cmdstanpy - INFO - Chain [1] start processing\n",
      "14:47:48 - cmdstanpy - INFO - Chain [1] done processing\n",
      "14:47:48 - cmdstanpy - INFO - Chain [1] start processing\n",
      "14:47:48 - cmdstanpy - INFO - Chain [1] done processing\n"
     ]
    },
    {
     "name": "stdout",
     "output_type": "stream",
     "text": [
      "Producto 20941: 36 períodos - Procesando\n",
      "Producto 20942: 5 períodos - Procesando\n"
     ]
    },
    {
     "name": "stderr",
     "output_type": "stream",
     "text": [
      "14:47:49 - cmdstanpy - INFO - Chain [1] start processing\n",
      "14:47:49 - cmdstanpy - INFO - Chain [1] done processing\n",
      "14:47:49 - cmdstanpy - INFO - Chain [1] start processing\n",
      "14:47:49 - cmdstanpy - INFO - Chain [1] done processing\n"
     ]
    },
    {
     "name": "stdout",
     "output_type": "stream",
     "text": [
      "Producto 20943: 32 períodos - Procesando\n",
      "Producto 20944: 18 períodos - Procesando\n"
     ]
    },
    {
     "name": "stderr",
     "output_type": "stream",
     "text": [
      "14:47:49 - cmdstanpy - INFO - Chain [1] start processing\n",
      "14:47:55 - cmdstanpy - INFO - Chain [1] done processing\n",
      "14:47:55 - cmdstanpy - INFO - Chain [1] start processing\n"
     ]
    },
    {
     "name": "stdout",
     "output_type": "stream",
     "text": [
      "Producto 20945: 32 períodos - Procesando\n"
     ]
    },
    {
     "name": "stderr",
     "output_type": "stream",
     "text": [
      "14:47:55 - cmdstanpy - INFO - Chain [1] done processing\n",
      "14:47:55 - cmdstanpy - INFO - Chain [1] start processing\n"
     ]
    },
    {
     "name": "stdout",
     "output_type": "stream",
     "text": [
      "Producto 20946: 8 períodos - Procesando\n"
     ]
    },
    {
     "name": "stderr",
     "output_type": "stream",
     "text": [
      "14:47:56 - cmdstanpy - INFO - Chain [1] done processing\n",
      "14:47:56 - cmdstanpy - INFO - Chain [1] start processing\n",
      "14:47:56 - cmdstanpy - INFO - Chain [1] done processing\n"
     ]
    },
    {
     "name": "stdout",
     "output_type": "stream",
     "text": [
      "Producto 20947: 36 períodos - Procesando\n"
     ]
    },
    {
     "name": "stderr",
     "output_type": "stream",
     "text": [
      "14:47:56 - cmdstanpy - INFO - Chain [1] start processing\n"
     ]
    },
    {
     "name": "stdout",
     "output_type": "stream",
     "text": [
      "Producto 20948: 36 períodos - Procesando\n"
     ]
    },
    {
     "name": "stderr",
     "output_type": "stream",
     "text": [
      "14:47:56 - cmdstanpy - INFO - Chain [1] done processing\n",
      "14:47:56 - cmdstanpy - INFO - Chain [1] start processing\n"
     ]
    },
    {
     "name": "stdout",
     "output_type": "stream",
     "text": [
      "Producto 20949: 36 períodos - Procesando\n"
     ]
    },
    {
     "name": "stderr",
     "output_type": "stream",
     "text": [
      "14:47:57 - cmdstanpy - INFO - Chain [1] done processing\n",
      "14:47:57 - cmdstanpy - INFO - Chain [1] start processing\n",
      "14:47:57 - cmdstanpy - INFO - Chain [1] done processing\n"
     ]
    },
    {
     "name": "stdout",
     "output_type": "stream",
     "text": [
      "Producto 20951: 32 períodos - Procesando\n"
     ]
    },
    {
     "name": "stderr",
     "output_type": "stream",
     "text": [
      "14:47:57 - cmdstanpy - INFO - Chain [1] start processing\n",
      "14:47:57 - cmdstanpy - INFO - Chain [1] done processing\n"
     ]
    },
    {
     "name": "stdout",
     "output_type": "stream",
     "text": [
      "Producto 20952: 36 períodos - Procesando\n"
     ]
    },
    {
     "name": "stderr",
     "output_type": "stream",
     "text": [
      "14:47:57 - cmdstanpy - INFO - Chain [1] start processing\n",
      "14:47:57 - cmdstanpy - INFO - Chain [1] done processing\n"
     ]
    },
    {
     "name": "stdout",
     "output_type": "stream",
     "text": [
      "Producto 20953: 6 períodos - Procesando\n"
     ]
    },
    {
     "name": "stderr",
     "output_type": "stream",
     "text": [
      "14:47:57 - cmdstanpy - INFO - Chain [1] start processing\n"
     ]
    },
    {
     "name": "stdout",
     "output_type": "stream",
     "text": [
      "Producto 20954: 17 períodos - Procesando\n"
     ]
    },
    {
     "name": "stderr",
     "output_type": "stream",
     "text": [
      "14:47:58 - cmdstanpy - INFO - Chain [1] done processing\n",
      "14:47:58 - cmdstanpy - INFO - Chain [1] start processing\n",
      "14:47:59 - cmdstanpy - INFO - Chain [1] done processing\n"
     ]
    },
    {
     "name": "stdout",
     "output_type": "stream",
     "text": [
      "Producto 20955: 9 períodos - Procesando\n",
      "Producto 20956: 36 períodos - Procesando\n"
     ]
    },
    {
     "name": "stderr",
     "output_type": "stream",
     "text": [
      "14:47:59 - cmdstanpy - INFO - Chain [1] start processing\n",
      "14:47:59 - cmdstanpy - INFO - Chain [1] done processing\n",
      "14:47:59 - cmdstanpy - INFO - Chain [1] start processing\n",
      "14:47:59 - cmdstanpy - INFO - Chain [1] done processing\n"
     ]
    },
    {
     "name": "stdout",
     "output_type": "stream",
     "text": [
      "Producto 20957: 36 períodos - Procesando\n",
      "Producto 20958: 3 períodos - Procesando\n"
     ]
    },
    {
     "name": "stderr",
     "output_type": "stream",
     "text": [
      "14:47:59 - cmdstanpy - INFO - Chain [1] start processing\n",
      "14:47:59 - cmdstanpy - INFO - Chain [1] done processing\n",
      "14:47:59 - cmdstanpy - INFO - Chain [1] start processing\n"
     ]
    },
    {
     "name": "stdout",
     "output_type": "stream",
     "text": [
      "Producto 20959: 20 períodos - Procesando\n"
     ]
    },
    {
     "name": "stderr",
     "output_type": "stream",
     "text": [
      "14:48:06 - cmdstanpy - INFO - Chain [1] done processing\n",
      "14:48:06 - cmdstanpy - INFO - Chain [1] start processing\n",
      "14:48:06 - cmdstanpy - INFO - Chain [1] done processing\n",
      "14:48:06 - cmdstanpy - INFO - Chain [1] start processing\n"
     ]
    },
    {
     "name": "stdout",
     "output_type": "stream",
     "text": [
      "Producto 20960: 36 períodos - Procesando\n",
      "Producto 20961: 36 períodos - Procesando\n"
     ]
    },
    {
     "name": "stderr",
     "output_type": "stream",
     "text": [
      "14:48:06 - cmdstanpy - INFO - Chain [1] done processing\n",
      "14:48:06 - cmdstanpy - INFO - Chain [1] start processing\n",
      "14:48:06 - cmdstanpy - INFO - Chain [1] done processing\n"
     ]
    },
    {
     "name": "stdout",
     "output_type": "stream",
     "text": [
      "Producto 20962: 4 períodos - Procesando\n",
      "Producto 20963: 30 períodos - Procesando\n"
     ]
    },
    {
     "name": "stderr",
     "output_type": "stream",
     "text": [
      "14:48:06 - cmdstanpy - INFO - Chain [1] start processing\n",
      "14:48:07 - cmdstanpy - INFO - Chain [1] done processing\n",
      "14:48:07 - cmdstanpy - INFO - Chain [1] start processing\n"
     ]
    },
    {
     "name": "stdout",
     "output_type": "stream",
     "text": [
      "Producto 20964: 3 períodos - Procesando\n"
     ]
    },
    {
     "name": "stderr",
     "output_type": "stream",
     "text": [
      "14:48:07 - cmdstanpy - INFO - Chain [1] done processing\n",
      "14:48:07 - cmdstanpy - INFO - Chain [1] start processing\n",
      "14:48:08 - cmdstanpy - INFO - Chain [1] done processing\n"
     ]
    },
    {
     "name": "stdout",
     "output_type": "stream",
     "text": [
      "Producto 20965: 36 períodos - Procesando\n"
     ]
    },
    {
     "name": "stderr",
     "output_type": "stream",
     "text": [
      "14:48:08 - cmdstanpy - INFO - Chain [1] start processing\n",
      "14:48:08 - cmdstanpy - INFO - Chain [1] done processing\n"
     ]
    },
    {
     "name": "stdout",
     "output_type": "stream",
     "text": [
      "Producto 20966: 9 períodos - Procesando\n"
     ]
    },
    {
     "name": "stderr",
     "output_type": "stream",
     "text": [
      "14:48:08 - cmdstanpy - INFO - Chain [1] start processing\n"
     ]
    },
    {
     "name": "stdout",
     "output_type": "stream",
     "text": [
      "Producto 20967: 16 períodos - Procesando\n"
     ]
    },
    {
     "name": "stderr",
     "output_type": "stream",
     "text": [
      "14:48:08 - cmdstanpy - INFO - Chain [1] done processing\n",
      "14:48:08 - cmdstanpy - INFO - Chain [1] start processing\n",
      "14:48:08 - cmdstanpy - INFO - Chain [1] done processing\n",
      "14:48:08 - cmdstanpy - INFO - Chain [1] start processing\n"
     ]
    },
    {
     "name": "stdout",
     "output_type": "stream",
     "text": [
      "Producto 20968: 5 períodos - Procesando\n",
      "Producto 20969: 34 períodos - Procesando\n"
     ]
    },
    {
     "name": "stderr",
     "output_type": "stream",
     "text": [
      "14:48:09 - cmdstanpy - INFO - Chain [1] done processing\n",
      "14:48:09 - cmdstanpy - INFO - Chain [1] start processing\n",
      "14:48:09 - cmdstanpy - INFO - Chain [1] done processing\n"
     ]
    },
    {
     "name": "stdout",
     "output_type": "stream",
     "text": [
      "Producto 20970: 36 períodos - Procesando\n",
      "Producto 20971: 15 períodos - Procesando\n"
     ]
    },
    {
     "name": "stderr",
     "output_type": "stream",
     "text": [
      "14:48:09 - cmdstanpy - INFO - Chain [1] start processing\n",
      "14:48:09 - cmdstanpy - INFO - Chain [1] done processing\n",
      "14:48:09 - cmdstanpy - INFO - Chain [1] start processing\n",
      "14:48:09 - cmdstanpy - INFO - Chain [1] done processing\n",
      "14:48:09 - cmdstanpy - INFO - Chain [1] start processing\n"
     ]
    },
    {
     "name": "stdout",
     "output_type": "stream",
     "text": [
      "Producto 20972: 3 períodos - Procesando\n",
      "Producto 20973: 36 períodos - Procesando\n"
     ]
    },
    {
     "name": "stderr",
     "output_type": "stream",
     "text": [
      "14:48:09 - cmdstanpy - INFO - Chain [1] done processing\n",
      "14:48:10 - cmdstanpy - INFO - Chain [1] start processing\n",
      "14:48:10 - cmdstanpy - INFO - Chain [1] done processing\n"
     ]
    },
    {
     "name": "stdout",
     "output_type": "stream",
     "text": [
      "Producto 20974: 36 períodos - Procesando\n",
      "Producto 20975: 4 períodos - Procesando\n"
     ]
    },
    {
     "name": "stderr",
     "output_type": "stream",
     "text": [
      "14:48:10 - cmdstanpy - INFO - Chain [1] start processing\n",
      "14:48:10 - cmdstanpy - INFO - Chain [1] done processing\n",
      "14:48:10 - cmdstanpy - INFO - Chain [1] start processing\n",
      "14:48:10 - cmdstanpy - INFO - Chain [1] done processing\n"
     ]
    },
    {
     "name": "stdout",
     "output_type": "stream",
     "text": [
      "Producto 20976: 36 períodos - Procesando\n",
      "Producto 20977: 36 períodos - Procesando\n"
     ]
    },
    {
     "name": "stderr",
     "output_type": "stream",
     "text": [
      "14:48:10 - cmdstanpy - INFO - Chain [1] start processing\n",
      "14:48:10 - cmdstanpy - INFO - Chain [1] done processing\n",
      "14:48:10 - cmdstanpy - INFO - Chain [1] start processing\n"
     ]
    },
    {
     "name": "stdout",
     "output_type": "stream",
     "text": [
      "Producto 20978: 16 períodos - Procesando\n"
     ]
    },
    {
     "name": "stderr",
     "output_type": "stream",
     "text": [
      "14:48:10 - cmdstanpy - INFO - Chain [1] done processing\n",
      "14:48:11 - cmdstanpy - INFO - Chain [1] start processing\n"
     ]
    },
    {
     "name": "stdout",
     "output_type": "stream",
     "text": [
      "Producto 20979: 13 períodos - Procesando\n"
     ]
    },
    {
     "name": "stderr",
     "output_type": "stream",
     "text": [
      "14:48:11 - cmdstanpy - INFO - Chain [1] done processing\n",
      "14:48:11 - cmdstanpy - INFO - Chain [1] start processing\n",
      "14:48:11 - cmdstanpy - INFO - Chain [1] done processing\n"
     ]
    },
    {
     "name": "stdout",
     "output_type": "stream",
     "text": [
      "Producto 20980: 3 períodos - Procesando\n",
      "Producto 20981: 16 períodos - Procesando\n"
     ]
    },
    {
     "name": "stderr",
     "output_type": "stream",
     "text": [
      "14:48:11 - cmdstanpy - INFO - Chain [1] start processing\n",
      "14:48:14 - cmdstanpy - INFO - Chain [1] done processing\n",
      "14:48:14 - cmdstanpy - INFO - Chain [1] start processing\n",
      "14:48:14 - cmdstanpy - INFO - Chain [1] done processing\n"
     ]
    },
    {
     "name": "stdout",
     "output_type": "stream",
     "text": [
      "Producto 20982: 36 períodos - Procesando\n",
      "Producto 20983: 23 períodos - Procesando\n"
     ]
    },
    {
     "name": "stderr",
     "output_type": "stream",
     "text": [
      "14:48:14 - cmdstanpy - INFO - Chain [1] start processing\n",
      "14:48:14 - cmdstanpy - INFO - Chain [1] done processing\n",
      "14:48:15 - cmdstanpy - INFO - Chain [1] start processing\n",
      "14:48:15 - cmdstanpy - INFO - Chain [1] done processing\n",
      "14:48:15 - cmdstanpy - INFO - Chain [1] start processing\n"
     ]
    },
    {
     "name": "stdout",
     "output_type": "stream",
     "text": [
      "Producto 20984: 31 períodos - Procesando\n",
      "Producto 20985: 36 períodos - Procesando\n"
     ]
    },
    {
     "name": "stderr",
     "output_type": "stream",
     "text": [
      "14:48:15 - cmdstanpy - INFO - Chain [1] done processing\n",
      "14:48:15 - cmdstanpy - INFO - Chain [1] start processing\n",
      "14:48:15 - cmdstanpy - INFO - Chain [1] done processing\n"
     ]
    },
    {
     "name": "stdout",
     "output_type": "stream",
     "text": [
      "Producto 20986: 36 períodos - Procesando\n"
     ]
    },
    {
     "name": "stderr",
     "output_type": "stream",
     "text": [
      "14:48:15 - cmdstanpy - INFO - Chain [1] start processing\n",
      "14:48:15 - cmdstanpy - INFO - Chain [1] done processing\n"
     ]
    },
    {
     "name": "stdout",
     "output_type": "stream",
     "text": [
      "Producto 20987: 9 períodos - Procesando\n",
      "Producto 20988: 19 períodos - Procesando\n"
     ]
    },
    {
     "name": "stderr",
     "output_type": "stream",
     "text": [
      "14:48:15 - cmdstanpy - INFO - Chain [1] start processing\n",
      "14:48:16 - cmdstanpy - INFO - Chain [1] done processing\n",
      "14:48:16 - cmdstanpy - INFO - Chain [1] start processing\n",
      "14:48:16 - cmdstanpy - INFO - Chain [1] done processing\n"
     ]
    },
    {
     "name": "stdout",
     "output_type": "stream",
     "text": [
      "Producto 20989: 26 períodos - Procesando\n",
      "Producto 20990: 15 períodos - Procesando\n"
     ]
    },
    {
     "name": "stderr",
     "output_type": "stream",
     "text": [
      "14:48:16 - cmdstanpy - INFO - Chain [1] start processing\n",
      "14:48:21 - cmdstanpy - INFO - Chain [1] done processing\n",
      "14:48:22 - cmdstanpy - INFO - Chain [1] start processing\n",
      "14:48:22 - cmdstanpy - INFO - Chain [1] done processing\n"
     ]
    },
    {
     "name": "stdout",
     "output_type": "stream",
     "text": [
      "Producto 20991: 36 períodos - Procesando\n",
      "Producto 20992: 3 períodos - Procesando\n"
     ]
    },
    {
     "name": "stderr",
     "output_type": "stream",
     "text": [
      "14:48:22 - cmdstanpy - INFO - Chain [1] start processing\n",
      "14:48:22 - cmdstanpy - INFO - Chain [1] done processing\n",
      "14:48:22 - cmdstanpy - INFO - Chain [1] start processing\n",
      "14:48:22 - cmdstanpy - INFO - Chain [1] done processing\n"
     ]
    },
    {
     "name": "stdout",
     "output_type": "stream",
     "text": [
      "Producto 20993: 3 períodos - Procesando\n",
      "Producto 20994: 36 períodos - Procesando\n"
     ]
    },
    {
     "name": "stderr",
     "output_type": "stream",
     "text": [
      "14:48:22 - cmdstanpy - INFO - Chain [1] start processing\n",
      "14:48:22 - cmdstanpy - INFO - Chain [1] done processing\n",
      "14:48:22 - cmdstanpy - INFO - Chain [1] start processing\n",
      "14:48:22 - cmdstanpy - INFO - Chain [1] done processing\n"
     ]
    },
    {
     "name": "stdout",
     "output_type": "stream",
     "text": [
      "Producto 20995: 4 períodos - Procesando\n",
      "Producto 20996: 30 períodos - Procesando\n"
     ]
    },
    {
     "name": "stderr",
     "output_type": "stream",
     "text": [
      "14:48:22 - cmdstanpy - INFO - Chain [1] start processing\n",
      "14:48:23 - cmdstanpy - INFO - Chain [1] done processing\n",
      "14:48:23 - cmdstanpy - INFO - Chain [1] start processing\n"
     ]
    },
    {
     "name": "stdout",
     "output_type": "stream",
     "text": [
      "Producto 20997: 16 períodos - Procesando\n"
     ]
    },
    {
     "name": "stderr",
     "output_type": "stream",
     "text": [
      "14:48:25 - cmdstanpy - INFO - Chain [1] done processing\n",
      "14:48:25 - cmdstanpy - INFO - Chain [1] start processing\n",
      "14:48:25 - cmdstanpy - INFO - Chain [1] done processing\n"
     ]
    },
    {
     "name": "stdout",
     "output_type": "stream",
     "text": [
      "Producto 20998: 29 períodos - Procesando\n",
      "Producto 20999: 35 períodos - Procesando\n"
     ]
    },
    {
     "name": "stderr",
     "output_type": "stream",
     "text": [
      "14:48:25 - cmdstanpy - INFO - Chain [1] start processing\n",
      "14:48:25 - cmdstanpy - INFO - Chain [1] done processing\n",
      "14:48:25 - cmdstanpy - INFO - Chain [1] start processing\n"
     ]
    },
    {
     "name": "stdout",
     "output_type": "stream",
     "text": [
      "Producto 21001: 15 períodos - Procesando\n"
     ]
    },
    {
     "name": "stderr",
     "output_type": "stream",
     "text": [
      "14:48:31 - cmdstanpy - INFO - Chain [1] done processing\n",
      "14:48:31 - cmdstanpy - INFO - Chain [1] start processing\n"
     ]
    },
    {
     "name": "stdout",
     "output_type": "stream",
     "text": [
      "Producto 21002: 17 períodos - Procesando\n"
     ]
    },
    {
     "name": "stderr",
     "output_type": "stream",
     "text": [
      "14:48:31 - cmdstanpy - INFO - Chain [1] done processing\n",
      "14:48:32 - cmdstanpy - INFO - Chain [1] start processing\n",
      "14:48:32 - cmdstanpy - INFO - Chain [1] done processing\n"
     ]
    },
    {
     "name": "stdout",
     "output_type": "stream",
     "text": [
      "Producto 21003: 30 períodos - Procesando\n",
      "Producto 21005: 36 períodos - Procesando\n"
     ]
    },
    {
     "name": "stderr",
     "output_type": "stream",
     "text": [
      "14:48:32 - cmdstanpy - INFO - Chain [1] start processing\n",
      "14:48:32 - cmdstanpy - INFO - Chain [1] done processing\n",
      "14:48:32 - cmdstanpy - INFO - Chain [1] start processing\n",
      "14:48:32 - cmdstanpy - INFO - Chain [1] done processing\n"
     ]
    },
    {
     "name": "stdout",
     "output_type": "stream",
     "text": [
      "Producto 21006: 6 períodos - Procesando\n",
      "Producto 21007: 7 períodos - Procesando\n"
     ]
    },
    {
     "name": "stderr",
     "output_type": "stream",
     "text": [
      "14:48:32 - cmdstanpy - INFO - Chain [1] start processing\n",
      "14:48:32 - cmdstanpy - INFO - Chain [1] done processing\n",
      "14:48:33 - cmdstanpy - INFO - Chain [1] start processing\n",
      "14:48:33 - cmdstanpy - INFO - Chain [1] done processing\n"
     ]
    },
    {
     "name": "stdout",
     "output_type": "stream",
     "text": [
      "Producto 21008: 36 períodos - Procesando\n"
     ]
    },
    {
     "name": "stderr",
     "output_type": "stream",
     "text": [
      "14:48:33 - cmdstanpy - INFO - Chain [1] start processing\n"
     ]
    },
    {
     "name": "stdout",
     "output_type": "stream",
     "text": [
      "Producto 21009: 9 períodos - Procesando\n"
     ]
    },
    {
     "name": "stderr",
     "output_type": "stream",
     "text": [
      "14:48:33 - cmdstanpy - INFO - Chain [1] done processing\n",
      "14:48:33 - cmdstanpy - INFO - Chain [1] start processing\n",
      "14:48:33 - cmdstanpy - INFO - Chain [1] done processing\n"
     ]
    },
    {
     "name": "stdout",
     "output_type": "stream",
     "text": [
      "Producto 21010: 29 períodos - Procesando\n"
     ]
    },
    {
     "name": "stderr",
     "output_type": "stream",
     "text": [
      "14:48:33 - cmdstanpy - INFO - Chain [1] start processing\n"
     ]
    },
    {
     "name": "stdout",
     "output_type": "stream",
     "text": [
      "Producto 21011: 13 períodos - Procesando\n"
     ]
    },
    {
     "name": "stderr",
     "output_type": "stream",
     "text": [
      "14:48:38 - cmdstanpy - INFO - Chain [1] done processing\n",
      "14:48:39 - cmdstanpy - INFO - Chain [1] start processing\n"
     ]
    },
    {
     "name": "stdout",
     "output_type": "stream",
     "text": [
      "Producto 21013: 15 períodos - Procesando\n"
     ]
    },
    {
     "name": "stderr",
     "output_type": "stream",
     "text": [
      "14:48:43 - cmdstanpy - INFO - Chain [1] done processing\n",
      "14:48:43 - cmdstanpy - INFO - Chain [1] start processing\n"
     ]
    },
    {
     "name": "stdout",
     "output_type": "stream",
     "text": [
      "Producto 21014: 36 períodos - Procesando\n"
     ]
    },
    {
     "name": "stderr",
     "output_type": "stream",
     "text": [
      "14:48:43 - cmdstanpy - INFO - Chain [1] done processing\n",
      "14:48:44 - cmdstanpy - INFO - Chain [1] start processing\n"
     ]
    },
    {
     "name": "stdout",
     "output_type": "stream",
     "text": [
      "Producto 21015: 17 períodos - Procesando\n"
     ]
    },
    {
     "name": "stderr",
     "output_type": "stream",
     "text": [
      "14:48:44 - cmdstanpy - INFO - Chain [1] done processing\n",
      "14:48:44 - cmdstanpy - INFO - Chain [1] start processing\n",
      "14:48:44 - cmdstanpy - INFO - Chain [1] done processing\n"
     ]
    },
    {
     "name": "stdout",
     "output_type": "stream",
     "text": [
      "Producto 21016: 36 períodos - Procesando\n",
      "Producto 21018: 3 períodos - Procesando\n"
     ]
    },
    {
     "name": "stderr",
     "output_type": "stream",
     "text": [
      "14:48:44 - cmdstanpy - INFO - Chain [1] start processing\n",
      "14:48:44 - cmdstanpy - INFO - Chain [1] done processing\n",
      "14:48:45 - cmdstanpy - INFO - Chain [1] start processing\n"
     ]
    },
    {
     "name": "stdout",
     "output_type": "stream",
     "text": [
      "Producto 21019: 25 períodos - Procesando\n"
     ]
    },
    {
     "name": "stderr",
     "output_type": "stream",
     "text": [
      "14:48:55 - cmdstanpy - INFO - Chain [1] done processing\n",
      "14:48:55 - cmdstanpy - INFO - Chain [1] start processing\n"
     ]
    },
    {
     "name": "stdout",
     "output_type": "stream",
     "text": [
      "Producto 21020: 9 períodos - Procesando\n"
     ]
    },
    {
     "name": "stderr",
     "output_type": "stream",
     "text": [
      "14:48:55 - cmdstanpy - INFO - Chain [1] done processing\n",
      "14:48:55 - cmdstanpy - INFO - Chain [1] start processing\n"
     ]
    },
    {
     "name": "stdout",
     "output_type": "stream",
     "text": [
      "Producto 21021: 24 períodos - Procesando\n"
     ]
    },
    {
     "name": "stderr",
     "output_type": "stream",
     "text": [
      "14:49:04 - cmdstanpy - INFO - Chain [1] done processing\n",
      "14:49:04 - cmdstanpy - INFO - Chain [1] start processing\n"
     ]
    },
    {
     "name": "stdout",
     "output_type": "stream",
     "text": [
      "Producto 21022: 15 períodos - Procesando\n"
     ]
    },
    {
     "name": "stderr",
     "output_type": "stream",
     "text": [
      "14:49:04 - cmdstanpy - INFO - Chain [1] done processing\n",
      "14:49:04 - cmdstanpy - INFO - Chain [1] start processing\n",
      "14:49:04 - cmdstanpy - INFO - Chain [1] done processing\n"
     ]
    },
    {
     "name": "stdout",
     "output_type": "stream",
     "text": [
      "Producto 21023: 23 períodos - Procesando\n"
     ]
    },
    {
     "name": "stderr",
     "output_type": "stream",
     "text": [
      "14:49:05 - cmdstanpy - INFO - Chain [1] start processing\n"
     ]
    },
    {
     "name": "stdout",
     "output_type": "stream",
     "text": [
      "Producto 21024: 36 períodos - Procesando\n"
     ]
    },
    {
     "name": "stderr",
     "output_type": "stream",
     "text": [
      "14:49:05 - cmdstanpy - INFO - Chain [1] done processing\n",
      "14:49:05 - cmdstanpy - INFO - Chain [1] start processing\n",
      "14:49:05 - cmdstanpy - INFO - Chain [1] done processing\n",
      "14:49:05 - cmdstanpy - INFO - Chain [1] start processing\n"
     ]
    },
    {
     "name": "stdout",
     "output_type": "stream",
     "text": [
      "Producto 21026: 3 períodos - Procesando\n",
      "Producto 21027: 30 períodos - Procesando\n"
     ]
    },
    {
     "name": "stderr",
     "output_type": "stream",
     "text": [
      "14:49:05 - cmdstanpy - INFO - Chain [1] done processing\n",
      "14:49:05 - cmdstanpy - INFO - Chain [1] start processing\n",
      "14:49:05 - cmdstanpy - INFO - Chain [1] done processing\n"
     ]
    },
    {
     "name": "stdout",
     "output_type": "stream",
     "text": [
      "Producto 21028: 36 períodos - Procesando\n"
     ]
    },
    {
     "name": "stderr",
     "output_type": "stream",
     "text": [
      "14:49:05 - cmdstanpy - INFO - Chain [1] start processing\n",
      "14:49:05 - cmdstanpy - INFO - Chain [1] done processing\n"
     ]
    },
    {
     "name": "stdout",
     "output_type": "stream",
     "text": [
      "Producto 21029: 34 períodos - Procesando\n"
     ]
    },
    {
     "name": "stderr",
     "output_type": "stream",
     "text": [
      "14:49:06 - cmdstanpy - INFO - Chain [1] start processing\n",
      "14:49:06 - cmdstanpy - INFO - Chain [1] done processing\n"
     ]
    },
    {
     "name": "stdout",
     "output_type": "stream",
     "text": [
      "Producto 21030: 26 períodos - Procesando\n",
      "Producto 21031: 13 períodos - Procesando\n"
     ]
    },
    {
     "name": "stderr",
     "output_type": "stream",
     "text": [
      "14:49:06 - cmdstanpy - INFO - Chain [1] start processing\n",
      "14:49:06 - cmdstanpy - INFO - Chain [1] done processing\n",
      "14:49:06 - cmdstanpy - INFO - Chain [1] start processing\n",
      "14:49:06 - cmdstanpy - INFO - Chain [1] done processing\n"
     ]
    },
    {
     "name": "stdout",
     "output_type": "stream",
     "text": [
      "Producto 21032: 36 períodos - Procesando\n"
     ]
    },
    {
     "name": "stderr",
     "output_type": "stream",
     "text": [
      "14:49:06 - cmdstanpy - INFO - Chain [1] start processing\n",
      "14:49:06 - cmdstanpy - INFO - Chain [1] done processing\n"
     ]
    },
    {
     "name": "stdout",
     "output_type": "stream",
     "text": [
      "Producto 21033: 10 períodos - Procesando\n"
     ]
    },
    {
     "name": "stderr",
     "output_type": "stream",
     "text": [
      "14:49:07 - cmdstanpy - INFO - Chain [1] start processing\n"
     ]
    },
    {
     "name": "stdout",
     "output_type": "stream",
     "text": [
      "Producto 21034: 20 períodos - Procesando\n"
     ]
    },
    {
     "name": "stderr",
     "output_type": "stream",
     "text": [
      "14:49:08 - cmdstanpy - INFO - Chain [1] done processing\n",
      "14:49:08 - cmdstanpy - INFO - Chain [1] start processing\n",
      "14:49:08 - cmdstanpy - INFO - Chain [1] done processing\n",
      "14:49:08 - cmdstanpy - INFO - Chain [1] start processing\n"
     ]
    },
    {
     "name": "stdout",
     "output_type": "stream",
     "text": [
      "Producto 21035: 6 períodos - Procesando\n",
      "Producto 21036: 25 períodos - Procesando\n"
     ]
    },
    {
     "name": "stderr",
     "output_type": "stream",
     "text": [
      "14:49:08 - cmdstanpy - INFO - Chain [1] done processing\n",
      "14:49:08 - cmdstanpy - INFO - Chain [1] start processing\n"
     ]
    },
    {
     "name": "stdout",
     "output_type": "stream",
     "text": [
      "Producto 21037: 15 períodos - Procesando\n"
     ]
    },
    {
     "name": "stderr",
     "output_type": "stream",
     "text": [
      "14:49:08 - cmdstanpy - INFO - Chain [1] done processing\n",
      "14:49:08 - cmdstanpy - INFO - Chain [1] start processing\n",
      "14:49:08 - cmdstanpy - INFO - Chain [1] done processing\n"
     ]
    },
    {
     "name": "stdout",
     "output_type": "stream",
     "text": [
      "Producto 21038: 36 períodos - Procesando\n"
     ]
    },
    {
     "name": "stderr",
     "output_type": "stream",
     "text": [
      "14:49:09 - cmdstanpy - INFO - Chain [1] start processing\n"
     ]
    },
    {
     "name": "stdout",
     "output_type": "stream",
     "text": [
      "Producto 21039: 6 períodos - Procesando\n"
     ]
    },
    {
     "name": "stderr",
     "output_type": "stream",
     "text": [
      "14:49:09 - cmdstanpy - INFO - Chain [1] done processing\n",
      "14:49:09 - cmdstanpy - INFO - Chain [1] start processing\n"
     ]
    },
    {
     "name": "stdout",
     "output_type": "stream",
     "text": [
      "Producto 21040: 20 períodos - Procesando\n"
     ]
    },
    {
     "name": "stderr",
     "output_type": "stream",
     "text": [
      "14:49:10 - cmdstanpy - INFO - Chain [1] done processing\n",
      "14:49:10 - cmdstanpy - INFO - Chain [1] start processing\n"
     ]
    },
    {
     "name": "stdout",
     "output_type": "stream",
     "text": [
      "Producto 21041: 23 períodos - Procesando\n"
     ]
    },
    {
     "name": "stderr",
     "output_type": "stream",
     "text": [
      "14:49:17 - cmdstanpy - INFO - Chain [1] done processing\n",
      "14:49:17 - cmdstanpy - INFO - Chain [1] start processing\n",
      "14:49:17 - cmdstanpy - INFO - Chain [1] done processing\n"
     ]
    },
    {
     "name": "stdout",
     "output_type": "stream",
     "text": [
      "Producto 21042: 8 períodos - Procesando\n",
      "Producto 21043: 13 períodos - Procesando\n"
     ]
    },
    {
     "name": "stderr",
     "output_type": "stream",
     "text": [
      "14:49:17 - cmdstanpy - INFO - Chain [1] start processing\n",
      "14:49:19 - cmdstanpy - INFO - Chain [1] done processing\n",
      "14:49:20 - cmdstanpy - INFO - Chain [1] start processing\n",
      "14:49:20 - cmdstanpy - INFO - Chain [1] done processing\n"
     ]
    },
    {
     "name": "stdout",
     "output_type": "stream",
     "text": [
      "Producto 21044: 8 períodos - Procesando\n"
     ]
    },
    {
     "name": "stderr",
     "output_type": "stream",
     "text": [
      "14:49:20 - cmdstanpy - INFO - Chain [1] start processing\n"
     ]
    },
    {
     "name": "stdout",
     "output_type": "stream",
     "text": [
      "Producto 21045: 20 períodos - Procesando\n"
     ]
    },
    {
     "name": "stderr",
     "output_type": "stream",
     "text": [
      "14:49:24 - cmdstanpy - INFO - Chain [1] done processing\n",
      "14:49:24 - cmdstanpy - INFO - Chain [1] start processing\n"
     ]
    },
    {
     "name": "stdout",
     "output_type": "stream",
     "text": [
      "Producto 21046: 20 períodos - Procesando\n"
     ]
    },
    {
     "name": "stderr",
     "output_type": "stream",
     "text": [
      "14:49:31 - cmdstanpy - INFO - Chain [1] done processing\n",
      "14:49:31 - cmdstanpy - INFO - Chain [1] start processing\n",
      "14:49:31 - cmdstanpy - INFO - Chain [1] done processing\n"
     ]
    },
    {
     "name": "stdout",
     "output_type": "stream",
     "text": [
      "Producto 21047: 33 períodos - Procesando\n",
      "Producto 21048: 36 períodos - Procesando\n"
     ]
    },
    {
     "name": "stderr",
     "output_type": "stream",
     "text": [
      "14:49:31 - cmdstanpy - INFO - Chain [1] start processing\n",
      "14:49:31 - cmdstanpy - INFO - Chain [1] done processing\n",
      "14:49:31 - cmdstanpy - INFO - Chain [1] start processing\n",
      "14:49:31 - cmdstanpy - INFO - Chain [1] done processing\n",
      "14:49:31 - cmdstanpy - INFO - Chain [1] start processing\n"
     ]
    },
    {
     "name": "stdout",
     "output_type": "stream",
     "text": [
      "Producto 21049: 35 períodos - Procesando\n",
      "Producto 21050: 35 períodos - Procesando\n"
     ]
    },
    {
     "name": "stderr",
     "output_type": "stream",
     "text": [
      "14:49:32 - cmdstanpy - INFO - Chain [1] done processing\n",
      "14:49:32 - cmdstanpy - INFO - Chain [1] start processing\n"
     ]
    },
    {
     "name": "stdout",
     "output_type": "stream",
     "text": [
      "Producto 21051: 16 períodos - Procesando\n"
     ]
    },
    {
     "name": "stderr",
     "output_type": "stream",
     "text": [
      "14:49:37 - cmdstanpy - INFO - Chain [1] done processing\n",
      "14:49:37 - cmdstanpy - INFO - Chain [1] start processing\n",
      "14:49:37 - cmdstanpy - INFO - Chain [1] done processing\n"
     ]
    },
    {
     "name": "stdout",
     "output_type": "stream",
     "text": [
      "Producto 21054: 3 períodos - Procesando\n",
      "Producto 21055: 36 períodos - Procesando\n"
     ]
    },
    {
     "name": "stderr",
     "output_type": "stream",
     "text": [
      "14:49:37 - cmdstanpy - INFO - Chain [1] start processing\n",
      "14:49:37 - cmdstanpy - INFO - Chain [1] done processing\n",
      "14:49:37 - cmdstanpy - INFO - Chain [1] start processing\n"
     ]
    },
    {
     "name": "stdout",
     "output_type": "stream",
     "text": [
      "Producto 21056: 15 períodos - Procesando\n"
     ]
    },
    {
     "name": "stderr",
     "output_type": "stream",
     "text": [
      "14:49:42 - cmdstanpy - INFO - Chain [1] done processing\n",
      "14:49:42 - cmdstanpy - INFO - Chain [1] start processing\n",
      "14:49:43 - cmdstanpy - INFO - Chain [1] done processing\n"
     ]
    },
    {
     "name": "stdout",
     "output_type": "stream",
     "text": [
      "Producto 21057: 36 períodos - Procesando\n",
      "Producto 21058: 5 períodos - Procesando\n"
     ]
    },
    {
     "name": "stderr",
     "output_type": "stream",
     "text": [
      "14:49:43 - cmdstanpy - INFO - Chain [1] start processing\n",
      "14:49:43 - cmdstanpy - INFO - Chain [1] done processing\n",
      "14:49:43 - cmdstanpy - INFO - Chain [1] start processing\n",
      "14:49:43 - cmdstanpy - INFO - Chain [1] done processing\n",
      "14:49:43 - cmdstanpy - INFO - Chain [1] start processing\n"
     ]
    },
    {
     "name": "stdout",
     "output_type": "stream",
     "text": [
      "Producto 21059: 9 períodos - Procesando\n",
      "Producto 21061: 6 períodos - Procesando\n"
     ]
    },
    {
     "name": "stderr",
     "output_type": "stream",
     "text": [
      "14:49:43 - cmdstanpy - INFO - Chain [1] done processing\n",
      "14:49:43 - cmdstanpy - INFO - Chain [1] start processing\n",
      "14:49:43 - cmdstanpy - INFO - Chain [1] done processing\n"
     ]
    },
    {
     "name": "stdout",
     "output_type": "stream",
     "text": [
      "Producto 21062: 34 períodos - Procesando\n",
      "Producto 21063: 35 períodos - Procesando\n"
     ]
    },
    {
     "name": "stderr",
     "output_type": "stream",
     "text": [
      "14:49:43 - cmdstanpy - INFO - Chain [1] start processing\n",
      "14:49:43 - cmdstanpy - INFO - Chain [1] done processing\n",
      "14:49:43 - cmdstanpy - INFO - Chain [1] start processing\n"
     ]
    },
    {
     "name": "stdout",
     "output_type": "stream",
     "text": [
      "Producto 21064: 8 períodos - Procesando\n"
     ]
    },
    {
     "name": "stderr",
     "output_type": "stream",
     "text": [
      "14:49:44 - cmdstanpy - INFO - Chain [1] done processing\n",
      "14:49:44 - cmdstanpy - INFO - Chain [1] start processing\n",
      "14:49:44 - cmdstanpy - INFO - Chain [1] done processing\n"
     ]
    },
    {
     "name": "stdout",
     "output_type": "stream",
     "text": [
      "Producto 21065: 23 períodos - Procesando\n",
      "Producto 21066: 7 períodos - Procesando\n"
     ]
    },
    {
     "name": "stderr",
     "output_type": "stream",
     "text": [
      "14:49:44 - cmdstanpy - INFO - Chain [1] start processing\n",
      "14:49:44 - cmdstanpy - INFO - Chain [1] done processing\n",
      "14:49:44 - cmdstanpy - INFO - Chain [1] start processing\n",
      "14:49:44 - cmdstanpy - INFO - Chain [1] done processing\n"
     ]
    },
    {
     "name": "stdout",
     "output_type": "stream",
     "text": [
      "Producto 21067: 29 períodos - Procesando\n",
      "Producto 21068: 17 períodos - Procesando\n"
     ]
    },
    {
     "name": "stderr",
     "output_type": "stream",
     "text": [
      "14:49:45 - cmdstanpy - INFO - Chain [1] start processing\n",
      "14:49:50 - cmdstanpy - INFO - Chain [1] done processing\n",
      "14:49:50 - cmdstanpy - INFO - Chain [1] start processing\n"
     ]
    },
    {
     "name": "stdout",
     "output_type": "stream",
     "text": [
      "Producto 21069: 15 períodos - Procesando\n"
     ]
    },
    {
     "name": "stderr",
     "output_type": "stream",
     "text": [
      "14:49:55 - cmdstanpy - INFO - Chain [1] done processing\n",
      "14:49:55 - cmdstanpy - INFO - Chain [1] start processing\n",
      "14:49:55 - cmdstanpy - INFO - Chain [1] done processing\n",
      "14:49:55 - cmdstanpy - INFO - Chain [1] start processing\n"
     ]
    },
    {
     "name": "stdout",
     "output_type": "stream",
     "text": [
      "Producto 21070: 26 períodos - Procesando\n",
      "Producto 21071: 30 períodos - Procesando\n"
     ]
    },
    {
     "name": "stderr",
     "output_type": "stream",
     "text": [
      "14:49:55 - cmdstanpy - INFO - Chain [1] done processing\n",
      "14:49:56 - cmdstanpy - INFO - Chain [1] start processing\n",
      "14:49:56 - cmdstanpy - INFO - Chain [1] done processing\n"
     ]
    },
    {
     "name": "stdout",
     "output_type": "stream",
     "text": [
      "Producto 21073: 10 períodos - Procesando\n",
      "Producto 21074: 8 períodos - Procesando\n"
     ]
    },
    {
     "name": "stderr",
     "output_type": "stream",
     "text": [
      "14:49:56 - cmdstanpy - INFO - Chain [1] start processing\n",
      "14:49:56 - cmdstanpy - INFO - Chain [1] done processing\n",
      "14:49:56 - cmdstanpy - INFO - Chain [1] start processing\n"
     ]
    },
    {
     "name": "stdout",
     "output_type": "stream",
     "text": [
      "Producto 21075: 8 períodos - Procesando\n"
     ]
    },
    {
     "name": "stderr",
     "output_type": "stream",
     "text": [
      "14:49:57 - cmdstanpy - INFO - Chain [1] done processing\n",
      "14:49:57 - cmdstanpy - INFO - Chain [1] start processing\n"
     ]
    },
    {
     "name": "stdout",
     "output_type": "stream",
     "text": [
      "Producto 21076: 14 períodos - Procesando\n"
     ]
    },
    {
     "name": "stderr",
     "output_type": "stream",
     "text": [
      "14:49:57 - cmdstanpy - INFO - Chain [1] done processing\n",
      "14:49:57 - cmdstanpy - INFO - Chain [1] start processing\n",
      "14:49:57 - cmdstanpy - INFO - Chain [1] done processing\n"
     ]
    },
    {
     "name": "stdout",
     "output_type": "stream",
     "text": [
      "Producto 21077: 36 períodos - Procesando\n",
      "Producto 21078: 9 períodos - Procesando\n"
     ]
    },
    {
     "name": "stderr",
     "output_type": "stream",
     "text": [
      "14:49:58 - cmdstanpy - INFO - Chain [1] start processing\n",
      "14:49:58 - cmdstanpy - INFO - Chain [1] done processing\n",
      "14:49:58 - cmdstanpy - INFO - Chain [1] start processing\n",
      "14:49:58 - cmdstanpy - INFO - Chain [1] done processing\n"
     ]
    },
    {
     "name": "stdout",
     "output_type": "stream",
     "text": [
      "Producto 21079: 6 períodos - Procesando\n",
      "Producto 21080: 36 períodos - Procesando\n"
     ]
    },
    {
     "name": "stderr",
     "output_type": "stream",
     "text": [
      "14:49:58 - cmdstanpy - INFO - Chain [1] start processing\n",
      "14:49:58 - cmdstanpy - INFO - Chain [1] done processing\n",
      "14:49:58 - cmdstanpy - INFO - Chain [1] start processing\n"
     ]
    },
    {
     "name": "stdout",
     "output_type": "stream",
     "text": [
      "Producto 21081: 11 períodos - Procesando\n"
     ]
    },
    {
     "name": "stderr",
     "output_type": "stream",
     "text": [
      "14:49:58 - cmdstanpy - INFO - Chain [1] done processing\n",
      "14:49:59 - cmdstanpy - INFO - Chain [1] start processing\n"
     ]
    },
    {
     "name": "stdout",
     "output_type": "stream",
     "text": [
      "Producto 21082: 14 períodos - Procesando\n"
     ]
    },
    {
     "name": "stderr",
     "output_type": "stream",
     "text": [
      "14:50:03 - cmdstanpy - INFO - Chain [1] done processing\n",
      "14:50:03 - cmdstanpy - INFO - Chain [1] start processing\n",
      "14:50:04 - cmdstanpy - INFO - Chain [1] done processing\n"
     ]
    },
    {
     "name": "stdout",
     "output_type": "stream",
     "text": [
      "Producto 21083: 23 períodos - Procesando\n",
      "Producto 21084: 17 períodos - Procesando\n"
     ]
    },
    {
     "name": "stderr",
     "output_type": "stream",
     "text": [
      "14:50:04 - cmdstanpy - INFO - Chain [1] start processing\n",
      "14:50:04 - cmdstanpy - INFO - Chain [1] done processing\n",
      "14:50:04 - cmdstanpy - INFO - Chain [1] start processing\n"
     ]
    },
    {
     "name": "stdout",
     "output_type": "stream",
     "text": [
      "Producto 21085: 13 períodos - Procesando\n"
     ]
    },
    {
     "name": "stderr",
     "output_type": "stream",
     "text": [
      "14:50:09 - cmdstanpy - INFO - Chain [1] done processing\n",
      "14:50:09 - cmdstanpy - INFO - Chain [1] start processing\n"
     ]
    },
    {
     "name": "stdout",
     "output_type": "stream",
     "text": [
      "Producto 21086: 9 períodos - Procesando\n"
     ]
    },
    {
     "name": "stderr",
     "output_type": "stream",
     "text": [
      "14:50:10 - cmdstanpy - INFO - Chain [1] done processing\n",
      "14:50:10 - cmdstanpy - INFO - Chain [1] start processing\n"
     ]
    },
    {
     "name": "stdout",
     "output_type": "stream",
     "text": [
      "Producto 21087: 4 períodos - Procesando\n"
     ]
    },
    {
     "name": "stderr",
     "output_type": "stream",
     "text": [
      "14:50:12 - cmdstanpy - INFO - Chain [1] done processing\n",
      "14:50:12 - cmdstanpy - INFO - Chain [1] start processing\n",
      "14:50:13 - cmdstanpy - INFO - Chain [1] done processing\n"
     ]
    },
    {
     "name": "stdout",
     "output_type": "stream",
     "text": [
      "Producto 21088: 36 períodos - Procesando\n",
      "Producto 21090: 22 períodos - Procesando\n"
     ]
    },
    {
     "name": "stderr",
     "output_type": "stream",
     "text": [
      "14:50:13 - cmdstanpy - INFO - Chain [1] start processing\n",
      "14:50:19 - cmdstanpy - INFO - Chain [1] done processing\n",
      "14:50:19 - cmdstanpy - INFO - Chain [1] start processing\n"
     ]
    },
    {
     "name": "stdout",
     "output_type": "stream",
     "text": [
      "Producto 21091: 13 períodos - Procesando\n"
     ]
    },
    {
     "name": "stderr",
     "output_type": "stream",
     "text": [
      "14:50:24 - cmdstanpy - INFO - Chain [1] done processing\n",
      "14:50:25 - cmdstanpy - INFO - Chain [1] start processing\n",
      "14:50:25 - cmdstanpy - INFO - Chain [1] done processing\n"
     ]
    },
    {
     "name": "stdout",
     "output_type": "stream",
     "text": [
      "Producto 21092: 9 períodos - Procesando\n"
     ]
    },
    {
     "name": "stderr",
     "output_type": "stream",
     "text": [
      "14:50:25 - cmdstanpy - INFO - Chain [1] start processing\n"
     ]
    },
    {
     "name": "stdout",
     "output_type": "stream",
     "text": [
      "Producto 21093: 14 períodos - Procesando\n"
     ]
    },
    {
     "name": "stderr",
     "output_type": "stream",
     "text": [
      "14:50:25 - cmdstanpy - INFO - Chain [1] done processing\n",
      "14:50:25 - cmdstanpy - INFO - Chain [1] start processing\n"
     ]
    },
    {
     "name": "stdout",
     "output_type": "stream",
     "text": [
      "Producto 21094: 11 períodos - Procesando\n"
     ]
    },
    {
     "name": "stderr",
     "output_type": "stream",
     "text": [
      "14:50:30 - cmdstanpy - INFO - Chain [1] done processing\n",
      "14:50:30 - cmdstanpy - INFO - Chain [1] start processing\n",
      "14:50:30 - cmdstanpy - INFO - Chain [1] done processing\n"
     ]
    },
    {
     "name": "stdout",
     "output_type": "stream",
     "text": [
      "Producto 21095: 9 períodos - Procesando\n",
      "Producto 21096: 8 períodos - Procesando\n"
     ]
    },
    {
     "name": "stderr",
     "output_type": "stream",
     "text": [
      "14:50:30 - cmdstanpy - INFO - Chain [1] start processing\n",
      "14:50:33 - cmdstanpy - INFO - Chain [1] done processing\n",
      "14:50:33 - cmdstanpy - INFO - Chain [1] start processing\n",
      "14:50:33 - cmdstanpy - INFO - Chain [1] done processing\n"
     ]
    },
    {
     "name": "stdout",
     "output_type": "stream",
     "text": [
      "Producto 21097: 5 períodos - Procesando\n",
      "Producto 21098: 7 períodos - Procesando\n"
     ]
    },
    {
     "name": "stderr",
     "output_type": "stream",
     "text": [
      "14:50:33 - cmdstanpy - INFO - Chain [1] start processing\n",
      "14:50:34 - cmdstanpy - INFO - Chain [1] done processing\n",
      "14:50:34 - cmdstanpy - INFO - Chain [1] start processing\n"
     ]
    },
    {
     "name": "stdout",
     "output_type": "stream",
     "text": [
      "Producto 21099: 8 períodos - Procesando\n"
     ]
    },
    {
     "name": "stderr",
     "output_type": "stream",
     "text": [
      "14:50:37 - cmdstanpy - INFO - Chain [1] done processing\n",
      "14:50:37 - cmdstanpy - INFO - Chain [1] start processing\n"
     ]
    },
    {
     "name": "stdout",
     "output_type": "stream",
     "text": [
      "Producto 21100: 8 períodos - Procesando\n"
     ]
    },
    {
     "name": "stderr",
     "output_type": "stream",
     "text": [
      "14:50:37 - cmdstanpy - INFO - Chain [1] done processing\n",
      "14:50:37 - cmdstanpy - INFO - Chain [1] start processing\n"
     ]
    },
    {
     "name": "stdout",
     "output_type": "stream",
     "text": [
      "Producto 21102: 14 períodos - Procesando\n"
     ]
    },
    {
     "name": "stderr",
     "output_type": "stream",
     "text": [
      "14:50:37 - cmdstanpy - INFO - Chain [1] done processing\n",
      "14:50:37 - cmdstanpy - INFO - Chain [1] start processing\n"
     ]
    },
    {
     "name": "stdout",
     "output_type": "stream",
     "text": [
      "Producto 21105: 14 períodos - Procesando\n"
     ]
    },
    {
     "name": "stderr",
     "output_type": "stream",
     "text": [
      "14:50:42 - cmdstanpy - INFO - Chain [1] done processing\n",
      "14:50:43 - cmdstanpy - INFO - Chain [1] start processing\n",
      "14:50:43 - cmdstanpy - INFO - Chain [1] done processing\n"
     ]
    },
    {
     "name": "stdout",
     "output_type": "stream",
     "text": [
      "Producto 21106: 6 períodos - Procesando\n",
      "Producto 21108: 3 períodos - Procesando\n"
     ]
    },
    {
     "name": "stderr",
     "output_type": "stream",
     "text": [
      "14:50:43 - cmdstanpy - INFO - Chain [1] start processing\n",
      "14:50:43 - cmdstanpy - INFO - Chain [1] done processing\n",
      "14:50:43 - cmdstanpy - INFO - Chain [1] start processing\n"
     ]
    },
    {
     "name": "stdout",
     "output_type": "stream",
     "text": [
      "Producto 21109: 6 períodos - Procesando\n"
     ]
    },
    {
     "name": "stderr",
     "output_type": "stream",
     "text": [
      "14:50:43 - cmdstanpy - INFO - Chain [1] done processing\n",
      "14:50:43 - cmdstanpy - INFO - Chain [1] start processing\n",
      "14:50:43 - cmdstanpy - INFO - Chain [1] done processing\n"
     ]
    },
    {
     "name": "stdout",
     "output_type": "stream",
     "text": [
      "Producto 21110: 5 períodos - Procesando\n",
      "Producto 21111: 7 períodos - Procesando\n"
     ]
    },
    {
     "name": "stderr",
     "output_type": "stream",
     "text": [
      "14:50:43 - cmdstanpy - INFO - Chain [1] start processing\n",
      "14:50:47 - cmdstanpy - INFO - Chain [1] done processing\n",
      "14:50:47 - cmdstanpy - INFO - Chain [1] start processing\n",
      "14:50:47 - cmdstanpy - INFO - Chain [1] done processing\n"
     ]
    },
    {
     "name": "stdout",
     "output_type": "stream",
     "text": [
      "Producto 21112: 6 períodos - Procesando\n",
      "Producto 21113: 32 períodos - Procesando\n"
     ]
    },
    {
     "name": "stderr",
     "output_type": "stream",
     "text": [
      "14:50:47 - cmdstanpy - INFO - Chain [1] start processing\n",
      "14:50:47 - cmdstanpy - INFO - Chain [1] done processing\n",
      "14:50:47 - cmdstanpy - INFO - Chain [1] start processing\n",
      "14:50:48 - cmdstanpy - INFO - Chain [1] done processing\n"
     ]
    },
    {
     "name": "stdout",
     "output_type": "stream",
     "text": [
      "Producto 21114: 7 períodos - Procesando\n"
     ]
    },
    {
     "name": "stderr",
     "output_type": "stream",
     "text": [
      "14:50:48 - cmdstanpy - INFO - Chain [1] start processing\n"
     ]
    },
    {
     "name": "stdout",
     "output_type": "stream",
     "text": [
      "Producto 21116: 14 períodos - Procesando\n"
     ]
    },
    {
     "name": "stderr",
     "output_type": "stream",
     "text": [
      "14:50:48 - cmdstanpy - INFO - Chain [1] done processing\n",
      "14:50:48 - cmdstanpy - INFO - Chain [1] start processing\n",
      "14:50:48 - cmdstanpy - INFO - Chain [1] done processing\n"
     ]
    },
    {
     "name": "stdout",
     "output_type": "stream",
     "text": [
      "Producto 21117: 6 períodos - Procesando\n",
      "Producto 21118: 26 períodos - Procesando\n"
     ]
    },
    {
     "name": "stderr",
     "output_type": "stream",
     "text": [
      "14:50:48 - cmdstanpy - INFO - Chain [1] start processing\n",
      "14:50:48 - cmdstanpy - INFO - Chain [1] done processing\n",
      "14:50:49 - cmdstanpy - INFO - Chain [1] start processing\n"
     ]
    },
    {
     "name": "stdout",
     "output_type": "stream",
     "text": [
      "Producto 21119: 7 períodos - Procesando\n"
     ]
    },
    {
     "name": "stderr",
     "output_type": "stream",
     "text": [
      "14:50:49 - cmdstanpy - INFO - Chain [1] done processing\n",
      "14:50:49 - cmdstanpy - INFO - Chain [1] start processing\n"
     ]
    },
    {
     "name": "stdout",
     "output_type": "stream",
     "text": [
      "Producto 21120: 18 períodos - Procesando\n"
     ]
    },
    {
     "name": "stderr",
     "output_type": "stream",
     "text": [
      "14:50:55 - cmdstanpy - INFO - Chain [1] done processing\n",
      "14:50:55 - cmdstanpy - INFO - Chain [1] start processing\n",
      "14:50:55 - cmdstanpy - INFO - Chain [1] done processing\n"
     ]
    },
    {
     "name": "stdout",
     "output_type": "stream",
     "text": [
      "Producto 21122: 30 períodos - Procesando\n",
      "Producto 21124: 35 períodos - Procesando\n"
     ]
    },
    {
     "name": "stderr",
     "output_type": "stream",
     "text": [
      "14:50:55 - cmdstanpy - INFO - Chain [1] start processing\n",
      "14:50:55 - cmdstanpy - INFO - Chain [1] done processing\n",
      "14:50:55 - cmdstanpy - INFO - Chain [1] start processing\n",
      "14:50:55 - cmdstanpy - INFO - Chain [1] done processing\n"
     ]
    },
    {
     "name": "stdout",
     "output_type": "stream",
     "text": [
      "Producto 21125: 25 períodos - Procesando\n",
      "Producto 21126: 20 períodos - Procesando\n"
     ]
    },
    {
     "name": "stderr",
     "output_type": "stream",
     "text": [
      "14:50:55 - cmdstanpy - INFO - Chain [1] start processing\n",
      "14:51:02 - cmdstanpy - INFO - Chain [1] done processing\n",
      "14:51:02 - cmdstanpy - INFO - Chain [1] start processing\n"
     ]
    },
    {
     "name": "stdout",
     "output_type": "stream",
     "text": [
      "Producto 21128: 9 períodos - Procesando\n"
     ]
    },
    {
     "name": "stderr",
     "output_type": "stream",
     "text": [
      "14:51:02 - cmdstanpy - INFO - Chain [1] done processing\n",
      "14:51:02 - cmdstanpy - INFO - Chain [1] start processing\n",
      "14:51:02 - cmdstanpy - INFO - Chain [1] done processing\n"
     ]
    },
    {
     "name": "stdout",
     "output_type": "stream",
     "text": [
      "Producto 21129: 5 períodos - Procesando\n",
      "Producto 21130: 32 períodos - Procesando\n"
     ]
    },
    {
     "name": "stderr",
     "output_type": "stream",
     "text": [
      "14:51:02 - cmdstanpy - INFO - Chain [1] start processing\n",
      "14:51:02 - cmdstanpy - INFO - Chain [1] done processing\n",
      "14:51:03 - cmdstanpy - INFO - Chain [1] start processing\n",
      "14:51:03 - cmdstanpy - INFO - Chain [1] done processing\n"
     ]
    },
    {
     "name": "stdout",
     "output_type": "stream",
     "text": [
      "Producto 21131: 36 períodos - Procesando\n",
      "Producto 21133: 22 períodos - Procesando\n"
     ]
    },
    {
     "name": "stderr",
     "output_type": "stream",
     "text": [
      "14:51:03 - cmdstanpy - INFO - Chain [1] start processing\n",
      "14:51:04 - cmdstanpy - INFO - Chain [1] done processing\n",
      "14:51:04 - cmdstanpy - INFO - Chain [1] start processing\n",
      "14:51:04 - cmdstanpy - INFO - Chain [1] done processing\n"
     ]
    },
    {
     "name": "stdout",
     "output_type": "stream",
     "text": [
      "Producto 21135: 8 períodos - Procesando\n",
      "Producto 21137: 3 períodos - Procesando\n"
     ]
    },
    {
     "name": "stderr",
     "output_type": "stream",
     "text": [
      "14:51:04 - cmdstanpy - INFO - Chain [1] start processing\n",
      "14:51:04 - cmdstanpy - INFO - Chain [1] done processing\n",
      "14:51:04 - cmdstanpy - INFO - Chain [1] start processing\n"
     ]
    },
    {
     "name": "stdout",
     "output_type": "stream",
     "text": [
      "Producto 21140: 7 períodos - Procesando\n"
     ]
    },
    {
     "name": "stderr",
     "output_type": "stream",
     "text": [
      "14:51:06 - cmdstanpy - INFO - Chain [1] done processing\n",
      "14:51:06 - cmdstanpy - INFO - Chain [1] start processing\n"
     ]
    },
    {
     "name": "stdout",
     "output_type": "stream",
     "text": [
      "Producto 21142: 16 períodos - Procesando\n"
     ]
    },
    {
     "name": "stderr",
     "output_type": "stream",
     "text": [
      "14:51:07 - cmdstanpy - INFO - Chain [1] done processing\n",
      "14:51:07 - cmdstanpy - INFO - Chain [1] start processing\n"
     ]
    },
    {
     "name": "stdout",
     "output_type": "stream",
     "text": [
      "Producto 21143: 9 períodos - Procesando\n"
     ]
    },
    {
     "name": "stderr",
     "output_type": "stream",
     "text": [
      "14:51:07 - cmdstanpy - INFO - Chain [1] done processing\n",
      "14:51:07 - cmdstanpy - INFO - Chain [1] start processing\n",
      "14:51:07 - cmdstanpy - INFO - Chain [1] done processing\n"
     ]
    },
    {
     "name": "stdout",
     "output_type": "stream",
     "text": [
      "Producto 21144: 5 períodos - Procesando\n",
      "Producto 21146: 5 períodos - Procesando\n"
     ]
    },
    {
     "name": "stderr",
     "output_type": "stream",
     "text": [
      "14:51:07 - cmdstanpy - INFO - Chain [1] start processing\n",
      "14:51:07 - cmdstanpy - INFO - Chain [1] done processing\n",
      "14:51:07 - cmdstanpy - INFO - Chain [1] start processing\n"
     ]
    },
    {
     "name": "stdout",
     "output_type": "stream",
     "text": [
      "Producto 21147: 7 períodos - Procesando\n"
     ]
    },
    {
     "name": "stderr",
     "output_type": "stream",
     "text": [
      "14:51:08 - cmdstanpy - INFO - Chain [1] done processing\n",
      "14:51:08 - cmdstanpy - INFO - Chain [1] start processing\n"
     ]
    },
    {
     "name": "stdout",
     "output_type": "stream",
     "text": [
      "Producto 21148: 4 períodos - Procesando\n"
     ]
    },
    {
     "name": "stderr",
     "output_type": "stream",
     "text": [
      "14:51:09 - cmdstanpy - INFO - Chain [1] done processing\n",
      "14:51:09 - cmdstanpy - INFO - Chain [1] start processing\n"
     ]
    },
    {
     "name": "stdout",
     "output_type": "stream",
     "text": [
      "Producto 21149: 9 períodos - Procesando\n"
     ]
    },
    {
     "name": "stderr",
     "output_type": "stream",
     "text": [
      "14:51:09 - cmdstanpy - INFO - Chain [1] done processing\n",
      "14:51:10 - cmdstanpy - INFO - Chain [1] start processing\n",
      "14:51:10 - cmdstanpy - INFO - Chain [1] done processing\n",
      "14:51:10 - cmdstanpy - INFO - Chain [1] start processing\n"
     ]
    },
    {
     "name": "stdout",
     "output_type": "stream",
     "text": [
      "Producto 21150: 3 períodos - Procesando\n",
      "Producto 21151: 17 períodos - Procesando\n"
     ]
    },
    {
     "name": "stderr",
     "output_type": "stream",
     "text": [
      "14:51:11 - cmdstanpy - INFO - Chain [1] done processing\n",
      "14:51:11 - cmdstanpy - INFO - Chain [1] start processing\n",
      "14:51:11 - cmdstanpy - INFO - Chain [1] done processing\n"
     ]
    },
    {
     "name": "stdout",
     "output_type": "stream",
     "text": [
      "Producto 21152: 26 períodos - Procesando\n",
      "Producto 21153: 11 períodos - Procesando\n"
     ]
    },
    {
     "name": "stderr",
     "output_type": "stream",
     "text": [
      "14:51:11 - cmdstanpy - INFO - Chain [1] start processing\n",
      "14:51:11 - cmdstanpy - INFO - Chain [1] done processing\n",
      "14:51:11 - cmdstanpy - INFO - Chain [1] start processing\n",
      "14:51:11 - cmdstanpy - INFO - Chain [1] done processing\n"
     ]
    },
    {
     "name": "stdout",
     "output_type": "stream",
     "text": [
      "Producto 21154: 5 períodos - Procesando\n",
      "Producto 21155: 26 períodos - Procesando\n"
     ]
    },
    {
     "name": "stderr",
     "output_type": "stream",
     "text": [
      "14:51:11 - cmdstanpy - INFO - Chain [1] start processing\n",
      "14:51:11 - cmdstanpy - INFO - Chain [1] done processing\n",
      "14:51:11 - cmdstanpy - INFO - Chain [1] start processing\n",
      "14:51:12 - cmdstanpy - INFO - Chain [1] done processing\n"
     ]
    },
    {
     "name": "stdout",
     "output_type": "stream",
     "text": [
      "Producto 21156: 30 períodos - Procesando\n",
      "Producto 21157: 22 períodos - Procesando\n"
     ]
    },
    {
     "name": "stderr",
     "output_type": "stream",
     "text": [
      "14:51:12 - cmdstanpy - INFO - Chain [1] start processing\n",
      "14:51:18 - cmdstanpy - INFO - Chain [1] done processing\n",
      "14:51:18 - cmdstanpy - INFO - Chain [1] start processing\n",
      "14:51:19 - cmdstanpy - INFO - Chain [1] done processing\n",
      "14:51:19 - cmdstanpy - INFO - Chain [1] start processing\n"
     ]
    },
    {
     "name": "stdout",
     "output_type": "stream",
     "text": [
      "Producto 21158: 6 períodos - Procesando\n",
      "Producto 21159: 11 períodos - Procesando\n"
     ]
    },
    {
     "name": "stderr",
     "output_type": "stream",
     "text": [
      "14:51:19 - cmdstanpy - INFO - Chain [1] done processing\n",
      "14:51:19 - cmdstanpy - INFO - Chain [1] start processing\n",
      "14:51:19 - cmdstanpy - INFO - Chain [1] done processing\n"
     ]
    },
    {
     "name": "stdout",
     "output_type": "stream",
     "text": [
      "Producto 21160: 6 períodos - Procesando\n"
     ]
    },
    {
     "name": "stderr",
     "output_type": "stream",
     "text": [
      "14:51:19 - cmdstanpy - INFO - Chain [1] start processing\n"
     ]
    },
    {
     "name": "stdout",
     "output_type": "stream",
     "text": [
      "Producto 21161: 34 períodos - Procesando\n"
     ]
    },
    {
     "name": "stderr",
     "output_type": "stream",
     "text": [
      "14:51:20 - cmdstanpy - INFO - Chain [1] done processing\n",
      "14:51:20 - cmdstanpy - INFO - Chain [1] start processing\n"
     ]
    },
    {
     "name": "stdout",
     "output_type": "stream",
     "text": [
      "Producto 21162: 13 períodos - Procesando\n"
     ]
    },
    {
     "name": "stderr",
     "output_type": "stream",
     "text": [
      "14:51:20 - cmdstanpy - INFO - Chain [1] done processing\n",
      "14:51:20 - cmdstanpy - INFO - Chain [1] start processing\n"
     ]
    },
    {
     "name": "stdout",
     "output_type": "stream",
     "text": [
      "Producto 21163: 8 períodos - Procesando\n"
     ]
    },
    {
     "name": "stderr",
     "output_type": "stream",
     "text": [
      "14:51:21 - cmdstanpy - INFO - Chain [1] done processing\n",
      "14:51:21 - cmdstanpy - INFO - Chain [1] start processing\n"
     ]
    },
    {
     "name": "stdout",
     "output_type": "stream",
     "text": [
      "Producto 21164: 20 períodos - Procesando\n"
     ]
    },
    {
     "name": "stderr",
     "output_type": "stream",
     "text": [
      "14:51:23 - cmdstanpy - INFO - Chain [1] done processing\n",
      "14:51:23 - cmdstanpy - INFO - Chain [1] start processing\n",
      "14:51:23 - cmdstanpy - INFO - Chain [1] done processing\n",
      "14:51:23 - cmdstanpy - INFO - Chain [1] start processing\n"
     ]
    },
    {
     "name": "stdout",
     "output_type": "stream",
     "text": [
      "Producto 21165: 6 períodos - Procesando\n",
      "Producto 21167: 27 períodos - Procesando\n"
     ]
    },
    {
     "name": "stderr",
     "output_type": "stream",
     "text": [
      "14:51:23 - cmdstanpy - INFO - Chain [1] done processing\n",
      "14:51:23 - cmdstanpy - INFO - Chain [1] start processing\n"
     ]
    },
    {
     "name": "stdout",
     "output_type": "stream",
     "text": [
      "Producto 21168: 11 períodos - Procesando\n"
     ]
    },
    {
     "name": "stderr",
     "output_type": "stream",
     "text": [
      "14:51:23 - cmdstanpy - INFO - Chain [1] done processing\n",
      "14:51:23 - cmdstanpy - INFO - Chain [1] start processing\n",
      "14:51:24 - cmdstanpy - INFO - Chain [1] done processing\n"
     ]
    },
    {
     "name": "stdout",
     "output_type": "stream",
     "text": [
      "Producto 21169: Solo 1 período(s) - SALTANDO\n",
      "Producto 21170: 35 períodos - Procesando\n"
     ]
    },
    {
     "name": "stderr",
     "output_type": "stream",
     "text": [
      "14:51:24 - cmdstanpy - INFO - Chain [1] start processing\n",
      "14:51:24 - cmdstanpy - INFO - Chain [1] done processing\n"
     ]
    },
    {
     "name": "stdout",
     "output_type": "stream",
     "text": [
      "Producto 21171: 8 períodos - Procesando\n",
      "Producto 21172: 7 períodos - Procesando\n"
     ]
    },
    {
     "name": "stderr",
     "output_type": "stream",
     "text": [
      "14:51:24 - cmdstanpy - INFO - Chain [1] start processing\n",
      "14:51:24 - cmdstanpy - INFO - Chain [1] done processing\n",
      "14:51:24 - cmdstanpy - INFO - Chain [1] start processing\n"
     ]
    },
    {
     "name": "stdout",
     "output_type": "stream",
     "text": [
      "Producto 21173: 7 períodos - Procesando\n"
     ]
    },
    {
     "name": "stderr",
     "output_type": "stream",
     "text": [
      "14:51:27 - cmdstanpy - INFO - Chain [1] done processing\n",
      "14:51:27 - cmdstanpy - INFO - Chain [1] start processing\n",
      "14:51:27 - cmdstanpy - INFO - Chain [1] done processing\n",
      "14:51:27 - cmdstanpy - INFO - Chain [1] start processing\n"
     ]
    },
    {
     "name": "stdout",
     "output_type": "stream",
     "text": [
      "Producto 21174: 3 períodos - Procesando\n",
      "Producto 21176: 20 períodos - Procesando\n"
     ]
    },
    {
     "name": "stderr",
     "output_type": "stream",
     "text": [
      "14:51:29 - cmdstanpy - INFO - Chain [1] done processing\n",
      "14:51:29 - cmdstanpy - INFO - Chain [1] start processing\n"
     ]
    },
    {
     "name": "stdout",
     "output_type": "stream",
     "text": [
      "Producto 21178: 9 períodos - Procesando\n"
     ]
    },
    {
     "name": "stderr",
     "output_type": "stream",
     "text": [
      "14:51:33 - cmdstanpy - INFO - Chain [1] done processing\n",
      "14:51:33 - cmdstanpy - INFO - Chain [1] start processing\n"
     ]
    },
    {
     "name": "stdout",
     "output_type": "stream",
     "text": [
      "Producto 21179: 9 períodos - Procesando\n"
     ]
    },
    {
     "name": "stderr",
     "output_type": "stream",
     "text": [
      "14:51:38 - cmdstanpy - INFO - Chain [1] done processing\n",
      "14:51:38 - cmdstanpy - INFO - Chain [1] start processing\n",
      "14:51:38 - cmdstanpy - INFO - Chain [1] done processing\n"
     ]
    },
    {
     "name": "stdout",
     "output_type": "stream",
     "text": [
      "Producto 21180: 27 períodos - Procesando\n",
      "Producto 21181: 36 períodos - Procesando\n"
     ]
    },
    {
     "name": "stderr",
     "output_type": "stream",
     "text": [
      "14:51:38 - cmdstanpy - INFO - Chain [1] start processing\n",
      "14:51:38 - cmdstanpy - INFO - Chain [1] done processing\n",
      "14:51:38 - cmdstanpy - INFO - Chain [1] start processing\n",
      "14:51:38 - cmdstanpy - INFO - Chain [1] done processing\n"
     ]
    },
    {
     "name": "stdout",
     "output_type": "stream",
     "text": [
      "Producto 21182: 36 períodos - Procesando\n",
      "Producto 21184: 26 períodos - Procesando\n"
     ]
    },
    {
     "name": "stderr",
     "output_type": "stream",
     "text": [
      "14:51:38 - cmdstanpy - INFO - Chain [1] start processing\n",
      "14:51:38 - cmdstanpy - INFO - Chain [1] done processing\n",
      "14:51:38 - cmdstanpy - INFO - Chain [1] start processing\n",
      "14:51:38 - cmdstanpy - INFO - Chain [1] done processing\n"
     ]
    },
    {
     "name": "stdout",
     "output_type": "stream",
     "text": [
      "Producto 21185: 29 períodos - Procesando\n",
      "Producto 21188: 12 períodos - Procesando\n"
     ]
    },
    {
     "name": "stderr",
     "output_type": "stream",
     "text": [
      "14:51:38 - cmdstanpy - INFO - Chain [1] start processing\n",
      "14:51:39 - cmdstanpy - INFO - Chain [1] done processing\n",
      "14:51:39 - cmdstanpy - INFO - Chain [1] start processing\n"
     ]
    },
    {
     "name": "stdout",
     "output_type": "stream",
     "text": [
      "Producto 21189: 14 períodos - Procesando\n"
     ]
    },
    {
     "name": "stderr",
     "output_type": "stream",
     "text": [
      "14:51:44 - cmdstanpy - INFO - Chain [1] done processing\n",
      "14:51:44 - cmdstanpy - INFO - Chain [1] start processing\n",
      "14:51:45 - cmdstanpy - INFO - Chain [1] done processing\n"
     ]
    },
    {
     "name": "stdout",
     "output_type": "stream",
     "text": [
      "Producto 21190: 35 períodos - Procesando\n",
      "Producto 21191: 16 períodos - Procesando\n"
     ]
    },
    {
     "name": "stderr",
     "output_type": "stream",
     "text": [
      "14:51:45 - cmdstanpy - INFO - Chain [1] start processing\n",
      "14:51:50 - cmdstanpy - INFO - Chain [1] done processing\n",
      "14:51:50 - cmdstanpy - INFO - Chain [1] start processing\n",
      "14:51:50 - cmdstanpy - INFO - Chain [1] done processing\n"
     ]
    },
    {
     "name": "stdout",
     "output_type": "stream",
     "text": [
      "Producto 21192: 36 períodos - Procesando\n",
      "Producto 21193: 5 períodos - Procesando\n"
     ]
    },
    {
     "name": "stderr",
     "output_type": "stream",
     "text": [
      "14:51:50 - cmdstanpy - INFO - Chain [1] start processing\n",
      "14:51:50 - cmdstanpy - INFO - Chain [1] done processing\n",
      "14:51:50 - cmdstanpy - INFO - Chain [1] start processing\n",
      "14:51:50 - cmdstanpy - INFO - Chain [1] done processing\n"
     ]
    },
    {
     "name": "stdout",
     "output_type": "stream",
     "text": [
      "Producto 21194: 26 períodos - Procesando\n",
      "Producto 21195: 27 períodos - Procesando\n"
     ]
    },
    {
     "name": "stderr",
     "output_type": "stream",
     "text": [
      "14:51:50 - cmdstanpy - INFO - Chain [1] start processing\n",
      "14:51:51 - cmdstanpy - INFO - Chain [1] done processing\n",
      "14:51:51 - cmdstanpy - INFO - Chain [1] start processing\n"
     ]
    },
    {
     "name": "stdout",
     "output_type": "stream",
     "text": [
      "Producto 21196: 9 períodos - Procesando\n"
     ]
    },
    {
     "name": "stderr",
     "output_type": "stream",
     "text": [
      "14:51:51 - cmdstanpy - INFO - Chain [1] done processing\n",
      "14:51:51 - cmdstanpy - INFO - Chain [1] start processing\n"
     ]
    },
    {
     "name": "stdout",
     "output_type": "stream",
     "text": [
      "Producto 21198: 15 períodos - Procesando\n"
     ]
    },
    {
     "name": "stderr",
     "output_type": "stream",
     "text": [
      "14:51:54 - cmdstanpy - INFO - Chain [1] done processing\n",
      "14:51:54 - cmdstanpy - INFO - Chain [1] start processing\n",
      "14:51:54 - cmdstanpy - INFO - Chain [1] done processing\n"
     ]
    },
    {
     "name": "stdout",
     "output_type": "stream",
     "text": [
      "Producto 21199: 2 períodos - Procesando\n",
      "Producto 21200: 34 períodos - Procesando\n"
     ]
    },
    {
     "name": "stderr",
     "output_type": "stream",
     "text": [
      "14:51:54 - cmdstanpy - INFO - Chain [1] start processing\n",
      "14:51:54 - cmdstanpy - INFO - Chain [1] done processing\n",
      "14:51:54 - cmdstanpy - INFO - Chain [1] start processing\n"
     ]
    },
    {
     "name": "stdout",
     "output_type": "stream",
     "text": [
      "Producto 21201: 15 períodos - Procesando\n"
     ]
    },
    {
     "name": "stderr",
     "output_type": "stream",
     "text": [
      "14:52:00 - cmdstanpy - INFO - Chain [1] done processing\n",
      "14:52:00 - cmdstanpy - INFO - Chain [1] start processing\n",
      "14:52:00 - cmdstanpy - INFO - Chain [1] done processing\n"
     ]
    },
    {
     "name": "stdout",
     "output_type": "stream",
     "text": [
      "Producto 21202: 36 períodos - Procesando\n",
      "Producto 21203: 11 períodos - Procesando\n"
     ]
    },
    {
     "name": "stderr",
     "output_type": "stream",
     "text": [
      "14:52:00 - cmdstanpy - INFO - Chain [1] start processing\n",
      "14:52:01 - cmdstanpy - INFO - Chain [1] done processing\n",
      "14:52:01 - cmdstanpy - INFO - Chain [1] start processing\n"
     ]
    },
    {
     "name": "stdout",
     "output_type": "stream",
     "text": [
      "Producto 21206: 12 períodos - Procesando\n"
     ]
    },
    {
     "name": "stderr",
     "output_type": "stream",
     "text": [
      "14:52:02 - cmdstanpy - INFO - Chain [1] done processing\n",
      "14:52:02 - cmdstanpy - INFO - Chain [1] start processing\n"
     ]
    },
    {
     "name": "stdout",
     "output_type": "stream",
     "text": [
      "Producto 21207: 26 períodos - Procesando\n"
     ]
    },
    {
     "name": "stderr",
     "output_type": "stream",
     "text": [
      "14:52:02 - cmdstanpy - INFO - Chain [1] done processing\n",
      "14:52:02 - cmdstanpy - INFO - Chain [1] start processing\n"
     ]
    },
    {
     "name": "stdout",
     "output_type": "stream",
     "text": [
      "Producto 21208: 9 períodos - Procesando\n"
     ]
    },
    {
     "name": "stderr",
     "output_type": "stream",
     "text": [
      "14:52:02 - cmdstanpy - INFO - Chain [1] done processing\n",
      "14:52:03 - cmdstanpy - INFO - Chain [1] start processing\n"
     ]
    },
    {
     "name": "stdout",
     "output_type": "stream",
     "text": [
      "Producto 21209: 16 períodos - Procesando\n"
     ]
    },
    {
     "name": "stderr",
     "output_type": "stream",
     "text": [
      "14:52:08 - cmdstanpy - INFO - Chain [1] done processing\n",
      "14:52:08 - cmdstanpy - INFO - Chain [1] start processing\n",
      "14:52:08 - cmdstanpy - INFO - Chain [1] done processing\n"
     ]
    },
    {
     "name": "stdout",
     "output_type": "stream",
     "text": [
      "Producto 21210: 8 períodos - Procesando\n",
      "Producto 21211: 3 períodos - Procesando\n"
     ]
    },
    {
     "name": "stderr",
     "output_type": "stream",
     "text": [
      "14:52:08 - cmdstanpy - INFO - Chain [1] start processing\n",
      "14:52:08 - cmdstanpy - INFO - Chain [1] done processing\n",
      "14:52:08 - cmdstanpy - INFO - Chain [1] start processing\n",
      "14:52:09 - cmdstanpy - INFO - Chain [1] done processing\n"
     ]
    },
    {
     "name": "stdout",
     "output_type": "stream",
     "text": [
      "Producto 21212: 26 períodos - Procesando\n"
     ]
    },
    {
     "name": "stderr",
     "output_type": "stream",
     "text": [
      "14:52:09 - cmdstanpy - INFO - Chain [1] start processing\n"
     ]
    },
    {
     "name": "stdout",
     "output_type": "stream",
     "text": [
      "Producto 21213: 11 períodos - Procesando\n"
     ]
    },
    {
     "name": "stderr",
     "output_type": "stream",
     "text": [
      "14:52:12 - cmdstanpy - INFO - Chain [1] done processing\n",
      "14:52:12 - cmdstanpy - INFO - Chain [1] start processing\n"
     ]
    },
    {
     "name": "stdout",
     "output_type": "stream",
     "text": [
      "Producto 21214: 4 períodos - Procesando\n"
     ]
    },
    {
     "name": "stderr",
     "output_type": "stream",
     "text": [
      "14:52:12 - cmdstanpy - INFO - Chain [1] done processing\n",
      "14:52:12 - cmdstanpy - INFO - Chain [1] start processing\n"
     ]
    },
    {
     "name": "stdout",
     "output_type": "stream",
     "text": [
      "Producto 21215: 7 períodos - Procesando\n"
     ]
    },
    {
     "name": "stderr",
     "output_type": "stream",
     "text": [
      "14:52:16 - cmdstanpy - INFO - Chain [1] done processing\n",
      "14:52:16 - cmdstanpy - INFO - Chain [1] start processing\n",
      "14:52:17 - cmdstanpy - INFO - Chain [1] done processing\n"
     ]
    },
    {
     "name": "stdout",
     "output_type": "stream",
     "text": [
      "Producto 21216: 2 períodos - Procesando\n",
      "Producto 21217: 18 períodos - Procesando\n"
     ]
    },
    {
     "name": "stderr",
     "output_type": "stream",
     "text": [
      "14:52:17 - cmdstanpy - INFO - Chain [1] start processing\n",
      "14:52:20 - cmdstanpy - INFO - Chain [1] done processing\n",
      "14:52:20 - cmdstanpy - INFO - Chain [1] start processing\n",
      "14:52:20 - cmdstanpy - INFO - Chain [1] done processing\n"
     ]
    },
    {
     "name": "stdout",
     "output_type": "stream",
     "text": [
      "Producto 21218: 36 períodos - Procesando\n"
     ]
    },
    {
     "name": "stderr",
     "output_type": "stream",
     "text": [
      "14:52:20 - cmdstanpy - INFO - Chain [1] start processing\n",
      "14:52:20 - cmdstanpy - INFO - Chain [1] done processing\n",
      "14:52:20 - cmdstanpy - INFO - Chain [1] start processing\n"
     ]
    },
    {
     "name": "stdout",
     "output_type": "stream",
     "text": [
      "Producto 21219: 3 períodos - Procesando\n",
      "Producto 21220: 3 períodos - Procesando\n"
     ]
    },
    {
     "name": "stderr",
     "output_type": "stream",
     "text": [
      "14:52:20 - cmdstanpy - INFO - Chain [1] done processing\n",
      "14:52:21 - cmdstanpy - INFO - Chain [1] start processing\n"
     ]
    },
    {
     "name": "stdout",
     "output_type": "stream",
     "text": [
      "Producto 21222: 36 períodos - Procesando\n"
     ]
    },
    {
     "name": "stderr",
     "output_type": "stream",
     "text": [
      "14:52:21 - cmdstanpy - INFO - Chain [1] done processing\n",
      "14:52:21 - cmdstanpy - INFO - Chain [1] start processing\n",
      "14:52:21 - cmdstanpy - INFO - Chain [1] done processing\n"
     ]
    },
    {
     "name": "stdout",
     "output_type": "stream",
     "text": [
      "Producto 21223: 3 períodos - Procesando\n",
      "Producto 21224: 35 períodos - Procesando\n"
     ]
    },
    {
     "name": "stderr",
     "output_type": "stream",
     "text": [
      "14:52:21 - cmdstanpy - INFO - Chain [1] start processing\n",
      "14:52:21 - cmdstanpy - INFO - Chain [1] done processing\n",
      "14:52:21 - cmdstanpy - INFO - Chain [1] start processing\n"
     ]
    },
    {
     "name": "stdout",
     "output_type": "stream",
     "text": [
      "Producto 21225: 7 períodos - Procesando\n"
     ]
    },
    {
     "name": "stderr",
     "output_type": "stream",
     "text": [
      "14:52:25 - cmdstanpy - INFO - Chain [1] done processing\n",
      "14:52:25 - cmdstanpy - INFO - Chain [1] start processing\n"
     ]
    },
    {
     "name": "stdout",
     "output_type": "stream",
     "text": [
      "Producto 21226: 16 períodos - Procesando\n"
     ]
    },
    {
     "name": "stderr",
     "output_type": "stream",
     "text": [
      "14:52:26 - cmdstanpy - INFO - Chain [1] done processing\n",
      "14:52:26 - cmdstanpy - INFO - Chain [1] start processing\n",
      "14:52:26 - cmdstanpy - INFO - Chain [1] done processing\n"
     ]
    },
    {
     "name": "stdout",
     "output_type": "stream",
     "text": [
      "Producto 21227: 7 períodos - Procesando\n",
      "Producto 21228: 7 períodos - Procesando\n"
     ]
    },
    {
     "name": "stderr",
     "output_type": "stream",
     "text": [
      "14:52:26 - cmdstanpy - INFO - Chain [1] start processing\n",
      "14:52:26 - cmdstanpy - INFO - Chain [1] done processing\n",
      "14:52:26 - cmdstanpy - INFO - Chain [1] start processing\n"
     ]
    },
    {
     "name": "stdout",
     "output_type": "stream",
     "text": [
      "Producto 21229: 13 períodos - Procesando\n"
     ]
    },
    {
     "name": "stderr",
     "output_type": "stream",
     "text": [
      "14:52:31 - cmdstanpy - INFO - Chain [1] done processing\n",
      "14:52:31 - cmdstanpy - INFO - Chain [1] start processing\n",
      "14:52:32 - cmdstanpy - INFO - Chain [1] done processing\n",
      "14:52:32 - cmdstanpy - INFO - Chain [1] start processing\n"
     ]
    },
    {
     "name": "stdout",
     "output_type": "stream",
     "text": [
      "Producto 21230: 2 períodos - Procesando\n",
      "Producto 21232: 6 períodos - Procesando\n"
     ]
    },
    {
     "name": "stderr",
     "output_type": "stream",
     "text": [
      "14:52:32 - cmdstanpy - INFO - Chain [1] done processing\n",
      "14:52:32 - cmdstanpy - INFO - Chain [1] start processing\n"
     ]
    },
    {
     "name": "stdout",
     "output_type": "stream",
     "text": [
      "Producto 21233: 16 períodos - Procesando\n"
     ]
    },
    {
     "name": "stderr",
     "output_type": "stream",
     "text": [
      "14:52:37 - cmdstanpy - INFO - Chain [1] done processing\n",
      "14:52:37 - cmdstanpy - INFO - Chain [1] start processing\n",
      "14:52:37 - cmdstanpy - INFO - Chain [1] done processing\n"
     ]
    },
    {
     "name": "stdout",
     "output_type": "stream",
     "text": [
      "Producto 21234: 3 períodos - Procesando\n",
      "Producto 21237: 3 períodos - Procesando\n"
     ]
    },
    {
     "name": "stderr",
     "output_type": "stream",
     "text": [
      "14:52:37 - cmdstanpy - INFO - Chain [1] start processing\n",
      "14:52:37 - cmdstanpy - INFO - Chain [1] done processing\n",
      "14:52:37 - cmdstanpy - INFO - Chain [1] start processing\n",
      "14:52:37 - cmdstanpy - INFO - Chain [1] done processing\n"
     ]
    },
    {
     "name": "stdout",
     "output_type": "stream",
     "text": [
      "Producto 21238: 10 períodos - Procesando\n"
     ]
    },
    {
     "name": "stderr",
     "output_type": "stream",
     "text": [
      "14:52:38 - cmdstanpy - INFO - Chain [1] start processing\n",
      "14:52:38 - cmdstanpy - INFO - Chain [1] done processing\n"
     ]
    },
    {
     "name": "stdout",
     "output_type": "stream",
     "text": [
      "Producto 21239: 3 períodos - Procesando\n",
      "Producto 21240: 5 períodos - Procesando\n"
     ]
    },
    {
     "name": "stderr",
     "output_type": "stream",
     "text": [
      "14:52:38 - cmdstanpy - INFO - Chain [1] start processing\n",
      "14:52:38 - cmdstanpy - INFO - Chain [1] done processing\n",
      "14:52:38 - cmdstanpy - INFO - Chain [1] start processing\n",
      "14:52:38 - cmdstanpy - INFO - Chain [1] done processing\n"
     ]
    },
    {
     "name": "stdout",
     "output_type": "stream",
     "text": [
      "Producto 21241: 6 períodos - Procesando\n",
      "Producto 21242: 3 períodos - Procesando\n"
     ]
    },
    {
     "name": "stderr",
     "output_type": "stream",
     "text": [
      "14:52:38 - cmdstanpy - INFO - Chain [1] start processing\n",
      "14:52:38 - cmdstanpy - INFO - Chain [1] done processing\n",
      "14:52:38 - cmdstanpy - INFO - Chain [1] start processing\n"
     ]
    },
    {
     "name": "stdout",
     "output_type": "stream",
     "text": [
      "Producto 21244: 15 períodos - Procesando\n"
     ]
    },
    {
     "name": "stderr",
     "output_type": "stream",
     "text": [
      "14:52:39 - cmdstanpy - INFO - Chain [1] done processing\n",
      "14:52:39 - cmdstanpy - INFO - Chain [1] start processing\n"
     ]
    },
    {
     "name": "stdout",
     "output_type": "stream",
     "text": [
      "Producto 21245: 16 períodos - Procesando\n"
     ]
    },
    {
     "name": "stderr",
     "output_type": "stream",
     "text": [
      "14:52:39 - cmdstanpy - INFO - Chain [1] done processing\n",
      "14:52:39 - cmdstanpy - INFO - Chain [1] start processing\n"
     ]
    },
    {
     "name": "stdout",
     "output_type": "stream",
     "text": [
      "Producto 21246: 15 períodos - Procesando\n"
     ]
    },
    {
     "name": "stderr",
     "output_type": "stream",
     "text": [
      "14:52:40 - cmdstanpy - INFO - Chain [1] done processing\n",
      "14:52:40 - cmdstanpy - INFO - Chain [1] start processing\n",
      "14:52:40 - cmdstanpy - INFO - Chain [1] done processing\n"
     ]
    },
    {
     "name": "stdout",
     "output_type": "stream",
     "text": [
      "Producto 21247: 3 períodos - Procesando\n",
      "Producto 21248: 15 períodos - Procesando\n"
     ]
    },
    {
     "name": "stderr",
     "output_type": "stream",
     "text": [
      "14:52:40 - cmdstanpy - INFO - Chain [1] start processing\n",
      "14:52:44 - cmdstanpy - INFO - Chain [1] done processing\n",
      "14:52:44 - cmdstanpy - INFO - Chain [1] start processing\n",
      "14:52:44 - cmdstanpy - INFO - Chain [1] done processing\n"
     ]
    },
    {
     "name": "stdout",
     "output_type": "stream",
     "text": [
      "Producto 21249: 6 períodos - Procesando\n",
      "Producto 21252: 10 períodos - Procesando\n"
     ]
    },
    {
     "name": "stderr",
     "output_type": "stream",
     "text": [
      "14:52:44 - cmdstanpy - INFO - Chain [1] start processing\n",
      "14:52:48 - cmdstanpy - INFO - Chain [1] done processing\n",
      "14:52:49 - cmdstanpy - INFO - Chain [1] start processing\n"
     ]
    },
    {
     "name": "stdout",
     "output_type": "stream",
     "text": [
      "Producto 21253: 5 períodos - Procesando\n"
     ]
    },
    {
     "name": "stderr",
     "output_type": "stream",
     "text": [
      "14:52:49 - cmdstanpy - INFO - Chain [1] done processing\n",
      "14:52:49 - cmdstanpy - INFO - Chain [1] start processing\n",
      "14:52:49 - cmdstanpy - INFO - Chain [1] done processing\n"
     ]
    },
    {
     "name": "stdout",
     "output_type": "stream",
     "text": [
      "Producto 21255: 36 períodos - Procesando\n"
     ]
    },
    {
     "name": "stderr",
     "output_type": "stream",
     "text": [
      "14:52:49 - cmdstanpy - INFO - Chain [1] start processing\n"
     ]
    },
    {
     "name": "stdout",
     "output_type": "stream",
     "text": [
      "Producto 21256: 15 períodos - Procesando\n"
     ]
    },
    {
     "name": "stderr",
     "output_type": "stream",
     "text": [
      "14:52:55 - cmdstanpy - INFO - Chain [1] done processing\n",
      "14:52:55 - cmdstanpy - INFO - Chain [1] start processing\n",
      "14:52:55 - cmdstanpy - INFO - Chain [1] done processing\n",
      "14:52:55 - cmdstanpy - INFO - Chain [1] start processing\n"
     ]
    },
    {
     "name": "stdout",
     "output_type": "stream",
     "text": [
      "Producto 21257: 36 períodos - Procesando\n",
      "Producto 21259: 15 períodos - Procesando\n"
     ]
    },
    {
     "name": "stderr",
     "output_type": "stream",
     "text": [
      "14:52:57 - cmdstanpy - INFO - Chain [1] done processing\n",
      "14:52:57 - cmdstanpy - INFO - Chain [1] start processing\n"
     ]
    },
    {
     "name": "stdout",
     "output_type": "stream",
     "text": [
      "Producto 21260: 10 períodos - Procesando\n"
     ]
    },
    {
     "name": "stderr",
     "output_type": "stream",
     "text": [
      "14:52:58 - cmdstanpy - INFO - Chain [1] done processing\n",
      "14:52:58 - cmdstanpy - INFO - Chain [1] start processing\n"
     ]
    },
    {
     "name": "stdout",
     "output_type": "stream",
     "text": [
      "Producto 21261: 14 períodos - Procesando\n"
     ]
    },
    {
     "name": "stderr",
     "output_type": "stream",
     "text": [
      "14:52:59 - cmdstanpy - INFO - Chain [1] done processing\n",
      "14:52:59 - cmdstanpy - INFO - Chain [1] start processing\n"
     ]
    },
    {
     "name": "stdout",
     "output_type": "stream",
     "text": [
      "Producto 21262: 15 períodos - Procesando\n"
     ]
    },
    {
     "name": "stderr",
     "output_type": "stream",
     "text": [
      "14:53:00 - cmdstanpy - INFO - Chain [1] done processing\n",
      "14:53:00 - cmdstanpy - INFO - Chain [1] start processing\n"
     ]
    },
    {
     "name": "stdout",
     "output_type": "stream",
     "text": [
      "Producto 21263: 15 períodos - Procesando\n"
     ]
    },
    {
     "name": "stderr",
     "output_type": "stream",
     "text": [
      "14:53:00 - cmdstanpy - INFO - Chain [1] done processing\n",
      "14:53:01 - cmdstanpy - INFO - Chain [1] start processing\n",
      "14:53:01 - cmdstanpy - INFO - Chain [1] done processing\n"
     ]
    },
    {
     "name": "stdout",
     "output_type": "stream",
     "text": [
      "Producto 21264: 29 períodos - Procesando\n",
      "Producto 21265: 10 períodos - Procesando\n"
     ]
    },
    {
     "name": "stderr",
     "output_type": "stream",
     "text": [
      "14:53:01 - cmdstanpy - INFO - Chain [1] start processing\n",
      "14:53:02 - cmdstanpy - INFO - Chain [1] done processing\n",
      "14:53:02 - cmdstanpy - INFO - Chain [1] start processing\n",
      "14:53:02 - cmdstanpy - INFO - Chain [1] done processing\n"
     ]
    },
    {
     "name": "stdout",
     "output_type": "stream",
     "text": [
      "Producto 21266: 10 períodos - Procesando\n",
      "Producto 21267: 10 períodos - Procesando\n"
     ]
    },
    {
     "name": "stderr",
     "output_type": "stream",
     "text": [
      "14:53:02 - cmdstanpy - INFO - Chain [1] start processing\n",
      "14:53:05 - cmdstanpy - INFO - Chain [1] done processing\n",
      "14:53:05 - cmdstanpy - INFO - Chain [1] start processing\n"
     ]
    },
    {
     "name": "stdout",
     "output_type": "stream",
     "text": [
      "Producto 21268: 5 períodos - Procesando\n"
     ]
    },
    {
     "name": "stderr",
     "output_type": "stream",
     "text": [
      "14:53:06 - cmdstanpy - INFO - Chain [1] done processing\n",
      "14:53:06 - cmdstanpy - INFO - Chain [1] start processing\n",
      "14:53:06 - cmdstanpy - INFO - Chain [1] done processing\n"
     ]
    },
    {
     "name": "stdout",
     "output_type": "stream",
     "text": [
      "Producto 21269: 8 períodos - Procesando\n"
     ]
    },
    {
     "name": "stderr",
     "output_type": "stream",
     "text": [
      "14:53:06 - cmdstanpy - INFO - Chain [1] start processing\n",
      "14:53:06 - cmdstanpy - INFO - Chain [1] done processing\n",
      "14:53:07 - cmdstanpy - INFO - Chain [1] start processing\n"
     ]
    },
    {
     "name": "stdout",
     "output_type": "stream",
     "text": [
      "Producto 21270: Solo 1 período(s) - SALTANDO\n",
      "Producto 21271: 27 períodos - Procesando\n",
      "Producto 21272: 3 períodos - Procesando\n"
     ]
    },
    {
     "name": "stderr",
     "output_type": "stream",
     "text": [
      "14:53:07 - cmdstanpy - INFO - Chain [1] done processing\n",
      "14:53:07 - cmdstanpy - INFO - Chain [1] start processing\n",
      "14:53:07 - cmdstanpy - INFO - Chain [1] done processing\n",
      "14:53:07 - cmdstanpy - INFO - Chain [1] start processing\n"
     ]
    },
    {
     "name": "stdout",
     "output_type": "stream",
     "text": [
      "Producto 21273: 2 períodos - Procesando\n",
      "Producto 21274: 4 períodos - Procesando\n"
     ]
    },
    {
     "name": "stderr",
     "output_type": "stream",
     "text": [
      "14:53:07 - cmdstanpy - INFO - Chain [1] done processing\n",
      "14:53:07 - cmdstanpy - INFO - Chain [1] start processing\n"
     ]
    },
    {
     "name": "stdout",
     "output_type": "stream",
     "text": [
      "Producto 21275: Solo 1 período(s) - SALTANDO\n",
      "Producto 21276: 10 períodos - Procesando\n"
     ]
    },
    {
     "name": "stderr",
     "output_type": "stream",
     "text": [
      "14:53:07 - cmdstanpy - INFO - Chain [1] done processing\n",
      "14:53:07 - cmdstanpy - INFO - Chain [1] start processing\n",
      "14:53:07 - cmdstanpy - INFO - Chain [1] done processing\n",
      "14:53:07 - cmdstanpy - INFO - Chain [1] start processing\n"
     ]
    },
    {
     "name": "stdout",
     "output_type": "stream",
     "text": [
      "Producto 21277: 3 períodos - Procesando\n",
      "Producto 21278: 2 períodos - Procesando\n"
     ]
    },
    {
     "name": "stderr",
     "output_type": "stream",
     "text": [
      "14:53:07 - cmdstanpy - INFO - Chain [1] done processing\n",
      "14:53:07 - cmdstanpy - INFO - Chain [1] start processing\n",
      "14:53:08 - cmdstanpy - INFO - Chain [1] done processing\n",
      "14:53:08 - cmdstanpy - INFO - Chain [1] start processing\n"
     ]
    },
    {
     "name": "stdout",
     "output_type": "stream",
     "text": [
      "Producto 21279: 2 períodos - Procesando\n",
      "Producto 21281: 3 períodos - Procesando\n"
     ]
    },
    {
     "name": "stderr",
     "output_type": "stream",
     "text": [
      "14:53:08 - cmdstanpy - INFO - Chain [1] done processing\n",
      "14:53:08 - cmdstanpy - INFO - Chain [1] start processing\n",
      "14:53:08 - cmdstanpy - INFO - Chain [1] done processing\n",
      "14:53:08 - cmdstanpy - INFO - Chain [1] start processing\n"
     ]
    },
    {
     "name": "stdout",
     "output_type": "stream",
     "text": [
      "Producto 21282: 2 períodos - Procesando\n",
      "Producto 21283: 2 períodos - Procesando\n"
     ]
    },
    {
     "name": "stderr",
     "output_type": "stream",
     "text": [
      "14:53:08 - cmdstanpy - INFO - Chain [1] done processing\n",
      "14:53:08 - cmdstanpy - INFO - Chain [1] start processing\n",
      "14:53:08 - cmdstanpy - INFO - Chain [1] done processing\n",
      "14:53:08 - cmdstanpy - INFO - Chain [1] start processing\n",
      "14:53:08 - cmdstanpy - INFO - Chain [1] done processing\n"
     ]
    },
    {
     "name": "stdout",
     "output_type": "stream",
     "text": [
      "Producto 21284: 2 períodos - Procesando\n",
      "Producto 21285: Solo 1 período(s) - SALTANDO\n",
      "Producto 21286: Solo 1 período(s) - SALTANDO\n",
      "Producto 21287: Solo 1 período(s) - SALTANDO\n",
      "Producto 21288: Solo 1 período(s) - SALTANDO\n",
      "Producto 21289: Solo 1 período(s) - SALTANDO\n",
      "Producto 21290: 2 períodos - Procesando\n",
      "Producto 21291: Solo 1 período(s) - SALTANDO\n",
      "Producto 21292: Solo 1 período(s) - SALTANDO\n",
      "Producto 21293: Solo 1 período(s) - SALTANDO\n",
      "Producto 21294: Solo 1 período(s) - SALTANDO\n",
      "Producto 21295: Solo 1 período(s) - SALTANDO\n",
      "Producto 21296: Solo 1 período(s) - SALTANDO\n",
      "Producto 21297: Solo 1 período(s) - SALTANDO\n",
      "Producto 21298: Solo 1 período(s) - SALTANDO\n",
      "Producto 21299: Solo 1 período(s) - SALTANDO\n",
      "Forecast completado para 1213 productos\n"
     ]
    }
   ],
   "source": [
    "from prophet import Prophet\n",
    "\n",
    "forecast_list = []\n",
    "\n",
    "for pid, group in product_groups:\n",
    "   group = group.sort_values('ds')\n",
    "   \n",
    "   # Validar que tenga al menos 2 períodos\n",
    "   if len(group) < 2:\n",
    "       print(f\"Producto {pid}: Solo {len(group)} período(s) - SALTANDO\")\n",
    "       continue\n",
    "   \n",
    "   print(f\"Producto {pid}: {len(group)} períodos - Procesando\")\n",
    "   df_prophet = group[['ds', 'tn']].rename(columns={'tn': 'y'})\n",
    "   \n",
    "   try:\n",
    "       # Entrenar Prophet\n",
    "       m = Prophet(yearly_seasonality=True, weekly_seasonality=False, daily_seasonality=False)\n",
    "       m.fit(df_prophet)\n",
    "       \n",
    "       # Crear fechas futuras (en este caso hasta octubre 2019)\n",
    "       future = m.make_future_dataframe(periods=2, freq='MS')  # septiembre y octubre\n",
    "       forecast = m.predict(future)\n",
    "       \n",
    "       # Agregar columna de producto\n",
    "       forecast['product_id'] = pid\n",
    "       \n",
    "       # Guardar predicción\n",
    "       forecast_list.append(forecast)\n",
    "       \n",
    "   except Exception as e:\n",
    "       print(f\"Error con producto {pid}: {e}\")\n",
    "       continue\n",
    "\n",
    "# Concatenar todo\n",
    "if forecast_list:\n",
    "   df_forecast = pd.concat(forecast_list)\n",
    "   print(f\"Forecast completado para {len(forecast_list)} productos\")\n",
    "else:\n",
    "   print(\"No se pudo generar forecast para ningún producto\")"
   ]
  },
  {
   "cell_type": "code",
   "execution_count": 9,
   "id": "d81d91e3",
   "metadata": {},
   "outputs": [
    {
     "data": {
      "text/html": [
       "<div>\n",
       "<style scoped>\n",
       "    .dataframe tbody tr th:only-of-type {\n",
       "        vertical-align: middle;\n",
       "    }\n",
       "\n",
       "    .dataframe tbody tr th {\n",
       "        vertical-align: top;\n",
       "    }\n",
       "\n",
       "    .dataframe thead th {\n",
       "        text-align: right;\n",
       "    }\n",
       "</style>\n",
       "<table border=\"1\" class=\"dataframe\">\n",
       "  <thead>\n",
       "    <tr style=\"text-align: right;\">\n",
       "      <th></th>\n",
       "      <th>ds</th>\n",
       "      <th>trend</th>\n",
       "      <th>yhat_lower</th>\n",
       "      <th>yhat_upper</th>\n",
       "      <th>trend_lower</th>\n",
       "      <th>trend_upper</th>\n",
       "      <th>additive_terms</th>\n",
       "      <th>additive_terms_lower</th>\n",
       "      <th>additive_terms_upper</th>\n",
       "      <th>yearly</th>\n",
       "      <th>yearly_lower</th>\n",
       "      <th>yearly_upper</th>\n",
       "      <th>multiplicative_terms</th>\n",
       "      <th>multiplicative_terms_lower</th>\n",
       "      <th>multiplicative_terms_upper</th>\n",
       "      <th>yhat</th>\n",
       "      <th>product_id</th>\n",
       "    </tr>\n",
       "  </thead>\n",
       "  <tbody>\n",
       "    <tr>\n",
       "      <th>0</th>\n",
       "      <td>2017-01-01</td>\n",
       "      <td>1236.574818</td>\n",
       "      <td>792.230564</td>\n",
       "      <td>1228.093930</td>\n",
       "      <td>1236.574818</td>\n",
       "      <td>1236.574818</td>\n",
       "      <td>-233.783983</td>\n",
       "      <td>-233.783983</td>\n",
       "      <td>-233.783983</td>\n",
       "      <td>-233.783983</td>\n",
       "      <td>-233.783983</td>\n",
       "      <td>-233.783983</td>\n",
       "      <td>0.0</td>\n",
       "      <td>0.0</td>\n",
       "      <td>0.0</td>\n",
       "      <td>1002.790835</td>\n",
       "      <td>20001</td>\n",
       "    </tr>\n",
       "    <tr>\n",
       "      <th>1</th>\n",
       "      <td>2017-02-01</td>\n",
       "      <td>1245.975663</td>\n",
       "      <td>647.312358</td>\n",
       "      <td>1082.294499</td>\n",
       "      <td>1245.975663</td>\n",
       "      <td>1245.975663</td>\n",
       "      <td>-377.884242</td>\n",
       "      <td>-377.884242</td>\n",
       "      <td>-377.884242</td>\n",
       "      <td>-377.884242</td>\n",
       "      <td>-377.884242</td>\n",
       "      <td>-377.884242</td>\n",
       "      <td>0.0</td>\n",
       "      <td>0.0</td>\n",
       "      <td>0.0</td>\n",
       "      <td>868.091421</td>\n",
       "      <td>20001</td>\n",
       "    </tr>\n",
       "    <tr>\n",
       "      <th>2</th>\n",
       "      <td>2017-03-01</td>\n",
       "      <td>1254.466750</td>\n",
       "      <td>1299.514528</td>\n",
       "      <td>1732.849152</td>\n",
       "      <td>1254.466750</td>\n",
       "      <td>1254.466750</td>\n",
       "      <td>264.039195</td>\n",
       "      <td>264.039195</td>\n",
       "      <td>264.039195</td>\n",
       "      <td>264.039195</td>\n",
       "      <td>264.039195</td>\n",
       "      <td>264.039195</td>\n",
       "      <td>0.0</td>\n",
       "      <td>0.0</td>\n",
       "      <td>0.0</td>\n",
       "      <td>1518.505945</td>\n",
       "      <td>20001</td>\n",
       "    </tr>\n",
       "    <tr>\n",
       "      <th>3</th>\n",
       "      <td>2017-04-01</td>\n",
       "      <td>1263.867595</td>\n",
       "      <td>843.572366</td>\n",
       "      <td>1280.158197</td>\n",
       "      <td>1263.867595</td>\n",
       "      <td>1263.867595</td>\n",
       "      <td>-198.754499</td>\n",
       "      <td>-198.754499</td>\n",
       "      <td>-198.754499</td>\n",
       "      <td>-198.754499</td>\n",
       "      <td>-198.754499</td>\n",
       "      <td>-198.754499</td>\n",
       "      <td>0.0</td>\n",
       "      <td>0.0</td>\n",
       "      <td>0.0</td>\n",
       "      <td>1065.113096</td>\n",
       "      <td>20001</td>\n",
       "    </tr>\n",
       "    <tr>\n",
       "      <th>4</th>\n",
       "      <td>2017-05-01</td>\n",
       "      <td>1272.965187</td>\n",
       "      <td>1197.031069</td>\n",
       "      <td>1615.715604</td>\n",
       "      <td>1272.965187</td>\n",
       "      <td>1272.965187</td>\n",
       "      <td>136.053629</td>\n",
       "      <td>136.053629</td>\n",
       "      <td>136.053629</td>\n",
       "      <td>136.053629</td>\n",
       "      <td>136.053629</td>\n",
       "      <td>136.053629</td>\n",
       "      <td>0.0</td>\n",
       "      <td>0.0</td>\n",
       "      <td>0.0</td>\n",
       "      <td>1409.018816</td>\n",
       "      <td>20001</td>\n",
       "    </tr>\n",
       "    <tr>\n",
       "      <th>...</th>\n",
       "      <td>...</td>\n",
       "      <td>...</td>\n",
       "      <td>...</td>\n",
       "      <td>...</td>\n",
       "      <td>...</td>\n",
       "      <td>...</td>\n",
       "      <td>...</td>\n",
       "      <td>...</td>\n",
       "      <td>...</td>\n",
       "      <td>...</td>\n",
       "      <td>...</td>\n",
       "      <td>...</td>\n",
       "      <td>...</td>\n",
       "      <td>...</td>\n",
       "      <td>...</td>\n",
       "      <td>...</td>\n",
       "      <td>...</td>\n",
       "    </tr>\n",
       "    <tr>\n",
       "      <th>3</th>\n",
       "      <td>2017-08-01</td>\n",
       "      <td>0.100069</td>\n",
       "      <td>-0.330620</td>\n",
       "      <td>-0.330620</td>\n",
       "      <td>0.100069</td>\n",
       "      <td>0.100069</td>\n",
       "      <td>-0.430689</td>\n",
       "      <td>-0.430689</td>\n",
       "      <td>-0.430689</td>\n",
       "      <td>-0.430689</td>\n",
       "      <td>-0.430689</td>\n",
       "      <td>-0.430689</td>\n",
       "      <td>0.0</td>\n",
       "      <td>0.0</td>\n",
       "      <td>0.0</td>\n",
       "      <td>-0.330620</td>\n",
       "      <td>21284</td>\n",
       "    </tr>\n",
       "    <tr>\n",
       "      <th>0</th>\n",
       "      <td>2017-06-01</td>\n",
       "      <td>0.003274</td>\n",
       "      <td>0.003840</td>\n",
       "      <td>0.003840</td>\n",
       "      <td>0.003274</td>\n",
       "      <td>0.003274</td>\n",
       "      <td>0.000566</td>\n",
       "      <td>0.000566</td>\n",
       "      <td>0.000566</td>\n",
       "      <td>0.000566</td>\n",
       "      <td>0.000566</td>\n",
       "      <td>0.000566</td>\n",
       "      <td>0.0</td>\n",
       "      <td>0.0</td>\n",
       "      <td>0.0</td>\n",
       "      <td>0.003840</td>\n",
       "      <td>21290</td>\n",
       "    </tr>\n",
       "    <tr>\n",
       "      <th>1</th>\n",
       "      <td>2017-08-01</td>\n",
       "      <td>0.008353</td>\n",
       "      <td>0.007900</td>\n",
       "      <td>0.007900</td>\n",
       "      <td>0.008353</td>\n",
       "      <td>0.008353</td>\n",
       "      <td>-0.000453</td>\n",
       "      <td>-0.000453</td>\n",
       "      <td>-0.000453</td>\n",
       "      <td>-0.000453</td>\n",
       "      <td>-0.000453</td>\n",
       "      <td>-0.000453</td>\n",
       "      <td>0.0</td>\n",
       "      <td>0.0</td>\n",
       "      <td>0.0</td>\n",
       "      <td>0.007900</td>\n",
       "      <td>21290</td>\n",
       "    </tr>\n",
       "    <tr>\n",
       "      <th>2</th>\n",
       "      <td>2017-09-01</td>\n",
       "      <td>0.010933</td>\n",
       "      <td>0.027236</td>\n",
       "      <td>0.027236</td>\n",
       "      <td>0.010933</td>\n",
       "      <td>0.010933</td>\n",
       "      <td>0.016302</td>\n",
       "      <td>0.016302</td>\n",
       "      <td>0.016302</td>\n",
       "      <td>0.016302</td>\n",
       "      <td>0.016302</td>\n",
       "      <td>0.016302</td>\n",
       "      <td>0.0</td>\n",
       "      <td>0.0</td>\n",
       "      <td>0.0</td>\n",
       "      <td>0.027236</td>\n",
       "      <td>21290</td>\n",
       "    </tr>\n",
       "    <tr>\n",
       "      <th>3</th>\n",
       "      <td>2017-10-01</td>\n",
       "      <td>0.013431</td>\n",
       "      <td>0.061088</td>\n",
       "      <td>0.061088</td>\n",
       "      <td>0.013431</td>\n",
       "      <td>0.013431</td>\n",
       "      <td>0.047657</td>\n",
       "      <td>0.047657</td>\n",
       "      <td>0.047657</td>\n",
       "      <td>0.047657</td>\n",
       "      <td>0.047657</td>\n",
       "      <td>0.047657</td>\n",
       "      <td>0.0</td>\n",
       "      <td>0.0</td>\n",
       "      <td>0.0</td>\n",
       "      <td>0.061088</td>\n",
       "      <td>21290</td>\n",
       "    </tr>\n",
       "  </tbody>\n",
       "</table>\n",
       "<p>33649 rows × 17 columns</p>\n",
       "</div>"
      ],
      "text/plain": [
       "           ds        trend   yhat_lower   yhat_upper  trend_lower  \\\n",
       "0  2017-01-01  1236.574818   792.230564  1228.093930  1236.574818   \n",
       "1  2017-02-01  1245.975663   647.312358  1082.294499  1245.975663   \n",
       "2  2017-03-01  1254.466750  1299.514528  1732.849152  1254.466750   \n",
       "3  2017-04-01  1263.867595   843.572366  1280.158197  1263.867595   \n",
       "4  2017-05-01  1272.965187  1197.031069  1615.715604  1272.965187   \n",
       "..        ...          ...          ...          ...          ...   \n",
       "3  2017-08-01     0.100069    -0.330620    -0.330620     0.100069   \n",
       "0  2017-06-01     0.003274     0.003840     0.003840     0.003274   \n",
       "1  2017-08-01     0.008353     0.007900     0.007900     0.008353   \n",
       "2  2017-09-01     0.010933     0.027236     0.027236     0.010933   \n",
       "3  2017-10-01     0.013431     0.061088     0.061088     0.013431   \n",
       "\n",
       "    trend_upper  additive_terms  additive_terms_lower  additive_terms_upper  \\\n",
       "0   1236.574818     -233.783983           -233.783983           -233.783983   \n",
       "1   1245.975663     -377.884242           -377.884242           -377.884242   \n",
       "2   1254.466750      264.039195            264.039195            264.039195   \n",
       "3   1263.867595     -198.754499           -198.754499           -198.754499   \n",
       "4   1272.965187      136.053629            136.053629            136.053629   \n",
       "..          ...             ...                   ...                   ...   \n",
       "3      0.100069       -0.430689             -0.430689             -0.430689   \n",
       "0      0.003274        0.000566              0.000566              0.000566   \n",
       "1      0.008353       -0.000453             -0.000453             -0.000453   \n",
       "2      0.010933        0.016302              0.016302              0.016302   \n",
       "3      0.013431        0.047657              0.047657              0.047657   \n",
       "\n",
       "        yearly  yearly_lower  yearly_upper  multiplicative_terms  \\\n",
       "0  -233.783983   -233.783983   -233.783983                   0.0   \n",
       "1  -377.884242   -377.884242   -377.884242                   0.0   \n",
       "2   264.039195    264.039195    264.039195                   0.0   \n",
       "3  -198.754499   -198.754499   -198.754499                   0.0   \n",
       "4   136.053629    136.053629    136.053629                   0.0   \n",
       "..         ...           ...           ...                   ...   \n",
       "3    -0.430689     -0.430689     -0.430689                   0.0   \n",
       "0     0.000566      0.000566      0.000566                   0.0   \n",
       "1    -0.000453     -0.000453     -0.000453                   0.0   \n",
       "2     0.016302      0.016302      0.016302                   0.0   \n",
       "3     0.047657      0.047657      0.047657                   0.0   \n",
       "\n",
       "    multiplicative_terms_lower  multiplicative_terms_upper         yhat  \\\n",
       "0                          0.0                         0.0  1002.790835   \n",
       "1                          0.0                         0.0   868.091421   \n",
       "2                          0.0                         0.0  1518.505945   \n",
       "3                          0.0                         0.0  1065.113096   \n",
       "4                          0.0                         0.0  1409.018816   \n",
       "..                         ...                         ...          ...   \n",
       "3                          0.0                         0.0    -0.330620   \n",
       "0                          0.0                         0.0     0.003840   \n",
       "1                          0.0                         0.0     0.007900   \n",
       "2                          0.0                         0.0     0.027236   \n",
       "3                          0.0                         0.0     0.061088   \n",
       "\n",
       "    product_id  \n",
       "0        20001  \n",
       "1        20001  \n",
       "2        20001  \n",
       "3        20001  \n",
       "4        20001  \n",
       "..         ...  \n",
       "3        21284  \n",
       "0        21290  \n",
       "1        21290  \n",
       "2        21290  \n",
       "3        21290  \n",
       "\n",
       "[33649 rows x 17 columns]"
      ]
     },
     "execution_count": 9,
     "metadata": {},
     "output_type": "execute_result"
    }
   ],
   "source": [
    "df_forecast"
   ]
  },
  {
   "cell_type": "code",
   "execution_count": 11,
   "id": "dba8326a",
   "metadata": {},
   "outputs": [],
   "source": [
    "df_forecast['periodo'] = df_forecast['ds'].dt.strftime('%Y%m').astype(int)\n",
    "df_oct = df_forecast[df_forecast['periodo'] == 202002][['periodo', 'product_id', 'trend', 'yearly']]"
   ]
  },
  {
   "cell_type": "code",
   "execution_count": 12,
   "id": "9f1ba05e",
   "metadata": {},
   "outputs": [],
   "source": [
    "df_agosto= df_forecast[['periodo', 'product_id', 'trend', 'yearly']].copy()"
   ]
  },
  {
   "cell_type": "code",
   "execution_count": 13,
   "id": "320e4428",
   "metadata": {},
   "outputs": [],
   "source": [
    "df_agosto\n",
    "df_agosto.to_csv('prophet/ph_completo.csv',index=False)"
   ]
  },
  {
   "cell_type": "code",
   "execution_count": 14,
   "id": "c4633533",
   "metadata": {},
   "outputs": [
    {
     "data": {
      "text/html": [
       "<div>\n",
       "<style scoped>\n",
       "    .dataframe tbody tr th:only-of-type {\n",
       "        vertical-align: middle;\n",
       "    }\n",
       "\n",
       "    .dataframe tbody tr th {\n",
       "        vertical-align: top;\n",
       "    }\n",
       "\n",
       "    .dataframe thead th {\n",
       "        text-align: right;\n",
       "    }\n",
       "</style>\n",
       "<table border=\"1\" class=\"dataframe\">\n",
       "  <thead>\n",
       "    <tr style=\"text-align: right;\">\n",
       "      <th></th>\n",
       "      <th>periodo</th>\n",
       "      <th>product_id</th>\n",
       "      <th>trend</th>\n",
       "      <th>yearly</th>\n",
       "    </tr>\n",
       "  </thead>\n",
       "  <tbody>\n",
       "    <tr>\n",
       "      <th>0</th>\n",
       "      <td>201701</td>\n",
       "      <td>20001</td>\n",
       "      <td>1236.574818</td>\n",
       "      <td>-233.783983</td>\n",
       "    </tr>\n",
       "    <tr>\n",
       "      <th>1</th>\n",
       "      <td>201702</td>\n",
       "      <td>20001</td>\n",
       "      <td>1245.975663</td>\n",
       "      <td>-377.884242</td>\n",
       "    </tr>\n",
       "    <tr>\n",
       "      <th>2</th>\n",
       "      <td>201703</td>\n",
       "      <td>20001</td>\n",
       "      <td>1254.466750</td>\n",
       "      <td>264.039195</td>\n",
       "    </tr>\n",
       "    <tr>\n",
       "      <th>3</th>\n",
       "      <td>201704</td>\n",
       "      <td>20001</td>\n",
       "      <td>1263.867595</td>\n",
       "      <td>-198.754499</td>\n",
       "    </tr>\n",
       "    <tr>\n",
       "      <th>4</th>\n",
       "      <td>201705</td>\n",
       "      <td>20001</td>\n",
       "      <td>1272.965187</td>\n",
       "      <td>136.053629</td>\n",
       "    </tr>\n",
       "    <tr>\n",
       "      <th>...</th>\n",
       "      <td>...</td>\n",
       "      <td>...</td>\n",
       "      <td>...</td>\n",
       "      <td>...</td>\n",
       "    </tr>\n",
       "    <tr>\n",
       "      <th>3</th>\n",
       "      <td>201708</td>\n",
       "      <td>21284</td>\n",
       "      <td>0.100069</td>\n",
       "      <td>-0.430689</td>\n",
       "    </tr>\n",
       "    <tr>\n",
       "      <th>0</th>\n",
       "      <td>201706</td>\n",
       "      <td>21290</td>\n",
       "      <td>0.003274</td>\n",
       "      <td>0.000566</td>\n",
       "    </tr>\n",
       "    <tr>\n",
       "      <th>1</th>\n",
       "      <td>201708</td>\n",
       "      <td>21290</td>\n",
       "      <td>0.008353</td>\n",
       "      <td>-0.000453</td>\n",
       "    </tr>\n",
       "    <tr>\n",
       "      <th>2</th>\n",
       "      <td>201709</td>\n",
       "      <td>21290</td>\n",
       "      <td>0.010933</td>\n",
       "      <td>0.016302</td>\n",
       "    </tr>\n",
       "    <tr>\n",
       "      <th>3</th>\n",
       "      <td>201710</td>\n",
       "      <td>21290</td>\n",
       "      <td>0.013431</td>\n",
       "      <td>0.047657</td>\n",
       "    </tr>\n",
       "  </tbody>\n",
       "</table>\n",
       "<p>33649 rows × 4 columns</p>\n",
       "</div>"
      ],
      "text/plain": [
       "    periodo  product_id        trend      yearly\n",
       "0    201701       20001  1236.574818 -233.783983\n",
       "1    201702       20001  1245.975663 -377.884242\n",
       "2    201703       20001  1254.466750  264.039195\n",
       "3    201704       20001  1263.867595 -198.754499\n",
       "4    201705       20001  1272.965187  136.053629\n",
       "..      ...         ...          ...         ...\n",
       "3    201708       21284     0.100069   -0.430689\n",
       "0    201706       21290     0.003274    0.000566\n",
       "1    201708       21290     0.008353   -0.000453\n",
       "2    201709       21290     0.010933    0.016302\n",
       "3    201710       21290     0.013431    0.047657\n",
       "\n",
       "[33649 rows x 4 columns]"
      ]
     },
     "execution_count": 14,
     "metadata": {},
     "output_type": "execute_result"
    }
   ],
   "source": [
    "df_agosto"
   ]
  },
  {
   "cell_type": "code",
   "execution_count": 15,
   "id": "48426997",
   "metadata": {},
   "outputs": [
    {
     "data": {
      "text/html": [
       "<div>\n",
       "<style scoped>\n",
       "    .dataframe tbody tr th:only-of-type {\n",
       "        vertical-align: middle;\n",
       "    }\n",
       "\n",
       "    .dataframe tbody tr th {\n",
       "        vertical-align: top;\n",
       "    }\n",
       "\n",
       "    .dataframe thead th {\n",
       "        text-align: right;\n",
       "    }\n",
       "</style>\n",
       "<table border=\"1\" class=\"dataframe\">\n",
       "  <thead>\n",
       "    <tr style=\"text-align: right;\">\n",
       "      <th></th>\n",
       "      <th>periodo</th>\n",
       "      <th>product_id</th>\n",
       "      <th>trend</th>\n",
       "      <th>yearly</th>\n",
       "    </tr>\n",
       "  </thead>\n",
       "  <tbody>\n",
       "    <tr>\n",
       "      <th>37</th>\n",
       "      <td>202002</td>\n",
       "      <td>20001</td>\n",
       "      <td>1575.941847</td>\n",
       "      <td>-213.870531</td>\n",
       "    </tr>\n",
       "    <tr>\n",
       "      <th>37</th>\n",
       "      <td>202002</td>\n",
       "      <td>20002</td>\n",
       "      <td>1328.455609</td>\n",
       "      <td>-210.717017</td>\n",
       "    </tr>\n",
       "    <tr>\n",
       "      <th>37</th>\n",
       "      <td>202002</td>\n",
       "      <td>20003</td>\n",
       "      <td>767.049769</td>\n",
       "      <td>-142.714969</td>\n",
       "    </tr>\n",
       "    <tr>\n",
       "      <th>37</th>\n",
       "      <td>202002</td>\n",
       "      <td>20004</td>\n",
       "      <td>516.502918</td>\n",
       "      <td>-286.204262</td>\n",
       "    </tr>\n",
       "    <tr>\n",
       "      <th>37</th>\n",
       "      <td>202002</td>\n",
       "      <td>20005</td>\n",
       "      <td>542.608959</td>\n",
       "      <td>-262.990547</td>\n",
       "    </tr>\n",
       "    <tr>\n",
       "      <th>...</th>\n",
       "      <td>...</td>\n",
       "      <td>...</td>\n",
       "      <td>...</td>\n",
       "      <td>...</td>\n",
       "    </tr>\n",
       "    <tr>\n",
       "      <th>11</th>\n",
       "      <td>202002</td>\n",
       "      <td>21265</td>\n",
       "      <td>-0.029832</td>\n",
       "      <td>-7.245240</td>\n",
       "    </tr>\n",
       "    <tr>\n",
       "      <th>11</th>\n",
       "      <td>202002</td>\n",
       "      <td>21266</td>\n",
       "      <td>-0.153510</td>\n",
       "      <td>-2.366062</td>\n",
       "    </tr>\n",
       "    <tr>\n",
       "      <th>11</th>\n",
       "      <td>202002</td>\n",
       "      <td>21267</td>\n",
       "      <td>-0.449259</td>\n",
       "      <td>-0.469869</td>\n",
       "    </tr>\n",
       "    <tr>\n",
       "      <th>28</th>\n",
       "      <td>202002</td>\n",
       "      <td>21271</td>\n",
       "      <td>-0.005080</td>\n",
       "      <td>0.001214</td>\n",
       "    </tr>\n",
       "    <tr>\n",
       "      <th>11</th>\n",
       "      <td>202002</td>\n",
       "      <td>21276</td>\n",
       "      <td>0.311102</td>\n",
       "      <td>0.143842</td>\n",
       "    </tr>\n",
       "  </tbody>\n",
       "</table>\n",
       "<p>924 rows × 4 columns</p>\n",
       "</div>"
      ],
      "text/plain": [
       "    periodo  product_id        trend      yearly\n",
       "37   202002       20001  1575.941847 -213.870531\n",
       "37   202002       20002  1328.455609 -210.717017\n",
       "37   202002       20003   767.049769 -142.714969\n",
       "37   202002       20004   516.502918 -286.204262\n",
       "37   202002       20005   542.608959 -262.990547\n",
       "..      ...         ...          ...         ...\n",
       "11   202002       21265    -0.029832   -7.245240\n",
       "11   202002       21266    -0.153510   -2.366062\n",
       "11   202002       21267    -0.449259   -0.469869\n",
       "28   202002       21271    -0.005080    0.001214\n",
       "11   202002       21276     0.311102    0.143842\n",
       "\n",
       "[924 rows x 4 columns]"
      ]
     },
     "execution_count": 15,
     "metadata": {},
     "output_type": "execute_result"
    }
   ],
   "source": [
    "df_oct"
   ]
  },
  {
   "cell_type": "code",
   "execution_count": 16,
   "id": "9f11eeed",
   "metadata": {},
   "outputs": [
    {
     "data": {
      "text/html": [
       "<div>\n",
       "<style scoped>\n",
       "    .dataframe tbody tr th:only-of-type {\n",
       "        vertical-align: middle;\n",
       "    }\n",
       "\n",
       "    .dataframe tbody tr th {\n",
       "        vertical-align: top;\n",
       "    }\n",
       "\n",
       "    .dataframe thead th {\n",
       "        text-align: right;\n",
       "    }\n",
       "</style>\n",
       "<table border=\"1\" class=\"dataframe\">\n",
       "  <thead>\n",
       "    <tr style=\"text-align: right;\">\n",
       "      <th></th>\n",
       "      <th>periodo</th>\n",
       "      <th>product_id</th>\n",
       "      <th>trend</th>\n",
       "      <th>yearly</th>\n",
       "    </tr>\n",
       "  </thead>\n",
       "  <tbody>\n",
       "    <tr>\n",
       "      <th>37</th>\n",
       "      <td>202002</td>\n",
       "      <td>20001</td>\n",
       "      <td>1575.941847</td>\n",
       "      <td>-213.870531</td>\n",
       "    </tr>\n",
       "    <tr>\n",
       "      <th>37</th>\n",
       "      <td>202002</td>\n",
       "      <td>20002</td>\n",
       "      <td>1328.455609</td>\n",
       "      <td>-210.717017</td>\n",
       "    </tr>\n",
       "    <tr>\n",
       "      <th>37</th>\n",
       "      <td>202002</td>\n",
       "      <td>20003</td>\n",
       "      <td>767.049769</td>\n",
       "      <td>-142.714969</td>\n",
       "    </tr>\n",
       "    <tr>\n",
       "      <th>37</th>\n",
       "      <td>202002</td>\n",
       "      <td>20004</td>\n",
       "      <td>516.502918</td>\n",
       "      <td>-286.204262</td>\n",
       "    </tr>\n",
       "    <tr>\n",
       "      <th>37</th>\n",
       "      <td>202002</td>\n",
       "      <td>20005</td>\n",
       "      <td>542.608959</td>\n",
       "      <td>-262.990547</td>\n",
       "    </tr>\n",
       "    <tr>\n",
       "      <th>...</th>\n",
       "      <td>...</td>\n",
       "      <td>...</td>\n",
       "      <td>...</td>\n",
       "      <td>...</td>\n",
       "    </tr>\n",
       "    <tr>\n",
       "      <th>11</th>\n",
       "      <td>202002</td>\n",
       "      <td>21265</td>\n",
       "      <td>-0.029832</td>\n",
       "      <td>-7.245240</td>\n",
       "    </tr>\n",
       "    <tr>\n",
       "      <th>11</th>\n",
       "      <td>202002</td>\n",
       "      <td>21266</td>\n",
       "      <td>-0.153510</td>\n",
       "      <td>-2.366062</td>\n",
       "    </tr>\n",
       "    <tr>\n",
       "      <th>11</th>\n",
       "      <td>202002</td>\n",
       "      <td>21267</td>\n",
       "      <td>-0.449259</td>\n",
       "      <td>-0.469869</td>\n",
       "    </tr>\n",
       "    <tr>\n",
       "      <th>28</th>\n",
       "      <td>202002</td>\n",
       "      <td>21271</td>\n",
       "      <td>-0.005080</td>\n",
       "      <td>0.001214</td>\n",
       "    </tr>\n",
       "    <tr>\n",
       "      <th>11</th>\n",
       "      <td>202002</td>\n",
       "      <td>21276</td>\n",
       "      <td>0.311102</td>\n",
       "      <td>0.143842</td>\n",
       "    </tr>\n",
       "  </tbody>\n",
       "</table>\n",
       "<p>924 rows × 4 columns</p>\n",
       "</div>"
      ],
      "text/plain": [
       "    periodo  product_id        trend      yearly\n",
       "37   202002       20001  1575.941847 -213.870531\n",
       "37   202002       20002  1328.455609 -210.717017\n",
       "37   202002       20003   767.049769 -142.714969\n",
       "37   202002       20004   516.502918 -286.204262\n",
       "37   202002       20005   542.608959 -262.990547\n",
       "..      ...         ...          ...         ...\n",
       "11   202002       21265    -0.029832   -7.245240\n",
       "11   202002       21266    -0.153510   -2.366062\n",
       "11   202002       21267    -0.449259   -0.469869\n",
       "28   202002       21271    -0.005080    0.001214\n",
       "11   202002       21276     0.311102    0.143842\n",
       "\n",
       "[924 rows x 4 columns]"
      ]
     },
     "execution_count": 16,
     "metadata": {},
     "output_type": "execute_result"
    }
   ],
   "source": [
    "df_oct"
   ]
  },
  {
   "cell_type": "code",
   "execution_count": 31,
   "id": "f4816263",
   "metadata": {},
   "outputs": [],
   "source": [
    "df_oct.to_csv('prophet/ph_dic_pd.csv',index=False)"
   ]
  },
  {
   "cell_type": "code",
   "execution_count": 12,
   "id": "d5a71250",
   "metadata": {},
   "outputs": [
    {
     "name": "stdout",
     "output_type": "stream",
     "text": [
      "(1, 2)\n",
      "ds    0\n",
      "y     0\n",
      "dtype: int64\n",
      "              ds         y\n",
      "26761 2019-08-01  42.71804\n"
     ]
    }
   ],
   "source": [
    "print(df_prophet.shape)\n",
    "print(df_prophet.isna().sum())\n",
    "print(df_prophet.dropna().head())"
   ]
  }
 ],
 "metadata": {
  "kernelspec": {
   "display_name": "Python 3",
   "language": "python",
   "name": "python3"
  },
  "language_info": {
   "codemirror_mode": {
    "name": "ipython",
    "version": 3
   },
   "file_extension": ".py",
   "mimetype": "text/x-python",
   "name": "python",
   "nbconvert_exporter": "python",
   "pygments_lexer": "ipython3",
   "version": "3.10.9"
  }
 },
 "nbformat": 4,
 "nbformat_minor": 5
}
